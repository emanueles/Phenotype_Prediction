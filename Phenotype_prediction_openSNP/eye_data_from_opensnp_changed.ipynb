{
 "cells": [
  {
   "attachments": {},
   "cell_type": "markdown",
   "id": "c5b47c3d",
   "metadata": {},
   "source": [
    "# Alterações 1"
   ]
  },
  {
   "cell_type": "code",
   "execution_count": 1,
   "id": "40e74d48",
   "metadata": {},
   "outputs": [],
   "source": [
    "# importando bibliotecas\n",
    "import pandas as pd \n",
    "import numpy as np \n",
    "import matplotlib.pyplot as plt\n",
    "\n",
    "pd.set_option('display.max_rows', 1000)\n",
    "pd.set_option('display.max_columns', 1000)"
   ]
  },
  {
   "cell_type": "markdown",
   "id": "ecd206c1",
   "metadata": {},
   "source": [
    "## Trabalhando com o arquivo de fenótipos\n",
    "\n",
    "1. Leitura do arquivo contendo fenótipos de cada usuário.\n",
    "2. Filtragem do usuários que declararam sua cor do olho.\n",
    "3. Agrupamento das cores em 3 categorias\n",
    "   * Azul, Verde, Cinza: Olhos predominantemente claros.\n",
    "   * Intermediários: Castanho claro, mel, avelã (hazel).\n",
    "   * Castanho.\n",
    "4. Gravação do arquivo processado em um conjunto de dados auxiliar.\n",
    "\n",
    "Obs: Nesta etapa sobraram apenas 1286 usuários, devido ao descarte de rótulos não informativos e de dados duplicados.\n"
   ]
  },
  {
   "cell_type": "code",
   "execution_count": 2,
   "id": "c36b290a",
   "metadata": {},
   "outputs": [],
   "source": [
    "phenotypes_df = pd.read_csv(\"opensnp_alldata/phenotypes_202108121351.csv\", sep=';')"
   ]
  },
  {
   "cell_type": "code",
   "execution_count": 3,
   "id": "4d1855ee",
   "metadata": {},
   "outputs": [
    {
     "data": {
      "text/html": [
       "<div>\n",
       "<style scoped>\n",
       "    .dataframe tbody tr th:only-of-type {\n",
       "        vertical-align: middle;\n",
       "    }\n",
       "\n",
       "    .dataframe tbody tr th {\n",
       "        vertical-align: top;\n",
       "    }\n",
       "\n",
       "    .dataframe thead th {\n",
       "        text-align: right;\n",
       "    }\n",
       "</style>\n",
       "<table border=\"1\" class=\"dataframe\">\n",
       "  <thead>\n",
       "    <tr style=\"text-align: right;\">\n",
       "      <th></th>\n",
       "      <th>user_id</th>\n",
       "      <th>genotype_filename</th>\n",
       "      <th>date_of_birth</th>\n",
       "      <th>chrom_sex</th>\n",
       "      <th>openhumans_name</th>\n",
       "      <th>Retrognathia (Marfan Syndrome)</th>\n",
       "      <th>Eye pigmentation</th>\n",
       "      <th>Vegetarianism/Preference for Meat</th>\n",
       "      <th>Form of foot</th>\n",
       "      <th>Eye color</th>\n",
       "      <th>A+</th>\n",
       "      <th>MSG tastes...</th>\n",
       "      <th>Boldness type</th>\n",
       "      <th>Lynch Syndrome</th>\n",
       "      <th>Early Onset Heart Disease</th>\n",
       "      <th>black</th>\n",
       "      <th>Interstitial cystitis</th>\n",
       "      <th>Jewish Ancestry</th>\n",
       "      <th>Response to Enbrel</th>\n",
       "      <th>Bicuspid aortic valve</th>\n",
       "      <th>Hemochromotosis</th>\n",
       "      <th>ACT science</th>\n",
       "      <th>Hypomagnesemia</th>\n",
       "      <th>ACT math</th>\n",
       "      <th>12</th>\n",
       "      <th>Prolapsed Organ</th>\n",
       "      <th>vi/vim or Emacs</th>\n",
       "      <th>Heart Problems - Long QT Syndrome</th>\n",
       "      <th>chronically sore neck glands</th>\n",
       "      <th>Urticaria</th>\n",
       "      <th>R1b1a2a1a1b</th>\n",
       "      <th>ACT reading</th>\n",
       "      <th>Cramps</th>\n",
       "      <th>Number of Neanderthal variants</th>\n",
       "      <th>Dental decay</th>\n",
       "      <th>Miscarriage/Spontaneous Abortion</th>\n",
       "      <th>Thrombosis</th>\n",
       "      <th>Resistance To Infectious Disease</th>\n",
       "      <th>Enhanced Hippocampal Volume</th>\n",
       "      <th>Significantly increased Risk of Heart Disease</th>\n",
       "      <th>Amount of Body Hair (Male)</th>\n",
       "      <th>Morton's Toe</th>\n",
       "      <th>Pressure Sensitivity of the Ear</th>\n",
       "      <th>Dolichocephaly: Disproportionately Long, Narrow Head &amp;  Neanderthal rs12416000(A;G)</th>\n",
       "      <th>Neanderthal</th>\n",
       "      <th>Webbed toes</th>\n",
       "      <th>Thyroid Issues/Cancer</th>\n",
       "      <th>Purposefulness</th>\n",
       "      <th>Right Atrial Enlargement</th>\n",
       "      <th>mtDNA Haplogroup (PhyloTree)</th>\n",
       "      <th>Lactose intolerance</th>\n",
       "      <th>Light-skinned, European Ancestry (rs14256654)</th>\n",
       "      <th>Fainting Upon Seeing Blood/Gore/Violence</th>\n",
       "      <th>Erythromycin allergy</th>\n",
       "      <th>Crohn's Disease +rs2241880</th>\n",
       "      <th>ethnicity</th>\n",
       "      <th>Interests-General</th>\n",
       "      <th>Increased Risk of GYN, Head &amp; Neck Cancers (mutation on RNASEL Gene ~ Cancer Marker)</th>\n",
       "      <th>Premature Atrial Contractions</th>\n",
       "      <th>Reduced MAO-A Activity</th>\n",
       "      <th>Hidradenitis Supperativa</th>\n",
       "      <th>Scottish Ancestry</th>\n",
       "      <th>Welsh Ancestry</th>\n",
       "      <th>nosebleeds as a child</th>\n",
       "      <th>Hair and eye color Brown</th>\n",
       "      <th>Mitral Insufficiency (Regurgitation)</th>\n",
       "      <th>Left Ventricular Hypertrophy</th>\n",
       "      <th>ABH Blood Group (antigens)</th>\n",
       "      <th>black skin,O+,hair Black,Eye color Brown,</th>\n",
       "      <th>Photic Sneeze Reflex (Photoptarmis)</th>\n",
       "      <th>ENTP</th>\n",
       "      <th>Tricuspid Insufficiency (Regurgitation)</th>\n",
       "      <th>Weight</th>\n",
       "      <th>Large tonsil crypts and tonsil stones</th>\n",
       "      <th>Uterine Fibroids</th>\n",
       "      <th>AB +</th>\n",
       "      <th>Type 2 Diabetes +rs13266634</th>\n",
       "      <th>Kell Blood Group (K/k antigens)</th>\n",
       "      <th>MBTI (Myers Briggs) Type</th>\n",
       "      <th>Throat, Stomach Cancer +rs2274223</th>\n",
       "      <th>Nicotine dependence</th>\n",
       "      <th>Thyroid Disorders +rs966423</th>\n",
       "      <th>Asparagus Metabolite Detection</th>\n",
       "      <th>Beard Color</th>\n",
       "      <th>Sexual Preferences</th>\n",
       "      <th>IQ</th>\n",
       "      <th>In both the large group of people is best for you ?for you ?</th>\n",
       "      <th>Ear - darwin's tubercle</th>\n",
       "      <th>Unable To Metabolize Common Medications (CYP3A5 non-expressor)</th>\n",
       "      <th>Alzheimer's Disease</th>\n",
       "      <th>Frequency of colds/flu</th>\n",
       "      <th>Fibromyalgia</th>\n",
       "      <th>Hedonic set point</th>\n",
       "      <th>Otosclerosis</th>\n",
       "      <th>Skin color.</th>\n",
       "      <th>Ability to Tan</th>\n",
       "      <th>Little fingers(pinkies)</th>\n",
       "      <th>Response to Humira</th>\n",
       "      <th>Farnsworth Munsell 100 Hue Test</th>\n",
       "      <th>FBN1 Mutation</th>\n",
       "      <th>CMV serostatus</th>\n",
       "      <th>Aquagenic pruritus (episodes)</th>\n",
       "      <th>Atherosclerotic Vascular Disease +rs2943634</th>\n",
       "      <th>music ear</th>\n",
       "      <th>eczema</th>\n",
       "      <th>How do you put your glasses down?</th>\n",
       "      <th>Polycystic ovary syndrome  (pcos)</th>\n",
       "      <th>Impacted Canines</th>\n",
       "      <th>Primary Open Angle Glaucoma</th>\n",
       "      <th>Misophonia</th>\n",
       "      <th>Panic Disorder</th>\n",
       "      <th>Allergy to Egg Whites</th>\n",
       "      <th>Acrophobia</th>\n",
       "      <th>vitiligo</th>\n",
       "      <th>Double vision</th>\n",
       "      <th>Preterm labor</th>\n",
       "      <th>Anemic?</th>\n",
       "      <th>TMJ/TMD</th>\n",
       "      <th>ADHD? Subtype?</th>\n",
       "      <th>Response to Metformin</th>\n",
       "      <th>Autoimmune Disease</th>\n",
       "      <th>Non Alcoholic Fatty Liver</th>\n",
       "      <th>Social Level</th>\n",
       "      <th>Supraventricuar Tachycardia</th>\n",
       "      <th>dark Blonde, hazal eyes,, 165 cm</th>\n",
       "      <th>Plantar fasciitis</th>\n",
       "      <th>Anorgasmia</th>\n",
       "      <th>maternal or mTDNA  haplogroup</th>\n",
       "      <th>Supernumerary Kidney</th>\n",
       "      <th>Fish Preference</th>\n",
       "      <th>Looking at the world around you</th>\n",
       "      <th>No headaches EVER</th>\n",
       "      <th>Exercise Induced Ischemia +rs1024611</th>\n",
       "      <th>Kidd Blood Group</th>\n",
       "      <th>multiple brain aneurysms</th>\n",
       "      <th>adult a.d.d</th>\n",
       "      <th>Alcohol Consumption (per week)</th>\n",
       "      <th>Alcoholism</th>\n",
       "      <th>Cigarette/Cigar Smoker</th>\n",
       "      <th>Chronic cough and single CFTR mutation</th>\n",
       "      <th>Busy Bee, Multi tasker</th>\n",
       "      <th>Curiosity and love of research</th>\n",
       "      <th>shoe size (US MEN)</th>\n",
       "      <th>Mother's eye color</th>\n",
       "      <th>Rain</th>\n",
       "      <th>Latino Ancestry</th>\n",
       "      <th>Secretor Status</th>\n",
       "      <th>hair color</th>\n",
       "      <th>impaired NSAID drug metabolism</th>\n",
       "      <th>Scoliosis</th>\n",
       "      <th>Third molars \"wishdom teeth\"</th>\n",
       "      <th>water taste</th>\n",
       "      <th>Anorexia nervosa or ednos</th>\n",
       "      <th>rs429358</th>\n",
       "      <th>immune thrombocytopenia</th>\n",
       "      <th>Spondyloarthropathy</th>\n",
       "      <th>Oxycodone/Oxycontin Effectiveness</th>\n",
       "      <th>parsonage-turner syndrome</th>\n",
       "      <th>Toenail or fingernail fungus</th>\n",
       "      <th>Arthritis</th>\n",
       "      <th>Peanut butter preference</th>\n",
       "      <th>Eye with Blue Halo</th>\n",
       "      <th>Serotonin transporter</th>\n",
       "      <th>Personality Disorder test - top result</th>\n",
       "      <th>Aphantasia</th>\n",
       "      <th>Depression</th>\n",
       "      <th>One Warrior Gene/One Non-Warrior Gene</th>\n",
       "      <th>Cocaine addiction</th>\n",
       "      <th>Gray eyes,fair skin, dark blonde, o- blood</th>\n",
       "      <th>Craves sugar</th>\n",
       "      <th>Dermatofibroma</th>\n",
       "      <th>Essential Tremor</th>\n",
       "      <th>low appetite</th>\n",
       "      <th>PICA - eating non food stuff</th>\n",
       "      <th>introvert or extrovert</th>\n",
       "      <th>Can you smell cut-grass?</th>\n",
       "      <th>Cervical dysplasia / cancer</th>\n",
       "      <th>Critical thinking</th>\n",
       "      <th>CLL</th>\n",
       "      <th>Carrier</th>\n",
       "      <th>Medium brown skin</th>\n",
       "      <th>Online Alexithymia Questionnaire</th>\n",
       "      <th>Medium blonde, medium tone skims blood type o+</th>\n",
       "      <th>OCD - Obsessive-Compulsive Disorder</th>\n",
       "      <th>Blood Type: O negative</th>\n",
       "      <th>Pseudocholinesterase deficiency</th>\n",
       "      <th>Behçet's Syndrome / Disease (Behcet's)</th>\n",
       "      <th>Father or grandfather died of Prostate Cancer</th>\n",
       "      <th>EBV Epstein Barr Virus history: Infectious mononucleosis history now may be not symptomatic</th>\n",
       "      <th>MENSA Member</th>\n",
       "      <th>33</th>\n",
       "      <th>Rh Factor: A Positive</th>\n",
       "      <th>Tooth sensitivity</th>\n",
       "      <th>Woolnerian Tip (Darwin's Tubercle)</th>\n",
       "      <th>Clinodactyly</th>\n",
       "      <th>Handedness</th>\n",
       "      <th>Atheism</th>\n",
       "      <th>(Male) Nipple's size</th>\n",
       "      <th>Ehlers-Danlos</th>\n",
       "      <th>Enjoy using the Internet</th>\n",
       "      <th>Heroin addiction</th>\n",
       "      <th>Raynaud's</th>\n",
       "      <th>Diet</th>\n",
       "      <th>Squizophrenia</th>\n",
       "      <th>Dietary supplements used</th>\n",
       "      <th>Irritable Bowel Syndrome</th>\n",
       "      <th>Wake up preference</th>\n",
       "      <th>5-HTP effectiveness</th>\n",
       "      <th>Tooth shade range</th>\n",
       "      <th>Brazil nut diarrhoea</th>\n",
       "      <th>Caffeine dependence</th>\n",
       "      <th>Gambling</th>\n",
       "      <th>Umami taster?</th>\n",
       "      <th>lichen planus</th>\n",
       "      <th>macular degeneration</th>\n",
       "      <th>Bipolar disorder</th>\n",
       "      <th>Gap between front teeth</th>\n",
       "      <th>Easily irritated or frustrated</th>\n",
       "      <th>MS</th>\n",
       "      <th>Premature Gray</th>\n",
       "      <th>Thyroid nodules</th>\n",
       "      <th>deviated septum</th>\n",
       "      <th>Renal hypoplasia</th>\n",
       "      <th>inverted nipples</th>\n",
       "      <th>Do You Have Lucid Dreams?</th>\n",
       "      <th>Allergy to Hair Dye</th>\n",
       "      <th>Cholesterol</th>\n",
       "      <th>Skin dry</th>\n",
       "      <th>Inflammation</th>\n",
       "      <th>Pulmonary Fibrosis</th>\n",
       "      <th>Political Ideology</th>\n",
       "      <th>Post traumatic Stress Disorder or PTSD?</th>\n",
       "      <th>Vasovagal syncopy or Neurocardiogenic syncopy</th>\n",
       "      <th>Pain Tolerance</th>\n",
       "      <th>Do you prefer python, matlab, or R?</th>\n",
       "      <th>Atypical Sulfonomide Antibiotic Reaction</th>\n",
       "      <th>Red Hair</th>\n",
       "      <th>Sleep Disorders</th>\n",
       "      <th>Do You Suffer From Agoraphobia?</th>\n",
       "      <th>hemophilia C    (factor XI deficiency is caused by \"rare mutations\" in the F11 gene)</th>\n",
       "      <th>Are You The Advertising Phenotype?</th>\n",
       "      <th>Skin - Fitzpatrick Scale</th>\n",
       "      <th>Score on Big Five at PersonalityLab.org</th>\n",
       "      <th>Brunette, O+, Caucasian</th>\n",
       "      <th>Resting Heart Rate</th>\n",
       "      <th>Wanting to be immortal</th>\n",
       "      <th>Motion sickness</th>\n",
       "      <th>Cusp of Carabelli</th>\n",
       "      <th>brown hair colour</th>\n",
       "      <th>Diagnosed Vitamin D deficiency</th>\n",
       "      <th>Affinity to Cannabis</th>\n",
       "      <th>Can you bend your fifth finger (pinky) without bending your fourth finger (ring)?</th>\n",
       "      <th>Number of fingers</th>\n",
       "      <th>Black</th>\n",
       "      <th>blue eyes with yellow  stripes making them look depending on the light or my mood</th>\n",
       "      <th>Income Range?</th>\n",
       "      <th>Ocular migraines</th>\n",
       "      <th>brown hair colour, white skin color</th>\n",
       "      <th>Hypospadias</th>\n",
       "      <th>clubfoot</th>\n",
       "      <th>Hazel Eyes</th>\n",
       "      <th>No Allergies</th>\n",
       "      <th>Cat or Dog person</th>\n",
       "      <th>Do hops taste like soap?</th>\n",
       "      <th>SAT Verbal</th>\n",
       "      <th>Persistant Muscle Pain or Fatigue</th>\n",
       "      <th>erectil disfunction</th>\n",
       "      <th>Ability to find a bug in openSNP</th>\n",
       "      <th>dark Blonde</th>\n",
       "      <th>SAT - when taken</th>\n",
       "      <th>Enophthalmos</th>\n",
       "      <th>Have ME/CFS</th>\n",
       "      <th>Axiiety (following cannabis consumption)</th>\n",
       "      <th>Negative reaction to fluoroquinolone antibiotics</th>\n",
       "      <th>Hand span</th>\n",
       "      <th>A- (cisA2B3)</th>\n",
       "      <th>Sweat eating spicy food</th>\n",
       "      <th>autism</th>\n",
       "      <th>Pancreas</th>\n",
       "      <th>ADHD</th>\n",
       "      <th>Penicillin reaction</th>\n",
       "      <th>SAT Math</th>\n",
       "      <th>paternal or Y  haplogroup</th>\n",
       "      <th>How many wisdom teeth did you have/ do you have (if you know).</th>\n",
       "      <th>Gynecomastia (male breast tissue)</th>\n",
       "      <th>midtarsal flexibility</th>\n",
       "      <th>Physical Aversion to Certain Foods</th>\n",
       "      <th>Interested in news from real newspaper / news from the Internet</th>\n",
       "      <th>Myers-Briggs Type Indicator</th>\n",
       "      <th>Sensitivity to Mosquito Bites</th>\n",
       "      <th>Response to Methotrexate</th>\n",
       "      <th>Autoimmune disorder</th>\n",
       "      <th>Strabismus</th>\n",
       "      <th>Marfan Syndrome</th>\n",
       "      <th>lips size</th>\n",
       "      <th>Have You Been Diagnosed With Brown's Syndrome (Tendon Sheath Syndrome)?</th>\n",
       "      <th>Degree of Empathy</th>\n",
       "      <th>eosinophilic disease</th>\n",
       "      <th>Rythm Test Result</th>\n",
       "      <th>Colon cancer ONLY FOR (rs3219489 GG)!</th>\n",
       "      <th>Brachydactyly</th>\n",
       "      <th>Disseminated Superficial Actinic Porokeratosis</th>\n",
       "      <th>Synesthesia</th>\n",
       "      <th>Walk in nature on the roads</th>\n",
       "      <th>Intolerance: gluten, casein, soy</th>\n",
       "      <th>At what altitude you live or have lived most of their lives?</th>\n",
       "      <th>Third Nipple</th>\n",
       "      <th>Cleverness</th>\n",
       "      <th>Anxiety</th>\n",
       "      <th>Diseases</th>\n",
       "      <th>Downslanting Palpebral Fissures Related To Marfan Syndrome</th>\n",
       "      <th>Bone Mineral Density</th>\n",
       "      <th>SLE - Lupus</th>\n",
       "      <th>Dyscalculia</th>\n",
       "      <th>Penis Circumference at Glans</th>\n",
       "      <th>black skin</th>\n",
       "      <th>Asthma</th>\n",
       "      <th>Political Compass</th>\n",
       "      <th>Diagnosed with Sleep Apnea?</th>\n",
       "      <th>Hair colour</th>\n",
       "      <th>Sports interest</th>\n",
       "      <th>MethyleneTetraHydroFolate Reductase (MTHFR)</th>\n",
       "      <th>excessive daytime sleepiness</th>\n",
       "      <th>Keratoconus Disease</th>\n",
       "      <th>Reading habits</th>\n",
       "      <th>Diego Blood Group</th>\n",
       "      <th>Cognitive impairment side effect on statin</th>\n",
       "      <th>Allergic to Lexapro (Escitalopram)</th>\n",
       "      <th>Gestures when speaking</th>\n",
       "      <th>Reaction to poison ivy</th>\n",
       "      <th>Second MBTI type</th>\n",
       "      <th>Ancestry</th>\n",
       "      <th>Physical</th>\n",
       "      <th>restless leg syndrome</th>\n",
       "      <th>The Dress: Perception of colour</th>\n",
       "      <th>white skin</th>\n",
       "      <th>Cancer Marker RNASEL Gene</th>\n",
       "      <th>Digit ratio</th>\n",
       "      <th>Hindfoot Valgus (Marfan Syndrome)</th>\n",
       "      <th>Hair color</th>\n",
       "      <th>Chronotype - Morningness-eveningness questionnaire (MEQ)</th>\n",
       "      <th>SAT Writing</th>\n",
       "      <th>Thumb Sign (Marfan Syndrome)</th>\n",
       "      <th>Do you have dust-mite allergies</th>\n",
       "      <th>head form</th>\n",
       "      <th>Rheumatoid Arthritis</th>\n",
       "      <th>Migraine frequency</th>\n",
       "      <th>Does cilantro taste like soap to you?</th>\n",
       "      <th>Mole (Nevus) type</th>\n",
       "      <th>Hereditary breast and ovarian cancer</th>\n",
       "      <th>Enjoy watching TV</th>\n",
       "      <th>brown hair colour blue eyes</th>\n",
       "      <th>Number of toes</th>\n",
       "      <th>prognathism</th>\n",
       "      <th>Interest in Spirituality and Mysticism</th>\n",
       "      <th>Nickel Dermatitis</th>\n",
       "      <th>Good / poor eater as child</th>\n",
       "      <th>Hashimoto's</th>\n",
       "      <th>hair on fingers</th>\n",
       "      <th>Dyslexia</th>\n",
       "      <th>Musical Perfect Pitch</th>\n",
       "      <th>Mirror Touch Synesthesia</th>\n",
       "      <th>syndactyly</th>\n",
       "      <th>Eye Color</th>\n",
       "      <th>Gorlin sign</th>\n",
       "      <th>Female with Ring Finger longer than Index Finger</th>\n",
       "      <th>ABO Rh</th>\n",
       "      <th>Aspirin Allergy</th>\n",
       "      <th>Age you started wearing glasses</th>\n",
       "      <th>Keloid</th>\n",
       "      <th>Moles raised</th>\n",
       "      <th>Pheochromocytoma</th>\n",
       "      <th>Fat-pad knee syndrome</th>\n",
       "      <th>Multiple Sclerosis</th>\n",
       "      <th>Preference for Loud Music</th>\n",
       "      <th>(male) penis releases pre-cum when sexually aroused.</th>\n",
       "      <th>apthous in mouth tendency</th>\n",
       "      <th>Hypertriglyceridemia</th>\n",
       "      <th>Broad face</th>\n",
       "      <th>You look like the flame of the fire?</th>\n",
       "      <th>Enjoy riding a motorbike</th>\n",
       "      <th>Dupuytren's disease</th>\n",
       "      <th>Laterality</th>\n",
       "      <th>Seborrhoeic Dermatitis</th>\n",
       "      <th>Insect bites and stings</th>\n",
       "      <th>Cardiac Arterial Disease</th>\n",
       "      <th>Sense of smell</th>\n",
       "      <th>ALS</th>\n",
       "      <th>Female Pattern Baldnes</th>\n",
       "      <th>Migraine</th>\n",
       "      <th>Daily Sleep Duration (hours)</th>\n",
       "      <th>sex drive</th>\n",
       "      <th>Phobia</th>\n",
       "      <th>hair on ear</th>\n",
       "      <th>glass eye</th>\n",
       "      <th>Grey hair very late</th>\n",
       "      <th>Easiness to navigate/orientate</th>\n",
       "      <th>Acromegaly</th>\n",
       "      <th>Malar hypoplasia in Marfan Syndrome</th>\n",
       "      <th>Autism</th>\n",
       "      <th>Ambition</th>\n",
       "      <th>Ectopia Lentis</th>\n",
       "      <th>Type II Diabetes</th>\n",
       "      <th>Physician-diagnosed celiac/coeliac disease</th>\n",
       "      <th>eye colour</th>\n",
       "      <th>Lisp</th>\n",
       "      <th>Do you have a parent who was diagnosed with Alzheimer's disease?</th>\n",
       "      <th>ASMR</th>\n",
       "      <th>Birth year</th>\n",
       "      <th>mthfr</th>\n",
       "      <th>Sneezing induced by sexual ideation or orgasm?</th>\n",
       "      <th>Skintype</th>\n",
       "      <th>double jointed thumbs</th>\n",
       "      <th>Cystic Fibrosis Like Disease</th>\n",
       "      <th>Would you invite strangers into your living space?</th>\n",
       "      <th>Retinitis pigmentosa</th>\n",
       "      <th>Vitiligo</th>\n",
       "      <th>Chest Pain on Ritalin</th>\n",
       "      <th>cluster headache</th>\n",
       "      <th>form of the nose</th>\n",
       "      <th>Photophobia</th>\n",
       "      <th>Lipoma</th>\n",
       "      <th>ear proximity to head</th>\n",
       "      <th>Tea consumption</th>\n",
       "      <th>Age you had a heart attack</th>\n",
       "      <th>Sexuality</th>\n",
       "      <th>Sensitivity to smell</th>\n",
       "      <th>Allergy to artificial grape flavoring</th>\n",
       "      <th>Jogger</th>\n",
       "      <th>Melasma</th>\n",
       "      <th>Faktor 5 Leiden (F5)</th>\n",
       "      <th>Widow's Peak</th>\n",
       "      <th>Hair Length</th>\n",
       "      <th>Sporting activity participation</th>\n",
       "      <th>libido</th>\n",
       "      <th>Earwax type</th>\n",
       "      <th>blood type</th>\n",
       "      <th>Age learned to read</th>\n",
       "      <th>Allergy to Strawberries, Tomatoes, Citrus</th>\n",
       "      <th>Handwriting/Fine Motor Skills</th>\n",
       "      <th>Clotting disorder</th>\n",
       "      <th>I dance....</th>\n",
       "      <th>Ear Infections In Childhood</th>\n",
       "      <th>Creutzfeldt–Jakob disease</th>\n",
       "      <th>Aortic Insufficiency (Regurgitation)</th>\n",
       "      <th>Metabolic Syndrome [MetS]</th>\n",
       "      <th>Dermatographia</th>\n",
       "      <th>Kinsey Scale</th>\n",
       "      <th>Academic degree</th>\n",
       "      <th>White skin, black hair</th>\n",
       "      <th>hair colour</th>\n",
       "      <th>Allergic/bad reaction to fish oil supplements</th>\n",
       "      <th>Enneagram Personality Type</th>\n",
       "      <th>Short-sightedness (Myopia)</th>\n",
       "      <th>Astigmatism</th>\n",
       "      <th>Freckling</th>\n",
       "      <th>Eurogenes</th>\n",
       "      <th>Favorite Color/Colour</th>\n",
       "      <th>Hypermobility</th>\n",
       "      <th>Hair color changed from blonde to brown</th>\n",
       "      <th>Nationality</th>\n",
       "      <th>Allergic rhinitis</th>\n",
       "      <th>Blood type</th>\n",
       "      <th>number of biological children</th>\n",
       "      <th>Нос</th>\n",
       "      <th>Like the taste of Stevia</th>\n",
       "      <th>High platelet count</th>\n",
       "      <th>Adult Second Language Acquistion Aptitude</th>\n",
       "      <th>Amblyopia</th>\n",
       "      <th>Response to Remicade</th>\n",
       "      <th>mouth size</th>\n",
       "      <th>Fight or flight response (see description)</th>\n",
       "      <th>Do you grind your teeth</th>\n",
       "      <th>Haemophilia/Hemophilia</th>\n",
       "      <th>congenital talipes equinovarus (CTEV)</th>\n",
       "      <th>Physical Characteristic</th>\n",
       "      <th>Abnormal Blood Pressure</th>\n",
       "      <th>brunette</th>\n",
       "      <th>Pectus Excavatum (sunken chest)</th>\n",
       "      <th>Index Toe Longer than Big Toe</th>\n",
       "      <th>Tongue roller</th>\n",
       "      <th>Hair Color</th>\n",
       "      <th>opensnp.org</th>\n",
       "      <th>Subjective dream intensity</th>\n",
       "      <th>Prone to Cysts</th>\n",
       "      <th>Am I a duck?</th>\n",
       "      <th>Body shape</th>\n",
       "      <th>Black hair and Green Eyes</th>\n",
       "      <th>Desmoid Tumor</th>\n",
       "      <th>Artistic ability</th>\n",
       "      <th>Coffee consumption</th>\n",
       "      <th>ABO Rh</th>\n",
       "      <th>Neanderthal (Interpretome)</th>\n",
       "      <th>ring finger longer than index finger</th>\n",
       "      <th>African</th>\n",
       "      <th>Taste of broccoli</th>\n",
       "      <th>Ear wiggling</th>\n",
       "      <th>Artistic Talent</th>\n",
       "      <th>african-northern european</th>\n",
       "      <th>Do you like the taste of hops?</th>\n",
       "      <th>Homophobia - Questionnaire Result</th>\n",
       "      <th>rolled tongue</th>\n",
       "      <th>Sex</th>\n",
       "      <th>Mental Disease</th>\n",
       "      <th>Enjoy driving a car</th>\n",
       "      <th>English ACT</th>\n",
       "      <th>Smell of coffee in urine</th>\n",
       "      <th>First word</th>\n",
       "      <th>Blood Type A1, Rh positive</th>\n",
       "      <th>Palpitations Unrelated To Food, Alcohol, Drugs or Exercise</th>\n",
       "      <th>Dimple in the chin</th>\n",
       "      <th>Number of wisdom teeth</th>\n",
       "      <th>natural skinny</th>\n",
       "      <th>how do you like your steak?</th>\n",
       "      <th>Pale</th>\n",
       "      <th>Affinity For Animals</th>\n",
       "      <th>Toe Thumbs</th>\n",
       "      <th>Sport interest</th>\n",
       "      <th>Body complexity</th>\n",
       "      <th>White skin, black straight  hair, B+</th>\n",
       "      <th>Height</th>\n",
       "      <th>Foot length</th>\n",
       "      <th>Energy Level</th>\n",
       "      <th>Earlobe:  Free or attached</th>\n",
       "      <th>Colour Blindness</th>\n",
       "      <th>Extra Fingers (Polydactyly)</th>\n",
       "      <th>Eyebrow Mover</th>\n",
       "      <th>Blood Type</th>\n",
       "      <th>Y-DNA Haplogroup (ISOGG)</th>\n",
       "      <th>Can You Spread Your Toes?</th>\n",
       "      <th>Penis Length</th>\n",
       "      <th>Hair Type</th>\n",
       "      <th>Do you like the taste of bananas?</th>\n",
       "      <th>Night Owl/Early Bird</th>\n",
       "      <th>Carpal tunnel</th>\n",
       "      <th>Are you a map lover?</th>\n",
       "      <th>Horseshoe kidney</th>\n",
       "      <th>Cushing's Disease</th>\n",
       "      <th>Sang À+</th>\n",
       "      <th>Force</th>\n",
       "      <th>Lichen Sclerosis(LS)/Balanitis Xerotica Obliterates(BXO)</th>\n",
       "      <th>Dark brown,Rheusus Neg B,Olive</th>\n",
       "      <th>Familial hypercholesterolemia</th>\n",
       "      <th>Extra Teeth</th>\n",
       "      <th>dark Blonde,fair skin,brown eyes</th>\n",
       "      <th>Severe Acne</th>\n",
       "      <th>Sleep duration</th>\n",
       "      <th>Optimistic, empathetic, handles stress well</th>\n",
       "      <th>Response to Codeine</th>\n",
       "      <th>Fibromyalgia Response to SRI drugs</th>\n",
       "      <th>Suicidality</th>\n",
       "      <th>Rosacea</th>\n",
       "      <th>Eye Color - Heterochromia</th>\n",
       "      <th>GREEK DNA</th>\n",
       "      <th>Supernumerary nipples</th>\n",
       "      <th>Dyshydrotic Eczema</th>\n",
       "      <th>Gulf War Illness</th>\n",
       "      <th>chilblains/perniosis, have you ever had them, yes/no</th>\n",
       "      <th>wide feet, yes/no</th>\n",
       "      <th>green eyes, light brown hair, left-handed, Dupuytren's</th>\n",
       "      <th>Diagnosed celiac disease AND photic sneeze reflex</th>\n",
       "      <th>Therapeutically induced hypothyroidism</th>\n",
       "      <th>Gall bladder disease</th>\n",
       "      <th>Cold sores (herpes)</th>\n",
       "      <th>can't stand Tarragon</th>\n",
       "      <th>Ectopic heartbeats</th>\n",
       "      <th>Hypertension</th>\n",
       "      <th>Resistance to Norovirus</th>\n",
       "      <th>blood incompatibility</th>\n",
       "      <th>Brown hair, Hazel, Caucasian.</th>\n",
       "      <th>Missing canine teeth</th>\n",
       "      <th>Han Arm Creases</th>\n",
       "      <th>Asexual</th>\n",
       "      <th>Brown hair colour, white skin color</th>\n",
       "      <th>generalized anxiety disorder</th>\n",
       "      <th>MPN myeloproliferative neoplasms</th>\n",
       "      <th>Penis Girth</th>\n",
       "      <th>Fuchs' Disease</th>\n",
       "      <th>Double eyelashes</th>\n",
       "      <th>Left-handed</th>\n",
       "      <th>Two tendons at wrists</th>\n",
       "      <th>Hearing loss genetic cookie bite configuration</th>\n",
       "      <th>abnormal brain shape</th>\n",
       "      <th>Episodic Major Depression</th>\n",
       "      <th>Age achieved full height</th>\n",
       "      <th>Biophilia</th>\n",
       "      <th>Reading speed(WPM)</th>\n",
       "      <th>Chimera or mosaic?</th>\n",
       "      <th>Strongly feel that true \"intelligence\" is more than just IQ</th>\n",
       "      <th>Feel that intelligence is genetically more than just IQ</th>\n",
       "      <th>RCCX</th>\n",
       "      <th>immunological disorder: HLA-b27</th>\n",
       "      <th>Deep Blue</th>\n",
       "      <th>Do you read a lot on the why’s and how’s things work.</th>\n",
       "      <th>Can you wake up at night, drink coffee and a couple hours later go right back to sleep</th>\n",
       "      <th>nail biter, lip biter or skin picker when stressed</th>\n",
       "      <th>Have a military neck</th>\n",
       "      <th>High kidneys</th>\n",
       "      <th>Allergic to a steroid shot</th>\n",
       "      <th>Wake time before leaving for work</th>\n",
       "      <th>Allergic to bees</th>\n",
       "      <th>Birthing pain</th>\n",
       "      <th>Tattoos</th>\n",
       "      <th>black hair and brown eyes, blood B+, 6,5 tall</th>\n",
       "      <th>Hypermobile Ehlers Danlos Syndrome</th>\n",
       "      <th>repetitive movements or unwanted sounds</th>\n",
       "      <th>Rh Neg Blood Type WITH Unusual Allergies or Early Onset Degenerative Disorders</th>\n",
       "      <th>tourettes syndrome</th>\n",
       "      <th>Smell of rain</th>\n",
       "      <th>Boldness type A+</th>\n",
       "      <th>Age of first grey hair (scalp)</th>\n",
       "      <th>Age of first grey hair (facial)</th>\n",
       "      <th>deep sleep, debilitating sleep pressure</th>\n",
       "      <th>Alcoholism</th>\n",
       "      <th>Simian Line(s)</th>\n",
       "      <th>Why MBBS Ukraine Is The Best Option For MBBS Aspirants?</th>\n",
       "      <th>Which is the cheapest country to study MBBS?</th>\n",
       "      <th>The Cracker Test</th>\n",
       "      <th>Wiggle My Ears</th>\n",
       "      <th>Dry Eye Syndrome / Fishing Eye Syndrome</th>\n",
       "      <th>Allergic to Band-Aid Adhesives / Other Adhesives</th>\n",
       "      <th>Allergy to Macrobid (nitrofurantoin) Antibiotic (Only)</th>\n",
       "      <th>Recurrent Urinary Tract Infections (UTI) / Bladder Infections</th>\n",
       "      <th>Spinal Degenerative Bone or Disc Disease Early Onset Genetic-Cause Only</th>\n",
       "      <th>TIA (transient ischemic attack)</th>\n",
       "      <th>Highest Education</th>\n",
       "      <th>Look like mother or father</th>\n",
       "      <th>Income</th>\n",
       "      <th>Темный, очі темні</th>\n",
       "      <th>Blood transfusion</th>\n",
       "      <th>Occipital bun</th>\n",
       "      <th>Cabelo liso castanho, tipo sanguíneo AB+, pele morena</th>\n",
       "      <th>blood compatibility for transfussion</th>\n",
       "      <th>Hidradenitis suppurativa</th>\n",
       "      <th>Covid19 Symptoms</th>\n",
       "      <th>Cannabis Allergy</th>\n",
       "      <th>MGUS</th>\n",
       "      <th>Gender</th>\n",
       "      <th>Gender Dysphoria</th>\n",
       "      <th>Polycythemia Vera</th>\n",
       "      <th>Mast Cell Activation Syndrome</th>\n",
       "      <th>Alpha-1 Antitrypsin Deficiency</th>\n",
       "      <th>Altitude acclimatisation and sickness</th>\n",
       "      <th>Black curly hair,brown eyes,olive skin</th>\n",
       "      <th>music preference</th>\n",
       "      <th>autologous blood</th>\n",
       "      <th>black hair and brown eyes, blood A-, and white skin</th>\n",
       "      <th>brown hair, brown eyes, caucasian, blood type O, Rh+</th>\n",
       "      <th>Congenital Sucrase-Isomaltase Deficiency</th>\n",
       "      <th>Familial Mediterranean Fever</th>\n",
       "    </tr>\n",
       "  </thead>\n",
       "  <tbody>\n",
       "    <tr>\n",
       "      <th>0</th>\n",
       "      <td>4134</td>\n",
       "      <td>4134.23andme.2800</td>\n",
       "      <td>rather not say</td>\n",
       "      <td>rather not say</td>\n",
       "      <td>-</td>\n",
       "      <td>-</td>\n",
       "      <td>-</td>\n",
       "      <td>-</td>\n",
       "      <td>-</td>\n",
       "      <td>-</td>\n",
       "      <td>-</td>\n",
       "      <td>-</td>\n",
       "      <td>-</td>\n",
       "      <td>-</td>\n",
       "      <td>-</td>\n",
       "      <td>-</td>\n",
       "      <td>-</td>\n",
       "      <td>-</td>\n",
       "      <td>-</td>\n",
       "      <td>-</td>\n",
       "      <td>-</td>\n",
       "      <td>-</td>\n",
       "      <td>-</td>\n",
       "      <td>-</td>\n",
       "      <td>-</td>\n",
       "      <td>-</td>\n",
       "      <td>-</td>\n",
       "      <td>-</td>\n",
       "      <td>-</td>\n",
       "      <td>-</td>\n",
       "      <td>-</td>\n",
       "      <td>-</td>\n",
       "      <td>-</td>\n",
       "      <td>-</td>\n",
       "      <td>-</td>\n",
       "      <td>-</td>\n",
       "      <td>-</td>\n",
       "      <td>-</td>\n",
       "      <td>-</td>\n",
       "      <td>-</td>\n",
       "      <td>-</td>\n",
       "      <td>-</td>\n",
       "      <td>-</td>\n",
       "      <td>-</td>\n",
       "      <td>-</td>\n",
       "      <td>-</td>\n",
       "      <td>-</td>\n",
       "      <td>-</td>\n",
       "      <td>-</td>\n",
       "      <td>-</td>\n",
       "      <td>-</td>\n",
       "      <td>-</td>\n",
       "      <td>-</td>\n",
       "      <td>-</td>\n",
       "      <td>-</td>\n",
       "      <td>-</td>\n",
       "      <td>-</td>\n",
       "      <td>-</td>\n",
       "      <td>-</td>\n",
       "      <td>-</td>\n",
       "      <td>-</td>\n",
       "      <td>-</td>\n",
       "      <td>-</td>\n",
       "      <td>-</td>\n",
       "      <td>-</td>\n",
       "      <td>-</td>\n",
       "      <td>-</td>\n",
       "      <td>-</td>\n",
       "      <td>-</td>\n",
       "      <td>-</td>\n",
       "      <td>-</td>\n",
       "      <td>-</td>\n",
       "      <td>-</td>\n",
       "      <td>-</td>\n",
       "      <td>-</td>\n",
       "      <td>-</td>\n",
       "      <td>-</td>\n",
       "      <td>-</td>\n",
       "      <td>-</td>\n",
       "      <td>-</td>\n",
       "      <td>-</td>\n",
       "      <td>-</td>\n",
       "      <td>-</td>\n",
       "      <td>-</td>\n",
       "      <td>-</td>\n",
       "      <td>-</td>\n",
       "      <td>-</td>\n",
       "      <td>-</td>\n",
       "      <td>-</td>\n",
       "      <td>-</td>\n",
       "      <td>-</td>\n",
       "      <td>-</td>\n",
       "      <td>-</td>\n",
       "      <td>-</td>\n",
       "      <td>-</td>\n",
       "      <td>-</td>\n",
       "      <td>-</td>\n",
       "      <td>-</td>\n",
       "      <td>-</td>\n",
       "      <td>-</td>\n",
       "      <td>-</td>\n",
       "      <td>-</td>\n",
       "      <td>-</td>\n",
       "      <td>-</td>\n",
       "      <td>-</td>\n",
       "      <td>-</td>\n",
       "      <td>-</td>\n",
       "      <td>Impacted molars</td>\n",
       "      <td>-</td>\n",
       "      <td>-</td>\n",
       "      <td>-</td>\n",
       "      <td>-</td>\n",
       "      <td>-</td>\n",
       "      <td>-</td>\n",
       "      <td>-</td>\n",
       "      <td>-</td>\n",
       "      <td>-</td>\n",
       "      <td>-</td>\n",
       "      <td>-</td>\n",
       "      <td>-</td>\n",
       "      <td>-</td>\n",
       "      <td>-</td>\n",
       "      <td>-</td>\n",
       "      <td>-</td>\n",
       "      <td>-</td>\n",
       "      <td>-</td>\n",
       "      <td>-</td>\n",
       "      <td>-</td>\n",
       "      <td>-</td>\n",
       "      <td>-</td>\n",
       "      <td>-</td>\n",
       "      <td>-</td>\n",
       "      <td>-</td>\n",
       "      <td>-</td>\n",
       "      <td>-</td>\n",
       "      <td>-</td>\n",
       "      <td>-</td>\n",
       "      <td>-</td>\n",
       "      <td>-</td>\n",
       "      <td>-</td>\n",
       "      <td>-</td>\n",
       "      <td>-</td>\n",
       "      <td>-</td>\n",
       "      <td>-</td>\n",
       "      <td>-</td>\n",
       "      <td>-</td>\n",
       "      <td>-</td>\n",
       "      <td>-</td>\n",
       "      <td>-</td>\n",
       "      <td>-</td>\n",
       "      <td>-</td>\n",
       "      <td>-</td>\n",
       "      <td>-</td>\n",
       "      <td>-</td>\n",
       "      <td>-</td>\n",
       "      <td>-</td>\n",
       "      <td>-</td>\n",
       "      <td>-</td>\n",
       "      <td>-</td>\n",
       "      <td>-</td>\n",
       "      <td>-</td>\n",
       "      <td>-</td>\n",
       "      <td>-</td>\n",
       "      <td>-</td>\n",
       "      <td>-</td>\n",
       "      <td>-</td>\n",
       "      <td>-</td>\n",
       "      <td>-</td>\n",
       "      <td>-</td>\n",
       "      <td>-</td>\n",
       "      <td>-</td>\n",
       "      <td>-</td>\n",
       "      <td>-</td>\n",
       "      <td>-</td>\n",
       "      <td>-</td>\n",
       "      <td>-</td>\n",
       "      <td>-</td>\n",
       "      <td>-</td>\n",
       "      <td>-</td>\n",
       "      <td>-</td>\n",
       "      <td>-</td>\n",
       "      <td>-</td>\n",
       "      <td>-</td>\n",
       "      <td>-</td>\n",
       "      <td>-</td>\n",
       "      <td>-</td>\n",
       "      <td>-</td>\n",
       "      <td>-</td>\n",
       "      <td>-</td>\n",
       "      <td>-</td>\n",
       "      <td>-</td>\n",
       "      <td>-</td>\n",
       "      <td>-</td>\n",
       "      <td>-</td>\n",
       "      <td>-</td>\n",
       "      <td>-</td>\n",
       "      <td>-</td>\n",
       "      <td>-</td>\n",
       "      <td>-</td>\n",
       "      <td>-</td>\n",
       "      <td>-</td>\n",
       "      <td>-</td>\n",
       "      <td>-</td>\n",
       "      <td>-</td>\n",
       "      <td>-</td>\n",
       "      <td>-</td>\n",
       "      <td>-</td>\n",
       "      <td>-</td>\n",
       "      <td>-</td>\n",
       "      <td>-</td>\n",
       "      <td>-</td>\n",
       "      <td>-</td>\n",
       "      <td>-</td>\n",
       "      <td>-</td>\n",
       "      <td>-</td>\n",
       "      <td>-</td>\n",
       "      <td>-</td>\n",
       "      <td>-</td>\n",
       "      <td>-</td>\n",
       "      <td>-</td>\n",
       "      <td>-</td>\n",
       "      <td>-</td>\n",
       "      <td>-</td>\n",
       "      <td>-</td>\n",
       "      <td>-</td>\n",
       "      <td>-</td>\n",
       "      <td>-</td>\n",
       "      <td>-</td>\n",
       "      <td>-</td>\n",
       "      <td>-</td>\n",
       "      <td>-</td>\n",
       "      <td>-</td>\n",
       "      <td>-</td>\n",
       "      <td>-</td>\n",
       "      <td>-</td>\n",
       "      <td>-</td>\n",
       "      <td>-</td>\n",
       "      <td>-</td>\n",
       "      <td>-</td>\n",
       "      <td>-</td>\n",
       "      <td>-</td>\n",
       "      <td>-</td>\n",
       "      <td>-</td>\n",
       "      <td>-</td>\n",
       "      <td>-</td>\n",
       "      <td>-</td>\n",
       "      <td>-</td>\n",
       "      <td>-</td>\n",
       "      <td>-</td>\n",
       "      <td>-</td>\n",
       "      <td>-</td>\n",
       "      <td>-</td>\n",
       "      <td>-</td>\n",
       "      <td>-</td>\n",
       "      <td>-</td>\n",
       "      <td>-</td>\n",
       "      <td>-</td>\n",
       "      <td>-</td>\n",
       "      <td>-</td>\n",
       "      <td>-</td>\n",
       "      <td>-</td>\n",
       "      <td>-</td>\n",
       "      <td>-</td>\n",
       "      <td>-</td>\n",
       "      <td>-</td>\n",
       "      <td>-</td>\n",
       "      <td>-</td>\n",
       "      <td>-</td>\n",
       "      <td>-</td>\n",
       "      <td>-</td>\n",
       "      <td>-</td>\n",
       "      <td>-</td>\n",
       "      <td>-</td>\n",
       "      <td>-</td>\n",
       "      <td>-</td>\n",
       "      <td>-</td>\n",
       "      <td>-</td>\n",
       "      <td>-</td>\n",
       "      <td>-</td>\n",
       "      <td>-</td>\n",
       "      <td>-</td>\n",
       "      <td>-</td>\n",
       "      <td>-</td>\n",
       "      <td>-</td>\n",
       "      <td>-</td>\n",
       "      <td>-</td>\n",
       "      <td>-</td>\n",
       "      <td>-</td>\n",
       "      <td>-</td>\n",
       "      <td>-</td>\n",
       "      <td>-</td>\n",
       "      <td>-</td>\n",
       "      <td>-</td>\n",
       "      <td>-</td>\n",
       "      <td>-</td>\n",
       "      <td>-</td>\n",
       "      <td>-</td>\n",
       "      <td>-</td>\n",
       "      <td>-</td>\n",
       "      <td>-</td>\n",
       "      <td>-</td>\n",
       "      <td>-</td>\n",
       "      <td>-</td>\n",
       "      <td>-</td>\n",
       "      <td>-</td>\n",
       "      <td>-</td>\n",
       "      <td>-</td>\n",
       "      <td>-</td>\n",
       "      <td>-</td>\n",
       "      <td>-</td>\n",
       "      <td>-</td>\n",
       "      <td>-</td>\n",
       "      <td>-</td>\n",
       "      <td>-</td>\n",
       "      <td>-</td>\n",
       "      <td>-</td>\n",
       "      <td>-</td>\n",
       "      <td>-</td>\n",
       "      <td>-</td>\n",
       "      <td>-</td>\n",
       "      <td>-</td>\n",
       "      <td>-</td>\n",
       "      <td>-</td>\n",
       "      <td>-</td>\n",
       "      <td>-</td>\n",
       "      <td>-</td>\n",
       "      <td>-</td>\n",
       "      <td>-</td>\n",
       "      <td>-</td>\n",
       "      <td>-</td>\n",
       "      <td>-</td>\n",
       "      <td>-</td>\n",
       "      <td>-</td>\n",
       "      <td>-</td>\n",
       "      <td>-</td>\n",
       "      <td>-</td>\n",
       "      <td>-</td>\n",
       "      <td>-</td>\n",
       "      <td>-</td>\n",
       "      <td>-</td>\n",
       "      <td>-</td>\n",
       "      <td>-</td>\n",
       "      <td>-</td>\n",
       "      <td>-</td>\n",
       "      <td>-</td>\n",
       "      <td>-</td>\n",
       "      <td>-</td>\n",
       "      <td>-</td>\n",
       "      <td>-</td>\n",
       "      <td>-</td>\n",
       "      <td>-</td>\n",
       "      <td>-</td>\n",
       "      <td>-</td>\n",
       "      <td>-</td>\n",
       "      <td>-</td>\n",
       "      <td>-</td>\n",
       "      <td>-</td>\n",
       "      <td>-</td>\n",
       "      <td>-</td>\n",
       "      <td>-</td>\n",
       "      <td>-</td>\n",
       "      <td>-</td>\n",
       "      <td>-</td>\n",
       "      <td>-</td>\n",
       "      <td>-</td>\n",
       "      <td>-</td>\n",
       "      <td>-</td>\n",
       "      <td>-</td>\n",
       "      <td>-</td>\n",
       "      <td>-</td>\n",
       "      <td>-</td>\n",
       "      <td>-</td>\n",
       "      <td>-</td>\n",
       "      <td>-</td>\n",
       "      <td>-</td>\n",
       "      <td>-</td>\n",
       "      <td>-</td>\n",
       "      <td>-</td>\n",
       "      <td>-</td>\n",
       "      <td>-</td>\n",
       "      <td>-</td>\n",
       "      <td>-</td>\n",
       "      <td>-</td>\n",
       "      <td>-</td>\n",
       "      <td>-</td>\n",
       "      <td>-</td>\n",
       "      <td>-</td>\n",
       "      <td>-</td>\n",
       "      <td>-</td>\n",
       "      <td>-</td>\n",
       "      <td>-</td>\n",
       "      <td>-</td>\n",
       "      <td>-</td>\n",
       "      <td>-</td>\n",
       "      <td>-</td>\n",
       "      <td>-</td>\n",
       "      <td>-</td>\n",
       "      <td>-</td>\n",
       "      <td>-</td>\n",
       "      <td>-</td>\n",
       "      <td>-</td>\n",
       "      <td>-</td>\n",
       "      <td>-</td>\n",
       "      <td>-</td>\n",
       "      <td>-</td>\n",
       "      <td>-</td>\n",
       "      <td>-</td>\n",
       "      <td>-</td>\n",
       "      <td>-</td>\n",
       "      <td>-</td>\n",
       "      <td>-</td>\n",
       "      <td>-</td>\n",
       "      <td>-</td>\n",
       "      <td>-</td>\n",
       "      <td>-</td>\n",
       "      <td>-</td>\n",
       "      <td>-</td>\n",
       "      <td>-</td>\n",
       "      <td>-</td>\n",
       "      <td>-</td>\n",
       "      <td>-</td>\n",
       "      <td>-</td>\n",
       "      <td>-</td>\n",
       "      <td>-</td>\n",
       "      <td>-</td>\n",
       "      <td>-</td>\n",
       "      <td>-</td>\n",
       "      <td>-</td>\n",
       "      <td>-</td>\n",
       "      <td>-</td>\n",
       "      <td>-</td>\n",
       "      <td>-</td>\n",
       "      <td>-</td>\n",
       "      <td>-</td>\n",
       "      <td>-</td>\n",
       "      <td>-</td>\n",
       "      <td>-</td>\n",
       "      <td>-</td>\n",
       "      <td>-</td>\n",
       "      <td>-</td>\n",
       "      <td>-</td>\n",
       "      <td>-</td>\n",
       "      <td>-</td>\n",
       "      <td>-</td>\n",
       "      <td>-</td>\n",
       "      <td>-</td>\n",
       "      <td>-</td>\n",
       "      <td>-</td>\n",
       "      <td>-</td>\n",
       "      <td>-</td>\n",
       "      <td>-</td>\n",
       "      <td>-</td>\n",
       "      <td>-</td>\n",
       "      <td>-</td>\n",
       "      <td>-</td>\n",
       "      <td>-</td>\n",
       "      <td>-</td>\n",
       "      <td>-</td>\n",
       "      <td>-</td>\n",
       "      <td>-</td>\n",
       "      <td>-</td>\n",
       "      <td>-</td>\n",
       "      <td>-</td>\n",
       "      <td>-</td>\n",
       "      <td>-</td>\n",
       "      <td>-</td>\n",
       "      <td>-</td>\n",
       "      <td>-</td>\n",
       "      <td>-</td>\n",
       "      <td>-</td>\n",
       "      <td>-</td>\n",
       "      <td>-</td>\n",
       "      <td>-</td>\n",
       "      <td>-</td>\n",
       "      <td>-</td>\n",
       "      <td>-</td>\n",
       "      <td>-</td>\n",
       "      <td>-</td>\n",
       "      <td>-</td>\n",
       "      <td>-</td>\n",
       "      <td>-</td>\n",
       "      <td>-</td>\n",
       "      <td>-</td>\n",
       "      <td>-</td>\n",
       "      <td>-</td>\n",
       "      <td>-</td>\n",
       "      <td>-</td>\n",
       "      <td>-</td>\n",
       "      <td>-</td>\n",
       "      <td>-</td>\n",
       "      <td>-</td>\n",
       "      <td>-</td>\n",
       "      <td>-</td>\n",
       "      <td>-</td>\n",
       "      <td>-</td>\n",
       "      <td>-</td>\n",
       "      <td>-</td>\n",
       "      <td>-</td>\n",
       "      <td>-</td>\n",
       "      <td>-</td>\n",
       "      <td>-</td>\n",
       "      <td>-</td>\n",
       "      <td>-</td>\n",
       "      <td>-</td>\n",
       "      <td>-</td>\n",
       "      <td>-</td>\n",
       "      <td>-</td>\n",
       "      <td>-</td>\n",
       "      <td>-</td>\n",
       "      <td>-</td>\n",
       "      <td>-</td>\n",
       "      <td>-</td>\n",
       "      <td>-</td>\n",
       "      <td>-</td>\n",
       "      <td>-</td>\n",
       "      <td>-</td>\n",
       "      <td>-</td>\n",
       "      <td>-</td>\n",
       "      <td>-</td>\n",
       "      <td>-</td>\n",
       "      <td>-</td>\n",
       "      <td>-</td>\n",
       "      <td>-</td>\n",
       "      <td>-</td>\n",
       "      <td>-</td>\n",
       "      <td>-</td>\n",
       "      <td>-</td>\n",
       "      <td>-</td>\n",
       "      <td>-</td>\n",
       "      <td>-</td>\n",
       "      <td>-</td>\n",
       "      <td>-</td>\n",
       "      <td>-</td>\n",
       "      <td>-</td>\n",
       "      <td>-</td>\n",
       "      <td>-</td>\n",
       "      <td>-</td>\n",
       "      <td>-</td>\n",
       "      <td>-</td>\n",
       "      <td>-</td>\n",
       "      <td>-</td>\n",
       "      <td>-</td>\n",
       "      <td>-</td>\n",
       "      <td>-</td>\n",
       "      <td>-</td>\n",
       "      <td>-</td>\n",
       "      <td>-</td>\n",
       "      <td>-</td>\n",
       "      <td>-</td>\n",
       "      <td>-</td>\n",
       "      <td>-</td>\n",
       "      <td>-</td>\n",
       "      <td>-</td>\n",
       "      <td>-</td>\n",
       "      <td>-</td>\n",
       "      <td>-</td>\n",
       "      <td>-</td>\n",
       "      <td>-</td>\n",
       "      <td>-</td>\n",
       "      <td>-</td>\n",
       "      <td>-</td>\n",
       "      <td>-</td>\n",
       "      <td>-</td>\n",
       "      <td>-</td>\n",
       "      <td>-</td>\n",
       "      <td>-</td>\n",
       "      <td>-</td>\n",
       "      <td>-</td>\n",
       "      <td>-</td>\n",
       "      <td>-</td>\n",
       "      <td>-</td>\n",
       "      <td>-</td>\n",
       "      <td>-</td>\n",
       "      <td>-</td>\n",
       "      <td>-</td>\n",
       "      <td>-</td>\n",
       "      <td>-</td>\n",
       "      <td>-</td>\n",
       "      <td>-</td>\n",
       "      <td>-</td>\n",
       "      <td>-</td>\n",
       "      <td>-</td>\n",
       "      <td>-</td>\n",
       "      <td>-</td>\n",
       "      <td>-</td>\n",
       "      <td>-</td>\n",
       "      <td>-</td>\n",
       "      <td>-</td>\n",
       "      <td>-</td>\n",
       "      <td>-</td>\n",
       "      <td>-</td>\n",
       "      <td>-</td>\n",
       "      <td>-</td>\n",
       "      <td>-</td>\n",
       "      <td>-</td>\n",
       "      <td>-</td>\n",
       "      <td>-</td>\n",
       "      <td>-</td>\n",
       "      <td>-</td>\n",
       "      <td>-</td>\n",
       "      <td>-</td>\n",
       "      <td>-</td>\n",
       "      <td>-</td>\n",
       "      <td>-</td>\n",
       "      <td>-</td>\n",
       "      <td>-</td>\n",
       "      <td>-</td>\n",
       "      <td>-</td>\n",
       "      <td>-</td>\n",
       "      <td>-</td>\n",
       "      <td>-</td>\n",
       "      <td>-</td>\n",
       "      <td>-</td>\n",
       "      <td>-</td>\n",
       "      <td>-</td>\n",
       "      <td>-</td>\n",
       "      <td>-</td>\n",
       "      <td>-</td>\n",
       "      <td>-</td>\n",
       "      <td>-</td>\n",
       "      <td>-</td>\n",
       "      <td>-</td>\n",
       "      <td>-</td>\n",
       "      <td>-</td>\n",
       "      <td>-</td>\n",
       "      <td>-</td>\n",
       "      <td>-</td>\n",
       "      <td>-</td>\n",
       "      <td>-</td>\n",
       "      <td>-</td>\n",
       "      <td>-</td>\n",
       "      <td>-</td>\n",
       "      <td>-</td>\n",
       "      <td>-</td>\n",
       "      <td>-</td>\n",
       "      <td>-</td>\n",
       "      <td>-</td>\n",
       "      <td>-</td>\n",
       "      <td>-</td>\n",
       "      <td>-</td>\n",
       "      <td>-</td>\n",
       "      <td>-</td>\n",
       "      <td>-</td>\n",
       "      <td>-</td>\n",
       "      <td>-</td>\n",
       "      <td>-</td>\n",
       "      <td>-</td>\n",
       "      <td>-</td>\n",
       "      <td>-</td>\n",
       "      <td>-</td>\n",
       "    </tr>\n",
       "    <tr>\n",
       "      <th>1</th>\n",
       "      <td>885</td>\n",
       "      <td>885.23andme-exome-vcf.994</td>\n",
       "      <td>1982</td>\n",
       "      <td>XY</td>\n",
       "      <td>-</td>\n",
       "      <td>-</td>\n",
       "      <td>-</td>\n",
       "      <td>-</td>\n",
       "      <td>-</td>\n",
       "      <td>-</td>\n",
       "      <td>-</td>\n",
       "      <td>-</td>\n",
       "      <td>-</td>\n",
       "      <td>-</td>\n",
       "      <td>-</td>\n",
       "      <td>-</td>\n",
       "      <td>-</td>\n",
       "      <td>-</td>\n",
       "      <td>-</td>\n",
       "      <td>-</td>\n",
       "      <td>-</td>\n",
       "      <td>-</td>\n",
       "      <td>-</td>\n",
       "      <td>-</td>\n",
       "      <td>-</td>\n",
       "      <td>-</td>\n",
       "      <td>-</td>\n",
       "      <td>-</td>\n",
       "      <td>-</td>\n",
       "      <td>-</td>\n",
       "      <td>-</td>\n",
       "      <td>-</td>\n",
       "      <td>-</td>\n",
       "      <td>-</td>\n",
       "      <td>-</td>\n",
       "      <td>-</td>\n",
       "      <td>-</td>\n",
       "      <td>-</td>\n",
       "      <td>-</td>\n",
       "      <td>-</td>\n",
       "      <td>-</td>\n",
       "      <td>-</td>\n",
       "      <td>-</td>\n",
       "      <td>-</td>\n",
       "      <td>-</td>\n",
       "      <td>-</td>\n",
       "      <td>-</td>\n",
       "      <td>-</td>\n",
       "      <td>-</td>\n",
       "      <td>-</td>\n",
       "      <td>-</td>\n",
       "      <td>-</td>\n",
       "      <td>-</td>\n",
       "      <td>-</td>\n",
       "      <td>-</td>\n",
       "      <td>-</td>\n",
       "      <td>-</td>\n",
       "      <td>-</td>\n",
       "      <td>-</td>\n",
       "      <td>-</td>\n",
       "      <td>-</td>\n",
       "      <td>-</td>\n",
       "      <td>-</td>\n",
       "      <td>-</td>\n",
       "      <td>-</td>\n",
       "      <td>-</td>\n",
       "      <td>-</td>\n",
       "      <td>-</td>\n",
       "      <td>-</td>\n",
       "      <td>-</td>\n",
       "      <td>-</td>\n",
       "      <td>-</td>\n",
       "      <td>-</td>\n",
       "      <td>-</td>\n",
       "      <td>-</td>\n",
       "      <td>-</td>\n",
       "      <td>-</td>\n",
       "      <td>-</td>\n",
       "      <td>-</td>\n",
       "      <td>-</td>\n",
       "      <td>-</td>\n",
       "      <td>-</td>\n",
       "      <td>-</td>\n",
       "      <td>-</td>\n",
       "      <td>-</td>\n",
       "      <td>-</td>\n",
       "      <td>-</td>\n",
       "      <td>-</td>\n",
       "      <td>-</td>\n",
       "      <td>-</td>\n",
       "      <td>-</td>\n",
       "      <td>-</td>\n",
       "      <td>-</td>\n",
       "      <td>-</td>\n",
       "      <td>-</td>\n",
       "      <td>-</td>\n",
       "      <td>-</td>\n",
       "      <td>-</td>\n",
       "      <td>-</td>\n",
       "      <td>-</td>\n",
       "      <td>-</td>\n",
       "      <td>-</td>\n",
       "      <td>-</td>\n",
       "      <td>-</td>\n",
       "      <td>-</td>\n",
       "      <td>-</td>\n",
       "      <td>-</td>\n",
       "      <td>-</td>\n",
       "      <td>-</td>\n",
       "      <td>-</td>\n",
       "      <td>-</td>\n",
       "      <td>-</td>\n",
       "      <td>-</td>\n",
       "      <td>-</td>\n",
       "      <td>-</td>\n",
       "      <td>-</td>\n",
       "      <td>-</td>\n",
       "      <td>-</td>\n",
       "      <td>-</td>\n",
       "      <td>-</td>\n",
       "      <td>-</td>\n",
       "      <td>-</td>\n",
       "      <td>-</td>\n",
       "      <td>-</td>\n",
       "      <td>-</td>\n",
       "      <td>-</td>\n",
       "      <td>-</td>\n",
       "      <td>-</td>\n",
       "      <td>-</td>\n",
       "      <td>-</td>\n",
       "      <td>-</td>\n",
       "      <td>-</td>\n",
       "      <td>-</td>\n",
       "      <td>-</td>\n",
       "      <td>-</td>\n",
       "      <td>-</td>\n",
       "      <td>-</td>\n",
       "      <td>-</td>\n",
       "      <td>-</td>\n",
       "      <td>-</td>\n",
       "      <td>-</td>\n",
       "      <td>-</td>\n",
       "      <td>-</td>\n",
       "      <td>-</td>\n",
       "      <td>-</td>\n",
       "      <td>-</td>\n",
       "      <td>-</td>\n",
       "      <td>-</td>\n",
       "      <td>-</td>\n",
       "      <td>-</td>\n",
       "      <td>-</td>\n",
       "      <td>-</td>\n",
       "      <td>-</td>\n",
       "      <td>-</td>\n",
       "      <td>-</td>\n",
       "      <td>-</td>\n",
       "      <td>-</td>\n",
       "      <td>-</td>\n",
       "      <td>-</td>\n",
       "      <td>-</td>\n",
       "      <td>-</td>\n",
       "      <td>-</td>\n",
       "      <td>-</td>\n",
       "      <td>-</td>\n",
       "      <td>-</td>\n",
       "      <td>-</td>\n",
       "      <td>-</td>\n",
       "      <td>-</td>\n",
       "      <td>-</td>\n",
       "      <td>-</td>\n",
       "      <td>-</td>\n",
       "      <td>-</td>\n",
       "      <td>-</td>\n",
       "      <td>-</td>\n",
       "      <td>-</td>\n",
       "      <td>-</td>\n",
       "      <td>-</td>\n",
       "      <td>-</td>\n",
       "      <td>-</td>\n",
       "      <td>-</td>\n",
       "      <td>-</td>\n",
       "      <td>-</td>\n",
       "      <td>-</td>\n",
       "      <td>-</td>\n",
       "      <td>-</td>\n",
       "      <td>-</td>\n",
       "      <td>-</td>\n",
       "      <td>-</td>\n",
       "      <td>-</td>\n",
       "      <td>-</td>\n",
       "      <td>-</td>\n",
       "      <td>-</td>\n",
       "      <td>-</td>\n",
       "      <td>-</td>\n",
       "      <td>-</td>\n",
       "      <td>Right-handed</td>\n",
       "      <td>-</td>\n",
       "      <td>-</td>\n",
       "      <td>-</td>\n",
       "      <td>-</td>\n",
       "      <td>-</td>\n",
       "      <td>-</td>\n",
       "      <td>-</td>\n",
       "      <td>-</td>\n",
       "      <td>-</td>\n",
       "      <td>-</td>\n",
       "      <td>-</td>\n",
       "      <td>-</td>\n",
       "      <td>-</td>\n",
       "      <td>-</td>\n",
       "      <td>-</td>\n",
       "      <td>-</td>\n",
       "      <td>-</td>\n",
       "      <td>-</td>\n",
       "      <td>-</td>\n",
       "      <td>-</td>\n",
       "      <td>-</td>\n",
       "      <td>-</td>\n",
       "      <td>-</td>\n",
       "      <td>-</td>\n",
       "      <td>-</td>\n",
       "      <td>-</td>\n",
       "      <td>-</td>\n",
       "      <td>-</td>\n",
       "      <td>-</td>\n",
       "      <td>-</td>\n",
       "      <td>-</td>\n",
       "      <td>-</td>\n",
       "      <td>-</td>\n",
       "      <td>-</td>\n",
       "      <td>-</td>\n",
       "      <td>-</td>\n",
       "      <td>-</td>\n",
       "      <td>-</td>\n",
       "      <td>-</td>\n",
       "      <td>-</td>\n",
       "      <td>-</td>\n",
       "      <td>-</td>\n",
       "      <td>-</td>\n",
       "      <td>-</td>\n",
       "      <td>-</td>\n",
       "      <td>-</td>\n",
       "      <td>-</td>\n",
       "      <td>-</td>\n",
       "      <td>-</td>\n",
       "      <td>-</td>\n",
       "      <td>-</td>\n",
       "      <td>-</td>\n",
       "      <td>-</td>\n",
       "      <td>-</td>\n",
       "      <td>-</td>\n",
       "      <td>-</td>\n",
       "      <td>-</td>\n",
       "      <td>-</td>\n",
       "      <td>-</td>\n",
       "      <td>-</td>\n",
       "      <td>-</td>\n",
       "      <td>-</td>\n",
       "      <td>-</td>\n",
       "      <td>-</td>\n",
       "      <td>-</td>\n",
       "      <td>-</td>\n",
       "      <td>-</td>\n",
       "      <td>-</td>\n",
       "      <td>-</td>\n",
       "      <td>-</td>\n",
       "      <td>-</td>\n",
       "      <td>-</td>\n",
       "      <td>-</td>\n",
       "      <td>-</td>\n",
       "      <td>-</td>\n",
       "      <td>-</td>\n",
       "      <td>-</td>\n",
       "      <td>-</td>\n",
       "      <td>-</td>\n",
       "      <td>-</td>\n",
       "      <td>-</td>\n",
       "      <td>-</td>\n",
       "      <td>-</td>\n",
       "      <td>-</td>\n",
       "      <td>-</td>\n",
       "      <td>-</td>\n",
       "      <td>-</td>\n",
       "      <td>-</td>\n",
       "      <td>-</td>\n",
       "      <td>-</td>\n",
       "      <td>-</td>\n",
       "      <td>-</td>\n",
       "      <td>-</td>\n",
       "      <td>-</td>\n",
       "      <td>-</td>\n",
       "      <td>-</td>\n",
       "      <td>-</td>\n",
       "      <td>-</td>\n",
       "      <td>-</td>\n",
       "      <td>-</td>\n",
       "      <td>-</td>\n",
       "      <td>-</td>\n",
       "      <td>-</td>\n",
       "      <td>-</td>\n",
       "      <td>-</td>\n",
       "      <td>-</td>\n",
       "      <td>-</td>\n",
       "      <td>-</td>\n",
       "      <td>-</td>\n",
       "      <td>-</td>\n",
       "      <td>-</td>\n",
       "      <td>-</td>\n",
       "      <td>-</td>\n",
       "      <td>-</td>\n",
       "      <td>-</td>\n",
       "      <td>-</td>\n",
       "      <td>-</td>\n",
       "      <td>-</td>\n",
       "      <td>-</td>\n",
       "      <td>-</td>\n",
       "      <td>-</td>\n",
       "      <td>-</td>\n",
       "      <td>-</td>\n",
       "      <td>-</td>\n",
       "      <td>-</td>\n",
       "      <td>-</td>\n",
       "      <td>-</td>\n",
       "      <td>-</td>\n",
       "      <td>-</td>\n",
       "      <td>-</td>\n",
       "      <td>-</td>\n",
       "      <td>-</td>\n",
       "      <td>-</td>\n",
       "      <td>-</td>\n",
       "      <td>-</td>\n",
       "      <td>-</td>\n",
       "      <td>-</td>\n",
       "      <td>-</td>\n",
       "      <td>-</td>\n",
       "      <td>-</td>\n",
       "      <td>-</td>\n",
       "      <td>-</td>\n",
       "      <td>-</td>\n",
       "      <td>-</td>\n",
       "      <td>-</td>\n",
       "      <td>-</td>\n",
       "      <td>-</td>\n",
       "      <td>-</td>\n",
       "      <td>-</td>\n",
       "      <td>-</td>\n",
       "      <td>-</td>\n",
       "      <td>-</td>\n",
       "      <td>-</td>\n",
       "      <td>-</td>\n",
       "      <td>-</td>\n",
       "      <td>-</td>\n",
       "      <td>-</td>\n",
       "      <td>-</td>\n",
       "      <td>-</td>\n",
       "      <td>-</td>\n",
       "      <td>-</td>\n",
       "      <td>-</td>\n",
       "      <td>-</td>\n",
       "      <td>-</td>\n",
       "      <td>-</td>\n",
       "      <td>-</td>\n",
       "      <td>-</td>\n",
       "      <td>-</td>\n",
       "      <td>-</td>\n",
       "      <td>-</td>\n",
       "      <td>-</td>\n",
       "      <td>-</td>\n",
       "      <td>-</td>\n",
       "      <td>-</td>\n",
       "      <td>-</td>\n",
       "      <td>-</td>\n",
       "      <td>-</td>\n",
       "      <td>-</td>\n",
       "      <td>-</td>\n",
       "      <td>-</td>\n",
       "      <td>-</td>\n",
       "      <td>-</td>\n",
       "      <td>-</td>\n",
       "      <td>-</td>\n",
       "      <td>-</td>\n",
       "      <td>-</td>\n",
       "      <td>-</td>\n",
       "      <td>-</td>\n",
       "      <td>-</td>\n",
       "      <td>-</td>\n",
       "      <td>-</td>\n",
       "      <td>-</td>\n",
       "      <td>-</td>\n",
       "      <td>-</td>\n",
       "      <td>-</td>\n",
       "      <td>-</td>\n",
       "      <td>-</td>\n",
       "      <td>-</td>\n",
       "      <td>-</td>\n",
       "      <td>-</td>\n",
       "      <td>-</td>\n",
       "      <td>-</td>\n",
       "      <td>-</td>\n",
       "      <td>-</td>\n",
       "      <td>-</td>\n",
       "      <td>-</td>\n",
       "      <td>-</td>\n",
       "      <td>-</td>\n",
       "      <td>-</td>\n",
       "      <td>-</td>\n",
       "      <td>-</td>\n",
       "      <td>-</td>\n",
       "      <td>-</td>\n",
       "      <td>-</td>\n",
       "      <td>-</td>\n",
       "      <td>-</td>\n",
       "      <td>-</td>\n",
       "      <td>-</td>\n",
       "      <td>-</td>\n",
       "      <td>-</td>\n",
       "      <td>-</td>\n",
       "      <td>-</td>\n",
       "      <td>-</td>\n",
       "      <td>-</td>\n",
       "      <td>-</td>\n",
       "      <td>-</td>\n",
       "      <td>-</td>\n",
       "      <td>-</td>\n",
       "      <td>-</td>\n",
       "      <td>-</td>\n",
       "      <td>-</td>\n",
       "      <td>-</td>\n",
       "      <td>-</td>\n",
       "      <td>-</td>\n",
       "      <td>-</td>\n",
       "      <td>-</td>\n",
       "      <td>-</td>\n",
       "      <td>-</td>\n",
       "      <td>-</td>\n",
       "      <td>-</td>\n",
       "      <td>-</td>\n",
       "      <td>-</td>\n",
       "      <td>-</td>\n",
       "      <td>-</td>\n",
       "      <td>-</td>\n",
       "      <td>-</td>\n",
       "      <td>-</td>\n",
       "      <td>-</td>\n",
       "      <td>-</td>\n",
       "      <td>-</td>\n",
       "      <td>-</td>\n",
       "      <td>-</td>\n",
       "      <td>-</td>\n",
       "      <td>-</td>\n",
       "      <td>-</td>\n",
       "      <td>-</td>\n",
       "      <td>-</td>\n",
       "      <td>-</td>\n",
       "      <td>-</td>\n",
       "      <td>-</td>\n",
       "      <td>-</td>\n",
       "      <td>-</td>\n",
       "      <td>-</td>\n",
       "      <td>-</td>\n",
       "      <td>-</td>\n",
       "      <td>-</td>\n",
       "      <td>-</td>\n",
       "      <td>-</td>\n",
       "      <td>-</td>\n",
       "      <td>-</td>\n",
       "      <td>-</td>\n",
       "      <td>-</td>\n",
       "      <td>-</td>\n",
       "      <td>-</td>\n",
       "      <td>-</td>\n",
       "      <td>-</td>\n",
       "      <td>-</td>\n",
       "      <td>-</td>\n",
       "      <td>-</td>\n",
       "      <td>-</td>\n",
       "      <td>-</td>\n",
       "      <td>-</td>\n",
       "      <td>-</td>\n",
       "      <td>-</td>\n",
       "      <td>-</td>\n",
       "      <td>-</td>\n",
       "      <td>-</td>\n",
       "      <td>-</td>\n",
       "      <td>-</td>\n",
       "      <td>-</td>\n",
       "      <td>-</td>\n",
       "      <td>-</td>\n",
       "      <td>-</td>\n",
       "      <td>-</td>\n",
       "      <td>-</td>\n",
       "      <td>-</td>\n",
       "      <td>-</td>\n",
       "      <td>-</td>\n",
       "      <td>-</td>\n",
       "      <td>-</td>\n",
       "      <td>-</td>\n",
       "      <td>-</td>\n",
       "      <td>-</td>\n",
       "      <td>-</td>\n",
       "      <td>-</td>\n",
       "      <td>-</td>\n",
       "      <td>Male</td>\n",
       "      <td>-</td>\n",
       "      <td>-</td>\n",
       "      <td>-</td>\n",
       "      <td>-</td>\n",
       "      <td>-</td>\n",
       "      <td>-</td>\n",
       "      <td>-</td>\n",
       "      <td>-</td>\n",
       "      <td>-</td>\n",
       "      <td>-</td>\n",
       "      <td>-</td>\n",
       "      <td>-</td>\n",
       "      <td>-</td>\n",
       "      <td>-</td>\n",
       "      <td>-</td>\n",
       "      <td>-</td>\n",
       "      <td>-</td>\n",
       "      <td>6'</td>\n",
       "      <td>-</td>\n",
       "      <td>-</td>\n",
       "      <td>-</td>\n",
       "      <td>-</td>\n",
       "      <td>-</td>\n",
       "      <td>-</td>\n",
       "      <td>-</td>\n",
       "      <td>-</td>\n",
       "      <td>-</td>\n",
       "      <td>-</td>\n",
       "      <td>-</td>\n",
       "      <td>-</td>\n",
       "      <td>-</td>\n",
       "      <td>-</td>\n",
       "      <td>-</td>\n",
       "      <td>-</td>\n",
       "      <td>-</td>\n",
       "      <td>-</td>\n",
       "      <td>-</td>\n",
       "      <td>-</td>\n",
       "      <td>-</td>\n",
       "      <td>-</td>\n",
       "      <td>-</td>\n",
       "      <td>-</td>\n",
       "      <td>-</td>\n",
       "      <td>-</td>\n",
       "      <td>-</td>\n",
       "      <td>-</td>\n",
       "      <td>-</td>\n",
       "      <td>-</td>\n",
       "      <td>-</td>\n",
       "      <td>-</td>\n",
       "      <td>-</td>\n",
       "      <td>-</td>\n",
       "      <td>-</td>\n",
       "      <td>-</td>\n",
       "      <td>-</td>\n",
       "      <td>-</td>\n",
       "      <td>-</td>\n",
       "      <td>-</td>\n",
       "      <td>-</td>\n",
       "      <td>-</td>\n",
       "      <td>-</td>\n",
       "      <td>-</td>\n",
       "      <td>-</td>\n",
       "      <td>-</td>\n",
       "      <td>-</td>\n",
       "      <td>-</td>\n",
       "      <td>-</td>\n",
       "      <td>-</td>\n",
       "      <td>-</td>\n",
       "      <td>-</td>\n",
       "      <td>-</td>\n",
       "      <td>-</td>\n",
       "      <td>-</td>\n",
       "      <td>-</td>\n",
       "      <td>-</td>\n",
       "      <td>-</td>\n",
       "      <td>-</td>\n",
       "      <td>-</td>\n",
       "      <td>-</td>\n",
       "      <td>-</td>\n",
       "      <td>-</td>\n",
       "      <td>-</td>\n",
       "      <td>-</td>\n",
       "      <td>-</td>\n",
       "      <td>-</td>\n",
       "      <td>-</td>\n",
       "      <td>-</td>\n",
       "      <td>-</td>\n",
       "      <td>-</td>\n",
       "      <td>-</td>\n",
       "      <td>-</td>\n",
       "      <td>-</td>\n",
       "      <td>-</td>\n",
       "      <td>-</td>\n",
       "      <td>-</td>\n",
       "      <td>-</td>\n",
       "      <td>-</td>\n",
       "      <td>-</td>\n",
       "      <td>-</td>\n",
       "      <td>-</td>\n",
       "      <td>-</td>\n",
       "      <td>-</td>\n",
       "      <td>-</td>\n",
       "      <td>-</td>\n",
       "      <td>-</td>\n",
       "      <td>-</td>\n",
       "      <td>-</td>\n",
       "      <td>-</td>\n",
       "      <td>-</td>\n",
       "      <td>-</td>\n",
       "      <td>-</td>\n",
       "      <td>-</td>\n",
       "      <td>-</td>\n",
       "      <td>-</td>\n",
       "      <td>-</td>\n",
       "      <td>-</td>\n",
       "      <td>-</td>\n",
       "      <td>-</td>\n",
       "      <td>-</td>\n",
       "      <td>-</td>\n",
       "      <td>-</td>\n",
       "      <td>-</td>\n",
       "      <td>-</td>\n",
       "      <td>-</td>\n",
       "      <td>-</td>\n",
       "      <td>-</td>\n",
       "      <td>-</td>\n",
       "      <td>-</td>\n",
       "      <td>-</td>\n",
       "      <td>-</td>\n",
       "      <td>-</td>\n",
       "      <td>-</td>\n",
       "      <td>-</td>\n",
       "      <td>-</td>\n",
       "      <td>-</td>\n",
       "      <td>-</td>\n",
       "      <td>-</td>\n",
       "      <td>-</td>\n",
       "      <td>-</td>\n",
       "      <td>-</td>\n",
       "      <td>-</td>\n",
       "      <td>-</td>\n",
       "      <td>-</td>\n",
       "      <td>-</td>\n",
       "      <td>-</td>\n",
       "      <td>-</td>\n",
       "      <td>-</td>\n",
       "    </tr>\n",
       "  </tbody>\n",
       "</table>\n",
       "</div>"
      ],
      "text/plain": [
       "   user_id          genotype_filename   date_of_birth       chrom_sex  \\\n",
       "0     4134          4134.23andme.2800  rather not say  rather not say   \n",
       "1      885  885.23andme-exome-vcf.994            1982              XY   \n",
       "\n",
       "  openhumans_name Retrognathia (Marfan Syndrome) Eye pigmentation   \\\n",
       "0               -                              -                 -   \n",
       "1               -                              -                 -   \n",
       "\n",
       "  Vegetarianism/Preference for Meat Form of foot Eye color A+ MSG tastes...  \\\n",
       "0                                 -            -         -  -             -   \n",
       "1                                 -            -         -  -             -   \n",
       "\n",
       "  Boldness type Lynch Syndrome Early Onset Heart Disease black  \\\n",
       "0             -              -                         -     -   \n",
       "1             -              -                         -     -   \n",
       "\n",
       "  Interstitial cystitis Jewish Ancestry Response to Enbrel  \\\n",
       "0                     -               -                  -   \n",
       "1                     -               -                  -   \n",
       "\n",
       "  Bicuspid aortic valve Hemochromotosis ACT science Hypomagnesemia ACT math  \\\n",
       "0                     -               -           -              -        -   \n",
       "1                     -               -           -              -        -   \n",
       "\n",
       "  12 Prolapsed Organ vi/vim or Emacs Heart Problems - Long QT Syndrome  \\\n",
       "0  -               -               -                                 -   \n",
       "1  -               -               -                                 -   \n",
       "\n",
       "  chronically sore neck glands Urticaria R1b1a2a1a1b ACT reading Cramps  \\\n",
       "0                            -         -           -           -      -   \n",
       "1                            -         -           -           -      -   \n",
       "\n",
       "  Number of Neanderthal variants Dental decay  \\\n",
       "0                              -            -   \n",
       "1                              -            -   \n",
       "\n",
       "  Miscarriage/Spontaneous Abortion Thrombosis  \\\n",
       "0                                -          -   \n",
       "1                                -          -   \n",
       "\n",
       "  Resistance To Infectious Disease Enhanced Hippocampal Volume  \\\n",
       "0                                -                           -   \n",
       "1                                -                           -   \n",
       "\n",
       "  Significantly increased Risk of Heart Disease Amount of Body Hair (Male)  \\\n",
       "0                                             -                          -   \n",
       "1                                             -                          -   \n",
       "\n",
       "  Morton's Toe Pressure Sensitivity of the Ear  \\\n",
       "0            -                               -   \n",
       "1            -                               -   \n",
       "\n",
       "  Dolichocephaly: Disproportionately Long, Narrow Head &  Neanderthal rs12416000(A;G)  \\\n",
       "0                                                  -                                    \n",
       "1                                                  -                                    \n",
       "\n",
       "  Neanderthal Webbed toes Thyroid Issues/Cancer Purposefulness   \\\n",
       "0           -           -                     -               -   \n",
       "1           -           -                     -               -   \n",
       "\n",
       "  Right Atrial Enlargement mtDNA Haplogroup (PhyloTree) Lactose intolerance  \\\n",
       "0                        -                            -                   -   \n",
       "1                        -                            -                   -   \n",
       "\n",
       "  Light-skinned, European Ancestry (rs14256654)  \\\n",
       "0                                             -   \n",
       "1                                             -   \n",
       "\n",
       "  Fainting Upon Seeing Blood/Gore/Violence Erythromycin allergy  \\\n",
       "0                                        -                    -   \n",
       "1                                        -                    -   \n",
       "\n",
       "  Crohn's Disease +rs2241880 ethnicity Interests-General  \\\n",
       "0                          -         -                 -   \n",
       "1                          -         -                 -   \n",
       "\n",
       "  Increased Risk of GYN, Head & Neck Cancers (mutation on RNASEL Gene ~ Cancer Marker)  \\\n",
       "0                                                  -                                     \n",
       "1                                                  -                                     \n",
       "\n",
       "  Premature Atrial Contractions Reduced MAO-A Activity  \\\n",
       "0                             -                      -   \n",
       "1                             -                      -   \n",
       "\n",
       "  Hidradenitis Supperativa Scottish Ancestry Welsh Ancestry  \\\n",
       "0                        -                 -              -   \n",
       "1                        -                 -              -   \n",
       "\n",
       "  nosebleeds as a child Hair and eye color Brown  \\\n",
       "0                     -                        -   \n",
       "1                     -                        -   \n",
       "\n",
       "  Mitral Insufficiency (Regurgitation) Left Ventricular Hypertrophy  \\\n",
       "0                                    -                            -   \n",
       "1                                    -                            -   \n",
       "\n",
       "  ABH Blood Group (antigens)  black skin,O+,hair Black,Eye color Brown,  \\\n",
       "0                           -                                         -   \n",
       "1                           -                                         -   \n",
       "\n",
       "  Photic Sneeze Reflex (Photoptarmis) ENTP  \\\n",
       "0                                   -    -   \n",
       "1                                   -    -   \n",
       "\n",
       "  Tricuspid Insufficiency (Regurgitation) Weight  \\\n",
       "0                                       -      -   \n",
       "1                                       -      -   \n",
       "\n",
       "  Large tonsil crypts and tonsil stones Uterine Fibroids  AB +  \\\n",
       "0                                     -                 -    -   \n",
       "1                                     -                 -    -   \n",
       "\n",
       "  Type 2 Diabetes +rs13266634 Kell Blood Group (K/k antigens)    \\\n",
       "0                           -                                 -   \n",
       "1                           -                                 -   \n",
       "\n",
       "  MBTI (Myers Briggs) Type Throat, Stomach Cancer +rs2274223  \\\n",
       "0                        -                                 -   \n",
       "1                        -                                 -   \n",
       "\n",
       "  Nicotine dependence Thyroid Disorders +rs966423  \\\n",
       "0                   -                           -   \n",
       "1                   -                           -   \n",
       "\n",
       "  Asparagus Metabolite Detection Beard Color Sexual Preferences IQ  \\\n",
       "0                              -           -                  -  -   \n",
       "1                              -           -                  -  -   \n",
       "\n",
       "  In both the large group of people is best for you ?for you ?  \\\n",
       "0                                                  -             \n",
       "1                                                  -             \n",
       "\n",
       "  Ear - darwin's tubercle  \\\n",
       "0                       -   \n",
       "1                       -   \n",
       "\n",
       "  Unable To Metabolize Common Medications (CYP3A5 non-expressor)  \\\n",
       "0                                                  -               \n",
       "1                                                  -               \n",
       "\n",
       "  Alzheimer's Disease  Frequency of colds/flu Fibromyalgia Hedonic set point  \\\n",
       "0                    -                      -            -                 -   \n",
       "1                    -                      -            -                 -   \n",
       "\n",
       "  Otosclerosis Skin color. Ability to Tan Little fingers(pinkies)  \\\n",
       "0            -           -              -                       -   \n",
       "1            -           -              -                       -   \n",
       "\n",
       "  Response to Humira Farnsworth Munsell 100 Hue Test FBN1 Mutation  \\\n",
       "0                  -                               -             -   \n",
       "1                  -                               -             -   \n",
       "\n",
       "  CMV serostatus Aquagenic pruritus (episodes)  \\\n",
       "0              -                             -   \n",
       "1              -                             -   \n",
       "\n",
       "  Atherosclerotic Vascular Disease +rs2943634 music ear eczema  \\\n",
       "0                                           -         -      -   \n",
       "1                                           -         -      -   \n",
       "\n",
       "  How do you put your glasses down? Polycystic ovary syndrome  (pcos)  \\\n",
       "0                                 -                                 -   \n",
       "1                                 -                                 -   \n",
       "\n",
       "  Impacted Canines Primary Open Angle Glaucoma Misophonia Panic Disorder  \\\n",
       "0  Impacted molars                           -          -              -   \n",
       "1                -                           -          -              -   \n",
       "\n",
       "  Allergy to Egg Whites Acrophobia  vitiligo  Double vision  Preterm labor  \\\n",
       "0                     -          -          -              -             -   \n",
       "1                     -          -          -              -             -   \n",
       "\n",
       "  Anemic? TMJ/TMD ADHD? Subtype? Response to Metformin Autoimmune Disease  \\\n",
       "0       -       -              -                     -                  -   \n",
       "1       -       -              -                     -                  -   \n",
       "\n",
       "  Non Alcoholic Fatty Liver Social Level Supraventricuar Tachycardia  \\\n",
       "0                         -            -                           -   \n",
       "1                         -            -                           -   \n",
       "\n",
       "  dark Blonde, hazal eyes,, 165 cm Plantar fasciitis Anorgasmia  \\\n",
       "0                                -                 -          -   \n",
       "1                                -                 -          -   \n",
       "\n",
       "  maternal or mTDNA  haplogroup Supernumerary Kidney Fish Preference  \\\n",
       "0                             -                    -               -   \n",
       "1                             -                    -               -   \n",
       "\n",
       "  Looking at the world around you No headaches EVER  \\\n",
       "0                               -                 -   \n",
       "1                               -                 -   \n",
       "\n",
       "  Exercise Induced Ischemia +rs1024611 Kidd Blood Group  \\\n",
       "0                                    -                -   \n",
       "1                                    -                -   \n",
       "\n",
       "  multiple brain aneurysms adult a.d.d Alcohol Consumption (per week)  \\\n",
       "0                        -           -                              -   \n",
       "1                        -           -                              -   \n",
       "\n",
       "  Alcoholism Cigarette/Cigar Smoker Chronic cough and single CFTR mutation  \\\n",
       "0          -                      -                                      -   \n",
       "1          -                      -                                      -   \n",
       "\n",
       "  Busy Bee, Multi tasker Curiosity and love of research shoe size (US MEN)  \\\n",
       "0                      -                              -                  -   \n",
       "1                      -                              -                  -   \n",
       "\n",
       "  Mother's eye color Rain Latino Ancestry Secretor Status hair color  \\\n",
       "0                  -    -               -               -          -   \n",
       "1                  -    -               -               -          -   \n",
       "\n",
       "  impaired NSAID drug metabolism Scoliosis Third molars \"wishdom teeth\"  \\\n",
       "0                              -         -                            -   \n",
       "1                              -         -                            -   \n",
       "\n",
       "  water taste Anorexia nervosa or ednos rs429358 immune thrombocytopenia  \\\n",
       "0           -                         -        -                       -   \n",
       "1           -                         -        -                       -   \n",
       "\n",
       "  Spondyloarthropathy Oxycodone/Oxycontin Effectiveness  \\\n",
       "0                   -                                 -   \n",
       "1                   -                                 -   \n",
       "\n",
       "  parsonage-turner syndrome Toenail or fingernail fungus Arthritis  \\\n",
       "0                         -                            -         -   \n",
       "1                         -                            -         -   \n",
       "\n",
       "  Peanut butter preference Eye with Blue Halo  Serotonin transporter  \\\n",
       "0                        -                   -                     -   \n",
       "1                        -                   -                     -   \n",
       "\n",
       "  Personality Disorder test - top result Aphantasia Depression  \\\n",
       "0                                      -          -          -   \n",
       "1                                      -          -          -   \n",
       "\n",
       "  One Warrior Gene/One Non-Warrior Gene  Cocaine addiction  \\\n",
       "0                                      -                 -   \n",
       "1                                      -                 -   \n",
       "\n",
       "  Gray eyes,fair skin, dark blonde, o- blood Craves sugar Dermatofibroma  \\\n",
       "0                                          -            -              -   \n",
       "1                                          -            -              -   \n",
       "\n",
       "  Essential Tremor low appetite PICA - eating non food stuff  \\\n",
       "0                -            -                            -   \n",
       "1                -            -                            -   \n",
       "\n",
       "  introvert or extrovert Can you smell cut-grass? Cervical dysplasia / cancer  \\\n",
       "0                      -                        -                           -   \n",
       "1                      -                        -                           -   \n",
       "\n",
       "  Critical thinking CLL Carrier Medium brown skin  \\\n",
       "0                 -   -       -                 -   \n",
       "1                 -   -       -                 -   \n",
       "\n",
       "  Online Alexithymia Questionnaire  \\\n",
       "0                                -   \n",
       "1                                -   \n",
       "\n",
       "   Medium blonde, medium tone skims blood type o+  \\\n",
       "0                                               -   \n",
       "1                                               -   \n",
       "\n",
       "  OCD - Obsessive-Compulsive Disorder Blood Type: O negative  \\\n",
       "0                                   -                      -   \n",
       "1                                   -                      -   \n",
       "\n",
       "  Pseudocholinesterase deficiency Behçet's Syndrome / Disease (Behcet's)  \\\n",
       "0                               -                                      -   \n",
       "1                               -                                      -   \n",
       "\n",
       "  Father or grandfather died of Prostate Cancer  \\\n",
       "0                                             -   \n",
       "1                                             -   \n",
       "\n",
       "  EBV Epstein Barr Virus history: Infectious mononucleosis history now may be not symptomatic  \\\n",
       "0                                                  -                                            \n",
       "1                                                  -                                            \n",
       "\n",
       "  MENSA Member 33 Rh Factor: A Positive Tooth sensitivity  \\\n",
       "0            -  -                     -                 -   \n",
       "1            -  -                     -                 -   \n",
       "\n",
       "  Woolnerian Tip (Darwin's Tubercle) Clinodactyly    Handedness Atheism  \\\n",
       "0                                  -            -             -       -   \n",
       "1                                  -            -  Right-handed       -   \n",
       "\n",
       "  (Male) Nipple's size Ehlers-Danlos Enjoy using the Internet  \\\n",
       "0                    -             -                        -   \n",
       "1                    -             -                        -   \n",
       "\n",
       "  Heroin addiction Raynaud's Diet Squizophrenia Dietary supplements used  \\\n",
       "0                -         -    -             -                        -   \n",
       "1                -         -    -             -                        -   \n",
       "\n",
       "  Irritable Bowel Syndrome Wake up preference 5-HTP effectiveness  \\\n",
       "0                        -                  -                   -   \n",
       "1                        -                  -                   -   \n",
       "\n",
       "  Tooth shade range Brazil nut diarrhoea Caffeine dependence Gambling  \\\n",
       "0                 -                    -                   -        -   \n",
       "1                 -                    -                   -        -   \n",
       "\n",
       "  Umami taster? lichen planus macular degeneration Bipolar disorder  \\\n",
       "0             -             -                    -                -   \n",
       "1             -             -                    -                -   \n",
       "\n",
       "  Gap between front teeth Easily irritated or frustrated MS Premature Gray  \\\n",
       "0                       -                              -  -              -   \n",
       "1                       -                              -  -              -   \n",
       "\n",
       "  Thyroid nodules deviated septum Renal hypoplasia inverted nipples  \\\n",
       "0               -               -                -                -   \n",
       "1               -               -                -                -   \n",
       "\n",
       "  Do You Have Lucid Dreams? Allergy to Hair Dye Cholesterol Skin dry  \\\n",
       "0                         -                   -           -        -   \n",
       "1                         -                   -           -        -   \n",
       "\n",
       "  Inflammation Pulmonary Fibrosis Political Ideology  \\\n",
       "0            -                  -                  -   \n",
       "1            -                  -                  -   \n",
       "\n",
       "  Post traumatic Stress Disorder or PTSD?  \\\n",
       "0                                       -   \n",
       "1                                       -   \n",
       "\n",
       "  Vasovagal syncopy or Neurocardiogenic syncopy Pain Tolerance  \\\n",
       "0                                             -              -   \n",
       "1                                             -              -   \n",
       "\n",
       "  Do you prefer python, matlab, or R?  \\\n",
       "0                                   -   \n",
       "1                                   -   \n",
       "\n",
       "  Atypical Sulfonomide Antibiotic Reaction Red Hair Sleep Disorders  \\\n",
       "0                                        -        -               -   \n",
       "1                                        -        -               -   \n",
       "\n",
       "  Do You Suffer From Agoraphobia?  \\\n",
       "0                               -   \n",
       "1                               -   \n",
       "\n",
       "  hemophilia C    (factor XI deficiency is caused by \"rare mutations\" in the F11 gene)  \\\n",
       "0                                                  -                                     \n",
       "1                                                  -                                     \n",
       "\n",
       "  Are You The Advertising Phenotype? Skin - Fitzpatrick Scale  \\\n",
       "0                                  -                        -   \n",
       "1                                  -                        -   \n",
       "\n",
       "  Score on Big Five at PersonalityLab.org Brunette, O+, Caucasian  \\\n",
       "0                                       -                       -   \n",
       "1                                       -                       -   \n",
       "\n",
       "  Resting Heart Rate  Wanting to be immortal Motion sickness  \\\n",
       "0                   -                      -               -   \n",
       "1                   -                      -               -   \n",
       "\n",
       "  Cusp of Carabelli brown hair colour Diagnosed Vitamin D deficiency  \\\n",
       "0                 -                 -                              -   \n",
       "1                 -                 -                              -   \n",
       "\n",
       "  Affinity to Cannabis  \\\n",
       "0                    -   \n",
       "1                    -   \n",
       "\n",
       "  Can you bend your fifth finger (pinky) without bending your fourth finger (ring)?  \\\n",
       "0                                                  -                                  \n",
       "1                                                  -                                  \n",
       "\n",
       "  Number of fingers Black  \\\n",
       "0                 -     -   \n",
       "1                 -     -   \n",
       "\n",
       "  blue eyes with yellow  stripes making them look depending on the light or my mood  \\\n",
       "0                                                  -                                  \n",
       "1                                                  -                                  \n",
       "\n",
       "  Income Range? Ocular migraines brown hair colour, white skin color  \\\n",
       "0             -                -                                   -   \n",
       "1             -                -                                   -   \n",
       "\n",
       "  Hypospadias clubfoot Hazel Eyes No Allergies Cat or Dog person  \\\n",
       "0           -        -          -            -                 -   \n",
       "1           -        -          -            -                 -   \n",
       "\n",
       "  Do hops taste like soap? SAT Verbal Persistant Muscle Pain or Fatigue  \\\n",
       "0                        -          -                                 -   \n",
       "1                        -          -                                 -   \n",
       "\n",
       "  erectil disfunction  Ability to find a bug in openSNP dark Blonde  \\\n",
       "0                    -                                -           -   \n",
       "1                    -                                -           -   \n",
       "\n",
       "  SAT - when taken Enophthalmos Have ME/CFS  \\\n",
       "0                -            -           -   \n",
       "1                -            -           -   \n",
       "\n",
       "  Axiiety (following cannabis consumption)  \\\n",
       "0                                        -   \n",
       "1                                        -   \n",
       "\n",
       "  Negative reaction to fluoroquinolone antibiotics Hand span A- (cisA2B3)  \\\n",
       "0                                                -         -            -   \n",
       "1                                                -         -            -   \n",
       "\n",
       "  Sweat eating spicy food autism Pancreas ADHD Penicillin reaction SAT Math  \\\n",
       "0                       -      -        -    -                   -        -   \n",
       "1                       -      -        -    -                   -        -   \n",
       "\n",
       "  paternal or Y  haplogroup  \\\n",
       "0                         -   \n",
       "1                         -   \n",
       "\n",
       "  How many wisdom teeth did you have/ do you have (if you know).  \\\n",
       "0                                                  -               \n",
       "1                                                  -               \n",
       "\n",
       "  Gynecomastia (male breast tissue) midtarsal flexibility  \\\n",
       "0                                 -                     -   \n",
       "1                                 -                     -   \n",
       "\n",
       "  Physical Aversion to Certain Foods  \\\n",
       "0                                  -   \n",
       "1                                  -   \n",
       "\n",
       "  Interested in news from real newspaper / news from the Internet  \\\n",
       "0                                                  -                \n",
       "1                                                  -                \n",
       "\n",
       "  Myers-Briggs Type Indicator Sensitivity to Mosquito Bites   \\\n",
       "0                           -                              -   \n",
       "1                           -                              -   \n",
       "\n",
       "  Response to Methotrexate Autoimmune disorder Strabismus Marfan Syndrome  \\\n",
       "0                        -                   -          -               -   \n",
       "1                        -                   -          -               -   \n",
       "\n",
       "  lips size  \\\n",
       "0         -   \n",
       "1         -   \n",
       "\n",
       "  Have You Been Diagnosed With Brown's Syndrome (Tendon Sheath Syndrome)?  \\\n",
       "0                                                  -                        \n",
       "1                                                  -                        \n",
       "\n",
       "  Degree of Empathy eosinophilic disease Rythm Test Result  \\\n",
       "0                 -                    -                 -   \n",
       "1                 -                    -                 -   \n",
       "\n",
       "  Colon cancer ONLY FOR (rs3219489 GG)! Brachydactyly  \\\n",
       "0                                     -             -   \n",
       "1                                     -             -   \n",
       "\n",
       "  Disseminated Superficial Actinic Porokeratosis Synesthesia  \\\n",
       "0                                              -           -   \n",
       "1                                              -           -   \n",
       "\n",
       "  Walk in nature on the roads Intolerance: gluten, casein, soy  \\\n",
       "0                           -                                -   \n",
       "1                           -                                -   \n",
       "\n",
       "  At what altitude you live or have lived most of their lives? Third Nipple  \\\n",
       "0                                                  -                      -   \n",
       "1                                                  -                      -   \n",
       "\n",
       "  Cleverness Anxiety Diseases  \\\n",
       "0          -       -        -   \n",
       "1          -       -        -   \n",
       "\n",
       "  Downslanting Palpebral Fissures Related To Marfan Syndrome  \\\n",
       "0                                                  -           \n",
       "1                                                  -           \n",
       "\n",
       "  Bone Mineral Density SLE - Lupus Dyscalculia Penis Circumference at Glans  \\\n",
       "0                    -           -           -                            -   \n",
       "1                    -           -           -                            -   \n",
       "\n",
       "  black skin Asthma Political Compass Diagnosed with Sleep Apnea? Hair colour  \\\n",
       "0          -      -                 -                           -           -   \n",
       "1          -      -                 -                           -           -   \n",
       "\n",
       "  Sports interest MethyleneTetraHydroFolate Reductase (MTHFR)  \\\n",
       "0               -                                           -   \n",
       "1               -                                           -   \n",
       "\n",
       "  excessive daytime sleepiness Keratoconus Disease Reading habits  \\\n",
       "0                            -                   -              -   \n",
       "1                            -                   -              -   \n",
       "\n",
       "  Diego Blood Group Cognitive impairment side effect on statin  \\\n",
       "0                 -                                          -   \n",
       "1                 -                                          -   \n",
       "\n",
       "  Allergic to Lexapro (Escitalopram) Gestures when speaking   \\\n",
       "0                                  -                       -   \n",
       "1                                  -                       -   \n",
       "\n",
       "  Reaction to poison ivy Second MBTI type Ancestry Physical  \\\n",
       "0                      -                -        -        -   \n",
       "1                      -                -        -        -   \n",
       "\n",
       "  restless leg syndrome The Dress: Perception of colour white skin  \\\n",
       "0                     -                               -          -   \n",
       "1                     -                               -          -   \n",
       "\n",
       "  Cancer Marker RNASEL Gene Digit ratio Hindfoot Valgus (Marfan Syndrome)  \\\n",
       "0                         -           -                                 -   \n",
       "1                         -           -                                 -   \n",
       "\n",
       "  Hair color Chronotype - Morningness-eveningness questionnaire (MEQ)  \\\n",
       "0          -                                                  -         \n",
       "1          -                                                  -         \n",
       "\n",
       "  SAT Writing Thumb Sign (Marfan Syndrome) Do you have dust-mite allergies  \\\n",
       "0           -                            -                               -   \n",
       "1           -                            -                               -   \n",
       "\n",
       "  head form Rheumatoid Arthritis Migraine frequency  \\\n",
       "0         -                    -                  -   \n",
       "1         -                    -                  -   \n",
       "\n",
       "  Does cilantro taste like soap to you? Mole (Nevus) type  \\\n",
       "0                                     -                 -   \n",
       "1                                     -                 -   \n",
       "\n",
       "  Hereditary breast and ovarian cancer Enjoy watching TV  \\\n",
       "0                                    -                 -   \n",
       "1                                    -                 -   \n",
       "\n",
       "  brown hair colour blue eyes Number of toes prognathism  \\\n",
       "0                           -              -           -   \n",
       "1                           -              -           -   \n",
       "\n",
       "  Interest in Spirituality and Mysticism Nickel Dermatitis  \\\n",
       "0                                      -                 -   \n",
       "1                                      -                 -   \n",
       "\n",
       "  Good / poor eater as child Hashimoto's hair on fingers Dyslexia  \\\n",
       "0                          -           -               -        -   \n",
       "1                          -           -               -        -   \n",
       "\n",
       "  Musical Perfect Pitch Mirror Touch Synesthesia syndactyly Eye Color  \\\n",
       "0                     -                        -          -         -   \n",
       "1                     -                        -          -         -   \n",
       "\n",
       "  Gorlin sign Female with Ring Finger longer than Index Finger ABO Rh   \\\n",
       "0           -                                                -       -   \n",
       "1           -                                                -       -   \n",
       "\n",
       "  Aspirin Allergy Age you started wearing glasses Keloid Moles raised  \\\n",
       "0               -                               -      -            -   \n",
       "1               -                               -      -            -   \n",
       "\n",
       "  Pheochromocytoma Fat-pad knee syndrome Multiple Sclerosis  \\\n",
       "0                -                     -                  -   \n",
       "1                -                     -                  -   \n",
       "\n",
       "  Preference for Loud Music  \\\n",
       "0                         -   \n",
       "1                         -   \n",
       "\n",
       "  (male) penis releases pre-cum when sexually aroused.  \\\n",
       "0                                                  -     \n",
       "1                                                  -     \n",
       "\n",
       "  apthous in mouth tendency Hypertriglyceridemia Broad face  \\\n",
       "0                         -                    -          -   \n",
       "1                         -                    -          -   \n",
       "\n",
       "  You look like the flame of the fire? Enjoy riding a motorbike  \\\n",
       "0                                    -                        -   \n",
       "1                                    -                        -   \n",
       "\n",
       "  Dupuytren's disease Laterality Seborrhoeic Dermatitis  \\\n",
       "0                   -          -                      -   \n",
       "1                   -          -                      -   \n",
       "\n",
       "  Insect bites and stings Cardiac Arterial Disease Sense of smell ALS  \\\n",
       "0                       -                        -              -   -   \n",
       "1                       -                        -              -   -   \n",
       "\n",
       "  Female Pattern Baldnes Migraine Daily Sleep Duration (hours) sex drive  \\\n",
       "0                      -        -                            -         -   \n",
       "1                      -        -                            -         -   \n",
       "\n",
       "  Phobia hair on ear glass eye Grey hair very late   \\\n",
       "0      -           -         -                    -   \n",
       "1      -           -         -                    -   \n",
       "\n",
       "  Easiness to navigate/orientate Acromegaly  \\\n",
       "0                              -          -   \n",
       "1                              -          -   \n",
       "\n",
       "  Malar hypoplasia in Marfan Syndrome Autism Ambition Ectopia Lentis  \\\n",
       "0                                   -      -        -              -   \n",
       "1                                   -      -        -              -   \n",
       "\n",
       "  Type II Diabetes Physician-diagnosed celiac/coeliac disease eye colour Lisp  \\\n",
       "0                -                                          -          -    -   \n",
       "1                -                                          -          -    -   \n",
       "\n",
       "  Do you have a parent who was diagnosed with Alzheimer's disease? ASMR  \\\n",
       "0                                                  -                  -   \n",
       "1                                                  -                  -   \n",
       "\n",
       "  Birth year mthfr Sneezing induced by sexual ideation or orgasm? Skintype  \\\n",
       "0          -     -                                              -        -   \n",
       "1          -     -                                              -        -   \n",
       "\n",
       "  double jointed thumbs Cystic Fibrosis Like Disease  \\\n",
       "0                     -                            -   \n",
       "1                     -                            -   \n",
       "\n",
       "  Would you invite strangers into your living space? Retinitis pigmentosa  \\\n",
       "0                                                  -                    -   \n",
       "1                                                  -                    -   \n",
       "\n",
       "  Vitiligo Chest Pain on Ritalin cluster headache form of the nose  \\\n",
       "0        -                     -                -                -   \n",
       "1        -                     -                -                -   \n",
       "\n",
       "  Photophobia Lipoma ear proximity to head  Tea consumption  \\\n",
       "0           -      -                      -               -   \n",
       "1           -      -                      -               -   \n",
       "\n",
       "  Age you had a heart attack Sexuality Sensitivity to smell  \\\n",
       "0                          -         -                    -   \n",
       "1                          -         -                    -   \n",
       "\n",
       "  Allergy to artificial grape flavoring Jogger Melasma Faktor 5 Leiden (F5)  \\\n",
       "0                                     -      -       -                    -   \n",
       "1                                     -      -       -                    -   \n",
       "\n",
       "  Widow's Peak Hair Length Sporting activity participation libido   \\\n",
       "0            -           -                               -       -   \n",
       "1            -           -                               -       -   \n",
       "\n",
       "  Earwax type blood type Age learned to read  \\\n",
       "0           -          -                   -   \n",
       "1           -          -                   -   \n",
       "\n",
       "  Allergy to Strawberries, Tomatoes, Citrus Handwriting/Fine Motor Skills  \\\n",
       "0                                         -                             -   \n",
       "1                                         -                             -   \n",
       "\n",
       "  Clotting disorder I dance.... Ear Infections In Childhood  \\\n",
       "0                 -           -                           -   \n",
       "1                 -           -                           -   \n",
       "\n",
       "  Creutzfeldt–Jakob disease Aortic Insufficiency (Regurgitation)  \\\n",
       "0                         -                                    -   \n",
       "1                         -                                    -   \n",
       "\n",
       "  Metabolic Syndrome [MetS] Dermatographia Kinsey Scale Academic degree  \\\n",
       "0                         -              -            -               -   \n",
       "1                         -              -            -               -   \n",
       "\n",
       "  White skin, black hair hair colour  \\\n",
       "0                      -           -   \n",
       "1                      -           -   \n",
       "\n",
       "  Allergic/bad reaction to fish oil supplements Enneagram Personality Type  \\\n",
       "0                                             -                          -   \n",
       "1                                             -                          -   \n",
       "\n",
       "  Short-sightedness (Myopia) Astigmatism Freckling Eurogenes  \\\n",
       "0                          -           -         -         -   \n",
       "1                          -           -         -         -   \n",
       "\n",
       "  Favorite Color/Colour Hypermobility Hair color changed from blonde to brown  \\\n",
       "0                     -             -                                       -   \n",
       "1                     -             -                                       -   \n",
       "\n",
       "  Nationality Allergic rhinitis Blood type number of biological children Нос  \\\n",
       "0           -                 -          -                             -   -   \n",
       "1           -                 -          -                             -   -   \n",
       "\n",
       "  Like the taste of Stevia High platelet count  \\\n",
       "0                        -                   -   \n",
       "1                        -                   -   \n",
       "\n",
       "  Adult Second Language Acquistion Aptitude Amblyopia Response to Remicade  \\\n",
       "0                                         -         -                    -   \n",
       "1                                         -         -                    -   \n",
       "\n",
       "  mouth size Fight or flight response (see description)  \\\n",
       "0          -                                          -   \n",
       "1          -                                          -   \n",
       "\n",
       "  Do you grind your teeth Haemophilia/Hemophilia  \\\n",
       "0                       -                      -   \n",
       "1                       -                      -   \n",
       "\n",
       "  congenital talipes equinovarus (CTEV) Physical Characteristic  \\\n",
       "0                                     -                       -   \n",
       "1                                     -                       -   \n",
       "\n",
       "  Abnormal Blood Pressure brunette Pectus Excavatum (sunken chest)  \\\n",
       "0                       -        -                               -   \n",
       "1                       -        -                               -   \n",
       "\n",
       "  Index Toe Longer than Big Toe Tongue roller Hair Color opensnp.org  \\\n",
       "0                             -             -          -           -   \n",
       "1                             -             -          -           -   \n",
       "\n",
       "  Subjective dream intensity Prone to Cysts Am I a duck? Body shape  \\\n",
       "0                          -              -            -          -   \n",
       "1                          -              -            -          -   \n",
       "\n",
       "  Black hair and Green Eyes Desmoid Tumor Artistic ability Coffee consumption  \\\n",
       "0                         -             -                -                  -   \n",
       "1                         -             -                -                  -   \n",
       "\n",
       "  ABO Rh Neanderthal (Interpretome) ring finger longer than index finger  \\\n",
       "0      -                          -                                    -   \n",
       "1      -                          -                                    -   \n",
       "\n",
       "   African Taste of broccoli Ear wiggling Artistic Talent  \\\n",
       "0        -                 -            -               -   \n",
       "1        -                 -            -               -   \n",
       "\n",
       "  african-northern european Do you like the taste of hops?  \\\n",
       "0                         -                              -   \n",
       "1                         -                              -   \n",
       "\n",
       "  Homophobia - Questionnaire Result rolled tongue   Sex Mental Disease  \\\n",
       "0                                 -             -     -              -   \n",
       "1                                 -             -  Male              -   \n",
       "\n",
       "  Enjoy driving a car English ACT Smell of coffee in urine First word  \\\n",
       "0                   -           -                        -          -   \n",
       "1                   -           -                        -          -   \n",
       "\n",
       "  Blood Type A1, Rh positive  \\\n",
       "0                          -   \n",
       "1                          -   \n",
       "\n",
       "  Palpitations Unrelated To Food, Alcohol, Drugs or Exercise  \\\n",
       "0                                                  -           \n",
       "1                                                  -           \n",
       "\n",
       "  Dimple in the chin Number of wisdom teeth natural skinny  \\\n",
       "0                  -                      -              -   \n",
       "1                  -                      -              -   \n",
       "\n",
       "  how do you like your steak? Pale  Affinity For Animals Toe Thumbs  \\\n",
       "0                           -     -                    -          -   \n",
       "1                           -     -                    -          -   \n",
       "\n",
       "  Sport interest Body complexity White skin, black straight  hair, B+ Height  \\\n",
       "0              -               -                                    -      -   \n",
       "1              -               -                                    -     6'   \n",
       "\n",
       "  Foot length Energy Level Earlobe:  Free or attached Colour Blindness  \\\n",
       "0           -            -                          -                -   \n",
       "1           -            -                          -                -   \n",
       "\n",
       "  Extra Fingers (Polydactyly) Eyebrow Mover Blood Type  \\\n",
       "0                           -             -          -   \n",
       "1                           -             -          -   \n",
       "\n",
       "  Y-DNA Haplogroup (ISOGG) Can You Spread Your Toes?  Penis Length Hair Type  \\\n",
       "0                        -                          -            -         -   \n",
       "1                        -                          -            -         -   \n",
       "\n",
       "  Do you like the taste of bananas? Night Owl/Early Bird Carpal tunnel   \\\n",
       "0                                 -                    -              -   \n",
       "1                                 -                    -              -   \n",
       "\n",
       "  Are you a map lover? Horseshoe kidney Cushing's Disease Sang À+ Force  \\\n",
       "0                    -                -                 -       -     -   \n",
       "1                    -                -                 -       -     -   \n",
       "\n",
       "  Lichen Sclerosis(LS)/Balanitis Xerotica Obliterates(BXO)  \\\n",
       "0                                                  -         \n",
       "1                                                  -         \n",
       "\n",
       "  Dark brown,Rheusus Neg B,Olive Familial hypercholesterolemia Extra Teeth  \\\n",
       "0                              -                             -           -   \n",
       "1                              -                             -           -   \n",
       "\n",
       "  dark Blonde,fair skin,brown eyes Severe Acne Sleep duration  \\\n",
       "0                                -           -              -   \n",
       "1                                -           -              -   \n",
       "\n",
       "  Optimistic, empathetic, handles stress well Response to Codeine  \\\n",
       "0                                           -                   -   \n",
       "1                                           -                   -   \n",
       "\n",
       "  Fibromyalgia Response to SRI drugs Suicidality Rosacea  \\\n",
       "0                                  -           -       -   \n",
       "1                                  -           -       -   \n",
       "\n",
       "  Eye Color - Heterochromia GREEK DNA  Supernumerary nipples  \\\n",
       "0                         -          -                     -   \n",
       "1                         -          -                     -   \n",
       "\n",
       "  Dyshydrotic Eczema  Gulf War Illness   \\\n",
       "0                   -                 -   \n",
       "1                   -                 -   \n",
       "\n",
       "  chilblains/perniosis, have you ever had them, yes/no wide feet, yes/no  \\\n",
       "0                                                  -                   -   \n",
       "1                                                  -                   -   \n",
       "\n",
       "  green eyes, light brown hair, left-handed, Dupuytren's  \\\n",
       "0                                                  -       \n",
       "1                                                  -       \n",
       "\n",
       "  Diagnosed celiac disease AND photic sneeze reflex  \\\n",
       "0                                                 -   \n",
       "1                                                 -   \n",
       "\n",
       "  Therapeutically induced hypothyroidism Gall bladder disease  \\\n",
       "0                                      -                    -   \n",
       "1                                      -                    -   \n",
       "\n",
       "  Cold sores (herpes) can't stand Tarragon Ectopic heartbeats Hypertension  \\\n",
       "0                   -                    -                  -            -   \n",
       "1                   -                    -                  -            -   \n",
       "\n",
       "  Resistance to Norovirus blood incompatibility Brown hair, Hazel, Caucasian.  \\\n",
       "0                       -                     -                             -   \n",
       "1                       -                     -                             -   \n",
       "\n",
       "  Missing canine teeth Han Arm Creases Asexual  \\\n",
       "0                    -               -       -   \n",
       "1                    -               -       -   \n",
       "\n",
       "  Brown hair colour, white skin color generalized anxiety disorder  \\\n",
       "0                                   -                            -   \n",
       "1                                   -                            -   \n",
       "\n",
       "  MPN myeloproliferative neoplasms Penis Girth  Fuchs' Disease  \\\n",
       "0                                -            -              -   \n",
       "1                                -            -              -   \n",
       "\n",
       "  Double eyelashes Left-handed Two tendons at wrists  \\\n",
       "0                -           -                     -   \n",
       "1                -           -                     -   \n",
       "\n",
       "  Hearing loss genetic cookie bite configuration abnormal brain shape  \\\n",
       "0                                              -                    -   \n",
       "1                                              -                    -   \n",
       "\n",
       "  Episodic Major Depression Age achieved full height Biophilia  \\\n",
       "0                         -                        -         -   \n",
       "1                         -                        -         -   \n",
       "\n",
       "  Reading speed(WPM) Chimera or mosaic?  \\\n",
       "0                  -                  -   \n",
       "1                  -                  -   \n",
       "\n",
       "  Strongly feel that true \"intelligence\" is more than just IQ  \\\n",
       "0                                                  -            \n",
       "1                                                  -            \n",
       "\n",
       "  Feel that intelligence is genetically more than just IQ RCCX  \\\n",
       "0                                                  -         -   \n",
       "1                                                  -         -   \n",
       "\n",
       "  immunological disorder: HLA-b27 Deep Blue  \\\n",
       "0                               -         -   \n",
       "1                               -         -   \n",
       "\n",
       "  Do you read a lot on the why’s and how’s things work.  \\\n",
       "0                                                  -      \n",
       "1                                                  -      \n",
       "\n",
       "  Can you wake up at night, drink coffee and a couple hours later go right back to sleep   \\\n",
       "0                                                  -                                        \n",
       "1                                                  -                                        \n",
       "\n",
       "  nail biter, lip biter or skin picker when stressed Have a military neck  \\\n",
       "0                                                  -                    -   \n",
       "1                                                  -                    -   \n",
       "\n",
       "  High kidneys  Allergic to a steroid shot   \\\n",
       "0             -                           -   \n",
       "1             -                           -   \n",
       "\n",
       "  Wake time before leaving for work  Allergic to bees Birthing pain Tattoos   \\\n",
       "0                                  -                -             -        -   \n",
       "1                                  -                -             -        -   \n",
       "\n",
       "  black hair and brown eyes, blood B+, 6,5 tall  \\\n",
       "0                                             -   \n",
       "1                                             -   \n",
       "\n",
       "  Hypermobile Ehlers Danlos Syndrome repetitive movements or unwanted sounds  \\\n",
       "0                                  -                                       -   \n",
       "1                                  -                                       -   \n",
       "\n",
       "  Rh Neg Blood Type WITH Unusual Allergies or Early Onset Degenerative Disorders  \\\n",
       "0                                                  -                               \n",
       "1                                                  -                               \n",
       "\n",
       "  tourettes syndrome Smell of rain Boldness type A+  \\\n",
       "0                  -             -                -   \n",
       "1                  -             -                -   \n",
       "\n",
       "  Age of first grey hair (scalp) Age of first grey hair (facial)  \\\n",
       "0                              -                               -   \n",
       "1                              -                               -   \n",
       "\n",
       "  deep sleep, debilitating sleep pressure Alcoholism  Simian Line(s)  \\\n",
       "0                                       -           -              -   \n",
       "1                                       -           -              -   \n",
       "\n",
       "  Why MBBS Ukraine Is The Best Option For MBBS Aspirants?  \\\n",
       "0                                                  -        \n",
       "1                                                  -        \n",
       "\n",
       "   Which is the cheapest country to study MBBS? The Cracker Test  \\\n",
       "0                                             -                -   \n",
       "1                                             -                -   \n",
       "\n",
       "  Wiggle My Ears Dry Eye Syndrome / Fishing Eye Syndrome  \\\n",
       "0              -                                       -   \n",
       "1              -                                       -   \n",
       "\n",
       "  Allergic to Band-Aid Adhesives / Other Adhesives  \\\n",
       "0                                                -   \n",
       "1                                                -   \n",
       "\n",
       "  Allergy to Macrobid (nitrofurantoin) Antibiotic (Only)  \\\n",
       "0                                                  -       \n",
       "1                                                  -       \n",
       "\n",
       "  Recurrent Urinary Tract Infections (UTI) / Bladder Infections  \\\n",
       "0                                                  -              \n",
       "1                                                  -              \n",
       "\n",
       "  Spinal Degenerative Bone or Disc Disease Early Onset Genetic-Cause Only   \\\n",
       "0                                                  -                         \n",
       "1                                                  -                         \n",
       "\n",
       "  TIA (transient ischemic attack) Highest Education  \\\n",
       "0                               -                 -   \n",
       "1                               -                 -   \n",
       "\n",
       "  Look like mother or father Income Темный, очі темні Blood transfusion  \\\n",
       "0                          -      -                 -                 -   \n",
       "1                          -      -                 -                 -   \n",
       "\n",
       "  Occipital bun  Cabelo liso castanho, tipo sanguíneo AB+, pele morena  \\\n",
       "0              -                                                  -      \n",
       "1              -                                                  -      \n",
       "\n",
       "  blood compatibility for transfussion Hidradenitis suppurativa  \\\n",
       "0                                    -                        -   \n",
       "1                                    -                        -   \n",
       "\n",
       "  Covid19 Symptoms Cannabis Allergy MGUS Gender Gender Dysphoria  \\\n",
       "0                -                -    -      -                -   \n",
       "1                -                -    -      -                -   \n",
       "\n",
       "  Polycythemia Vera Mast Cell Activation Syndrome  \\\n",
       "0                 -                             -   \n",
       "1                 -                             -   \n",
       "\n",
       "  Alpha-1 Antitrypsin Deficiency Altitude acclimatisation and sickness  \\\n",
       "0                              -                                     -   \n",
       "1                              -                                     -   \n",
       "\n",
       "  Black curly hair,brown eyes,olive skin music preference autologous blood  \\\n",
       "0                                      -                -                -   \n",
       "1                                      -                -                -   \n",
       "\n",
       "  black hair and brown eyes, blood A-, and white skin  \\\n",
       "0                                                  -    \n",
       "1                                                  -    \n",
       "\n",
       "  brown hair, brown eyes, caucasian, blood type O, Rh+  \\\n",
       "0                                                  -     \n",
       "1                                                  -     \n",
       "\n",
       "  Congenital Sucrase-Isomaltase Deficiency Familial Mediterranean Fever    \n",
       "0                                        -                              -  \n",
       "1                                        -                              -  "
      ]
     },
     "execution_count": 3,
     "metadata": {},
     "output_type": "execute_result"
    }
   ],
   "source": [
    "phenotypes_df.head(2)"
   ]
  },
  {
   "cell_type": "code",
   "execution_count": 4,
   "id": "b49bce57",
   "metadata": {},
   "outputs": [],
   "source": [
    "# filtrar o dataset para mostrar apenas as colunas que podem ser de interesse\n",
    "colunas_interesse = [\"user_id\",\"genotype_filename\", \"Eye color\"]\n",
    "eye_color_df = phenotypes_df[colunas_interesse]"
   ]
  },
  {
   "cell_type": "code",
   "execution_count": 5,
   "id": "c601ffc4",
   "metadata": {},
   "outputs": [
    {
     "data": {
      "text/plain": [
       "-                                                                                                         4420\n",
       "Brown                                                                                                      403\n",
       "Blue                                                                                                       208\n",
       "Hazel                                                                                                      122\n",
       "Green                                                                                                      115\n",
       "Blue-grey                                                                                                  114\n",
       "Dark brown                                                                                                  85\n",
       "Blue-green                                                                                                  75\n",
       "Brown-green                                                                                                 67\n",
       "Hazel/light brown                                                                                           36\n",
       "Hazel (brown/green)                                                                                         34\n",
       "Gray-blue                                                                                                   25\n",
       "Blue-grey; broken amber collarette                                                                          21\n",
       "hazel                                                                                                       19\n",
       "Dark blue                                                                                                   19\n",
       "Green-hazel                                                                                                 18\n",
       "Green-brown                                                                                                 16\n",
       "brown                                                                                                       16\n",
       "blue-green                                                                                                  15\n",
       "blue                                                                                                        14\n",
       "Green-gray                                                                                                  14\n",
       "Blue-green                                                                                                  14\n",
       "green                                                                                                       11\n",
       "Blue with yellow parts                                                                                      10\n",
       "Mixed                                                                                                        8\n",
       "Light-mixed green                                                                                            8\n",
       "Blue-grey with central heterochromia                                                                         7\n",
       "Blue grey                                                                                                    7\n",
       "Blue-green; amber collarette, and gray-blue ringing                                                          7\n",
       "blue-grey                                                                                                    7\n",
       "Blue, grey, green, changing                                                                                  7\n",
       "Blue with a yellow ring of flecks that make my eyes look green depending on the light or my  mood            6\n",
       "Hazel (light brown, dark green, dark blue)                                                                   6\n",
       "Brown - brown and green in bright sunlight                                                                   5\n",
       "Blue-green-grey                                                                                              5\n",
       "rs12913832 AG (they                                                                                          4\n",
       "Brown center starburst, amber and olive green, with dark gray outer ring                                     4\n",
       "Brown/black                                                                                                  4\n",
       "Rs12913832 ag (they                                                                                          4\n",
       "Indeterminate brown-green with a subtle grey caste                                                           4\n",
       "brown-green                                                                                                  4\n",
       "Rs12913832 aa                                                                                                4\n",
       "Brown-(green when external temperature rises)                                                                4\n",
       "Green                                                                                                        3\n",
       "Ambar-green                                                                                                  3\n",
       "Olive-brown ringing burnt umber-brown                                                                        3\n",
       "blue-green                                                                                                   3\n",
       "Light blue-green                                                                                             3\n",
       "GG                                                                                                           2\n",
       "Ambar-Green                                                                                                  2\n",
       "blue, grey, green, changing                                                                                  2\n",
       "Hazel/Light Brown                                                                                            2\n",
       "Light-mixed Green                                                                                            2\n",
       "Black                                                                                                        2\n",
       "Gg                                                                                                           2\n",
       "Grey brown                                                                                                   2\n",
       "Amber - (yellow/ocre  brown)                                                                                 2\n",
       "Hazel/yellow                                                                                                 1\n",
       "Olive-Brown ringing Burnt Umber-Brown                                                                        1\n",
       "green-blue outer ring and brown flecks around iris                                                           1\n",
       "Red/blood                                                                                                    1\n",
       "rs12913832 GG                                                                                                1\n",
       "Brown-Amber                                                                                                  1\n",
       "Split - one side dark blue / other side light blue and green                                                 1\n",
       "Hazel/Yellow                                                                                                 1\n",
       "Dark Grayish-Blue Eyes (like a stone)                                                                        1\n",
       "blue-brown heterochromia                                                                                     1\n",
       "indeterminate brown-green with a subtle grey caste                                                           1\n",
       "UNKNOWN                                                                                                      1\n",
       "Brown - Brown and green in bright sunlight                                                                   1\n",
       "gray-blue                                                                                                    1\n",
       "Green-Hazel                                                                                                  1\n",
       "green-brown                                                                                                  1\n",
       "Brown-amber                                                                                                  1\n",
       "Name: Eye color, dtype: int64"
      ]
     },
     "execution_count": 5,
     "metadata": {},
     "output_type": "execute_result"
    }
   ],
   "source": [
    "eye_color_df[\"Eye color\"].value_counts()"
   ]
  },
  {
   "cell_type": "code",
   "execution_count": 6,
   "id": "589411f4",
   "metadata": {},
   "outputs": [
    {
     "data": {
      "text/plain": [
       "1626"
      ]
     },
     "execution_count": 6,
     "metadata": {},
     "output_type": "execute_result"
    }
   ],
   "source": [
    "# filtrar apenas os valores preenchidos\n",
    "eye_color_df = eye_color_df[eye_color_df[\"Eye color\"] != '-']\n",
    "len(eye_color_df)"
   ]
  },
  {
   "cell_type": "code",
   "execution_count": 7,
   "id": "5311418a",
   "metadata": {},
   "outputs": [
    {
     "data": {
      "text/plain": [
       "BGG      515\n",
       "Brown    509\n",
       "Int      413\n",
       "Name: color_cat, dtype: int64"
      ]
     },
     "execution_count": 7,
     "metadata": {},
     "output_type": "execute_result"
    }
   ],
   "source": [
    "# organizar as entradas em 3 categorias: Brown, Blue/Green/Gray, intermediate\n",
    "color_map = {\n",
    "    \"Brown\":\"Brown\",\n",
    "    \"Blue\":\"BGG\",\n",
    "    \"Hazel\":\"Int\",\n",
    "    \"Blue-grey\":\"BGG\",\n",
    "    \"Green\":\"Int\",\n",
    "    \"Dark brown\":\"Brown\",\n",
    "    \"Blue-green\":\"BGG\",\n",
    "    \"Hazel (brown/green)\":\"Int\",\n",
    "    \"Hazel/light brown\":\"Int\",\n",
    "    \"Gray-blue\":\"BGG\",\n",
    "    \"Blue-grey; broken amber collarette\":\"Int\",\n",
    "    \"hazel\":\"Int\",\n",
    "    \"Dark blue\":\"BGG\",\n",
    "    \"Green-hazel\":\"Int\",\n",
    "    \"Green-brown\":\"Int\",\n",
    "    \"brown\":\"Brown\",\n",
    "    \"Green-gray\":\"Int\",\n",
    "    \"Blue-green\":\"BGG\",\n",
    "    \"blue-green\":\"BGG\",\n",
    "    \"blue\":\"BGG\",\n",
    "    \"Blue, grey, green, changing\":\"BGG\",\n",
    "    \"Blue grey\":\"BGG\",\n",
    "    \"Blue with yellow parts\":\"BGG\",\n",
    "    \"Blue-grey with central heterochromia\":\"BGG\",\n",
    "    \"Light-mixed green\":\"Int\",\n",
    "    \"blue\":\"BGG\",\n",
    "    \"blue-grey\":\"BGG\",\n",
    "    \"Blue-green; amber collarette, and gray-blue ringing \":\"Int\",\n",
    "    \"Blue with a yellow ring of flecks that make my eyes look green depending on the light or my  mood\":\"Int\",\n",
    "    \"Brown/black\":\"Brown\",\n",
    "    \"Hazel (light brown, dark green, dark blue)\":\"Int\",\n",
    "    \"Blue-green-grey\":\"BGG\",\n",
    "    \"Green\":\"Int\",\n",
    "    \"Brown-amber\":\"Brown\",\n",
    "    \"blue, grey, green, changing\":\"BGG\",\n",
    "    \"Amber\":\"Int\",\n",
    "    \"Amber - (yellow/ocre  brown)\":\"Int\",\n",
    "    \"Hazel/Light Brown\":\"Int\",\n",
    "    \"Amber - (yellow/ocre  brown)\":\"Int\"\n",
    "}\n",
    "    \n",
    "eye_color_df[\"color_cat\"] = eye_color_df[\"Eye color\"].map(color_map)\n",
    "eye_color_df = eye_color_df.dropna(axis=0, subset = \"color_cat\")\n",
    "eye_color_df[\"color_cat\"].value_counts()"
   ]
  },
  {
   "cell_type": "code",
   "execution_count": 8,
   "id": "ff068323",
   "metadata": {},
   "outputs": [
    {
     "data": {
      "text/plain": [
       "1437"
      ]
     },
     "execution_count": 8,
     "metadata": {},
     "output_type": "execute_result"
    }
   ],
   "source": [
    "len(eye_color_df)"
   ]
  },
  {
   "cell_type": "code",
   "execution_count": 9,
   "id": "5edcbd33",
   "metadata": {
    "scrolled": true
   },
   "outputs": [
    {
     "data": {
      "text/html": [
       "<div>\n",
       "<style scoped>\n",
       "    .dataframe tbody tr th:only-of-type {\n",
       "        vertical-align: middle;\n",
       "    }\n",
       "\n",
       "    .dataframe tbody tr th {\n",
       "        vertical-align: top;\n",
       "    }\n",
       "\n",
       "    .dataframe thead th {\n",
       "        text-align: right;\n",
       "    }\n",
       "</style>\n",
       "<table border=\"1\" class=\"dataframe\">\n",
       "  <thead>\n",
       "    <tr style=\"text-align: right;\">\n",
       "      <th></th>\n",
       "      <th>user_id</th>\n",
       "      <th>genotype_filename</th>\n",
       "      <th>Eye color</th>\n",
       "      <th>color_cat</th>\n",
       "    </tr>\n",
       "  </thead>\n",
       "  <tbody>\n",
       "    <tr>\n",
       "      <th>3</th>\n",
       "      <td>2953</td>\n",
       "      <td>2953.ftdna-illumina.1885</td>\n",
       "      <td>Dark brown</td>\n",
       "      <td>Brown</td>\n",
       "    </tr>\n",
       "    <tr>\n",
       "      <th>16</th>\n",
       "      <td>4135</td>\n",
       "      <td>4135.ftdna-illumina.2801</td>\n",
       "      <td>Blue-grey</td>\n",
       "      <td>BGG</td>\n",
       "    </tr>\n",
       "  </tbody>\n",
       "</table>\n",
       "</div>"
      ],
      "text/plain": [
       "    user_id         genotype_filename   Eye color color_cat\n",
       "3      2953  2953.ftdna-illumina.1885  Dark brown     Brown\n",
       "16     4135  4135.ftdna-illumina.2801   Blue-grey       BGG"
      ]
     },
     "execution_count": 9,
     "metadata": {},
     "output_type": "execute_result"
    }
   ],
   "source": [
    "eye_color_df.head(2)"
   ]
  },
  {
   "cell_type": "code",
   "execution_count": 10,
   "id": "4375944c",
   "metadata": {},
   "outputs": [],
   "source": [
    "eye_color_df_snp = eye_color_df.copy()\n",
    "eye_color_df_snp.reset_index(drop = True, inplace = True)"
   ]
  },
  {
   "cell_type": "code",
   "execution_count": 11,
   "id": "03284f06",
   "metadata": {
    "scrolled": true
   },
   "outputs": [
    {
     "data": {
      "text/html": [
       "<div>\n",
       "<style scoped>\n",
       "    .dataframe tbody tr th:only-of-type {\n",
       "        vertical-align: middle;\n",
       "    }\n",
       "\n",
       "    .dataframe tbody tr th {\n",
       "        vertical-align: top;\n",
       "    }\n",
       "\n",
       "    .dataframe thead th {\n",
       "        text-align: right;\n",
       "    }\n",
       "</style>\n",
       "<table border=\"1\" class=\"dataframe\">\n",
       "  <thead>\n",
       "    <tr style=\"text-align: right;\">\n",
       "      <th></th>\n",
       "      <th>user_id</th>\n",
       "      <th>genotype_filename</th>\n",
       "      <th>Eye color</th>\n",
       "      <th>color_cat</th>\n",
       "    </tr>\n",
       "  </thead>\n",
       "  <tbody>\n",
       "    <tr>\n",
       "      <th>0</th>\n",
       "      <td>2953</td>\n",
       "      <td>2953.ftdna-illumina.1885</td>\n",
       "      <td>Dark brown</td>\n",
       "      <td>Brown</td>\n",
       "    </tr>\n",
       "    <tr>\n",
       "      <th>1</th>\n",
       "      <td>4135</td>\n",
       "      <td>4135.ftdna-illumina.2801</td>\n",
       "      <td>Blue-grey</td>\n",
       "      <td>BGG</td>\n",
       "    </tr>\n",
       "  </tbody>\n",
       "</table>\n",
       "</div>"
      ],
      "text/plain": [
       "   user_id         genotype_filename   Eye color color_cat\n",
       "0     2953  2953.ftdna-illumina.1885  Dark brown     Brown\n",
       "1     4135  4135.ftdna-illumina.2801   Blue-grey       BGG"
      ]
     },
     "execution_count": 11,
     "metadata": {},
     "output_type": "execute_result"
    }
   ],
   "source": [
    "eye_color_df_snp.head(2)"
   ]
  },
  {
   "cell_type": "code",
   "execution_count": 12,
   "id": "9b027de7",
   "metadata": {},
   "outputs": [
    {
     "data": {
      "text/plain": [
       "183"
      ]
     },
     "execution_count": 12,
     "metadata": {},
     "output_type": "execute_result"
    }
   ],
   "source": [
    "eye_color_df_snp['user_id'].duplicated().sum()"
   ]
  },
  {
   "cell_type": "code",
   "execution_count": 13,
   "id": "5f734293",
   "metadata": {},
   "outputs": [],
   "source": [
    "eye_color_df_snp_drop_duplicates = eye_color_df_snp.drop_duplicates(subset='user_id')"
   ]
  },
  {
   "cell_type": "code",
   "execution_count": 14,
   "id": "375e580e",
   "metadata": {},
   "outputs": [
    {
     "data": {
      "text/plain": [
       "1254"
      ]
     },
     "execution_count": 14,
     "metadata": {},
     "output_type": "execute_result"
    }
   ],
   "source": [
    "len(eye_color_df_snp_drop_duplicates)"
   ]
  },
  {
   "cell_type": "code",
   "execution_count": 15,
   "id": "cd9a3e7f",
   "metadata": {},
   "outputs": [],
   "source": [
    "# salvar estes dados\n",
    "import os\n",
    "os.makedirs('datasets', exist_ok=True)  \n",
    "eye_color_df_snp_drop_duplicates.to_csv('datasets/eye_color_df_snp_2021.csv', index=False)  "
   ]
  },
  {
   "cell_type": "code",
   "execution_count": 16,
   "id": "bdef241e",
   "metadata": {},
   "outputs": [],
   "source": [
    "# importando bibliotecas necessárias\n",
    "from snps import SNPs \n",
    "import glob"
   ]
  },
  {
   "cell_type": "code",
   "execution_count": 17,
   "id": "d17a3be4",
   "metadata": {},
   "outputs": [],
   "source": [
    "def get_true_file_name():\n",
    "    \n",
    "    user_id_list = [] \n",
    "    doc_name_list = []\n",
    "    indexes = []\n",
    "\n",
    "    for index, row in eye_color_df_snp_drop_duplicates.iterrows():\n",
    "        user_id = row['user_id']\n",
    "        filename = row['genotype_filename']\n",
    "\n",
    "        split = filename.rsplit('.')\n",
    "        glob_pattern =  \"user{}_file{}\".format(split[0], split[2])\n",
    "\n",
    "        try:\n",
    "            doc_name = glob.glob(\"opensnp_alldata/opensnp_datadump.current/{}*.txt\".format(glob_pattern))[0]\n",
    "            user_id_list.append(user_id)\n",
    "            doc_name_list.append(doc_name)\n",
    "            indexes.append(index)\n",
    "        except:\n",
    "            pass\n",
    "\n",
    "\n",
    "    return user_id_list, doc_name_list, indexes"
   ]
  },
  {
   "cell_type": "code",
   "execution_count": 18,
   "id": "375406f8",
   "metadata": {},
   "outputs": [],
   "source": [
    "user_id_list, doc_name_list, indexes = get_true_file_name()"
   ]
  },
  {
   "cell_type": "code",
   "execution_count": 19,
   "id": "6a049ee9",
   "metadata": {},
   "outputs": [],
   "source": [
    "def create_dataframe(user_id_list, doc_name_list, indexes):\n",
    "    return pd.DataFrame({\"user_id\":user_id_list, \"filename\":doc_name_list, \"index\": indexes})"
   ]
  },
  {
   "cell_type": "code",
   "execution_count": 20,
   "id": "748d1ea9",
   "metadata": {},
   "outputs": [],
   "source": [
    "true_filenames = create_dataframe(user_id_list, doc_name_list, indexes)"
   ]
  },
  {
   "cell_type": "code",
   "execution_count": 21,
   "id": "70826398",
   "metadata": {},
   "outputs": [],
   "source": [
    "true_filenames_drop_duplicates = true_filenames.drop_duplicates(subset='user_id')"
   ]
  },
  {
   "cell_type": "code",
   "execution_count": 22,
   "id": "e0007966",
   "metadata": {},
   "outputs": [],
   "source": [
    "# salvar estes dados\n",
    "os.makedirs('datasets', exist_ok=True)  \n",
    "true_filenames_drop_duplicates.to_csv('datasets/true_filenames_2021.csv', index=False)"
   ]
  },
  {
   "cell_type": "code",
   "execution_count": 23,
   "id": "6e433893",
   "metadata": {
    "scrolled": true
   },
   "outputs": [
    {
     "data": {
      "text/html": [
       "<div>\n",
       "<style scoped>\n",
       "    .dataframe tbody tr th:only-of-type {\n",
       "        vertical-align: middle;\n",
       "    }\n",
       "\n",
       "    .dataframe tbody tr th {\n",
       "        vertical-align: top;\n",
       "    }\n",
       "\n",
       "    .dataframe thead th {\n",
       "        text-align: right;\n",
       "    }\n",
       "</style>\n",
       "<table border=\"1\" class=\"dataframe\">\n",
       "  <thead>\n",
       "    <tr style=\"text-align: right;\">\n",
       "      <th></th>\n",
       "      <th>user_id</th>\n",
       "      <th>filename</th>\n",
       "      <th>index</th>\n",
       "    </tr>\n",
       "  </thead>\n",
       "  <tbody>\n",
       "    <tr>\n",
       "      <th>0</th>\n",
       "      <td>2953</td>\n",
       "      <td>opensnp_alldata/opensnp_datadump.current/user2...</td>\n",
       "      <td>0</td>\n",
       "    </tr>\n",
       "    <tr>\n",
       "      <th>1</th>\n",
       "      <td>4135</td>\n",
       "      <td>opensnp_alldata/opensnp_datadump.current/user4...</td>\n",
       "      <td>1</td>\n",
       "    </tr>\n",
       "  </tbody>\n",
       "</table>\n",
       "</div>"
      ],
      "text/plain": [
       "   user_id                                           filename  index\n",
       "0     2953  opensnp_alldata/opensnp_datadump.current/user2...      0\n",
       "1     4135  opensnp_alldata/opensnp_datadump.current/user4...      1"
      ]
     },
     "execution_count": 23,
     "metadata": {},
     "output_type": "execute_result"
    }
   ],
   "source": [
    "true_filenames_drop_duplicates.head(2)"
   ]
  },
  {
   "cell_type": "markdown",
   "id": "00c0f658",
   "metadata": {},
   "source": [
    "### Lista de SNPs que queremos salvar\n",
    "Na célula abaixo está uma lista de SNPs com valor preditivo para cor dos olhos segundo artigos científicos da área."
   ]
  },
  {
   "cell_type": "code",
   "execution_count": 24,
   "id": "78644dea",
   "metadata": {},
   "outputs": [],
   "source": [
    "snps_eye_color_6 = [\n",
    "    'rs12913832',\n",
    "    'rs1800407',\n",
    "    'rs12896399',\n",
    "    'rs16891982',\n",
    "    'rs1393350',\n",
    "    'rs12203592']"
   ]
  },
  {
   "cell_type": "code",
   "execution_count": 25,
   "id": "652ddb1f",
   "metadata": {},
   "outputs": [],
   "source": [
    "snps_eye_color_13 = [\n",
    "    'rs1129038', \n",
    "    'rs11636232', \n",
    "    'rs12203592',\n",
    "    'rs12896399',\n",
    "    'rs12913832', \n",
    "    'rs1393350',\n",
    "    'rs1667394',\n",
    "    'rs16891982',\n",
    "    'rs1800407',\n",
    "    'rs4778232',\n",
    "    'rs4778241',\n",
    "    'rs7183877',\n",
    "    'rs8024968']"
   ]
  },
  {
   "cell_type": "code",
   "execution_count": 26,
   "id": "48884812",
   "metadata": {},
   "outputs": [
    {
     "data": {
      "text/html": [
       "<div>\n",
       "<style scoped>\n",
       "    .dataframe tbody tr th:only-of-type {\n",
       "        vertical-align: middle;\n",
       "    }\n",
       "\n",
       "    .dataframe tbody tr th {\n",
       "        vertical-align: top;\n",
       "    }\n",
       "\n",
       "    .dataframe thead th {\n",
       "        text-align: right;\n",
       "    }\n",
       "</style>\n",
       "<table border=\"1\" class=\"dataframe\">\n",
       "  <thead>\n",
       "    <tr style=\"text-align: right;\">\n",
       "      <th></th>\n",
       "      <th>user_id</th>\n",
       "      <th>filename</th>\n",
       "      <th>index</th>\n",
       "    </tr>\n",
       "  </thead>\n",
       "  <tbody>\n",
       "    <tr>\n",
       "      <th>0</th>\n",
       "      <td>2953</td>\n",
       "      <td>opensnp_alldata/opensnp_datadump.current/user2...</td>\n",
       "      <td>0</td>\n",
       "    </tr>\n",
       "    <tr>\n",
       "      <th>1</th>\n",
       "      <td>4135</td>\n",
       "      <td>opensnp_alldata/opensnp_datadump.current/user4...</td>\n",
       "      <td>1</td>\n",
       "    </tr>\n",
       "  </tbody>\n",
       "</table>\n",
       "</div>"
      ],
      "text/plain": [
       "   user_id                                           filename  index\n",
       "0     2953  opensnp_alldata/opensnp_datadump.current/user2...      0\n",
       "1     4135  opensnp_alldata/opensnp_datadump.current/user4...      1"
      ]
     },
     "execution_count": 26,
     "metadata": {},
     "output_type": "execute_result"
    }
   ],
   "source": [
    "true_filenames_drop_duplicates.head(2)"
   ]
  },
  {
   "cell_type": "markdown",
   "id": "797e2e43",
   "metadata": {},
   "source": [
    "### Procedimento passando por todos os arquivos para:\n",
    "* Filtrar os dados individuais\n",
    "* Gerar um conjunto de dados com as SNPs da lista `snps_eye_color`"
   ]
  },
  {
   "cell_type": "code",
   "execution_count": 27,
   "id": "aa6d74bc",
   "metadata": {
    "scrolled": true
   },
   "outputs": [],
   "source": [
    "def extract_snps_from_files(snps_eye_color):\n",
    "    snp_dict = {}\n",
    "    for snp in snps_eye_color:\n",
    "        snp_dict[snp] = []\n",
    "\n",
    "    user_id_list2 = []   \n",
    "        \n",
    "    for index, row in true_filenames_drop_duplicates.iterrows():\n",
    "        try:        \n",
    "            s = SNPs(r'{}'.format(row['filename']))\n",
    "            df = s.snps\n",
    "            df = df[['genotype']]\n",
    "            \n",
    "            \n",
    "            \n",
    "            df_t = df.filter(items = snps_eye_color, axis=0).T #dataframe de um linha com cada snp e o conteúdo no valor\n",
    "\n",
    "            for snp in snps_eye_color:\n",
    "                try:\n",
    "                    snp_dict[snp].append(df_t[snp][0])\n",
    "                except:\n",
    "                    snp_dict[snp].append('missing')\n",
    "                    \n",
    "            user_id_list2.append(row['user_id'])\n",
    "                    \n",
    "                    \n",
    "            #print(row['user_id'])\n",
    "            print(len(df.filter(items = snps_eye_color, axis=0)))\n",
    "            #print('-'*30)\n",
    "            \n",
    "        except:\n",
    "            print(r\"ERRO!!! NO ARQUIVO {}\".format(row['filename']))\n",
    "        \n",
    "        \n",
    "    return (snp_dict, user_id_list2)   \n",
    "        "
   ]
  },
  {
   "cell_type": "code",
   "execution_count": 28,
   "id": "91d30c15",
   "metadata": {},
   "outputs": [
    {
     "name": "stdout",
     "output_type": "stream",
     "text": [
      "7\n",
      "7\n",
      "12\n"
     ]
    },
    {
     "name": "stderr",
     "output_type": "stream",
     "text": [
      "/Users/emanuele/code/Phenotype_Prediction/env/lib/python3.11/site-packages/snps/io/reader.py:447: DtypeWarning: Columns (1) have mixed types. Specify dtype option on import or set low_memory=False.\n",
      "  df = pd.read_csv(\n"
     ]
    },
    {
     "name": "stdout",
     "output_type": "stream",
     "text": [
      "13\n",
      "12\n"
     ]
    },
    {
     "name": "stderr",
     "output_type": "stream",
     "text": [
      "/Users/emanuele/code/Phenotype_Prediction/env/lib/python3.11/site-packages/snps/io/reader.py:447: DtypeWarning: Columns (1) have mixed types. Specify dtype option on import or set low_memory=False.\n",
      "  df = pd.read_csv(\n"
     ]
    },
    {
     "name": "stdout",
     "output_type": "stream",
     "text": [
      "13\n"
     ]
    },
    {
     "name": "stderr",
     "output_type": "stream",
     "text": [
      "/Users/emanuele/code/Phenotype_Prediction/env/lib/python3.11/site-packages/snps/io/reader.py:447: DtypeWarning: Columns (1) have mixed types. Specify dtype option on import or set low_memory=False.\n",
      "  df = pd.read_csv(\n"
     ]
    },
    {
     "name": "stdout",
     "output_type": "stream",
     "text": [
      "13\n",
      "12\n"
     ]
    },
    {
     "name": "stderr",
     "output_type": "stream",
     "text": [
      "/Users/emanuele/code/Phenotype_Prediction/env/lib/python3.11/site-packages/snps/io/reader.py:447: DtypeWarning: Columns (1) have mixed types. Specify dtype option on import or set low_memory=False.\n",
      "  df = pd.read_csv(\n"
     ]
    },
    {
     "name": "stdout",
     "output_type": "stream",
     "text": [
      "13\n",
      "3\n"
     ]
    },
    {
     "name": "stderr",
     "output_type": "stream",
     "text": [
      "/Users/emanuele/code/Phenotype_Prediction/env/lib/python3.11/site-packages/snps/io/reader.py:447: DtypeWarning: Columns (1) have mixed types. Specify dtype option on import or set low_memory=False.\n",
      "  df = pd.read_csv(\n"
     ]
    },
    {
     "name": "stdout",
     "output_type": "stream",
     "text": [
      "13\n",
      "0\n",
      "7\n",
      "7\n",
      "ERRO!!! NO ARQUIVO opensnp_alldata/opensnp_datadump.current/user4088_file2768_yearofbirth_unknown_sex_unknown.23andme.txt\n",
      "12\n"
     ]
    },
    {
     "name": "stderr",
     "output_type": "stream",
     "text": [
      "/Users/emanuele/code/Phenotype_Prediction/env/lib/python3.11/site-packages/snps/io/reader.py:447: DtypeWarning: Columns (1) have mixed types. Specify dtype option on import or set low_memory=False.\n",
      "  df = pd.read_csv(\n"
     ]
    },
    {
     "name": "stdout",
     "output_type": "stream",
     "text": [
      "13\n"
     ]
    },
    {
     "name": "stderr",
     "output_type": "stream",
     "text": [
      "no SNPs loaded...\n"
     ]
    },
    {
     "name": "stdout",
     "output_type": "stream",
     "text": [
      "0\n"
     ]
    },
    {
     "name": "stderr",
     "output_type": "stream",
     "text": [
      "/Users/emanuele/code/Phenotype_Prediction/env/lib/python3.11/site-packages/snps/io/reader.py:447: DtypeWarning: Columns (1) have mixed types. Specify dtype option on import or set low_memory=False.\n",
      "  df = pd.read_csv(\n"
     ]
    },
    {
     "name": "stdout",
     "output_type": "stream",
     "text": [
      "13\n"
     ]
    },
    {
     "name": "stderr",
     "output_type": "stream",
     "text": [
      "/Users/emanuele/code/Phenotype_Prediction/env/lib/python3.11/site-packages/snps/io/reader.py:447: DtypeWarning: Columns (1) have mixed types. Specify dtype option on import or set low_memory=False.\n",
      "  df = pd.read_csv(\n"
     ]
    },
    {
     "name": "stdout",
     "output_type": "stream",
     "text": [
      "13\n"
     ]
    },
    {
     "name": "stderr",
     "output_type": "stream",
     "text": [
      "no SNPs loaded...\n"
     ]
    },
    {
     "name": "stdout",
     "output_type": "stream",
     "text": [
      "0\n"
     ]
    },
    {
     "name": "stderr",
     "output_type": "stream",
     "text": [
      "/Users/emanuele/code/Phenotype_Prediction/env/lib/python3.11/site-packages/snps/io/reader.py:447: DtypeWarning: Columns (1) have mixed types. Specify dtype option on import or set low_memory=False.\n",
      "  df = pd.read_csv(\n"
     ]
    },
    {
     "name": "stdout",
     "output_type": "stream",
     "text": [
      "13\n"
     ]
    },
    {
     "name": "stderr",
     "output_type": "stream",
     "text": [
      "/Users/emanuele/code/Phenotype_Prediction/env/lib/python3.11/site-packages/snps/io/reader.py:447: DtypeWarning: Columns (1) have mixed types. Specify dtype option on import or set low_memory=False.\n",
      "  df = pd.read_csv(\n"
     ]
    },
    {
     "name": "stdout",
     "output_type": "stream",
     "text": [
      "13\n"
     ]
    },
    {
     "name": "stderr",
     "output_type": "stream",
     "text": [
      "/Users/emanuele/code/Phenotype_Prediction/env/lib/python3.11/site-packages/snps/io/reader.py:447: DtypeWarning: Columns (1) have mixed types. Specify dtype option on import or set low_memory=False.\n",
      "  df = pd.read_csv(\n"
     ]
    },
    {
     "name": "stdout",
     "output_type": "stream",
     "text": [
      "13\n"
     ]
    },
    {
     "name": "stderr",
     "output_type": "stream",
     "text": [
      "/Users/emanuele/code/Phenotype_Prediction/env/lib/python3.11/site-packages/snps/io/reader.py:447: DtypeWarning: Columns (1) have mixed types. Specify dtype option on import or set low_memory=False.\n",
      "  df = pd.read_csv(\n"
     ]
    },
    {
     "name": "stdout",
     "output_type": "stream",
     "text": [
      "13\n"
     ]
    },
    {
     "name": "stderr",
     "output_type": "stream",
     "text": [
      "/Users/emanuele/code/Phenotype_Prediction/env/lib/python3.11/site-packages/snps/io/reader.py:447: DtypeWarning: Columns (1) have mixed types. Specify dtype option on import or set low_memory=False.\n",
      "  df = pd.read_csv(\n"
     ]
    },
    {
     "name": "stdout",
     "output_type": "stream",
     "text": [
      "13\n"
     ]
    },
    {
     "name": "stderr",
     "output_type": "stream",
     "text": [
      "/Users/emanuele/code/Phenotype_Prediction/env/lib/python3.11/site-packages/snps/io/reader.py:447: DtypeWarning: Columns (1) have mixed types. Specify dtype option on import or set low_memory=False.\n",
      "  df = pd.read_csv(\n"
     ]
    },
    {
     "name": "stdout",
     "output_type": "stream",
     "text": [
      "12\n"
     ]
    },
    {
     "name": "stderr",
     "output_type": "stream",
     "text": [
      "/Users/emanuele/code/Phenotype_Prediction/env/lib/python3.11/site-packages/snps/io/reader.py:447: DtypeWarning: Columns (1) have mixed types. Specify dtype option on import or set low_memory=False.\n",
      "  df = pd.read_csv(\n"
     ]
    },
    {
     "name": "stdout",
     "output_type": "stream",
     "text": [
      "13\n"
     ]
    },
    {
     "name": "stderr",
     "output_type": "stream",
     "text": [
      "/Users/emanuele/code/Phenotype_Prediction/env/lib/python3.11/site-packages/snps/io/reader.py:447: DtypeWarning: Columns (1) have mixed types. Specify dtype option on import or set low_memory=False.\n",
      "  df = pd.read_csv(\n"
     ]
    },
    {
     "name": "stdout",
     "output_type": "stream",
     "text": [
      "13\n"
     ]
    },
    {
     "name": "stderr",
     "output_type": "stream",
     "text": [
      "/Users/emanuele/code/Phenotype_Prediction/env/lib/python3.11/site-packages/snps/io/reader.py:447: DtypeWarning: Columns (1) have mixed types. Specify dtype option on import or set low_memory=False.\n",
      "  df = pd.read_csv(\n"
     ]
    },
    {
     "name": "stdout",
     "output_type": "stream",
     "text": [
      "13\n"
     ]
    },
    {
     "name": "stderr",
     "output_type": "stream",
     "text": [
      "/Users/emanuele/code/Phenotype_Prediction/env/lib/python3.11/site-packages/snps/io/reader.py:447: DtypeWarning: Columns (1) have mixed types. Specify dtype option on import or set low_memory=False.\n",
      "  df = pd.read_csv(\n"
     ]
    },
    {
     "name": "stdout",
     "output_type": "stream",
     "text": [
      "13\n"
     ]
    },
    {
     "name": "stderr",
     "output_type": "stream",
     "text": [
      "/Users/emanuele/code/Phenotype_Prediction/env/lib/python3.11/site-packages/snps/io/reader.py:447: DtypeWarning: Columns (1) have mixed types. Specify dtype option on import or set low_memory=False.\n",
      "  df = pd.read_csv(\n"
     ]
    },
    {
     "name": "stdout",
     "output_type": "stream",
     "text": [
      "13\n"
     ]
    },
    {
     "name": "stderr",
     "output_type": "stream",
     "text": [
      "/Users/emanuele/code/Phenotype_Prediction/env/lib/python3.11/site-packages/snps/io/reader.py:447: DtypeWarning: Columns (1) have mixed types. Specify dtype option on import or set low_memory=False.\n",
      "  df = pd.read_csv(\n"
     ]
    },
    {
     "name": "stdout",
     "output_type": "stream",
     "text": [
      "13\n"
     ]
    },
    {
     "name": "stderr",
     "output_type": "stream",
     "text": [
      "/Users/emanuele/code/Phenotype_Prediction/env/lib/python3.11/site-packages/snps/io/reader.py:447: DtypeWarning: Columns (1) have mixed types. Specify dtype option on import or set low_memory=False.\n",
      "  df = pd.read_csv(\n"
     ]
    },
    {
     "name": "stdout",
     "output_type": "stream",
     "text": [
      "13\n"
     ]
    },
    {
     "name": "stderr",
     "output_type": "stream",
     "text": [
      "/Users/emanuele/code/Phenotype_Prediction/env/lib/python3.11/site-packages/snps/io/reader.py:447: DtypeWarning: Columns (1) have mixed types. Specify dtype option on import or set low_memory=False.\n",
      "  df = pd.read_csv(\n"
     ]
    },
    {
     "name": "stdout",
     "output_type": "stream",
     "text": [
      "13\n"
     ]
    },
    {
     "name": "stderr",
     "output_type": "stream",
     "text": [
      "/Users/emanuele/code/Phenotype_Prediction/env/lib/python3.11/site-packages/snps/io/reader.py:447: DtypeWarning: Columns (1) have mixed types. Specify dtype option on import or set low_memory=False.\n",
      "  df = pd.read_csv(\n"
     ]
    },
    {
     "name": "stdout",
     "output_type": "stream",
     "text": [
      "13\n"
     ]
    },
    {
     "name": "stderr",
     "output_type": "stream",
     "text": [
      "/Users/emanuele/code/Phenotype_Prediction/env/lib/python3.11/site-packages/snps/io/reader.py:447: DtypeWarning: Columns (1) have mixed types. Specify dtype option on import or set low_memory=False.\n",
      "  df = pd.read_csv(\n"
     ]
    },
    {
     "name": "stdout",
     "output_type": "stream",
     "text": [
      "13\n"
     ]
    },
    {
     "name": "stderr",
     "output_type": "stream",
     "text": [
      "/Users/emanuele/code/Phenotype_Prediction/env/lib/python3.11/site-packages/snps/io/reader.py:447: DtypeWarning: Columns (1) have mixed types. Specify dtype option on import or set low_memory=False.\n",
      "  df = pd.read_csv(\n"
     ]
    },
    {
     "name": "stdout",
     "output_type": "stream",
     "text": [
      "13\n",
      "ERRO!!! NO ARQUIVO opensnp_alldata/opensnp_datadump.current/user881_file429_yearofbirth_unknown_sex_XY.ftdna-illumina.txt\n"
     ]
    },
    {
     "name": "stderr",
     "output_type": "stream",
     "text": [
      "/Users/emanuele/code/Phenotype_Prediction/env/lib/python3.11/site-packages/snps/io/reader.py:447: DtypeWarning: Columns (1) have mixed types. Specify dtype option on import or set low_memory=False.\n",
      "  df = pd.read_csv(\n"
     ]
    },
    {
     "name": "stdout",
     "output_type": "stream",
     "text": [
      "13\n"
     ]
    },
    {
     "name": "stderr",
     "output_type": "stream",
     "text": [
      "/Users/emanuele/code/Phenotype_Prediction/env/lib/python3.11/site-packages/snps/io/reader.py:447: DtypeWarning: Columns (1) have mixed types. Specify dtype option on import or set low_memory=False.\n",
      "  df = pd.read_csv(\n"
     ]
    },
    {
     "name": "stdout",
     "output_type": "stream",
     "text": [
      "13\n"
     ]
    },
    {
     "name": "stderr",
     "output_type": "stream",
     "text": [
      "/Users/emanuele/code/Phenotype_Prediction/env/lib/python3.11/site-packages/snps/io/reader.py:447: DtypeWarning: Columns (1) have mixed types. Specify dtype option on import or set low_memory=False.\n",
      "  df = pd.read_csv(\n"
     ]
    },
    {
     "name": "stdout",
     "output_type": "stream",
     "text": [
      "13\n"
     ]
    },
    {
     "name": "stderr",
     "output_type": "stream",
     "text": [
      "/Users/emanuele/code/Phenotype_Prediction/env/lib/python3.11/site-packages/snps/io/reader.py:447: DtypeWarning: Columns (1) have mixed types. Specify dtype option on import or set low_memory=False.\n",
      "  df = pd.read_csv(\n"
     ]
    },
    {
     "name": "stdout",
     "output_type": "stream",
     "text": [
      "13\n",
      "7\n",
      "12\n",
      "12\n"
     ]
    },
    {
     "name": "stderr",
     "output_type": "stream",
     "text": [
      "/Users/emanuele/code/Phenotype_Prediction/env/lib/python3.11/site-packages/snps/io/reader.py:447: DtypeWarning: Columns (1) have mixed types. Specify dtype option on import or set low_memory=False.\n",
      "  df = pd.read_csv(\n"
     ]
    },
    {
     "name": "stdout",
     "output_type": "stream",
     "text": [
      "13\n",
      "0\n"
     ]
    },
    {
     "name": "stderr",
     "output_type": "stream",
     "text": [
      "/Users/emanuele/code/Phenotype_Prediction/env/lib/python3.11/site-packages/snps/io/reader.py:447: DtypeWarning: Columns (1) have mixed types. Specify dtype option on import or set low_memory=False.\n",
      "  df = pd.read_csv(\n"
     ]
    },
    {
     "name": "stdout",
     "output_type": "stream",
     "text": [
      "13\n"
     ]
    },
    {
     "name": "stderr",
     "output_type": "stream",
     "text": [
      "/Users/emanuele/code/Phenotype_Prediction/env/lib/python3.11/site-packages/snps/io/reader.py:447: DtypeWarning: Columns (1) have mixed types. Specify dtype option on import or set low_memory=False.\n",
      "  df = pd.read_csv(\n"
     ]
    },
    {
     "name": "stdout",
     "output_type": "stream",
     "text": [
      "13\n"
     ]
    },
    {
     "name": "stderr",
     "output_type": "stream",
     "text": [
      "/Users/emanuele/code/Phenotype_Prediction/env/lib/python3.11/site-packages/snps/io/reader.py:447: DtypeWarning: Columns (1) have mixed types. Specify dtype option on import or set low_memory=False.\n",
      "  df = pd.read_csv(\n"
     ]
    },
    {
     "name": "stdout",
     "output_type": "stream",
     "text": [
      "13\n",
      "7\n"
     ]
    },
    {
     "name": "stderr",
     "output_type": "stream",
     "text": [
      "/Users/emanuele/code/Phenotype_Prediction/env/lib/python3.11/site-packages/snps/io/reader.py:447: DtypeWarning: Columns (1) have mixed types. Specify dtype option on import or set low_memory=False.\n",
      "  df = pd.read_csv(\n"
     ]
    },
    {
     "name": "stdout",
     "output_type": "stream",
     "text": [
      "13\n"
     ]
    },
    {
     "name": "stderr",
     "output_type": "stream",
     "text": [
      "/Users/emanuele/code/Phenotype_Prediction/env/lib/python3.11/site-packages/snps/io/reader.py:447: DtypeWarning: Columns (1) have mixed types. Specify dtype option on import or set low_memory=False.\n",
      "  df = pd.read_csv(\n"
     ]
    },
    {
     "name": "stdout",
     "output_type": "stream",
     "text": [
      "13\n"
     ]
    },
    {
     "name": "stderr",
     "output_type": "stream",
     "text": [
      "/Users/emanuele/code/Phenotype_Prediction/env/lib/python3.11/site-packages/snps/io/reader.py:447: DtypeWarning: Columns (1) have mixed types. Specify dtype option on import or set low_memory=False.\n",
      "  df = pd.read_csv(\n"
     ]
    },
    {
     "name": "stdout",
     "output_type": "stream",
     "text": [
      "13\n"
     ]
    },
    {
     "name": "stderr",
     "output_type": "stream",
     "text": [
      "/Users/emanuele/code/Phenotype_Prediction/env/lib/python3.11/site-packages/snps/io/reader.py:447: DtypeWarning: Columns (1) have mixed types. Specify dtype option on import or set low_memory=False.\n",
      "  df = pd.read_csv(\n"
     ]
    },
    {
     "name": "stdout",
     "output_type": "stream",
     "text": [
      "13\n"
     ]
    },
    {
     "name": "stderr",
     "output_type": "stream",
     "text": [
      "/Users/emanuele/code/Phenotype_Prediction/env/lib/python3.11/site-packages/snps/io/reader.py:447: DtypeWarning: Columns (1) have mixed types. Specify dtype option on import or set low_memory=False.\n",
      "  df = pd.read_csv(\n"
     ]
    },
    {
     "name": "stdout",
     "output_type": "stream",
     "text": [
      "13\n"
     ]
    },
    {
     "name": "stderr",
     "output_type": "stream",
     "text": [
      "/Users/emanuele/code/Phenotype_Prediction/env/lib/python3.11/site-packages/snps/io/reader.py:447: DtypeWarning: Columns (1) have mixed types. Specify dtype option on import or set low_memory=False.\n",
      "  df = pd.read_csv(\n"
     ]
    },
    {
     "name": "stdout",
     "output_type": "stream",
     "text": [
      "13\n"
     ]
    },
    {
     "name": "stderr",
     "output_type": "stream",
     "text": [
      "/Users/emanuele/code/Phenotype_Prediction/env/lib/python3.11/site-packages/snps/io/reader.py:447: DtypeWarning: Columns (1) have mixed types. Specify dtype option on import or set low_memory=False.\n",
      "  df = pd.read_csv(\n"
     ]
    },
    {
     "name": "stdout",
     "output_type": "stream",
     "text": [
      "13\n"
     ]
    },
    {
     "name": "stderr",
     "output_type": "stream",
     "text": [
      "/Users/emanuele/code/Phenotype_Prediction/env/lib/python3.11/site-packages/snps/io/reader.py:447: DtypeWarning: Columns (1) have mixed types. Specify dtype option on import or set low_memory=False.\n",
      "  df = pd.read_csv(\n"
     ]
    },
    {
     "name": "stdout",
     "output_type": "stream",
     "text": [
      "12\n"
     ]
    },
    {
     "name": "stderr",
     "output_type": "stream",
     "text": [
      "/Users/emanuele/code/Phenotype_Prediction/env/lib/python3.11/site-packages/snps/io/reader.py:447: DtypeWarning: Columns (1) have mixed types. Specify dtype option on import or set low_memory=False.\n",
      "  df = pd.read_csv(\n"
     ]
    },
    {
     "name": "stdout",
     "output_type": "stream",
     "text": [
      "13\n"
     ]
    },
    {
     "name": "stderr",
     "output_type": "stream",
     "text": [
      "/Users/emanuele/code/Phenotype_Prediction/env/lib/python3.11/site-packages/snps/io/reader.py:447: DtypeWarning: Columns (1) have mixed types. Specify dtype option on import or set low_memory=False.\n",
      "  df = pd.read_csv(\n"
     ]
    },
    {
     "name": "stdout",
     "output_type": "stream",
     "text": [
      "13\n"
     ]
    },
    {
     "name": "stderr",
     "output_type": "stream",
     "text": [
      "/Users/emanuele/code/Phenotype_Prediction/env/lib/python3.11/site-packages/snps/io/reader.py:447: DtypeWarning: Columns (1) have mixed types. Specify dtype option on import or set low_memory=False.\n",
      "  df = pd.read_csv(\n"
     ]
    },
    {
     "name": "stdout",
     "output_type": "stream",
     "text": [
      "13\n",
      "13\n"
     ]
    },
    {
     "name": "stderr",
     "output_type": "stream",
     "text": [
      "/Users/emanuele/code/Phenotype_Prediction/env/lib/python3.11/site-packages/snps/io/reader.py:447: DtypeWarning: Columns (1) have mixed types. Specify dtype option on import or set low_memory=False.\n",
      "  df = pd.read_csv(\n"
     ]
    },
    {
     "name": "stdout",
     "output_type": "stream",
     "text": [
      "12\n"
     ]
    },
    {
     "name": "stderr",
     "output_type": "stream",
     "text": [
      "/Users/emanuele/code/Phenotype_Prediction/env/lib/python3.11/site-packages/snps/io/reader.py:447: DtypeWarning: Columns (1) have mixed types. Specify dtype option on import or set low_memory=False.\n",
      "  df = pd.read_csv(\n",
      "no SNPs loaded...\n"
     ]
    },
    {
     "name": "stdout",
     "output_type": "stream",
     "text": [
      "12\n",
      "0\n"
     ]
    },
    {
     "name": "stderr",
     "output_type": "stream",
     "text": [
      "/Users/emanuele/code/Phenotype_Prediction/env/lib/python3.11/site-packages/snps/io/reader.py:447: DtypeWarning: Columns (1) have mixed types. Specify dtype option on import or set low_memory=False.\n",
      "  df = pd.read_csv(\n"
     ]
    },
    {
     "name": "stdout",
     "output_type": "stream",
     "text": [
      "13\n"
     ]
    },
    {
     "name": "stderr",
     "output_type": "stream",
     "text": [
      "/Users/emanuele/code/Phenotype_Prediction/env/lib/python3.11/site-packages/snps/io/reader.py:447: DtypeWarning: Columns (1) have mixed types. Specify dtype option on import or set low_memory=False.\n",
      "  df = pd.read_csv(\n"
     ]
    },
    {
     "name": "stdout",
     "output_type": "stream",
     "text": [
      "13\n"
     ]
    },
    {
     "name": "stderr",
     "output_type": "stream",
     "text": [
      "/Users/emanuele/code/Phenotype_Prediction/env/lib/python3.11/site-packages/snps/io/reader.py:447: DtypeWarning: Columns (1) have mixed types. Specify dtype option on import or set low_memory=False.\n",
      "  df = pd.read_csv(\n"
     ]
    },
    {
     "name": "stdout",
     "output_type": "stream",
     "text": [
      "13\n",
      "13\n"
     ]
    },
    {
     "name": "stderr",
     "output_type": "stream",
     "text": [
      "/Users/emanuele/code/Phenotype_Prediction/env/lib/python3.11/site-packages/snps/io/reader.py:447: DtypeWarning: Columns (1) have mixed types. Specify dtype option on import or set low_memory=False.\n",
      "  df = pd.read_csv(\n"
     ]
    },
    {
     "name": "stdout",
     "output_type": "stream",
     "text": [
      "12\n"
     ]
    },
    {
     "name": "stderr",
     "output_type": "stream",
     "text": [
      "/Users/emanuele/code/Phenotype_Prediction/env/lib/python3.11/site-packages/snps/io/reader.py:447: DtypeWarning: Columns (1) have mixed types. Specify dtype option on import or set low_memory=False.\n",
      "  df = pd.read_csv(\n"
     ]
    },
    {
     "name": "stdout",
     "output_type": "stream",
     "text": [
      "13\n"
     ]
    },
    {
     "name": "stderr",
     "output_type": "stream",
     "text": [
      "/Users/emanuele/code/Phenotype_Prediction/env/lib/python3.11/site-packages/snps/io/reader.py:447: DtypeWarning: Columns (1) have mixed types. Specify dtype option on import or set low_memory=False.\n",
      "  df = pd.read_csv(\n"
     ]
    },
    {
     "name": "stdout",
     "output_type": "stream",
     "text": [
      "13\n"
     ]
    },
    {
     "name": "stderr",
     "output_type": "stream",
     "text": [
      "/Users/emanuele/code/Phenotype_Prediction/env/lib/python3.11/site-packages/snps/io/reader.py:447: DtypeWarning: Columns (1) have mixed types. Specify dtype option on import or set low_memory=False.\n",
      "  df = pd.read_csv(\n"
     ]
    },
    {
     "name": "stdout",
     "output_type": "stream",
     "text": [
      "13\n"
     ]
    },
    {
     "name": "stderr",
     "output_type": "stream",
     "text": [
      "/Users/emanuele/code/Phenotype_Prediction/env/lib/python3.11/site-packages/snps/io/reader.py:447: DtypeWarning: Columns (1) have mixed types. Specify dtype option on import or set low_memory=False.\n",
      "  df = pd.read_csv(\n"
     ]
    },
    {
     "name": "stdout",
     "output_type": "stream",
     "text": [
      "13\n"
     ]
    },
    {
     "name": "stderr",
     "output_type": "stream",
     "text": [
      "/Users/emanuele/code/Phenotype_Prediction/env/lib/python3.11/site-packages/snps/io/reader.py:447: DtypeWarning: Columns (1) have mixed types. Specify dtype option on import or set low_memory=False.\n",
      "  df = pd.read_csv(\n"
     ]
    },
    {
     "name": "stdout",
     "output_type": "stream",
     "text": [
      "13\n"
     ]
    },
    {
     "name": "stderr",
     "output_type": "stream",
     "text": [
      "/Users/emanuele/code/Phenotype_Prediction/env/lib/python3.11/site-packages/snps/io/reader.py:447: DtypeWarning: Columns (1) have mixed types. Specify dtype option on import or set low_memory=False.\n",
      "  df = pd.read_csv(\n"
     ]
    },
    {
     "name": "stdout",
     "output_type": "stream",
     "text": [
      "13\n"
     ]
    },
    {
     "name": "stderr",
     "output_type": "stream",
     "text": [
      "no SNPs loaded...\n"
     ]
    },
    {
     "name": "stdout",
     "output_type": "stream",
     "text": [
      "0\n"
     ]
    },
    {
     "name": "stderr",
     "output_type": "stream",
     "text": [
      "/Users/emanuele/code/Phenotype_Prediction/env/lib/python3.11/site-packages/snps/io/reader.py:447: DtypeWarning: Columns (1) have mixed types. Specify dtype option on import or set low_memory=False.\n",
      "  df = pd.read_csv(\n"
     ]
    },
    {
     "name": "stdout",
     "output_type": "stream",
     "text": [
      "13\n"
     ]
    },
    {
     "name": "stderr",
     "output_type": "stream",
     "text": [
      "/Users/emanuele/code/Phenotype_Prediction/env/lib/python3.11/site-packages/snps/io/reader.py:447: DtypeWarning: Columns (1) have mixed types. Specify dtype option on import or set low_memory=False.\n",
      "  df = pd.read_csv(\n"
     ]
    },
    {
     "name": "stdout",
     "output_type": "stream",
     "text": [
      "13\n"
     ]
    },
    {
     "name": "stderr",
     "output_type": "stream",
     "text": [
      "/Users/emanuele/code/Phenotype_Prediction/env/lib/python3.11/site-packages/snps/io/reader.py:447: DtypeWarning: Columns (1) have mixed types. Specify dtype option on import or set low_memory=False.\n",
      "  df = pd.read_csv(\n"
     ]
    },
    {
     "name": "stdout",
     "output_type": "stream",
     "text": [
      "13\n"
     ]
    },
    {
     "name": "stderr",
     "output_type": "stream",
     "text": [
      "/Users/emanuele/code/Phenotype_Prediction/env/lib/python3.11/site-packages/snps/io/reader.py:447: DtypeWarning: Columns (1) have mixed types. Specify dtype option on import or set low_memory=False.\n",
      "  df = pd.read_csv(\n"
     ]
    },
    {
     "name": "stdout",
     "output_type": "stream",
     "text": [
      "12\n"
     ]
    },
    {
     "name": "stderr",
     "output_type": "stream",
     "text": [
      "/Users/emanuele/code/Phenotype_Prediction/env/lib/python3.11/site-packages/snps/io/reader.py:447: DtypeWarning: Columns (1) have mixed types. Specify dtype option on import or set low_memory=False.\n",
      "  df = pd.read_csv(\n"
     ]
    },
    {
     "name": "stdout",
     "output_type": "stream",
     "text": [
      "12\n"
     ]
    },
    {
     "name": "stderr",
     "output_type": "stream",
     "text": [
      "/Users/emanuele/code/Phenotype_Prediction/env/lib/python3.11/site-packages/snps/io/reader.py:447: DtypeWarning: Columns (1) have mixed types. Specify dtype option on import or set low_memory=False.\n",
      "  df = pd.read_csv(\n"
     ]
    },
    {
     "name": "stdout",
     "output_type": "stream",
     "text": [
      "13\n"
     ]
    },
    {
     "name": "stderr",
     "output_type": "stream",
     "text": [
      "/Users/emanuele/code/Phenotype_Prediction/env/lib/python3.11/site-packages/snps/io/reader.py:447: DtypeWarning: Columns (1) have mixed types. Specify dtype option on import or set low_memory=False.\n",
      "  df = pd.read_csv(\n"
     ]
    },
    {
     "name": "stdout",
     "output_type": "stream",
     "text": [
      "13\n",
      "7\n",
      "7\n",
      "4\n"
     ]
    },
    {
     "name": "stderr",
     "output_type": "stream",
     "text": [
      "/Users/emanuele/code/Phenotype_Prediction/env/lib/python3.11/site-packages/snps/io/reader.py:447: DtypeWarning: Columns (1) have mixed types. Specify dtype option on import or set low_memory=False.\n",
      "  df = pd.read_csv(\n"
     ]
    },
    {
     "name": "stdout",
     "output_type": "stream",
     "text": [
      "13\n"
     ]
    },
    {
     "name": "stderr",
     "output_type": "stream",
     "text": [
      "/Users/emanuele/code/Phenotype_Prediction/env/lib/python3.11/site-packages/snps/io/reader.py:447: DtypeWarning: Columns (1) have mixed types. Specify dtype option on import or set low_memory=False.\n",
      "  df = pd.read_csv(\n"
     ]
    },
    {
     "name": "stdout",
     "output_type": "stream",
     "text": [
      "13\n"
     ]
    },
    {
     "name": "stderr",
     "output_type": "stream",
     "text": [
      "/Users/emanuele/code/Phenotype_Prediction/env/lib/python3.11/site-packages/snps/io/reader.py:447: DtypeWarning: Columns (1) have mixed types. Specify dtype option on import or set low_memory=False.\n",
      "  df = pd.read_csv(\n"
     ]
    },
    {
     "name": "stdout",
     "output_type": "stream",
     "text": [
      "13\n"
     ]
    },
    {
     "name": "stderr",
     "output_type": "stream",
     "text": [
      "/Users/emanuele/code/Phenotype_Prediction/env/lib/python3.11/site-packages/snps/io/reader.py:447: DtypeWarning: Columns (1) have mixed types. Specify dtype option on import or set low_memory=False.\n",
      "  df = pd.read_csv(\n"
     ]
    },
    {
     "name": "stdout",
     "output_type": "stream",
     "text": [
      "12\n"
     ]
    },
    {
     "name": "stderr",
     "output_type": "stream",
     "text": [
      "/Users/emanuele/code/Phenotype_Prediction/env/lib/python3.11/site-packages/snps/io/reader.py:447: DtypeWarning: Columns (1) have mixed types. Specify dtype option on import or set low_memory=False.\n",
      "  df = pd.read_csv(\n"
     ]
    },
    {
     "name": "stdout",
     "output_type": "stream",
     "text": [
      "13\n"
     ]
    },
    {
     "name": "stderr",
     "output_type": "stream",
     "text": [
      "/Users/emanuele/code/Phenotype_Prediction/env/lib/python3.11/site-packages/snps/io/reader.py:447: DtypeWarning: Columns (1) have mixed types. Specify dtype option on import or set low_memory=False.\n",
      "  df = pd.read_csv(\n"
     ]
    },
    {
     "name": "stdout",
     "output_type": "stream",
     "text": [
      "13\n"
     ]
    },
    {
     "name": "stderr",
     "output_type": "stream",
     "text": [
      "/Users/emanuele/code/Phenotype_Prediction/env/lib/python3.11/site-packages/snps/io/reader.py:447: DtypeWarning: Columns (1) have mixed types. Specify dtype option on import or set low_memory=False.\n",
      "  df = pd.read_csv(\n"
     ]
    },
    {
     "name": "stdout",
     "output_type": "stream",
     "text": [
      "12\n"
     ]
    },
    {
     "name": "stderr",
     "output_type": "stream",
     "text": [
      "/Users/emanuele/code/Phenotype_Prediction/env/lib/python3.11/site-packages/snps/io/reader.py:447: DtypeWarning: Columns (1) have mixed types. Specify dtype option on import or set low_memory=False.\n",
      "  df = pd.read_csv(\n"
     ]
    },
    {
     "name": "stdout",
     "output_type": "stream",
     "text": [
      "13\n"
     ]
    },
    {
     "name": "stderr",
     "output_type": "stream",
     "text": [
      "/Users/emanuele/code/Phenotype_Prediction/env/lib/python3.11/site-packages/snps/io/reader.py:447: DtypeWarning: Columns (1) have mixed types. Specify dtype option on import or set low_memory=False.\n",
      "  df = pd.read_csv(\n"
     ]
    },
    {
     "name": "stdout",
     "output_type": "stream",
     "text": [
      "13\n"
     ]
    },
    {
     "name": "stderr",
     "output_type": "stream",
     "text": [
      "/Users/emanuele/code/Phenotype_Prediction/env/lib/python3.11/site-packages/snps/io/reader.py:447: DtypeWarning: Columns (1) have mixed types. Specify dtype option on import or set low_memory=False.\n",
      "  df = pd.read_csv(\n"
     ]
    },
    {
     "name": "stdout",
     "output_type": "stream",
     "text": [
      "13\n"
     ]
    },
    {
     "name": "stderr",
     "output_type": "stream",
     "text": [
      "/Users/emanuele/code/Phenotype_Prediction/env/lib/python3.11/site-packages/snps/io/reader.py:447: DtypeWarning: Columns (1) have mixed types. Specify dtype option on import or set low_memory=False.\n",
      "  df = pd.read_csv(\n"
     ]
    },
    {
     "name": "stdout",
     "output_type": "stream",
     "text": [
      "13\n",
      "ERRO!!! NO ARQUIVO opensnp_alldata/opensnp_datadump.current/user158_file66_yearofbirth_unknown_sex_unknown.23andme.txt\n"
     ]
    },
    {
     "name": "stderr",
     "output_type": "stream",
     "text": [
      "/Users/emanuele/code/Phenotype_Prediction/env/lib/python3.11/site-packages/snps/io/reader.py:447: DtypeWarning: Columns (1) have mixed types. Specify dtype option on import or set low_memory=False.\n",
      "  df = pd.read_csv(\n"
     ]
    },
    {
     "name": "stdout",
     "output_type": "stream",
     "text": [
      "13\n"
     ]
    },
    {
     "name": "stderr",
     "output_type": "stream",
     "text": [
      "/Users/emanuele/code/Phenotype_Prediction/env/lib/python3.11/site-packages/snps/io/reader.py:447: DtypeWarning: Columns (1) have mixed types. Specify dtype option on import or set low_memory=False.\n",
      "  df = pd.read_csv(\n"
     ]
    },
    {
     "name": "stdout",
     "output_type": "stream",
     "text": [
      "13\n"
     ]
    },
    {
     "name": "stderr",
     "output_type": "stream",
     "text": [
      "/Users/emanuele/code/Phenotype_Prediction/env/lib/python3.11/site-packages/snps/io/reader.py:447: DtypeWarning: Columns (1) have mixed types. Specify dtype option on import or set low_memory=False.\n",
      "  df = pd.read_csv(\n"
     ]
    },
    {
     "name": "stdout",
     "output_type": "stream",
     "text": [
      "13\n"
     ]
    },
    {
     "name": "stderr",
     "output_type": "stream",
     "text": [
      "/Users/emanuele/code/Phenotype_Prediction/env/lib/python3.11/site-packages/snps/io/reader.py:447: DtypeWarning: Columns (1) have mixed types. Specify dtype option on import or set low_memory=False.\n",
      "  df = pd.read_csv(\n"
     ]
    },
    {
     "name": "stdout",
     "output_type": "stream",
     "text": [
      "13\n"
     ]
    },
    {
     "name": "stderr",
     "output_type": "stream",
     "text": [
      "no SNPs loaded...\n"
     ]
    },
    {
     "name": "stdout",
     "output_type": "stream",
     "text": [
      "0\n"
     ]
    },
    {
     "name": "stderr",
     "output_type": "stream",
     "text": [
      "/Users/emanuele/code/Phenotype_Prediction/env/lib/python3.11/site-packages/snps/io/reader.py:447: DtypeWarning: Columns (1) have mixed types. Specify dtype option on import or set low_memory=False.\n",
      "  df = pd.read_csv(\n"
     ]
    },
    {
     "name": "stdout",
     "output_type": "stream",
     "text": [
      "13\n"
     ]
    },
    {
     "name": "stderr",
     "output_type": "stream",
     "text": [
      "/Users/emanuele/code/Phenotype_Prediction/env/lib/python3.11/site-packages/snps/io/reader.py:447: DtypeWarning: Columns (1) have mixed types. Specify dtype option on import or set low_memory=False.\n",
      "  df = pd.read_csv(\n"
     ]
    },
    {
     "name": "stdout",
     "output_type": "stream",
     "text": [
      "13\n",
      "7\n"
     ]
    },
    {
     "name": "stderr",
     "output_type": "stream",
     "text": [
      "/Users/emanuele/code/Phenotype_Prediction/env/lib/python3.11/site-packages/snps/io/reader.py:447: DtypeWarning: Columns (1) have mixed types. Specify dtype option on import or set low_memory=False.\n",
      "  df = pd.read_csv(\n"
     ]
    },
    {
     "name": "stdout",
     "output_type": "stream",
     "text": [
      "13\n"
     ]
    },
    {
     "name": "stderr",
     "output_type": "stream",
     "text": [
      "/Users/emanuele/code/Phenotype_Prediction/env/lib/python3.11/site-packages/snps/io/reader.py:447: DtypeWarning: Columns (1) have mixed types. Specify dtype option on import or set low_memory=False.\n",
      "  df = pd.read_csv(\n"
     ]
    },
    {
     "name": "stdout",
     "output_type": "stream",
     "text": [
      "13\n",
      "12\n"
     ]
    },
    {
     "name": "stderr",
     "output_type": "stream",
     "text": [
      "/Users/emanuele/code/Phenotype_Prediction/env/lib/python3.11/site-packages/snps/io/reader.py:447: DtypeWarning: Columns (1) have mixed types. Specify dtype option on import or set low_memory=False.\n",
      "  df = pd.read_csv(\n"
     ]
    },
    {
     "name": "stdout",
     "output_type": "stream",
     "text": [
      "13\n"
     ]
    },
    {
     "name": "stderr",
     "output_type": "stream",
     "text": [
      "/Users/emanuele/code/Phenotype_Prediction/env/lib/python3.11/site-packages/snps/io/reader.py:447: DtypeWarning: Columns (1) have mixed types. Specify dtype option on import or set low_memory=False.\n",
      "  df = pd.read_csv(\n"
     ]
    },
    {
     "name": "stdout",
     "output_type": "stream",
     "text": [
      "13\n"
     ]
    },
    {
     "name": "stderr",
     "output_type": "stream",
     "text": [
      "/Users/emanuele/code/Phenotype_Prediction/env/lib/python3.11/site-packages/snps/io/reader.py:447: DtypeWarning: Columns (1) have mixed types. Specify dtype option on import or set low_memory=False.\n",
      "  df = pd.read_csv(\n"
     ]
    },
    {
     "name": "stdout",
     "output_type": "stream",
     "text": [
      "12\n"
     ]
    },
    {
     "name": "stderr",
     "output_type": "stream",
     "text": [
      "/Users/emanuele/code/Phenotype_Prediction/env/lib/python3.11/site-packages/snps/io/reader.py:447: DtypeWarning: Columns (1) have mixed types. Specify dtype option on import or set low_memory=False.\n",
      "  df = pd.read_csv(\n"
     ]
    },
    {
     "name": "stdout",
     "output_type": "stream",
     "text": [
      "13\n"
     ]
    },
    {
     "name": "stderr",
     "output_type": "stream",
     "text": [
      "/Users/emanuele/code/Phenotype_Prediction/env/lib/python3.11/site-packages/snps/io/reader.py:447: DtypeWarning: Columns (1) have mixed types. Specify dtype option on import or set low_memory=False.\n",
      "  df = pd.read_csv(\n"
     ]
    },
    {
     "name": "stdout",
     "output_type": "stream",
     "text": [
      "12\n"
     ]
    },
    {
     "name": "stderr",
     "output_type": "stream",
     "text": [
      "/Users/emanuele/code/Phenotype_Prediction/env/lib/python3.11/site-packages/snps/io/reader.py:447: DtypeWarning: Columns (1) have mixed types. Specify dtype option on import or set low_memory=False.\n",
      "  df = pd.read_csv(\n"
     ]
    },
    {
     "name": "stdout",
     "output_type": "stream",
     "text": [
      "13\n"
     ]
    },
    {
     "name": "stderr",
     "output_type": "stream",
     "text": [
      "/Users/emanuele/code/Phenotype_Prediction/env/lib/python3.11/site-packages/snps/io/reader.py:447: DtypeWarning: Columns (1) have mixed types. Specify dtype option on import or set low_memory=False.\n",
      "  df = pd.read_csv(\n"
     ]
    },
    {
     "name": "stdout",
     "output_type": "stream",
     "text": [
      "13\n"
     ]
    },
    {
     "name": "stderr",
     "output_type": "stream",
     "text": [
      "/Users/emanuele/code/Phenotype_Prediction/env/lib/python3.11/site-packages/snps/io/reader.py:447: DtypeWarning: Columns (1) have mixed types. Specify dtype option on import or set low_memory=False.\n",
      "  df = pd.read_csv(\n"
     ]
    },
    {
     "name": "stdout",
     "output_type": "stream",
     "text": [
      "13\n"
     ]
    },
    {
     "name": "stderr",
     "output_type": "stream",
     "text": [
      "/Users/emanuele/code/Phenotype_Prediction/env/lib/python3.11/site-packages/snps/io/reader.py:447: DtypeWarning: Columns (1) have mixed types. Specify dtype option on import or set low_memory=False.\n",
      "  df = pd.read_csv(\n"
     ]
    },
    {
     "name": "stdout",
     "output_type": "stream",
     "text": [
      "13\n"
     ]
    },
    {
     "name": "stderr",
     "output_type": "stream",
     "text": [
      "/Users/emanuele/code/Phenotype_Prediction/env/lib/python3.11/site-packages/snps/io/reader.py:447: DtypeWarning: Columns (1) have mixed types. Specify dtype option on import or set low_memory=False.\n",
      "  df = pd.read_csv(\n"
     ]
    },
    {
     "name": "stdout",
     "output_type": "stream",
     "text": [
      "13\n"
     ]
    },
    {
     "name": "stderr",
     "output_type": "stream",
     "text": [
      "/Users/emanuele/code/Phenotype_Prediction/env/lib/python3.11/site-packages/snps/io/reader.py:447: DtypeWarning: Columns (1) have mixed types. Specify dtype option on import or set low_memory=False.\n",
      "  df = pd.read_csv(\n"
     ]
    },
    {
     "name": "stdout",
     "output_type": "stream",
     "text": [
      "13\n"
     ]
    },
    {
     "name": "stderr",
     "output_type": "stream",
     "text": [
      "/Users/emanuele/code/Phenotype_Prediction/env/lib/python3.11/site-packages/snps/io/reader.py:447: DtypeWarning: Columns (1) have mixed types. Specify dtype option on import or set low_memory=False.\n",
      "  df = pd.read_csv(\n"
     ]
    },
    {
     "name": "stdout",
     "output_type": "stream",
     "text": [
      "13\n"
     ]
    },
    {
     "name": "stderr",
     "output_type": "stream",
     "text": [
      "/Users/emanuele/code/Phenotype_Prediction/env/lib/python3.11/site-packages/snps/io/reader.py:447: DtypeWarning: Columns (1) have mixed types. Specify dtype option on import or set low_memory=False.\n",
      "  df = pd.read_csv(\n"
     ]
    },
    {
     "name": "stdout",
     "output_type": "stream",
     "text": [
      "13\n"
     ]
    },
    {
     "name": "stderr",
     "output_type": "stream",
     "text": [
      "/Users/emanuele/code/Phenotype_Prediction/env/lib/python3.11/site-packages/snps/io/reader.py:447: DtypeWarning: Columns (1) have mixed types. Specify dtype option on import or set low_memory=False.\n",
      "  df = pd.read_csv(\n"
     ]
    },
    {
     "name": "stdout",
     "output_type": "stream",
     "text": [
      "13\n"
     ]
    },
    {
     "name": "stderr",
     "output_type": "stream",
     "text": [
      "/Users/emanuele/code/Phenotype_Prediction/env/lib/python3.11/site-packages/snps/io/reader.py:447: DtypeWarning: Columns (1) have mixed types. Specify dtype option on import or set low_memory=False.\n",
      "  df = pd.read_csv(\n"
     ]
    },
    {
     "name": "stdout",
     "output_type": "stream",
     "text": [
      "13\n"
     ]
    },
    {
     "name": "stderr",
     "output_type": "stream",
     "text": [
      "/Users/emanuele/code/Phenotype_Prediction/env/lib/python3.11/site-packages/snps/io/reader.py:447: DtypeWarning: Columns (1) have mixed types. Specify dtype option on import or set low_memory=False.\n",
      "  df = pd.read_csv(\n"
     ]
    },
    {
     "name": "stdout",
     "output_type": "stream",
     "text": [
      "13\n"
     ]
    },
    {
     "name": "stderr",
     "output_type": "stream",
     "text": [
      "/Users/emanuele/code/Phenotype_Prediction/env/lib/python3.11/site-packages/snps/io/reader.py:447: DtypeWarning: Columns (1) have mixed types. Specify dtype option on import or set low_memory=False.\n",
      "  df = pd.read_csv(\n"
     ]
    },
    {
     "name": "stdout",
     "output_type": "stream",
     "text": [
      "13\n"
     ]
    },
    {
     "name": "stderr",
     "output_type": "stream",
     "text": [
      "/Users/emanuele/code/Phenotype_Prediction/env/lib/python3.11/site-packages/snps/io/reader.py:447: DtypeWarning: Columns (1) have mixed types. Specify dtype option on import or set low_memory=False.\n",
      "  df = pd.read_csv(\n"
     ]
    },
    {
     "name": "stdout",
     "output_type": "stream",
     "text": [
      "13\n"
     ]
    },
    {
     "name": "stderr",
     "output_type": "stream",
     "text": [
      "/Users/emanuele/code/Phenotype_Prediction/env/lib/python3.11/site-packages/snps/io/reader.py:447: DtypeWarning: Columns (1) have mixed types. Specify dtype option on import or set low_memory=False.\n",
      "  df = pd.read_csv(\n"
     ]
    },
    {
     "name": "stdout",
     "output_type": "stream",
     "text": [
      "13\n"
     ]
    },
    {
     "name": "stderr",
     "output_type": "stream",
     "text": [
      "/Users/emanuele/code/Phenotype_Prediction/env/lib/python3.11/site-packages/snps/io/reader.py:447: DtypeWarning: Columns (1) have mixed types. Specify dtype option on import or set low_memory=False.\n",
      "  df = pd.read_csv(\n"
     ]
    },
    {
     "name": "stdout",
     "output_type": "stream",
     "text": [
      "13\n"
     ]
    },
    {
     "name": "stderr",
     "output_type": "stream",
     "text": [
      "/Users/emanuele/code/Phenotype_Prediction/env/lib/python3.11/site-packages/snps/io/reader.py:447: DtypeWarning: Columns (1) have mixed types. Specify dtype option on import or set low_memory=False.\n",
      "  df = pd.read_csv(\n"
     ]
    },
    {
     "name": "stdout",
     "output_type": "stream",
     "text": [
      "13\n",
      "0\n"
     ]
    },
    {
     "name": "stderr",
     "output_type": "stream",
     "text": [
      "/Users/emanuele/code/Phenotype_Prediction/env/lib/python3.11/site-packages/snps/io/reader.py:447: DtypeWarning: Columns (1) have mixed types. Specify dtype option on import or set low_memory=False.\n",
      "  df = pd.read_csv(\n"
     ]
    },
    {
     "name": "stdout",
     "output_type": "stream",
     "text": [
      "13\n"
     ]
    },
    {
     "name": "stderr",
     "output_type": "stream",
     "text": [
      "/Users/emanuele/code/Phenotype_Prediction/env/lib/python3.11/site-packages/snps/io/reader.py:447: DtypeWarning: Columns (1) have mixed types. Specify dtype option on import or set low_memory=False.\n",
      "  df = pd.read_csv(\n"
     ]
    },
    {
     "name": "stdout",
     "output_type": "stream",
     "text": [
      "13\n"
     ]
    },
    {
     "name": "stderr",
     "output_type": "stream",
     "text": [
      "/Users/emanuele/code/Phenotype_Prediction/env/lib/python3.11/site-packages/snps/io/reader.py:447: DtypeWarning: Columns (1) have mixed types. Specify dtype option on import or set low_memory=False.\n",
      "  df = pd.read_csv(\n"
     ]
    },
    {
     "name": "stdout",
     "output_type": "stream",
     "text": [
      "13\n"
     ]
    },
    {
     "name": "stderr",
     "output_type": "stream",
     "text": [
      "no SNPs loaded...\n"
     ]
    },
    {
     "name": "stdout",
     "output_type": "stream",
     "text": [
      "0\n"
     ]
    },
    {
     "name": "stderr",
     "output_type": "stream",
     "text": [
      "/Users/emanuele/code/Phenotype_Prediction/env/lib/python3.11/site-packages/snps/io/reader.py:447: DtypeWarning: Columns (1) have mixed types. Specify dtype option on import or set low_memory=False.\n",
      "  df = pd.read_csv(\n"
     ]
    },
    {
     "name": "stdout",
     "output_type": "stream",
     "text": [
      "13\n"
     ]
    },
    {
     "name": "stderr",
     "output_type": "stream",
     "text": [
      "/Users/emanuele/code/Phenotype_Prediction/env/lib/python3.11/site-packages/snps/io/reader.py:447: DtypeWarning: Columns (1) have mixed types. Specify dtype option on import or set low_memory=False.\n",
      "  df = pd.read_csv(\n"
     ]
    },
    {
     "name": "stdout",
     "output_type": "stream",
     "text": [
      "13\n"
     ]
    },
    {
     "name": "stderr",
     "output_type": "stream",
     "text": [
      "/Users/emanuele/code/Phenotype_Prediction/env/lib/python3.11/site-packages/snps/io/reader.py:447: DtypeWarning: Columns (1) have mixed types. Specify dtype option on import or set low_memory=False.\n",
      "  df = pd.read_csv(\n"
     ]
    },
    {
     "name": "stdout",
     "output_type": "stream",
     "text": [
      "13\n"
     ]
    },
    {
     "name": "stderr",
     "output_type": "stream",
     "text": [
      "/Users/emanuele/code/Phenotype_Prediction/env/lib/python3.11/site-packages/snps/io/reader.py:447: DtypeWarning: Columns (1) have mixed types. Specify dtype option on import or set low_memory=False.\n",
      "  df = pd.read_csv(\n"
     ]
    },
    {
     "name": "stdout",
     "output_type": "stream",
     "text": [
      "13\n"
     ]
    },
    {
     "name": "stderr",
     "output_type": "stream",
     "text": [
      "/Users/emanuele/code/Phenotype_Prediction/env/lib/python3.11/site-packages/snps/io/reader.py:447: DtypeWarning: Columns (1) have mixed types. Specify dtype option on import or set low_memory=False.\n",
      "  df = pd.read_csv(\n"
     ]
    },
    {
     "name": "stdout",
     "output_type": "stream",
     "text": [
      "13\n"
     ]
    },
    {
     "name": "stderr",
     "output_type": "stream",
     "text": [
      "/Users/emanuele/code/Phenotype_Prediction/env/lib/python3.11/site-packages/snps/io/reader.py:447: DtypeWarning: Columns (1) have mixed types. Specify dtype option on import or set low_memory=False.\n",
      "  df = pd.read_csv(\n"
     ]
    },
    {
     "name": "stdout",
     "output_type": "stream",
     "text": [
      "13\n"
     ]
    },
    {
     "name": "stderr",
     "output_type": "stream",
     "text": [
      "/Users/emanuele/code/Phenotype_Prediction/env/lib/python3.11/site-packages/snps/io/reader.py:447: DtypeWarning: Columns (1) have mixed types. Specify dtype option on import or set low_memory=False.\n",
      "  df = pd.read_csv(\n"
     ]
    },
    {
     "name": "stdout",
     "output_type": "stream",
     "text": [
      "13\n"
     ]
    },
    {
     "name": "stderr",
     "output_type": "stream",
     "text": [
      "/Users/emanuele/code/Phenotype_Prediction/env/lib/python3.11/site-packages/snps/io/reader.py:447: DtypeWarning: Columns (1) have mixed types. Specify dtype option on import or set low_memory=False.\n",
      "  df = pd.read_csv(\n"
     ]
    },
    {
     "name": "stdout",
     "output_type": "stream",
     "text": [
      "13\n"
     ]
    },
    {
     "name": "stderr",
     "output_type": "stream",
     "text": [
      "/Users/emanuele/code/Phenotype_Prediction/env/lib/python3.11/site-packages/snps/io/reader.py:447: DtypeWarning: Columns (1) have mixed types. Specify dtype option on import or set low_memory=False.\n",
      "  df = pd.read_csv(\n"
     ]
    },
    {
     "name": "stdout",
     "output_type": "stream",
     "text": [
      "13\n"
     ]
    },
    {
     "name": "stderr",
     "output_type": "stream",
     "text": [
      "/Users/emanuele/code/Phenotype_Prediction/env/lib/python3.11/site-packages/snps/io/reader.py:447: DtypeWarning: Columns (1) have mixed types. Specify dtype option on import or set low_memory=False.\n",
      "  df = pd.read_csv(\n"
     ]
    },
    {
     "name": "stdout",
     "output_type": "stream",
     "text": [
      "13\n"
     ]
    },
    {
     "name": "stderr",
     "output_type": "stream",
     "text": [
      "/Users/emanuele/code/Phenotype_Prediction/env/lib/python3.11/site-packages/snps/io/reader.py:447: DtypeWarning: Columns (1) have mixed types. Specify dtype option on import or set low_memory=False.\n",
      "  df = pd.read_csv(\n"
     ]
    },
    {
     "name": "stdout",
     "output_type": "stream",
     "text": [
      "13\n"
     ]
    },
    {
     "name": "stderr",
     "output_type": "stream",
     "text": [
      "/Users/emanuele/code/Phenotype_Prediction/env/lib/python3.11/site-packages/snps/io/reader.py:447: DtypeWarning: Columns (1) have mixed types. Specify dtype option on import or set low_memory=False.\n",
      "  df = pd.read_csv(\n"
     ]
    },
    {
     "name": "stdout",
     "output_type": "stream",
     "text": [
      "13\n"
     ]
    },
    {
     "name": "stderr",
     "output_type": "stream",
     "text": [
      "/Users/emanuele/code/Phenotype_Prediction/env/lib/python3.11/site-packages/snps/io/reader.py:447: DtypeWarning: Columns (1) have mixed types. Specify dtype option on import or set low_memory=False.\n",
      "  df = pd.read_csv(\n"
     ]
    },
    {
     "name": "stdout",
     "output_type": "stream",
     "text": [
      "13\n"
     ]
    },
    {
     "name": "stderr",
     "output_type": "stream",
     "text": [
      "/Users/emanuele/code/Phenotype_Prediction/env/lib/python3.11/site-packages/snps/io/reader.py:447: DtypeWarning: Columns (1) have mixed types. Specify dtype option on import or set low_memory=False.\n",
      "  df = pd.read_csv(\n"
     ]
    },
    {
     "name": "stdout",
     "output_type": "stream",
     "text": [
      "13\n",
      "2\n"
     ]
    },
    {
     "name": "stderr",
     "output_type": "stream",
     "text": [
      "/Users/emanuele/code/Phenotype_Prediction/env/lib/python3.11/site-packages/snps/io/reader.py:447: DtypeWarning: Columns (1) have mixed types. Specify dtype option on import or set low_memory=False.\n",
      "  df = pd.read_csv(\n"
     ]
    },
    {
     "name": "stdout",
     "output_type": "stream",
     "text": [
      "13\n"
     ]
    },
    {
     "name": "stderr",
     "output_type": "stream",
     "text": [
      "/Users/emanuele/code/Phenotype_Prediction/env/lib/python3.11/site-packages/snps/io/reader.py:447: DtypeWarning: Columns (1) have mixed types. Specify dtype option on import or set low_memory=False.\n",
      "  df = pd.read_csv(\n"
     ]
    },
    {
     "name": "stdout",
     "output_type": "stream",
     "text": [
      "13\n",
      "0\n"
     ]
    },
    {
     "name": "stderr",
     "output_type": "stream",
     "text": [
      "/Users/emanuele/code/Phenotype_Prediction/env/lib/python3.11/site-packages/snps/io/reader.py:447: DtypeWarning: Columns (1) have mixed types. Specify dtype option on import or set low_memory=False.\n",
      "  df = pd.read_csv(\n"
     ]
    },
    {
     "name": "stdout",
     "output_type": "stream",
     "text": [
      "13\n"
     ]
    },
    {
     "name": "stderr",
     "output_type": "stream",
     "text": [
      "/Users/emanuele/code/Phenotype_Prediction/env/lib/python3.11/site-packages/snps/io/reader.py:447: DtypeWarning: Columns (1) have mixed types. Specify dtype option on import or set low_memory=False.\n",
      "  df = pd.read_csv(\n"
     ]
    },
    {
     "name": "stdout",
     "output_type": "stream",
     "text": [
      "13\n"
     ]
    },
    {
     "name": "stderr",
     "output_type": "stream",
     "text": [
      "/Users/emanuele/code/Phenotype_Prediction/env/lib/python3.11/site-packages/snps/io/reader.py:447: DtypeWarning: Columns (1) have mixed types. Specify dtype option on import or set low_memory=False.\n",
      "  df = pd.read_csv(\n"
     ]
    },
    {
     "name": "stdout",
     "output_type": "stream",
     "text": [
      "13\n"
     ]
    },
    {
     "name": "stderr",
     "output_type": "stream",
     "text": [
      "/Users/emanuele/code/Phenotype_Prediction/env/lib/python3.11/site-packages/snps/io/reader.py:447: DtypeWarning: Columns (1) have mixed types. Specify dtype option on import or set low_memory=False.\n",
      "  df = pd.read_csv(\n"
     ]
    },
    {
     "name": "stdout",
     "output_type": "stream",
     "text": [
      "13\n",
      "7\n"
     ]
    },
    {
     "name": "stderr",
     "output_type": "stream",
     "text": [
      "/Users/emanuele/code/Phenotype_Prediction/env/lib/python3.11/site-packages/snps/io/reader.py:447: DtypeWarning: Columns (1) have mixed types. Specify dtype option on import or set low_memory=False.\n",
      "  df = pd.read_csv(\n"
     ]
    },
    {
     "name": "stdout",
     "output_type": "stream",
     "text": [
      "13\n"
     ]
    },
    {
     "name": "stderr",
     "output_type": "stream",
     "text": [
      "/Users/emanuele/code/Phenotype_Prediction/env/lib/python3.11/site-packages/snps/io/reader.py:447: DtypeWarning: Columns (1) have mixed types. Specify dtype option on import or set low_memory=False.\n",
      "  df = pd.read_csv(\n"
     ]
    },
    {
     "name": "stdout",
     "output_type": "stream",
     "text": [
      "13\n"
     ]
    },
    {
     "name": "stderr",
     "output_type": "stream",
     "text": [
      "/Users/emanuele/code/Phenotype_Prediction/env/lib/python3.11/site-packages/snps/io/reader.py:447: DtypeWarning: Columns (1) have mixed types. Specify dtype option on import or set low_memory=False.\n",
      "  df = pd.read_csv(\n"
     ]
    },
    {
     "name": "stdout",
     "output_type": "stream",
     "text": [
      "13\n"
     ]
    },
    {
     "name": "stderr",
     "output_type": "stream",
     "text": [
      "/Users/emanuele/code/Phenotype_Prediction/env/lib/python3.11/site-packages/snps/io/reader.py:447: DtypeWarning: Columns (1) have mixed types. Specify dtype option on import or set low_memory=False.\n",
      "  df = pd.read_csv(\n"
     ]
    },
    {
     "name": "stdout",
     "output_type": "stream",
     "text": [
      "13\n"
     ]
    },
    {
     "name": "stderr",
     "output_type": "stream",
     "text": [
      "/Users/emanuele/code/Phenotype_Prediction/env/lib/python3.11/site-packages/snps/io/reader.py:447: DtypeWarning: Columns (1) have mixed types. Specify dtype option on import or set low_memory=False.\n",
      "  df = pd.read_csv(\n"
     ]
    },
    {
     "name": "stdout",
     "output_type": "stream",
     "text": [
      "13\n",
      "7\n"
     ]
    },
    {
     "name": "stderr",
     "output_type": "stream",
     "text": [
      "/Users/emanuele/code/Phenotype_Prediction/env/lib/python3.11/site-packages/snps/io/reader.py:447: DtypeWarning: Columns (1) have mixed types. Specify dtype option on import or set low_memory=False.\n",
      "  df = pd.read_csv(\n"
     ]
    },
    {
     "name": "stdout",
     "output_type": "stream",
     "text": [
      "12\n"
     ]
    },
    {
     "name": "stderr",
     "output_type": "stream",
     "text": [
      "/Users/emanuele/code/Phenotype_Prediction/env/lib/python3.11/site-packages/snps/io/reader.py:447: DtypeWarning: Columns (1) have mixed types. Specify dtype option on import or set low_memory=False.\n",
      "  df = pd.read_csv(\n"
     ]
    },
    {
     "name": "stdout",
     "output_type": "stream",
     "text": [
      "13\n"
     ]
    },
    {
     "name": "stderr",
     "output_type": "stream",
     "text": [
      "/Users/emanuele/code/Phenotype_Prediction/env/lib/python3.11/site-packages/snps/io/reader.py:447: DtypeWarning: Columns (1) have mixed types. Specify dtype option on import or set low_memory=False.\n",
      "  df = pd.read_csv(\n"
     ]
    },
    {
     "name": "stdout",
     "output_type": "stream",
     "text": [
      "13\n"
     ]
    },
    {
     "name": "stderr",
     "output_type": "stream",
     "text": [
      "/Users/emanuele/code/Phenotype_Prediction/env/lib/python3.11/site-packages/snps/io/reader.py:447: DtypeWarning: Columns (1) have mixed types. Specify dtype option on import or set low_memory=False.\n",
      "  df = pd.read_csv(\n"
     ]
    },
    {
     "name": "stdout",
     "output_type": "stream",
     "text": [
      "13\n"
     ]
    },
    {
     "name": "stderr",
     "output_type": "stream",
     "text": [
      "/Users/emanuele/code/Phenotype_Prediction/env/lib/python3.11/site-packages/snps/io/reader.py:447: DtypeWarning: Columns (1) have mixed types. Specify dtype option on import or set low_memory=False.\n",
      "  df = pd.read_csv(\n"
     ]
    },
    {
     "name": "stdout",
     "output_type": "stream",
     "text": [
      "12\n"
     ]
    },
    {
     "name": "stderr",
     "output_type": "stream",
     "text": [
      "/Users/emanuele/code/Phenotype_Prediction/env/lib/python3.11/site-packages/snps/io/reader.py:447: DtypeWarning: Columns (1) have mixed types. Specify dtype option on import or set low_memory=False.\n",
      "  df = pd.read_csv(\n"
     ]
    },
    {
     "name": "stdout",
     "output_type": "stream",
     "text": [
      "13\n"
     ]
    },
    {
     "name": "stderr",
     "output_type": "stream",
     "text": [
      "/Users/emanuele/code/Phenotype_Prediction/env/lib/python3.11/site-packages/snps/io/reader.py:447: DtypeWarning: Columns (1) have mixed types. Specify dtype option on import or set low_memory=False.\n",
      "  df = pd.read_csv(\n"
     ]
    },
    {
     "name": "stdout",
     "output_type": "stream",
     "text": [
      "13\n"
     ]
    },
    {
     "name": "stderr",
     "output_type": "stream",
     "text": [
      "/Users/emanuele/code/Phenotype_Prediction/env/lib/python3.11/site-packages/snps/io/reader.py:447: DtypeWarning: Columns (1) have mixed types. Specify dtype option on import or set low_memory=False.\n",
      "  df = pd.read_csv(\n"
     ]
    },
    {
     "name": "stdout",
     "output_type": "stream",
     "text": [
      "13\n"
     ]
    },
    {
     "name": "stderr",
     "output_type": "stream",
     "text": [
      "/Users/emanuele/code/Phenotype_Prediction/env/lib/python3.11/site-packages/snps/io/reader.py:447: DtypeWarning: Columns (1) have mixed types. Specify dtype option on import or set low_memory=False.\n",
      "  df = pd.read_csv(\n"
     ]
    },
    {
     "name": "stdout",
     "output_type": "stream",
     "text": [
      "13\n"
     ]
    },
    {
     "name": "stderr",
     "output_type": "stream",
     "text": [
      "/Users/emanuele/code/Phenotype_Prediction/env/lib/python3.11/site-packages/snps/io/reader.py:447: DtypeWarning: Columns (1) have mixed types. Specify dtype option on import or set low_memory=False.\n",
      "  df = pd.read_csv(\n"
     ]
    },
    {
     "name": "stdout",
     "output_type": "stream",
     "text": [
      "12\n"
     ]
    },
    {
     "name": "stderr",
     "output_type": "stream",
     "text": [
      "/Users/emanuele/code/Phenotype_Prediction/env/lib/python3.11/site-packages/snps/io/reader.py:447: DtypeWarning: Columns (1) have mixed types. Specify dtype option on import or set low_memory=False.\n",
      "  df = pd.read_csv(\n"
     ]
    },
    {
     "name": "stdout",
     "output_type": "stream",
     "text": [
      "13\n"
     ]
    },
    {
     "name": "stderr",
     "output_type": "stream",
     "text": [
      "/Users/emanuele/code/Phenotype_Prediction/env/lib/python3.11/site-packages/snps/io/reader.py:447: DtypeWarning: Columns (1) have mixed types. Specify dtype option on import or set low_memory=False.\n",
      "  df = pd.read_csv(\n"
     ]
    },
    {
     "name": "stdout",
     "output_type": "stream",
     "text": [
      "13\n"
     ]
    },
    {
     "name": "stderr",
     "output_type": "stream",
     "text": [
      "/Users/emanuele/code/Phenotype_Prediction/env/lib/python3.11/site-packages/snps/io/reader.py:447: DtypeWarning: Columns (1) have mixed types. Specify dtype option on import or set low_memory=False.\n",
      "  df = pd.read_csv(\n"
     ]
    },
    {
     "name": "stdout",
     "output_type": "stream",
     "text": [
      "13\n"
     ]
    },
    {
     "name": "stderr",
     "output_type": "stream",
     "text": [
      "/Users/emanuele/code/Phenotype_Prediction/env/lib/python3.11/site-packages/snps/io/reader.py:447: DtypeWarning: Columns (1) have mixed types. Specify dtype option on import or set low_memory=False.\n",
      "  df = pd.read_csv(\n"
     ]
    },
    {
     "name": "stdout",
     "output_type": "stream",
     "text": [
      "13\n"
     ]
    },
    {
     "name": "stderr",
     "output_type": "stream",
     "text": [
      "/Users/emanuele/code/Phenotype_Prediction/env/lib/python3.11/site-packages/snps/io/reader.py:447: DtypeWarning: Columns (1) have mixed types. Specify dtype option on import or set low_memory=False.\n",
      "  df = pd.read_csv(\n"
     ]
    },
    {
     "name": "stdout",
     "output_type": "stream",
     "text": [
      "13\n",
      "0\n"
     ]
    },
    {
     "name": "stderr",
     "output_type": "stream",
     "text": [
      "/Users/emanuele/code/Phenotype_Prediction/env/lib/python3.11/site-packages/snps/io/reader.py:447: DtypeWarning: Columns (1) have mixed types. Specify dtype option on import or set low_memory=False.\n",
      "  df = pd.read_csv(\n"
     ]
    },
    {
     "name": "stdout",
     "output_type": "stream",
     "text": [
      "12\n"
     ]
    },
    {
     "name": "stderr",
     "output_type": "stream",
     "text": [
      "/Users/emanuele/code/Phenotype_Prediction/env/lib/python3.11/site-packages/snps/io/reader.py:447: DtypeWarning: Columns (1) have mixed types. Specify dtype option on import or set low_memory=False.\n",
      "  df = pd.read_csv(\n"
     ]
    },
    {
     "name": "stdout",
     "output_type": "stream",
     "text": [
      "13\n"
     ]
    },
    {
     "name": "stderr",
     "output_type": "stream",
     "text": [
      "/Users/emanuele/code/Phenotype_Prediction/env/lib/python3.11/site-packages/snps/io/reader.py:447: DtypeWarning: Columns (1) have mixed types. Specify dtype option on import or set low_memory=False.\n",
      "  df = pd.read_csv(\n"
     ]
    },
    {
     "name": "stdout",
     "output_type": "stream",
     "text": [
      "13\n"
     ]
    },
    {
     "name": "stderr",
     "output_type": "stream",
     "text": [
      "/Users/emanuele/code/Phenotype_Prediction/env/lib/python3.11/site-packages/snps/io/reader.py:447: DtypeWarning: Columns (1) have mixed types. Specify dtype option on import or set low_memory=False.\n",
      "  df = pd.read_csv(\n"
     ]
    },
    {
     "name": "stdout",
     "output_type": "stream",
     "text": [
      "12\n"
     ]
    },
    {
     "name": "stderr",
     "output_type": "stream",
     "text": [
      "/Users/emanuele/code/Phenotype_Prediction/env/lib/python3.11/site-packages/snps/io/reader.py:447: DtypeWarning: Columns (1) have mixed types. Specify dtype option on import or set low_memory=False.\n",
      "  df = pd.read_csv(\n"
     ]
    },
    {
     "name": "stdout",
     "output_type": "stream",
     "text": [
      "12\n"
     ]
    },
    {
     "name": "stderr",
     "output_type": "stream",
     "text": [
      "/Users/emanuele/code/Phenotype_Prediction/env/lib/python3.11/site-packages/snps/io/reader.py:447: DtypeWarning: Columns (1) have mixed types. Specify dtype option on import or set low_memory=False.\n",
      "  df = pd.read_csv(\n"
     ]
    },
    {
     "name": "stdout",
     "output_type": "stream",
     "text": [
      "13\n"
     ]
    },
    {
     "name": "stderr",
     "output_type": "stream",
     "text": [
      "/Users/emanuele/code/Phenotype_Prediction/env/lib/python3.11/site-packages/snps/io/reader.py:447: DtypeWarning: Columns (1) have mixed types. Specify dtype option on import or set low_memory=False.\n",
      "  df = pd.read_csv(\n"
     ]
    },
    {
     "name": "stdout",
     "output_type": "stream",
     "text": [
      "13\n",
      "0\n"
     ]
    },
    {
     "name": "stderr",
     "output_type": "stream",
     "text": [
      "/Users/emanuele/code/Phenotype_Prediction/env/lib/python3.11/site-packages/snps/io/reader.py:447: DtypeWarning: Columns (1) have mixed types. Specify dtype option on import or set low_memory=False.\n",
      "  df = pd.read_csv(\n"
     ]
    },
    {
     "name": "stdout",
     "output_type": "stream",
     "text": [
      "13\n"
     ]
    },
    {
     "name": "stderr",
     "output_type": "stream",
     "text": [
      "/Users/emanuele/code/Phenotype_Prediction/env/lib/python3.11/site-packages/snps/io/reader.py:447: DtypeWarning: Columns (1) have mixed types. Specify dtype option on import or set low_memory=False.\n",
      "  df = pd.read_csv(\n"
     ]
    },
    {
     "name": "stdout",
     "output_type": "stream",
     "text": [
      "12\n"
     ]
    },
    {
     "name": "stderr",
     "output_type": "stream",
     "text": [
      "/Users/emanuele/code/Phenotype_Prediction/env/lib/python3.11/site-packages/snps/io/reader.py:447: DtypeWarning: Columns (1) have mixed types. Specify dtype option on import or set low_memory=False.\n",
      "  df = pd.read_csv(\n"
     ]
    },
    {
     "name": "stdout",
     "output_type": "stream",
     "text": [
      "13\n"
     ]
    },
    {
     "name": "stderr",
     "output_type": "stream",
     "text": [
      "/Users/emanuele/code/Phenotype_Prediction/env/lib/python3.11/site-packages/snps/io/reader.py:447: DtypeWarning: Columns (1) have mixed types. Specify dtype option on import or set low_memory=False.\n",
      "  df = pd.read_csv(\n"
     ]
    },
    {
     "name": "stdout",
     "output_type": "stream",
     "text": [
      "13\n"
     ]
    },
    {
     "name": "stderr",
     "output_type": "stream",
     "text": [
      "/Users/emanuele/code/Phenotype_Prediction/env/lib/python3.11/site-packages/snps/io/reader.py:447: DtypeWarning: Columns (1) have mixed types. Specify dtype option on import or set low_memory=False.\n",
      "  df = pd.read_csv(\n"
     ]
    },
    {
     "name": "stdout",
     "output_type": "stream",
     "text": [
      "13\n"
     ]
    },
    {
     "name": "stderr",
     "output_type": "stream",
     "text": [
      "/Users/emanuele/code/Phenotype_Prediction/env/lib/python3.11/site-packages/snps/io/reader.py:447: DtypeWarning: Columns (1) have mixed types. Specify dtype option on import or set low_memory=False.\n",
      "  df = pd.read_csv(\n"
     ]
    },
    {
     "name": "stdout",
     "output_type": "stream",
     "text": [
      "13\n"
     ]
    },
    {
     "name": "stderr",
     "output_type": "stream",
     "text": [
      "/Users/emanuele/code/Phenotype_Prediction/env/lib/python3.11/site-packages/snps/io/reader.py:447: DtypeWarning: Columns (1) have mixed types. Specify dtype option on import or set low_memory=False.\n",
      "  df = pd.read_csv(\n"
     ]
    },
    {
     "name": "stdout",
     "output_type": "stream",
     "text": [
      "13\n"
     ]
    },
    {
     "name": "stderr",
     "output_type": "stream",
     "text": [
      "/Users/emanuele/code/Phenotype_Prediction/env/lib/python3.11/site-packages/snps/io/reader.py:447: DtypeWarning: Columns (1) have mixed types. Specify dtype option on import or set low_memory=False.\n",
      "  df = pd.read_csv(\n"
     ]
    },
    {
     "name": "stdout",
     "output_type": "stream",
     "text": [
      "13\n"
     ]
    },
    {
     "name": "stderr",
     "output_type": "stream",
     "text": [
      "/Users/emanuele/code/Phenotype_Prediction/env/lib/python3.11/site-packages/snps/io/reader.py:447: DtypeWarning: Columns (1) have mixed types. Specify dtype option on import or set low_memory=False.\n",
      "  df = pd.read_csv(\n"
     ]
    },
    {
     "name": "stdout",
     "output_type": "stream",
     "text": [
      "13\n"
     ]
    },
    {
     "name": "stderr",
     "output_type": "stream",
     "text": [
      "/Users/emanuele/code/Phenotype_Prediction/env/lib/python3.11/site-packages/snps/io/reader.py:447: DtypeWarning: Columns (1) have mixed types. Specify dtype option on import or set low_memory=False.\n",
      "  df = pd.read_csv(\n"
     ]
    },
    {
     "name": "stdout",
     "output_type": "stream",
     "text": [
      "13\n"
     ]
    },
    {
     "name": "stderr",
     "output_type": "stream",
     "text": [
      "/Users/emanuele/code/Phenotype_Prediction/env/lib/python3.11/site-packages/snps/io/reader.py:447: DtypeWarning: Columns (1) have mixed types. Specify dtype option on import or set low_memory=False.\n",
      "  df = pd.read_csv(\n"
     ]
    },
    {
     "name": "stdout",
     "output_type": "stream",
     "text": [
      "13\n"
     ]
    },
    {
     "name": "stderr",
     "output_type": "stream",
     "text": [
      "/Users/emanuele/code/Phenotype_Prediction/env/lib/python3.11/site-packages/snps/io/reader.py:447: DtypeWarning: Columns (1) have mixed types. Specify dtype option on import or set low_memory=False.\n",
      "  df = pd.read_csv(\n"
     ]
    },
    {
     "name": "stdout",
     "output_type": "stream",
     "text": [
      "13\n"
     ]
    },
    {
     "name": "stderr",
     "output_type": "stream",
     "text": [
      "/Users/emanuele/code/Phenotype_Prediction/env/lib/python3.11/site-packages/snps/io/reader.py:447: DtypeWarning: Columns (1) have mixed types. Specify dtype option on import or set low_memory=False.\n",
      "  df = pd.read_csv(\n"
     ]
    },
    {
     "name": "stdout",
     "output_type": "stream",
     "text": [
      "13\n"
     ]
    },
    {
     "name": "stderr",
     "output_type": "stream",
     "text": [
      "/Users/emanuele/code/Phenotype_Prediction/env/lib/python3.11/site-packages/snps/io/reader.py:447: DtypeWarning: Columns (1) have mixed types. Specify dtype option on import or set low_memory=False.\n",
      "  df = pd.read_csv(\n"
     ]
    },
    {
     "name": "stdout",
     "output_type": "stream",
     "text": [
      "13\n"
     ]
    },
    {
     "name": "stderr",
     "output_type": "stream",
     "text": [
      "/Users/emanuele/code/Phenotype_Prediction/env/lib/python3.11/site-packages/snps/io/reader.py:447: DtypeWarning: Columns (1) have mixed types. Specify dtype option on import or set low_memory=False.\n",
      "  df = pd.read_csv(\n"
     ]
    },
    {
     "name": "stdout",
     "output_type": "stream",
     "text": [
      "13\n"
     ]
    },
    {
     "name": "stderr",
     "output_type": "stream",
     "text": [
      "/Users/emanuele/code/Phenotype_Prediction/env/lib/python3.11/site-packages/snps/io/reader.py:447: DtypeWarning: Columns (1) have mixed types. Specify dtype option on import or set low_memory=False.\n",
      "  df = pd.read_csv(\n"
     ]
    },
    {
     "name": "stdout",
     "output_type": "stream",
     "text": [
      "13\n"
     ]
    },
    {
     "name": "stderr",
     "output_type": "stream",
     "text": [
      "/Users/emanuele/code/Phenotype_Prediction/env/lib/python3.11/site-packages/snps/io/reader.py:447: DtypeWarning: Columns (1) have mixed types. Specify dtype option on import or set low_memory=False.\n",
      "  df = pd.read_csv(\n"
     ]
    },
    {
     "name": "stdout",
     "output_type": "stream",
     "text": [
      "13\n"
     ]
    },
    {
     "name": "stderr",
     "output_type": "stream",
     "text": [
      "/Users/emanuele/code/Phenotype_Prediction/env/lib/python3.11/site-packages/snps/io/reader.py:447: DtypeWarning: Columns (1) have mixed types. Specify dtype option on import or set low_memory=False.\n",
      "  df = pd.read_csv(\n"
     ]
    },
    {
     "name": "stdout",
     "output_type": "stream",
     "text": [
      "13\n"
     ]
    },
    {
     "name": "stderr",
     "output_type": "stream",
     "text": [
      "/Users/emanuele/code/Phenotype_Prediction/env/lib/python3.11/site-packages/snps/io/reader.py:447: DtypeWarning: Columns (1) have mixed types. Specify dtype option on import or set low_memory=False.\n",
      "  df = pd.read_csv(\n"
     ]
    },
    {
     "name": "stdout",
     "output_type": "stream",
     "text": [
      "13\n"
     ]
    },
    {
     "name": "stderr",
     "output_type": "stream",
     "text": [
      "/Users/emanuele/code/Phenotype_Prediction/env/lib/python3.11/site-packages/snps/io/reader.py:447: DtypeWarning: Columns (1) have mixed types. Specify dtype option on import or set low_memory=False.\n",
      "  df = pd.read_csv(\n"
     ]
    },
    {
     "name": "stdout",
     "output_type": "stream",
     "text": [
      "12\n"
     ]
    },
    {
     "name": "stderr",
     "output_type": "stream",
     "text": [
      "/Users/emanuele/code/Phenotype_Prediction/env/lib/python3.11/site-packages/snps/io/reader.py:447: DtypeWarning: Columns (1) have mixed types. Specify dtype option on import or set low_memory=False.\n",
      "  df = pd.read_csv(\n"
     ]
    },
    {
     "name": "stdout",
     "output_type": "stream",
     "text": [
      "13\n"
     ]
    },
    {
     "name": "stderr",
     "output_type": "stream",
     "text": [
      "/Users/emanuele/code/Phenotype_Prediction/env/lib/python3.11/site-packages/snps/io/reader.py:447: DtypeWarning: Columns (1) have mixed types. Specify dtype option on import or set low_memory=False.\n",
      "  df = pd.read_csv(\n"
     ]
    },
    {
     "name": "stdout",
     "output_type": "stream",
     "text": [
      "13\n"
     ]
    },
    {
     "name": "stderr",
     "output_type": "stream",
     "text": [
      "/Users/emanuele/code/Phenotype_Prediction/env/lib/python3.11/site-packages/snps/io/reader.py:447: DtypeWarning: Columns (1) have mixed types. Specify dtype option on import or set low_memory=False.\n",
      "  df = pd.read_csv(\n"
     ]
    },
    {
     "name": "stdout",
     "output_type": "stream",
     "text": [
      "13\n"
     ]
    },
    {
     "name": "stderr",
     "output_type": "stream",
     "text": [
      "/Users/emanuele/code/Phenotype_Prediction/env/lib/python3.11/site-packages/snps/io/reader.py:447: DtypeWarning: Columns (1) have mixed types. Specify dtype option on import or set low_memory=False.\n",
      "  df = pd.read_csv(\n"
     ]
    },
    {
     "name": "stdout",
     "output_type": "stream",
     "text": [
      "13\n"
     ]
    },
    {
     "name": "stderr",
     "output_type": "stream",
     "text": [
      "/Users/emanuele/code/Phenotype_Prediction/env/lib/python3.11/site-packages/snps/io/reader.py:447: DtypeWarning: Columns (1) have mixed types. Specify dtype option on import or set low_memory=False.\n",
      "  df = pd.read_csv(\n"
     ]
    },
    {
     "name": "stdout",
     "output_type": "stream",
     "text": [
      "13\n"
     ]
    },
    {
     "name": "stderr",
     "output_type": "stream",
     "text": [
      "/Users/emanuele/code/Phenotype_Prediction/env/lib/python3.11/site-packages/snps/io/reader.py:447: DtypeWarning: Columns (1) have mixed types. Specify dtype option on import or set low_memory=False.\n",
      "  df = pd.read_csv(\n"
     ]
    },
    {
     "name": "stdout",
     "output_type": "stream",
     "text": [
      "13\n"
     ]
    },
    {
     "name": "stderr",
     "output_type": "stream",
     "text": [
      "/Users/emanuele/code/Phenotype_Prediction/env/lib/python3.11/site-packages/snps/io/reader.py:447: DtypeWarning: Columns (1) have mixed types. Specify dtype option on import or set low_memory=False.\n",
      "  df = pd.read_csv(\n"
     ]
    },
    {
     "name": "stdout",
     "output_type": "stream",
     "text": [
      "13\n"
     ]
    },
    {
     "name": "stderr",
     "output_type": "stream",
     "text": [
      "/Users/emanuele/code/Phenotype_Prediction/env/lib/python3.11/site-packages/snps/io/reader.py:447: DtypeWarning: Columns (1) have mixed types. Specify dtype option on import or set low_memory=False.\n",
      "  df = pd.read_csv(\n"
     ]
    },
    {
     "name": "stdout",
     "output_type": "stream",
     "text": [
      "13\n"
     ]
    },
    {
     "name": "stderr",
     "output_type": "stream",
     "text": [
      "/Users/emanuele/code/Phenotype_Prediction/env/lib/python3.11/site-packages/snps/io/reader.py:447: DtypeWarning: Columns (1) have mixed types. Specify dtype option on import or set low_memory=False.\n",
      "  df = pd.read_csv(\n"
     ]
    },
    {
     "name": "stdout",
     "output_type": "stream",
     "text": [
      "13\n"
     ]
    },
    {
     "name": "stderr",
     "output_type": "stream",
     "text": [
      "/Users/emanuele/code/Phenotype_Prediction/env/lib/python3.11/site-packages/snps/io/reader.py:447: DtypeWarning: Columns (1) have mixed types. Specify dtype option on import or set low_memory=False.\n",
      "  df = pd.read_csv(\n"
     ]
    },
    {
     "name": "stdout",
     "output_type": "stream",
     "text": [
      "13\n",
      "12\n"
     ]
    },
    {
     "name": "stderr",
     "output_type": "stream",
     "text": [
      "/Users/emanuele/code/Phenotype_Prediction/env/lib/python3.11/site-packages/snps/io/reader.py:447: DtypeWarning: Columns (1) have mixed types. Specify dtype option on import or set low_memory=False.\n",
      "  df = pd.read_csv(\n"
     ]
    },
    {
     "name": "stdout",
     "output_type": "stream",
     "text": [
      "13\n"
     ]
    },
    {
     "name": "stderr",
     "output_type": "stream",
     "text": [
      "/Users/emanuele/code/Phenotype_Prediction/env/lib/python3.11/site-packages/snps/io/reader.py:447: DtypeWarning: Columns (1) have mixed types. Specify dtype option on import or set low_memory=False.\n",
      "  df = pd.read_csv(\n"
     ]
    },
    {
     "name": "stdout",
     "output_type": "stream",
     "text": [
      "13\n"
     ]
    },
    {
     "name": "stderr",
     "output_type": "stream",
     "text": [
      "/Users/emanuele/code/Phenotype_Prediction/env/lib/python3.11/site-packages/snps/io/reader.py:447: DtypeWarning: Columns (1) have mixed types. Specify dtype option on import or set low_memory=False.\n",
      "  df = pd.read_csv(\n"
     ]
    },
    {
     "name": "stdout",
     "output_type": "stream",
     "text": [
      "13\n",
      "0\n"
     ]
    },
    {
     "name": "stderr",
     "output_type": "stream",
     "text": [
      "/Users/emanuele/code/Phenotype_Prediction/env/lib/python3.11/site-packages/snps/io/reader.py:447: DtypeWarning: Columns (1) have mixed types. Specify dtype option on import or set low_memory=False.\n",
      "  df = pd.read_csv(\n"
     ]
    },
    {
     "name": "stdout",
     "output_type": "stream",
     "text": [
      "13\n"
     ]
    },
    {
     "name": "stderr",
     "output_type": "stream",
     "text": [
      "/Users/emanuele/code/Phenotype_Prediction/env/lib/python3.11/site-packages/snps/io/reader.py:447: DtypeWarning: Columns (1) have mixed types. Specify dtype option on import or set low_memory=False.\n",
      "  df = pd.read_csv(\n"
     ]
    },
    {
     "name": "stdout",
     "output_type": "stream",
     "text": [
      "13\n"
     ]
    },
    {
     "name": "stderr",
     "output_type": "stream",
     "text": [
      "/Users/emanuele/code/Phenotype_Prediction/env/lib/python3.11/site-packages/snps/io/reader.py:447: DtypeWarning: Columns (1) have mixed types. Specify dtype option on import or set low_memory=False.\n",
      "  df = pd.read_csv(\n"
     ]
    },
    {
     "name": "stdout",
     "output_type": "stream",
     "text": [
      "13\n"
     ]
    },
    {
     "name": "stderr",
     "output_type": "stream",
     "text": [
      "/Users/emanuele/code/Phenotype_Prediction/env/lib/python3.11/site-packages/snps/io/reader.py:447: DtypeWarning: Columns (1) have mixed types. Specify dtype option on import or set low_memory=False.\n",
      "  df = pd.read_csv(\n"
     ]
    },
    {
     "name": "stdout",
     "output_type": "stream",
     "text": [
      "13\n"
     ]
    },
    {
     "name": "stderr",
     "output_type": "stream",
     "text": [
      "/Users/emanuele/code/Phenotype_Prediction/env/lib/python3.11/site-packages/snps/io/reader.py:447: DtypeWarning: Columns (1) have mixed types. Specify dtype option on import or set low_memory=False.\n",
      "  df = pd.read_csv(\n"
     ]
    },
    {
     "name": "stdout",
     "output_type": "stream",
     "text": [
      "13\n"
     ]
    },
    {
     "name": "stderr",
     "output_type": "stream",
     "text": [
      "/Users/emanuele/code/Phenotype_Prediction/env/lib/python3.11/site-packages/snps/io/reader.py:447: DtypeWarning: Columns (1) have mixed types. Specify dtype option on import or set low_memory=False.\n",
      "  df = pd.read_csv(\n"
     ]
    },
    {
     "name": "stdout",
     "output_type": "stream",
     "text": [
      "13\n"
     ]
    },
    {
     "name": "stderr",
     "output_type": "stream",
     "text": [
      "/Users/emanuele/code/Phenotype_Prediction/env/lib/python3.11/site-packages/snps/io/reader.py:447: DtypeWarning: Columns (1) have mixed types. Specify dtype option on import or set low_memory=False.\n",
      "  df = pd.read_csv(\n"
     ]
    },
    {
     "name": "stdout",
     "output_type": "stream",
     "text": [
      "13\n"
     ]
    },
    {
     "name": "stderr",
     "output_type": "stream",
     "text": [
      "/Users/emanuele/code/Phenotype_Prediction/env/lib/python3.11/site-packages/snps/io/reader.py:447: DtypeWarning: Columns (1) have mixed types. Specify dtype option on import or set low_memory=False.\n",
      "  df = pd.read_csv(\n"
     ]
    },
    {
     "name": "stdout",
     "output_type": "stream",
     "text": [
      "13\n"
     ]
    },
    {
     "name": "stderr",
     "output_type": "stream",
     "text": [
      "/Users/emanuele/code/Phenotype_Prediction/env/lib/python3.11/site-packages/snps/io/reader.py:447: DtypeWarning: Columns (1) have mixed types. Specify dtype option on import or set low_memory=False.\n",
      "  df = pd.read_csv(\n"
     ]
    },
    {
     "name": "stdout",
     "output_type": "stream",
     "text": [
      "13\n"
     ]
    },
    {
     "name": "stderr",
     "output_type": "stream",
     "text": [
      "/Users/emanuele/code/Phenotype_Prediction/env/lib/python3.11/site-packages/snps/io/reader.py:447: DtypeWarning: Columns (1) have mixed types. Specify dtype option on import or set low_memory=False.\n",
      "  df = pd.read_csv(\n"
     ]
    },
    {
     "name": "stdout",
     "output_type": "stream",
     "text": [
      "13\n"
     ]
    },
    {
     "name": "stderr",
     "output_type": "stream",
     "text": [
      "/Users/emanuele/code/Phenotype_Prediction/env/lib/python3.11/site-packages/snps/io/reader.py:447: DtypeWarning: Columns (1) have mixed types. Specify dtype option on import or set low_memory=False.\n",
      "  df = pd.read_csv(\n"
     ]
    },
    {
     "name": "stdout",
     "output_type": "stream",
     "text": [
      "13\n"
     ]
    },
    {
     "name": "stderr",
     "output_type": "stream",
     "text": [
      "/Users/emanuele/code/Phenotype_Prediction/env/lib/python3.11/site-packages/snps/io/reader.py:447: DtypeWarning: Columns (1) have mixed types. Specify dtype option on import or set low_memory=False.\n",
      "  df = pd.read_csv(\n"
     ]
    },
    {
     "name": "stdout",
     "output_type": "stream",
     "text": [
      "13\n",
      "0\n"
     ]
    },
    {
     "name": "stderr",
     "output_type": "stream",
     "text": [
      "/Users/emanuele/code/Phenotype_Prediction/env/lib/python3.11/site-packages/snps/io/reader.py:447: DtypeWarning: Columns (1) have mixed types. Specify dtype option on import or set low_memory=False.\n",
      "  df = pd.read_csv(\n"
     ]
    },
    {
     "name": "stdout",
     "output_type": "stream",
     "text": [
      "13\n"
     ]
    },
    {
     "name": "stderr",
     "output_type": "stream",
     "text": [
      "/Users/emanuele/code/Phenotype_Prediction/env/lib/python3.11/site-packages/snps/io/reader.py:447: DtypeWarning: Columns (1) have mixed types. Specify dtype option on import or set low_memory=False.\n",
      "  df = pd.read_csv(\n"
     ]
    },
    {
     "name": "stdout",
     "output_type": "stream",
     "text": [
      "13\n"
     ]
    },
    {
     "name": "stderr",
     "output_type": "stream",
     "text": [
      "/Users/emanuele/code/Phenotype_Prediction/env/lib/python3.11/site-packages/snps/io/reader.py:447: DtypeWarning: Columns (1) have mixed types. Specify dtype option on import or set low_memory=False.\n",
      "  df = pd.read_csv(\n"
     ]
    },
    {
     "name": "stdout",
     "output_type": "stream",
     "text": [
      "13\n"
     ]
    },
    {
     "name": "stderr",
     "output_type": "stream",
     "text": [
      "/Users/emanuele/code/Phenotype_Prediction/env/lib/python3.11/site-packages/snps/io/reader.py:447: DtypeWarning: Columns (1) have mixed types. Specify dtype option on import or set low_memory=False.\n",
      "  df = pd.read_csv(\n"
     ]
    },
    {
     "name": "stdout",
     "output_type": "stream",
     "text": [
      "13\n"
     ]
    },
    {
     "name": "stderr",
     "output_type": "stream",
     "text": [
      "/Users/emanuele/code/Phenotype_Prediction/env/lib/python3.11/site-packages/snps/io/reader.py:447: DtypeWarning: Columns (1) have mixed types. Specify dtype option on import or set low_memory=False.\n",
      "  df = pd.read_csv(\n"
     ]
    },
    {
     "name": "stdout",
     "output_type": "stream",
     "text": [
      "13\n"
     ]
    },
    {
     "name": "stderr",
     "output_type": "stream",
     "text": [
      "/Users/emanuele/code/Phenotype_Prediction/env/lib/python3.11/site-packages/snps/io/reader.py:447: DtypeWarning: Columns (1) have mixed types. Specify dtype option on import or set low_memory=False.\n",
      "  df = pd.read_csv(\n"
     ]
    },
    {
     "name": "stdout",
     "output_type": "stream",
     "text": [
      "13\n"
     ]
    },
    {
     "name": "stderr",
     "output_type": "stream",
     "text": [
      "/Users/emanuele/code/Phenotype_Prediction/env/lib/python3.11/site-packages/snps/io/reader.py:447: DtypeWarning: Columns (1) have mixed types. Specify dtype option on import or set low_memory=False.\n",
      "  df = pd.read_csv(\n"
     ]
    },
    {
     "name": "stdout",
     "output_type": "stream",
     "text": [
      "13\n"
     ]
    },
    {
     "name": "stderr",
     "output_type": "stream",
     "text": [
      "/Users/emanuele/code/Phenotype_Prediction/env/lib/python3.11/site-packages/snps/io/reader.py:447: DtypeWarning: Columns (1) have mixed types. Specify dtype option on import or set low_memory=False.\n",
      "  df = pd.read_csv(\n"
     ]
    },
    {
     "name": "stdout",
     "output_type": "stream",
     "text": [
      "13\n"
     ]
    },
    {
     "name": "stderr",
     "output_type": "stream",
     "text": [
      "/Users/emanuele/code/Phenotype_Prediction/env/lib/python3.11/site-packages/snps/io/reader.py:447: DtypeWarning: Columns (1) have mixed types. Specify dtype option on import or set low_memory=False.\n",
      "  df = pd.read_csv(\n"
     ]
    },
    {
     "name": "stdout",
     "output_type": "stream",
     "text": [
      "13\n"
     ]
    },
    {
     "name": "stderr",
     "output_type": "stream",
     "text": [
      "/Users/emanuele/code/Phenotype_Prediction/env/lib/python3.11/site-packages/snps/io/reader.py:447: DtypeWarning: Columns (1) have mixed types. Specify dtype option on import or set low_memory=False.\n",
      "  df = pd.read_csv(\n"
     ]
    },
    {
     "name": "stdout",
     "output_type": "stream",
     "text": [
      "13\n"
     ]
    },
    {
     "name": "stderr",
     "output_type": "stream",
     "text": [
      "/Users/emanuele/code/Phenotype_Prediction/env/lib/python3.11/site-packages/snps/io/reader.py:447: DtypeWarning: Columns (1) have mixed types. Specify dtype option on import or set low_memory=False.\n",
      "  df = pd.read_csv(\n"
     ]
    },
    {
     "name": "stdout",
     "output_type": "stream",
     "text": [
      "13\n"
     ]
    },
    {
     "name": "stderr",
     "output_type": "stream",
     "text": [
      "/Users/emanuele/code/Phenotype_Prediction/env/lib/python3.11/site-packages/snps/io/reader.py:447: DtypeWarning: Columns (1) have mixed types. Specify dtype option on import or set low_memory=False.\n",
      "  df = pd.read_csv(\n"
     ]
    },
    {
     "name": "stdout",
     "output_type": "stream",
     "text": [
      "13\n"
     ]
    },
    {
     "name": "stderr",
     "output_type": "stream",
     "text": [
      "/Users/emanuele/code/Phenotype_Prediction/env/lib/python3.11/site-packages/snps/io/reader.py:447: DtypeWarning: Columns (1) have mixed types. Specify dtype option on import or set low_memory=False.\n",
      "  df = pd.read_csv(\n"
     ]
    },
    {
     "name": "stdout",
     "output_type": "stream",
     "text": [
      "13\n"
     ]
    },
    {
     "name": "stderr",
     "output_type": "stream",
     "text": [
      "/Users/emanuele/code/Phenotype_Prediction/env/lib/python3.11/site-packages/snps/io/reader.py:447: DtypeWarning: Columns (1) have mixed types. Specify dtype option on import or set low_memory=False.\n",
      "  df = pd.read_csv(\n"
     ]
    },
    {
     "name": "stdout",
     "output_type": "stream",
     "text": [
      "13\n"
     ]
    },
    {
     "name": "stderr",
     "output_type": "stream",
     "text": [
      "/Users/emanuele/code/Phenotype_Prediction/env/lib/python3.11/site-packages/snps/io/reader.py:447: DtypeWarning: Columns (1) have mixed types. Specify dtype option on import or set low_memory=False.\n",
      "  df = pd.read_csv(\n"
     ]
    },
    {
     "name": "stdout",
     "output_type": "stream",
     "text": [
      "13\n"
     ]
    },
    {
     "name": "stderr",
     "output_type": "stream",
     "text": [
      "/Users/emanuele/code/Phenotype_Prediction/env/lib/python3.11/site-packages/snps/io/reader.py:447: DtypeWarning: Columns (1) have mixed types. Specify dtype option on import or set low_memory=False.\n",
      "  df = pd.read_csv(\n"
     ]
    },
    {
     "name": "stdout",
     "output_type": "stream",
     "text": [
      "13\n"
     ]
    },
    {
     "name": "stderr",
     "output_type": "stream",
     "text": [
      "/Users/emanuele/code/Phenotype_Prediction/env/lib/python3.11/site-packages/snps/io/reader.py:447: DtypeWarning: Columns (1) have mixed types. Specify dtype option on import or set low_memory=False.\n",
      "  df = pd.read_csv(\n"
     ]
    },
    {
     "name": "stdout",
     "output_type": "stream",
     "text": [
      "13\n",
      "12\n",
      "0\n"
     ]
    },
    {
     "name": "stderr",
     "output_type": "stream",
     "text": [
      "/Users/emanuele/code/Phenotype_Prediction/env/lib/python3.11/site-packages/snps/io/reader.py:447: DtypeWarning: Columns (1) have mixed types. Specify dtype option on import or set low_memory=False.\n",
      "  df = pd.read_csv(\n"
     ]
    },
    {
     "name": "stdout",
     "output_type": "stream",
     "text": [
      "13\n"
     ]
    },
    {
     "name": "stderr",
     "output_type": "stream",
     "text": [
      "/Users/emanuele/code/Phenotype_Prediction/env/lib/python3.11/site-packages/snps/io/reader.py:447: DtypeWarning: Columns (1) have mixed types. Specify dtype option on import or set low_memory=False.\n",
      "  df = pd.read_csv(\n"
     ]
    },
    {
     "name": "stdout",
     "output_type": "stream",
     "text": [
      "13\n"
     ]
    },
    {
     "name": "stderr",
     "output_type": "stream",
     "text": [
      "/Users/emanuele/code/Phenotype_Prediction/env/lib/python3.11/site-packages/snps/io/reader.py:447: DtypeWarning: Columns (1) have mixed types. Specify dtype option on import or set low_memory=False.\n",
      "  df = pd.read_csv(\n"
     ]
    },
    {
     "name": "stdout",
     "output_type": "stream",
     "text": [
      "13\n"
     ]
    },
    {
     "name": "stderr",
     "output_type": "stream",
     "text": [
      "/Users/emanuele/code/Phenotype_Prediction/env/lib/python3.11/site-packages/snps/io/reader.py:447: DtypeWarning: Columns (1) have mixed types. Specify dtype option on import or set low_memory=False.\n",
      "  df = pd.read_csv(\n"
     ]
    },
    {
     "name": "stdout",
     "output_type": "stream",
     "text": [
      "13\n"
     ]
    },
    {
     "name": "stderr",
     "output_type": "stream",
     "text": [
      "/Users/emanuele/code/Phenotype_Prediction/env/lib/python3.11/site-packages/snps/io/reader.py:447: DtypeWarning: Columns (1) have mixed types. Specify dtype option on import or set low_memory=False.\n",
      "  df = pd.read_csv(\n"
     ]
    },
    {
     "name": "stdout",
     "output_type": "stream",
     "text": [
      "13\n"
     ]
    },
    {
     "name": "stderr",
     "output_type": "stream",
     "text": [
      "/Users/emanuele/code/Phenotype_Prediction/env/lib/python3.11/site-packages/snps/io/reader.py:447: DtypeWarning: Columns (1) have mixed types. Specify dtype option on import or set low_memory=False.\n",
      "  df = pd.read_csv(\n"
     ]
    },
    {
     "name": "stdout",
     "output_type": "stream",
     "text": [
      "13\n",
      "7\n"
     ]
    },
    {
     "name": "stderr",
     "output_type": "stream",
     "text": [
      "/Users/emanuele/code/Phenotype_Prediction/env/lib/python3.11/site-packages/snps/io/reader.py:447: DtypeWarning: Columns (1) have mixed types. Specify dtype option on import or set low_memory=False.\n",
      "  df = pd.read_csv(\n"
     ]
    },
    {
     "name": "stdout",
     "output_type": "stream",
     "text": [
      "13\n"
     ]
    },
    {
     "name": "stderr",
     "output_type": "stream",
     "text": [
      "/Users/emanuele/code/Phenotype_Prediction/env/lib/python3.11/site-packages/snps/io/reader.py:447: DtypeWarning: Columns (1) have mixed types. Specify dtype option on import or set low_memory=False.\n",
      "  df = pd.read_csv(\n"
     ]
    },
    {
     "name": "stdout",
     "output_type": "stream",
     "text": [
      "13\n"
     ]
    },
    {
     "name": "stderr",
     "output_type": "stream",
     "text": [
      "/Users/emanuele/code/Phenotype_Prediction/env/lib/python3.11/site-packages/snps/io/reader.py:447: DtypeWarning: Columns (1) have mixed types. Specify dtype option on import or set low_memory=False.\n",
      "  df = pd.read_csv(\n"
     ]
    },
    {
     "name": "stdout",
     "output_type": "stream",
     "text": [
      "13\n",
      "7\n",
      "12\n"
     ]
    },
    {
     "name": "stderr",
     "output_type": "stream",
     "text": [
      "/Users/emanuele/code/Phenotype_Prediction/env/lib/python3.11/site-packages/snps/io/reader.py:447: DtypeWarning: Columns (1) have mixed types. Specify dtype option on import or set low_memory=False.\n",
      "  df = pd.read_csv(\n"
     ]
    },
    {
     "name": "stdout",
     "output_type": "stream",
     "text": [
      "12\n"
     ]
    },
    {
     "name": "stderr",
     "output_type": "stream",
     "text": [
      "/Users/emanuele/code/Phenotype_Prediction/env/lib/python3.11/site-packages/snps/io/reader.py:447: DtypeWarning: Columns (1) have mixed types. Specify dtype option on import or set low_memory=False.\n",
      "  df = pd.read_csv(\n"
     ]
    },
    {
     "name": "stdout",
     "output_type": "stream",
     "text": [
      "13\n"
     ]
    },
    {
     "name": "stderr",
     "output_type": "stream",
     "text": [
      "/Users/emanuele/code/Phenotype_Prediction/env/lib/python3.11/site-packages/snps/io/reader.py:447: DtypeWarning: Columns (1) have mixed types. Specify dtype option on import or set low_memory=False.\n",
      "  df = pd.read_csv(\n"
     ]
    },
    {
     "name": "stdout",
     "output_type": "stream",
     "text": [
      "13\n",
      "12\n"
     ]
    },
    {
     "name": "stderr",
     "output_type": "stream",
     "text": [
      "/Users/emanuele/code/Phenotype_Prediction/env/lib/python3.11/site-packages/snps/io/reader.py:447: DtypeWarning: Columns (1) have mixed types. Specify dtype option on import or set low_memory=False.\n",
      "  df = pd.read_csv(\n"
     ]
    },
    {
     "name": "stdout",
     "output_type": "stream",
     "text": [
      "13\n"
     ]
    },
    {
     "name": "stderr",
     "output_type": "stream",
     "text": [
      "/Users/emanuele/code/Phenotype_Prediction/env/lib/python3.11/site-packages/snps/io/reader.py:447: DtypeWarning: Columns (1) have mixed types. Specify dtype option on import or set low_memory=False.\n",
      "  df = pd.read_csv(\n"
     ]
    },
    {
     "name": "stdout",
     "output_type": "stream",
     "text": [
      "13\n"
     ]
    },
    {
     "name": "stderr",
     "output_type": "stream",
     "text": [
      "/Users/emanuele/code/Phenotype_Prediction/env/lib/python3.11/site-packages/snps/io/reader.py:447: DtypeWarning: Columns (1) have mixed types. Specify dtype option on import or set low_memory=False.\n",
      "  df = pd.read_csv(\n"
     ]
    },
    {
     "name": "stdout",
     "output_type": "stream",
     "text": [
      "13\n",
      "7\n"
     ]
    },
    {
     "name": "stderr",
     "output_type": "stream",
     "text": [
      "/Users/emanuele/code/Phenotype_Prediction/env/lib/python3.11/site-packages/snps/io/reader.py:447: DtypeWarning: Columns (1) have mixed types. Specify dtype option on import or set low_memory=False.\n",
      "  df = pd.read_csv(\n"
     ]
    },
    {
     "name": "stdout",
     "output_type": "stream",
     "text": [
      "12\n",
      "0\n",
      "12\n"
     ]
    },
    {
     "name": "stderr",
     "output_type": "stream",
     "text": [
      "/Users/emanuele/code/Phenotype_Prediction/env/lib/python3.11/site-packages/snps/io/reader.py:447: DtypeWarning: Columns (1,2) have mixed types. Specify dtype option on import or set low_memory=False.\n",
      "  df = pd.read_csv(\n"
     ]
    },
    {
     "name": "stdout",
     "output_type": "stream",
     "text": [
      "12\n"
     ]
    },
    {
     "name": "stderr",
     "output_type": "stream",
     "text": [
      "/Users/emanuele/code/Phenotype_Prediction/env/lib/python3.11/site-packages/snps/io/reader.py:447: DtypeWarning: Columns (1) have mixed types. Specify dtype option on import or set low_memory=False.\n",
      "  df = pd.read_csv(\n"
     ]
    },
    {
     "name": "stdout",
     "output_type": "stream",
     "text": [
      "13\n"
     ]
    },
    {
     "name": "stderr",
     "output_type": "stream",
     "text": [
      "/Users/emanuele/code/Phenotype_Prediction/env/lib/python3.11/site-packages/snps/io/reader.py:447: DtypeWarning: Columns (1) have mixed types. Specify dtype option on import or set low_memory=False.\n",
      "  df = pd.read_csv(\n"
     ]
    },
    {
     "name": "stdout",
     "output_type": "stream",
     "text": [
      "13\n",
      "7\n"
     ]
    },
    {
     "name": "stderr",
     "output_type": "stream",
     "text": [
      "/Users/emanuele/code/Phenotype_Prediction/env/lib/python3.11/site-packages/snps/io/reader.py:447: DtypeWarning: Columns (1) have mixed types. Specify dtype option on import or set low_memory=False.\n",
      "  df = pd.read_csv(\n"
     ]
    },
    {
     "name": "stdout",
     "output_type": "stream",
     "text": [
      "13\n"
     ]
    },
    {
     "name": "stderr",
     "output_type": "stream",
     "text": [
      "/Users/emanuele/code/Phenotype_Prediction/env/lib/python3.11/site-packages/snps/io/reader.py:447: DtypeWarning: Columns (1) have mixed types. Specify dtype option on import or set low_memory=False.\n",
      "  df = pd.read_csv(\n"
     ]
    },
    {
     "name": "stdout",
     "output_type": "stream",
     "text": [
      "13\n"
     ]
    },
    {
     "name": "stderr",
     "output_type": "stream",
     "text": [
      "/Users/emanuele/code/Phenotype_Prediction/env/lib/python3.11/site-packages/snps/io/reader.py:447: DtypeWarning: Columns (1) have mixed types. Specify dtype option on import or set low_memory=False.\n",
      "  df = pd.read_csv(\n"
     ]
    },
    {
     "name": "stdout",
     "output_type": "stream",
     "text": [
      "13\n"
     ]
    },
    {
     "name": "stderr",
     "output_type": "stream",
     "text": [
      "/Users/emanuele/code/Phenotype_Prediction/env/lib/python3.11/site-packages/snps/io/reader.py:447: DtypeWarning: Columns (1) have mixed types. Specify dtype option on import or set low_memory=False.\n",
      "  df = pd.read_csv(\n"
     ]
    },
    {
     "name": "stdout",
     "output_type": "stream",
     "text": [
      "13\n",
      "12\n"
     ]
    },
    {
     "name": "stderr",
     "output_type": "stream",
     "text": [
      "/Users/emanuele/code/Phenotype_Prediction/env/lib/python3.11/site-packages/snps/io/reader.py:447: DtypeWarning: Columns (1) have mixed types. Specify dtype option on import or set low_memory=False.\n",
      "  df = pd.read_csv(\n"
     ]
    },
    {
     "name": "stdout",
     "output_type": "stream",
     "text": [
      "13\n"
     ]
    },
    {
     "name": "stderr",
     "output_type": "stream",
     "text": [
      "/Users/emanuele/code/Phenotype_Prediction/env/lib/python3.11/site-packages/snps/io/reader.py:447: DtypeWarning: Columns (1) have mixed types. Specify dtype option on import or set low_memory=False.\n",
      "  df = pd.read_csv(\n"
     ]
    },
    {
     "name": "stdout",
     "output_type": "stream",
     "text": [
      "13\n"
     ]
    },
    {
     "name": "stderr",
     "output_type": "stream",
     "text": [
      "/Users/emanuele/code/Phenotype_Prediction/env/lib/python3.11/site-packages/snps/io/reader.py:447: DtypeWarning: Columns (1) have mixed types. Specify dtype option on import or set low_memory=False.\n",
      "  df = pd.read_csv(\n"
     ]
    },
    {
     "name": "stdout",
     "output_type": "stream",
     "text": [
      "13\n"
     ]
    },
    {
     "name": "stderr",
     "output_type": "stream",
     "text": [
      "/Users/emanuele/code/Phenotype_Prediction/env/lib/python3.11/site-packages/snps/io/reader.py:447: DtypeWarning: Columns (1) have mixed types. Specify dtype option on import or set low_memory=False.\n",
      "  df = pd.read_csv(\n"
     ]
    },
    {
     "name": "stdout",
     "output_type": "stream",
     "text": [
      "13\n"
     ]
    },
    {
     "name": "stderr",
     "output_type": "stream",
     "text": [
      "/Users/emanuele/code/Phenotype_Prediction/env/lib/python3.11/site-packages/snps/io/reader.py:447: DtypeWarning: Columns (1) have mixed types. Specify dtype option on import or set low_memory=False.\n",
      "  df = pd.read_csv(\n"
     ]
    },
    {
     "name": "stdout",
     "output_type": "stream",
     "text": [
      "13\n"
     ]
    },
    {
     "name": "stderr",
     "output_type": "stream",
     "text": [
      "/Users/emanuele/code/Phenotype_Prediction/env/lib/python3.11/site-packages/snps/io/reader.py:447: DtypeWarning: Columns (1) have mixed types. Specify dtype option on import or set low_memory=False.\n",
      "  df = pd.read_csv(\n"
     ]
    },
    {
     "name": "stdout",
     "output_type": "stream",
     "text": [
      "13\n"
     ]
    },
    {
     "name": "stderr",
     "output_type": "stream",
     "text": [
      "/Users/emanuele/code/Phenotype_Prediction/env/lib/python3.11/site-packages/snps/io/reader.py:447: DtypeWarning: Columns (1) have mixed types. Specify dtype option on import or set low_memory=False.\n",
      "  df = pd.read_csv(\n"
     ]
    },
    {
     "name": "stdout",
     "output_type": "stream",
     "text": [
      "13\n",
      "7\n",
      "12\n"
     ]
    },
    {
     "name": "stderr",
     "output_type": "stream",
     "text": [
      "/Users/emanuele/code/Phenotype_Prediction/env/lib/python3.11/site-packages/snps/io/reader.py:447: DtypeWarning: Columns (1) have mixed types. Specify dtype option on import or set low_memory=False.\n",
      "  df = pd.read_csv(\n"
     ]
    },
    {
     "name": "stdout",
     "output_type": "stream",
     "text": [
      "13\n"
     ]
    },
    {
     "name": "stderr",
     "output_type": "stream",
     "text": [
      "/Users/emanuele/code/Phenotype_Prediction/env/lib/python3.11/site-packages/snps/io/reader.py:447: DtypeWarning: Columns (1) have mixed types. Specify dtype option on import or set low_memory=False.\n",
      "  df = pd.read_csv(\n"
     ]
    },
    {
     "name": "stdout",
     "output_type": "stream",
     "text": [
      "13\n",
      "12\n"
     ]
    },
    {
     "name": "stderr",
     "output_type": "stream",
     "text": [
      "/Users/emanuele/code/Phenotype_Prediction/env/lib/python3.11/site-packages/snps/io/reader.py:447: DtypeWarning: Columns (1) have mixed types. Specify dtype option on import or set low_memory=False.\n",
      "  df = pd.read_csv(\n"
     ]
    },
    {
     "name": "stdout",
     "output_type": "stream",
     "text": [
      "13\n"
     ]
    },
    {
     "name": "stderr",
     "output_type": "stream",
     "text": [
      "/Users/emanuele/code/Phenotype_Prediction/env/lib/python3.11/site-packages/snps/io/reader.py:447: DtypeWarning: Columns (1) have mixed types. Specify dtype option on import or set low_memory=False.\n",
      "  df = pd.read_csv(\n"
     ]
    },
    {
     "name": "stdout",
     "output_type": "stream",
     "text": [
      "13\n"
     ]
    },
    {
     "name": "stderr",
     "output_type": "stream",
     "text": [
      "/Users/emanuele/code/Phenotype_Prediction/env/lib/python3.11/site-packages/snps/io/reader.py:447: DtypeWarning: Columns (1) have mixed types. Specify dtype option on import or set low_memory=False.\n",
      "  df = pd.read_csv(\n"
     ]
    },
    {
     "name": "stdout",
     "output_type": "stream",
     "text": [
      "13\n",
      "12\n"
     ]
    },
    {
     "name": "stderr",
     "output_type": "stream",
     "text": [
      "/Users/emanuele/code/Phenotype_Prediction/env/lib/python3.11/site-packages/snps/io/reader.py:447: DtypeWarning: Columns (1) have mixed types. Specify dtype option on import or set low_memory=False.\n",
      "  df = pd.read_csv(\n"
     ]
    },
    {
     "name": "stdout",
     "output_type": "stream",
     "text": [
      "13\n"
     ]
    },
    {
     "name": "stderr",
     "output_type": "stream",
     "text": [
      "/Users/emanuele/code/Phenotype_Prediction/env/lib/python3.11/site-packages/snps/io/reader.py:447: DtypeWarning: Columns (1) have mixed types. Specify dtype option on import or set low_memory=False.\n",
      "  df = pd.read_csv(\n"
     ]
    },
    {
     "name": "stdout",
     "output_type": "stream",
     "text": [
      "13\n"
     ]
    },
    {
     "name": "stderr",
     "output_type": "stream",
     "text": [
      "/Users/emanuele/code/Phenotype_Prediction/env/lib/python3.11/site-packages/snps/io/reader.py:447: DtypeWarning: Columns (1) have mixed types. Specify dtype option on import or set low_memory=False.\n",
      "  df = pd.read_csv(\n"
     ]
    },
    {
     "name": "stdout",
     "output_type": "stream",
     "text": [
      "13\n"
     ]
    },
    {
     "name": "stderr",
     "output_type": "stream",
     "text": [
      "/Users/emanuele/code/Phenotype_Prediction/env/lib/python3.11/site-packages/snps/io/reader.py:447: DtypeWarning: Columns (1) have mixed types. Specify dtype option on import or set low_memory=False.\n",
      "  df = pd.read_csv(\n"
     ]
    },
    {
     "name": "stdout",
     "output_type": "stream",
     "text": [
      "13\n",
      "7\n"
     ]
    },
    {
     "name": "stderr",
     "output_type": "stream",
     "text": [
      "/Users/emanuele/code/Phenotype_Prediction/env/lib/python3.11/site-packages/snps/io/reader.py:447: DtypeWarning: Columns (1) have mixed types. Specify dtype option on import or set low_memory=False.\n",
      "  df = pd.read_csv(\n"
     ]
    },
    {
     "name": "stdout",
     "output_type": "stream",
     "text": [
      "13\n"
     ]
    },
    {
     "name": "stderr",
     "output_type": "stream",
     "text": [
      "/Users/emanuele/code/Phenotype_Prediction/env/lib/python3.11/site-packages/snps/io/reader.py:447: DtypeWarning: Columns (1) have mixed types. Specify dtype option on import or set low_memory=False.\n",
      "  df = pd.read_csv(\n"
     ]
    },
    {
     "name": "stdout",
     "output_type": "stream",
     "text": [
      "13\n"
     ]
    },
    {
     "name": "stderr",
     "output_type": "stream",
     "text": [
      "/Users/emanuele/code/Phenotype_Prediction/env/lib/python3.11/site-packages/snps/io/reader.py:447: DtypeWarning: Columns (1) have mixed types. Specify dtype option on import or set low_memory=False.\n",
      "  df = pd.read_csv(\n"
     ]
    },
    {
     "name": "stdout",
     "output_type": "stream",
     "text": [
      "13\n"
     ]
    },
    {
     "name": "stderr",
     "output_type": "stream",
     "text": [
      "/Users/emanuele/code/Phenotype_Prediction/env/lib/python3.11/site-packages/snps/io/reader.py:447: DtypeWarning: Columns (1) have mixed types. Specify dtype option on import or set low_memory=False.\n",
      "  df = pd.read_csv(\n"
     ]
    },
    {
     "name": "stdout",
     "output_type": "stream",
     "text": [
      "13\n"
     ]
    },
    {
     "name": "stderr",
     "output_type": "stream",
     "text": [
      "/Users/emanuele/code/Phenotype_Prediction/env/lib/python3.11/site-packages/snps/io/reader.py:447: DtypeWarning: Columns (1) have mixed types. Specify dtype option on import or set low_memory=False.\n",
      "  df = pd.read_csv(\n"
     ]
    },
    {
     "name": "stdout",
     "output_type": "stream",
     "text": [
      "13\n"
     ]
    },
    {
     "name": "stderr",
     "output_type": "stream",
     "text": [
      "/Users/emanuele/code/Phenotype_Prediction/env/lib/python3.11/site-packages/snps/io/reader.py:447: DtypeWarning: Columns (1) have mixed types. Specify dtype option on import or set low_memory=False.\n",
      "  df = pd.read_csv(\n"
     ]
    },
    {
     "name": "stdout",
     "output_type": "stream",
     "text": [
      "13\n"
     ]
    },
    {
     "name": "stderr",
     "output_type": "stream",
     "text": [
      "/Users/emanuele/code/Phenotype_Prediction/env/lib/python3.11/site-packages/snps/io/reader.py:447: DtypeWarning: Columns (1) have mixed types. Specify dtype option on import or set low_memory=False.\n",
      "  df = pd.read_csv(\n"
     ]
    },
    {
     "name": "stdout",
     "output_type": "stream",
     "text": [
      "13\n"
     ]
    },
    {
     "name": "stderr",
     "output_type": "stream",
     "text": [
      "/Users/emanuele/code/Phenotype_Prediction/env/lib/python3.11/site-packages/snps/io/reader.py:447: DtypeWarning: Columns (1) have mixed types. Specify dtype option on import or set low_memory=False.\n",
      "  df = pd.read_csv(\n"
     ]
    },
    {
     "name": "stdout",
     "output_type": "stream",
     "text": [
      "13\n"
     ]
    },
    {
     "name": "stderr",
     "output_type": "stream",
     "text": [
      "/Users/emanuele/code/Phenotype_Prediction/env/lib/python3.11/site-packages/snps/io/reader.py:447: DtypeWarning: Columns (1) have mixed types. Specify dtype option on import or set low_memory=False.\n",
      "  df = pd.read_csv(\n"
     ]
    },
    {
     "name": "stdout",
     "output_type": "stream",
     "text": [
      "13\n"
     ]
    },
    {
     "name": "stderr",
     "output_type": "stream",
     "text": [
      "/Users/emanuele/code/Phenotype_Prediction/env/lib/python3.11/site-packages/snps/io/reader.py:447: DtypeWarning: Columns (1) have mixed types. Specify dtype option on import or set low_memory=False.\n",
      "  df = pd.read_csv(\n"
     ]
    },
    {
     "name": "stdout",
     "output_type": "stream",
     "text": [
      "13\n",
      "11\n"
     ]
    },
    {
     "name": "stderr",
     "output_type": "stream",
     "text": [
      "/Users/emanuele/code/Phenotype_Prediction/env/lib/python3.11/site-packages/snps/io/reader.py:447: DtypeWarning: Columns (1) have mixed types. Specify dtype option on import or set low_memory=False.\n",
      "  df = pd.read_csv(\n"
     ]
    },
    {
     "name": "stdout",
     "output_type": "stream",
     "text": [
      "13\n"
     ]
    },
    {
     "name": "stderr",
     "output_type": "stream",
     "text": [
      "/Users/emanuele/code/Phenotype_Prediction/env/lib/python3.11/site-packages/snps/io/reader.py:447: DtypeWarning: Columns (1) have mixed types. Specify dtype option on import or set low_memory=False.\n",
      "  df = pd.read_csv(\n"
     ]
    },
    {
     "name": "stdout",
     "output_type": "stream",
     "text": [
      "13\n"
     ]
    },
    {
     "name": "stderr",
     "output_type": "stream",
     "text": [
      "/Users/emanuele/code/Phenotype_Prediction/env/lib/python3.11/site-packages/snps/io/reader.py:447: DtypeWarning: Columns (1) have mixed types. Specify dtype option on import or set low_memory=False.\n",
      "  df = pd.read_csv(\n"
     ]
    },
    {
     "name": "stdout",
     "output_type": "stream",
     "text": [
      "13\n"
     ]
    },
    {
     "name": "stderr",
     "output_type": "stream",
     "text": [
      "/Users/emanuele/code/Phenotype_Prediction/env/lib/python3.11/site-packages/snps/io/reader.py:447: DtypeWarning: Columns (1) have mixed types. Specify dtype option on import or set low_memory=False.\n",
      "  df = pd.read_csv(\n"
     ]
    },
    {
     "name": "stdout",
     "output_type": "stream",
     "text": [
      "13\n"
     ]
    },
    {
     "name": "stderr",
     "output_type": "stream",
     "text": [
      "/Users/emanuele/code/Phenotype_Prediction/env/lib/python3.11/site-packages/snps/io/reader.py:447: DtypeWarning: Columns (1) have mixed types. Specify dtype option on import or set low_memory=False.\n",
      "  df = pd.read_csv(\n"
     ]
    },
    {
     "name": "stdout",
     "output_type": "stream",
     "text": [
      "13\n"
     ]
    },
    {
     "name": "stderr",
     "output_type": "stream",
     "text": [
      "/Users/emanuele/code/Phenotype_Prediction/env/lib/python3.11/site-packages/snps/io/reader.py:447: DtypeWarning: Columns (1) have mixed types. Specify dtype option on import or set low_memory=False.\n",
      "  df = pd.read_csv(\n"
     ]
    },
    {
     "name": "stdout",
     "output_type": "stream",
     "text": [
      "13\n"
     ]
    },
    {
     "name": "stderr",
     "output_type": "stream",
     "text": [
      "/Users/emanuele/code/Phenotype_Prediction/env/lib/python3.11/site-packages/snps/io/reader.py:447: DtypeWarning: Columns (1) have mixed types. Specify dtype option on import or set low_memory=False.\n",
      "  df = pd.read_csv(\n"
     ]
    },
    {
     "name": "stdout",
     "output_type": "stream",
     "text": [
      "13\n",
      "7\n"
     ]
    },
    {
     "name": "stderr",
     "output_type": "stream",
     "text": [
      "/Users/emanuele/code/Phenotype_Prediction/env/lib/python3.11/site-packages/snps/io/reader.py:447: DtypeWarning: Columns (1) have mixed types. Specify dtype option on import or set low_memory=False.\n",
      "  df = pd.read_csv(\n"
     ]
    },
    {
     "name": "stdout",
     "output_type": "stream",
     "text": [
      "13\n",
      "0\n"
     ]
    },
    {
     "name": "stderr",
     "output_type": "stream",
     "text": [
      "/Users/emanuele/code/Phenotype_Prediction/env/lib/python3.11/site-packages/snps/io/reader.py:447: DtypeWarning: Columns (1) have mixed types. Specify dtype option on import or set low_memory=False.\n",
      "  df = pd.read_csv(\n"
     ]
    },
    {
     "name": "stdout",
     "output_type": "stream",
     "text": [
      "13\n"
     ]
    },
    {
     "name": "stderr",
     "output_type": "stream",
     "text": [
      "/Users/emanuele/code/Phenotype_Prediction/env/lib/python3.11/site-packages/snps/io/reader.py:447: DtypeWarning: Columns (1) have mixed types. Specify dtype option on import or set low_memory=False.\n",
      "  df = pd.read_csv(\n"
     ]
    },
    {
     "name": "stdout",
     "output_type": "stream",
     "text": [
      "13\n"
     ]
    },
    {
     "name": "stderr",
     "output_type": "stream",
     "text": [
      "/Users/emanuele/code/Phenotype_Prediction/env/lib/python3.11/site-packages/snps/io/reader.py:447: DtypeWarning: Columns (1) have mixed types. Specify dtype option on import or set low_memory=False.\n",
      "  df = pd.read_csv(\n"
     ]
    },
    {
     "name": "stdout",
     "output_type": "stream",
     "text": [
      "13\n"
     ]
    },
    {
     "name": "stderr",
     "output_type": "stream",
     "text": [
      "/Users/emanuele/code/Phenotype_Prediction/env/lib/python3.11/site-packages/snps/io/reader.py:447: DtypeWarning: Columns (1) have mixed types. Specify dtype option on import or set low_memory=False.\n",
      "  df = pd.read_csv(\n"
     ]
    },
    {
     "name": "stdout",
     "output_type": "stream",
     "text": [
      "13\n",
      "12\n"
     ]
    },
    {
     "name": "stderr",
     "output_type": "stream",
     "text": [
      "/Users/emanuele/code/Phenotype_Prediction/env/lib/python3.11/site-packages/snps/io/reader.py:447: DtypeWarning: Columns (1) have mixed types. Specify dtype option on import or set low_memory=False.\n",
      "  df = pd.read_csv(\n"
     ]
    },
    {
     "name": "stdout",
     "output_type": "stream",
     "text": [
      "13\n"
     ]
    },
    {
     "name": "stderr",
     "output_type": "stream",
     "text": [
      "no SNPs loaded...\n"
     ]
    },
    {
     "name": "stdout",
     "output_type": "stream",
     "text": [
      "0\n"
     ]
    },
    {
     "name": "stderr",
     "output_type": "stream",
     "text": [
      "/Users/emanuele/code/Phenotype_Prediction/env/lib/python3.11/site-packages/snps/io/reader.py:447: DtypeWarning: Columns (1) have mixed types. Specify dtype option on import or set low_memory=False.\n",
      "  df = pd.read_csv(\n"
     ]
    },
    {
     "name": "stdout",
     "output_type": "stream",
     "text": [
      "13\n"
     ]
    },
    {
     "name": "stderr",
     "output_type": "stream",
     "text": [
      "/Users/emanuele/code/Phenotype_Prediction/env/lib/python3.11/site-packages/snps/io/reader.py:447: DtypeWarning: Columns (1) have mixed types. Specify dtype option on import or set low_memory=False.\n",
      "  df = pd.read_csv(\n"
     ]
    },
    {
     "name": "stdout",
     "output_type": "stream",
     "text": [
      "13\n"
     ]
    },
    {
     "name": "stderr",
     "output_type": "stream",
     "text": [
      "/Users/emanuele/code/Phenotype_Prediction/env/lib/python3.11/site-packages/snps/io/reader.py:447: DtypeWarning: Columns (1) have mixed types. Specify dtype option on import or set low_memory=False.\n",
      "  df = pd.read_csv(\n"
     ]
    },
    {
     "name": "stdout",
     "output_type": "stream",
     "text": [
      "13\n"
     ]
    },
    {
     "name": "stderr",
     "output_type": "stream",
     "text": [
      "/Users/emanuele/code/Phenotype_Prediction/env/lib/python3.11/site-packages/snps/io/reader.py:447: DtypeWarning: Columns (1) have mixed types. Specify dtype option on import or set low_memory=False.\n",
      "  df = pd.read_csv(\n"
     ]
    },
    {
     "name": "stdout",
     "output_type": "stream",
     "text": [
      "13\n"
     ]
    },
    {
     "name": "stderr",
     "output_type": "stream",
     "text": [
      "/Users/emanuele/code/Phenotype_Prediction/env/lib/python3.11/site-packages/snps/io/reader.py:447: DtypeWarning: Columns (1) have mixed types. Specify dtype option on import or set low_memory=False.\n",
      "  df = pd.read_csv(\n"
     ]
    },
    {
     "name": "stdout",
     "output_type": "stream",
     "text": [
      "13\n"
     ]
    },
    {
     "name": "stderr",
     "output_type": "stream",
     "text": [
      "/Users/emanuele/code/Phenotype_Prediction/env/lib/python3.11/site-packages/snps/io/reader.py:447: DtypeWarning: Columns (1) have mixed types. Specify dtype option on import or set low_memory=False.\n",
      "  df = pd.read_csv(\n"
     ]
    },
    {
     "name": "stdout",
     "output_type": "stream",
     "text": [
      "13\n",
      "ERRO!!! NO ARQUIVO opensnp_alldata/opensnp_datadump.current/user2199_file1344_yearofbirth_1960_sex_XX.23andme.txt\n"
     ]
    },
    {
     "name": "stderr",
     "output_type": "stream",
     "text": [
      "/Users/emanuele/code/Phenotype_Prediction/env/lib/python3.11/site-packages/snps/io/reader.py:447: DtypeWarning: Columns (1) have mixed types. Specify dtype option on import or set low_memory=False.\n",
      "  df = pd.read_csv(\n"
     ]
    },
    {
     "name": "stdout",
     "output_type": "stream",
     "text": [
      "13\n",
      "12\n",
      "12\n"
     ]
    },
    {
     "name": "stderr",
     "output_type": "stream",
     "text": [
      "/Users/emanuele/code/Phenotype_Prediction/env/lib/python3.11/site-packages/snps/io/reader.py:447: DtypeWarning: Columns (1) have mixed types. Specify dtype option on import or set low_memory=False.\n",
      "  df = pd.read_csv(\n"
     ]
    },
    {
     "name": "stdout",
     "output_type": "stream",
     "text": [
      "12\n"
     ]
    },
    {
     "name": "stderr",
     "output_type": "stream",
     "text": [
      "/Users/emanuele/code/Phenotype_Prediction/env/lib/python3.11/site-packages/snps/io/reader.py:447: DtypeWarning: Columns (1) have mixed types. Specify dtype option on import or set low_memory=False.\n",
      "  df = pd.read_csv(\n"
     ]
    },
    {
     "name": "stdout",
     "output_type": "stream",
     "text": [
      "13\n"
     ]
    },
    {
     "name": "stderr",
     "output_type": "stream",
     "text": [
      "/Users/emanuele/code/Phenotype_Prediction/env/lib/python3.11/site-packages/snps/io/reader.py:447: DtypeWarning: Columns (1) have mixed types. Specify dtype option on import or set low_memory=False.\n",
      "  df = pd.read_csv(\n"
     ]
    },
    {
     "name": "stdout",
     "output_type": "stream",
     "text": [
      "13\n",
      "0\n"
     ]
    },
    {
     "name": "stderr",
     "output_type": "stream",
     "text": [
      "/Users/emanuele/code/Phenotype_Prediction/env/lib/python3.11/site-packages/snps/io/reader.py:447: DtypeWarning: Columns (1) have mixed types. Specify dtype option on import or set low_memory=False.\n",
      "  df = pd.read_csv(\n"
     ]
    },
    {
     "name": "stdout",
     "output_type": "stream",
     "text": [
      "13\n"
     ]
    },
    {
     "name": "stderr",
     "output_type": "stream",
     "text": [
      "/Users/emanuele/code/Phenotype_Prediction/env/lib/python3.11/site-packages/snps/io/reader.py:447: DtypeWarning: Columns (1) have mixed types. Specify dtype option on import or set low_memory=False.\n",
      "  df = pd.read_csv(\n"
     ]
    },
    {
     "name": "stdout",
     "output_type": "stream",
     "text": [
      "13\n"
     ]
    },
    {
     "name": "stderr",
     "output_type": "stream",
     "text": [
      "/Users/emanuele/code/Phenotype_Prediction/env/lib/python3.11/site-packages/snps/io/reader.py:447: DtypeWarning: Columns (1) have mixed types. Specify dtype option on import or set low_memory=False.\n",
      "  df = pd.read_csv(\n"
     ]
    },
    {
     "name": "stdout",
     "output_type": "stream",
     "text": [
      "13\n"
     ]
    },
    {
     "name": "stderr",
     "output_type": "stream",
     "text": [
      "/Users/emanuele/code/Phenotype_Prediction/env/lib/python3.11/site-packages/snps/io/reader.py:447: DtypeWarning: Columns (1) have mixed types. Specify dtype option on import or set low_memory=False.\n",
      "  df = pd.read_csv(\n"
     ]
    },
    {
     "name": "stdout",
     "output_type": "stream",
     "text": [
      "13\n"
     ]
    },
    {
     "name": "stderr",
     "output_type": "stream",
     "text": [
      "/Users/emanuele/code/Phenotype_Prediction/env/lib/python3.11/site-packages/snps/io/reader.py:447: DtypeWarning: Columns (1) have mixed types. Specify dtype option on import or set low_memory=False.\n",
      "  df = pd.read_csv(\n"
     ]
    },
    {
     "name": "stdout",
     "output_type": "stream",
     "text": [
      "12\n",
      "0\n"
     ]
    },
    {
     "name": "stderr",
     "output_type": "stream",
     "text": [
      "/Users/emanuele/code/Phenotype_Prediction/env/lib/python3.11/site-packages/snps/io/reader.py:447: DtypeWarning: Columns (1) have mixed types. Specify dtype option on import or set low_memory=False.\n",
      "  df = pd.read_csv(\n"
     ]
    },
    {
     "name": "stdout",
     "output_type": "stream",
     "text": [
      "13\n"
     ]
    },
    {
     "name": "stderr",
     "output_type": "stream",
     "text": [
      "/Users/emanuele/code/Phenotype_Prediction/env/lib/python3.11/site-packages/snps/io/reader.py:447: DtypeWarning: Columns (1) have mixed types. Specify dtype option on import or set low_memory=False.\n",
      "  df = pd.read_csv(\n"
     ]
    },
    {
     "name": "stdout",
     "output_type": "stream",
     "text": [
      "13\n"
     ]
    },
    {
     "name": "stderr",
     "output_type": "stream",
     "text": [
      "/Users/emanuele/code/Phenotype_Prediction/env/lib/python3.11/site-packages/snps/io/reader.py:447: DtypeWarning: Columns (1) have mixed types. Specify dtype option on import or set low_memory=False.\n",
      "  df = pd.read_csv(\n"
     ]
    },
    {
     "name": "stdout",
     "output_type": "stream",
     "text": [
      "13\n",
      "ERRO!!! NO ARQUIVO opensnp_alldata/opensnp_datadump.current/user2287_file1400_yearofbirth_unknown_sex_unknown.23andme.txt\n"
     ]
    },
    {
     "name": "stderr",
     "output_type": "stream",
     "text": [
      "/Users/emanuele/code/Phenotype_Prediction/env/lib/python3.11/site-packages/snps/io/reader.py:447: DtypeWarning: Columns (1) have mixed types. Specify dtype option on import or set low_memory=False.\n",
      "  df = pd.read_csv(\n"
     ]
    },
    {
     "name": "stdout",
     "output_type": "stream",
     "text": [
      "13\n"
     ]
    },
    {
     "name": "stderr",
     "output_type": "stream",
     "text": [
      "/Users/emanuele/code/Phenotype_Prediction/env/lib/python3.11/site-packages/snps/io/reader.py:447: DtypeWarning: Columns (1) have mixed types. Specify dtype option on import or set low_memory=False.\n",
      "  df = pd.read_csv(\n"
     ]
    },
    {
     "name": "stdout",
     "output_type": "stream",
     "text": [
      "13\n"
     ]
    },
    {
     "name": "stderr",
     "output_type": "stream",
     "text": [
      "/Users/emanuele/code/Phenotype_Prediction/env/lib/python3.11/site-packages/snps/io/reader.py:447: DtypeWarning: Columns (1) have mixed types. Specify dtype option on import or set low_memory=False.\n",
      "  df = pd.read_csv(\n"
     ]
    },
    {
     "name": "stdout",
     "output_type": "stream",
     "text": [
      "13\n",
      "ERRO!!! NO ARQUIVO opensnp_alldata/opensnp_datadump.current/user2322_file1430_yearofbirth_unknown_sex_unknown.23andme.txt\n",
      "0\n"
     ]
    },
    {
     "name": "stderr",
     "output_type": "stream",
     "text": [
      "/Users/emanuele/code/Phenotype_Prediction/env/lib/python3.11/site-packages/snps/io/reader.py:447: DtypeWarning: Columns (1) have mixed types. Specify dtype option on import or set low_memory=False.\n",
      "  df = pd.read_csv(\n"
     ]
    },
    {
     "name": "stdout",
     "output_type": "stream",
     "text": [
      "13\n",
      "0\n"
     ]
    },
    {
     "name": "stderr",
     "output_type": "stream",
     "text": [
      "/Users/emanuele/code/Phenotype_Prediction/env/lib/python3.11/site-packages/snps/io/reader.py:447: DtypeWarning: Columns (1) have mixed types. Specify dtype option on import or set low_memory=False.\n",
      "  df = pd.read_csv(\n"
     ]
    },
    {
     "name": "stdout",
     "output_type": "stream",
     "text": [
      "13\n"
     ]
    },
    {
     "name": "stderr",
     "output_type": "stream",
     "text": [
      "/Users/emanuele/code/Phenotype_Prediction/env/lib/python3.11/site-packages/snps/io/reader.py:447: DtypeWarning: Columns (1) have mixed types. Specify dtype option on import or set low_memory=False.\n",
      "  df = pd.read_csv(\n"
     ]
    },
    {
     "name": "stdout",
     "output_type": "stream",
     "text": [
      "13\n"
     ]
    },
    {
     "name": "stderr",
     "output_type": "stream",
     "text": [
      "/Users/emanuele/code/Phenotype_Prediction/env/lib/python3.11/site-packages/snps/io/reader.py:447: DtypeWarning: Columns (1) have mixed types. Specify dtype option on import or set low_memory=False.\n",
      "  df = pd.read_csv(\n"
     ]
    },
    {
     "name": "stdout",
     "output_type": "stream",
     "text": [
      "13\n",
      "12\n"
     ]
    },
    {
     "name": "stderr",
     "output_type": "stream",
     "text": [
      "/Users/emanuele/code/Phenotype_Prediction/env/lib/python3.11/site-packages/snps/io/reader.py:447: DtypeWarning: Columns (1) have mixed types. Specify dtype option on import or set low_memory=False.\n",
      "  df = pd.read_csv(\n"
     ]
    },
    {
     "name": "stdout",
     "output_type": "stream",
     "text": [
      "13\n"
     ]
    },
    {
     "name": "stderr",
     "output_type": "stream",
     "text": [
      "/Users/emanuele/code/Phenotype_Prediction/env/lib/python3.11/site-packages/snps/io/reader.py:447: DtypeWarning: Columns (1) have mixed types. Specify dtype option on import or set low_memory=False.\n",
      "  df = pd.read_csv(\n"
     ]
    },
    {
     "name": "stdout",
     "output_type": "stream",
     "text": [
      "13\n"
     ]
    },
    {
     "name": "stderr",
     "output_type": "stream",
     "text": [
      "/Users/emanuele/code/Phenotype_Prediction/env/lib/python3.11/site-packages/snps/io/reader.py:447: DtypeWarning: Columns (1) have mixed types. Specify dtype option on import or set low_memory=False.\n",
      "  df = pd.read_csv(\n"
     ]
    },
    {
     "name": "stdout",
     "output_type": "stream",
     "text": [
      "13\n",
      "ERRO!!! NO ARQUIVO opensnp_alldata/opensnp_datadump.current/user2398_file1490_yearofbirth_1963_sex_XX.23andme.txt\n"
     ]
    },
    {
     "name": "stderr",
     "output_type": "stream",
     "text": [
      "/Users/emanuele/code/Phenotype_Prediction/env/lib/python3.11/site-packages/snps/io/reader.py:447: DtypeWarning: Columns (1) have mixed types. Specify dtype option on import or set low_memory=False.\n",
      "  df = pd.read_csv(\n"
     ]
    },
    {
     "name": "stdout",
     "output_type": "stream",
     "text": [
      "13\n",
      "12\n"
     ]
    },
    {
     "name": "stderr",
     "output_type": "stream",
     "text": [
      "/Users/emanuele/code/Phenotype_Prediction/env/lib/python3.11/site-packages/snps/io/reader.py:447: DtypeWarning: Columns (1) have mixed types. Specify dtype option on import or set low_memory=False.\n",
      "  df = pd.read_csv(\n"
     ]
    },
    {
     "name": "stdout",
     "output_type": "stream",
     "text": [
      "12\n",
      "11\n"
     ]
    },
    {
     "name": "stderr",
     "output_type": "stream",
     "text": [
      "/Users/emanuele/code/Phenotype_Prediction/env/lib/python3.11/site-packages/snps/io/reader.py:447: DtypeWarning: Columns (1) have mixed types. Specify dtype option on import or set low_memory=False.\n",
      "  df = pd.read_csv(\n"
     ]
    },
    {
     "name": "stdout",
     "output_type": "stream",
     "text": [
      "13\n"
     ]
    },
    {
     "name": "stderr",
     "output_type": "stream",
     "text": [
      "/Users/emanuele/code/Phenotype_Prediction/env/lib/python3.11/site-packages/snps/io/reader.py:447: DtypeWarning: Columns (1) have mixed types. Specify dtype option on import or set low_memory=False.\n",
      "  df = pd.read_csv(\n"
     ]
    },
    {
     "name": "stdout",
     "output_type": "stream",
     "text": [
      "13\n"
     ]
    },
    {
     "name": "stderr",
     "output_type": "stream",
     "text": [
      "/Users/emanuele/code/Phenotype_Prediction/env/lib/python3.11/site-packages/snps/io/reader.py:447: DtypeWarning: Columns (1) have mixed types. Specify dtype option on import or set low_memory=False.\n",
      "  df = pd.read_csv(\n"
     ]
    },
    {
     "name": "stdout",
     "output_type": "stream",
     "text": [
      "13\n"
     ]
    },
    {
     "name": "stderr",
     "output_type": "stream",
     "text": [
      "/Users/emanuele/code/Phenotype_Prediction/env/lib/python3.11/site-packages/snps/io/reader.py:447: DtypeWarning: Columns (1) have mixed types. Specify dtype option on import or set low_memory=False.\n",
      "  df = pd.read_csv(\n"
     ]
    },
    {
     "name": "stdout",
     "output_type": "stream",
     "text": [
      "13\n"
     ]
    },
    {
     "name": "stderr",
     "output_type": "stream",
     "text": [
      "/Users/emanuele/code/Phenotype_Prediction/env/lib/python3.11/site-packages/snps/io/reader.py:447: DtypeWarning: Columns (1) have mixed types. Specify dtype option on import or set low_memory=False.\n",
      "  df = pd.read_csv(\n"
     ]
    },
    {
     "name": "stdout",
     "output_type": "stream",
     "text": [
      "13\n"
     ]
    },
    {
     "name": "stderr",
     "output_type": "stream",
     "text": [
      "/Users/emanuele/code/Phenotype_Prediction/env/lib/python3.11/site-packages/snps/io/reader.py:447: DtypeWarning: Columns (1) have mixed types. Specify dtype option on import or set low_memory=False.\n",
      "  df = pd.read_csv(\n"
     ]
    },
    {
     "name": "stdout",
     "output_type": "stream",
     "text": [
      "13\n",
      "12\n",
      "12\n",
      "0\n",
      "12\n"
     ]
    },
    {
     "name": "stderr",
     "output_type": "stream",
     "text": [
      "/Users/emanuele/code/Phenotype_Prediction/env/lib/python3.11/site-packages/snps/io/reader.py:447: DtypeWarning: Columns (1) have mixed types. Specify dtype option on import or set low_memory=False.\n",
      "  df = pd.read_csv(\n"
     ]
    },
    {
     "name": "stdout",
     "output_type": "stream",
     "text": [
      "13\n"
     ]
    },
    {
     "name": "stderr",
     "output_type": "stream",
     "text": [
      "/Users/emanuele/code/Phenotype_Prediction/env/lib/python3.11/site-packages/snps/io/reader.py:447: DtypeWarning: Columns (1) have mixed types. Specify dtype option on import or set low_memory=False.\n",
      "  df = pd.read_csv(\n"
     ]
    },
    {
     "name": "stdout",
     "output_type": "stream",
     "text": [
      "13\n"
     ]
    },
    {
     "name": "stderr",
     "output_type": "stream",
     "text": [
      "/Users/emanuele/code/Phenotype_Prediction/env/lib/python3.11/site-packages/snps/io/reader.py:447: DtypeWarning: Columns (1) have mixed types. Specify dtype option on import or set low_memory=False.\n",
      "  df = pd.read_csv(\n"
     ]
    },
    {
     "name": "stdout",
     "output_type": "stream",
     "text": [
      "13\n"
     ]
    },
    {
     "name": "stderr",
     "output_type": "stream",
     "text": [
      "/Users/emanuele/code/Phenotype_Prediction/env/lib/python3.11/site-packages/snps/io/reader.py:447: DtypeWarning: Columns (1) have mixed types. Specify dtype option on import or set low_memory=False.\n",
      "  df = pd.read_csv(\n"
     ]
    },
    {
     "name": "stdout",
     "output_type": "stream",
     "text": [
      "13\n"
     ]
    },
    {
     "name": "stderr",
     "output_type": "stream",
     "text": [
      "/Users/emanuele/code/Phenotype_Prediction/env/lib/python3.11/site-packages/snps/io/reader.py:447: DtypeWarning: Columns (1) have mixed types. Specify dtype option on import or set low_memory=False.\n",
      "  df = pd.read_csv(\n"
     ]
    },
    {
     "name": "stdout",
     "output_type": "stream",
     "text": [
      "13\n"
     ]
    },
    {
     "name": "stderr",
     "output_type": "stream",
     "text": [
      "/Users/emanuele/code/Phenotype_Prediction/env/lib/python3.11/site-packages/snps/io/reader.py:447: DtypeWarning: Columns (1) have mixed types. Specify dtype option on import or set low_memory=False.\n",
      "  df = pd.read_csv(\n"
     ]
    },
    {
     "name": "stdout",
     "output_type": "stream",
     "text": [
      "13\n",
      "7\n"
     ]
    },
    {
     "name": "stderr",
     "output_type": "stream",
     "text": [
      "/Users/emanuele/code/Phenotype_Prediction/env/lib/python3.11/site-packages/snps/io/reader.py:447: DtypeWarning: Columns (1) have mixed types. Specify dtype option on import or set low_memory=False.\n",
      "  df = pd.read_csv(\n"
     ]
    },
    {
     "name": "stdout",
     "output_type": "stream",
     "text": [
      "13\n"
     ]
    },
    {
     "name": "stderr",
     "output_type": "stream",
     "text": [
      "/Users/emanuele/code/Phenotype_Prediction/env/lib/python3.11/site-packages/snps/io/reader.py:447: DtypeWarning: Columns (1) have mixed types. Specify dtype option on import or set low_memory=False.\n",
      "  df = pd.read_csv(\n"
     ]
    },
    {
     "name": "stdout",
     "output_type": "stream",
     "text": [
      "13\n"
     ]
    },
    {
     "name": "stderr",
     "output_type": "stream",
     "text": [
      "/Users/emanuele/code/Phenotype_Prediction/env/lib/python3.11/site-packages/snps/io/reader.py:447: DtypeWarning: Columns (1) have mixed types. Specify dtype option on import or set low_memory=False.\n",
      "  df = pd.read_csv(\n"
     ]
    },
    {
     "name": "stdout",
     "output_type": "stream",
     "text": [
      "13\n",
      "12\n",
      "7\n"
     ]
    },
    {
     "name": "stderr",
     "output_type": "stream",
     "text": [
      "/Users/emanuele/code/Phenotype_Prediction/env/lib/python3.11/site-packages/snps/io/reader.py:447: DtypeWarning: Columns (1) have mixed types. Specify dtype option on import or set low_memory=False.\n",
      "  df = pd.read_csv(\n"
     ]
    },
    {
     "name": "stdout",
     "output_type": "stream",
     "text": [
      "13\n",
      "12\n",
      "11\n"
     ]
    },
    {
     "name": "stderr",
     "output_type": "stream",
     "text": [
      "/Users/emanuele/code/Phenotype_Prediction/env/lib/python3.11/site-packages/snps/io/reader.py:447: DtypeWarning: Columns (1) have mixed types. Specify dtype option on import or set low_memory=False.\n",
      "  df = pd.read_csv(\n"
     ]
    },
    {
     "name": "stdout",
     "output_type": "stream",
     "text": [
      "13\n"
     ]
    },
    {
     "name": "stderr",
     "output_type": "stream",
     "text": [
      "/Users/emanuele/code/Phenotype_Prediction/env/lib/python3.11/site-packages/snps/io/reader.py:447: DtypeWarning: Columns (1) have mixed types. Specify dtype option on import or set low_memory=False.\n",
      "  df = pd.read_csv(\n"
     ]
    },
    {
     "name": "stdout",
     "output_type": "stream",
     "text": [
      "13\n"
     ]
    },
    {
     "name": "stderr",
     "output_type": "stream",
     "text": [
      "/Users/emanuele/code/Phenotype_Prediction/env/lib/python3.11/site-packages/snps/io/reader.py:447: DtypeWarning: Columns (1) have mixed types. Specify dtype option on import or set low_memory=False.\n",
      "  df = pd.read_csv(\n"
     ]
    },
    {
     "name": "stdout",
     "output_type": "stream",
     "text": [
      "13\n"
     ]
    },
    {
     "name": "stderr",
     "output_type": "stream",
     "text": [
      "/Users/emanuele/code/Phenotype_Prediction/env/lib/python3.11/site-packages/snps/io/reader.py:447: DtypeWarning: Columns (1) have mixed types. Specify dtype option on import or set low_memory=False.\n",
      "  df = pd.read_csv(\n"
     ]
    },
    {
     "name": "stdout",
     "output_type": "stream",
     "text": [
      "13\n"
     ]
    },
    {
     "name": "stderr",
     "output_type": "stream",
     "text": [
      "/Users/emanuele/code/Phenotype_Prediction/env/lib/python3.11/site-packages/snps/io/reader.py:447: DtypeWarning: Columns (1) have mixed types. Specify dtype option on import or set low_memory=False.\n",
      "  df = pd.read_csv(\n"
     ]
    },
    {
     "name": "stdout",
     "output_type": "stream",
     "text": [
      "13\n"
     ]
    },
    {
     "name": "stderr",
     "output_type": "stream",
     "text": [
      "/Users/emanuele/code/Phenotype_Prediction/env/lib/python3.11/site-packages/snps/io/reader.py:447: DtypeWarning: Columns (1) have mixed types. Specify dtype option on import or set low_memory=False.\n",
      "  df = pd.read_csv(\n"
     ]
    },
    {
     "name": "stdout",
     "output_type": "stream",
     "text": [
      "13\n"
     ]
    },
    {
     "name": "stderr",
     "output_type": "stream",
     "text": [
      "/Users/emanuele/code/Phenotype_Prediction/env/lib/python3.11/site-packages/snps/io/reader.py:447: DtypeWarning: Columns (1) have mixed types. Specify dtype option on import or set low_memory=False.\n",
      "  df = pd.read_csv(\n"
     ]
    },
    {
     "name": "stdout",
     "output_type": "stream",
     "text": [
      "13\n"
     ]
    },
    {
     "name": "stderr",
     "output_type": "stream",
     "text": [
      "/Users/emanuele/code/Phenotype_Prediction/env/lib/python3.11/site-packages/snps/io/reader.py:447: DtypeWarning: Columns (1) have mixed types. Specify dtype option on import or set low_memory=False.\n",
      "  df = pd.read_csv(\n"
     ]
    },
    {
     "name": "stdout",
     "output_type": "stream",
     "text": [
      "13\n"
     ]
    },
    {
     "name": "stderr",
     "output_type": "stream",
     "text": [
      "/Users/emanuele/code/Phenotype_Prediction/env/lib/python3.11/site-packages/snps/io/reader.py:447: DtypeWarning: Columns (1) have mixed types. Specify dtype option on import or set low_memory=False.\n",
      "  df = pd.read_csv(\n"
     ]
    },
    {
     "name": "stdout",
     "output_type": "stream",
     "text": [
      "13\n"
     ]
    },
    {
     "name": "stderr",
     "output_type": "stream",
     "text": [
      "/Users/emanuele/code/Phenotype_Prediction/env/lib/python3.11/site-packages/snps/io/reader.py:447: DtypeWarning: Columns (1) have mixed types. Specify dtype option on import or set low_memory=False.\n",
      "  df = pd.read_csv(\n"
     ]
    },
    {
     "name": "stdout",
     "output_type": "stream",
     "text": [
      "13\n"
     ]
    },
    {
     "name": "stderr",
     "output_type": "stream",
     "text": [
      "/Users/emanuele/code/Phenotype_Prediction/env/lib/python3.11/site-packages/snps/io/reader.py:447: DtypeWarning: Columns (1) have mixed types. Specify dtype option on import or set low_memory=False.\n",
      "  df = pd.read_csv(\n"
     ]
    },
    {
     "name": "stdout",
     "output_type": "stream",
     "text": [
      "13\n"
     ]
    },
    {
     "name": "stderr",
     "output_type": "stream",
     "text": [
      "/Users/emanuele/code/Phenotype_Prediction/env/lib/python3.11/site-packages/snps/io/reader.py:447: DtypeWarning: Columns (1) have mixed types. Specify dtype option on import or set low_memory=False.\n",
      "  df = pd.read_csv(\n"
     ]
    },
    {
     "name": "stdout",
     "output_type": "stream",
     "text": [
      "13\n"
     ]
    },
    {
     "name": "stderr",
     "output_type": "stream",
     "text": [
      "/Users/emanuele/code/Phenotype_Prediction/env/lib/python3.11/site-packages/snps/io/reader.py:447: DtypeWarning: Columns (1) have mixed types. Specify dtype option on import or set low_memory=False.\n",
      "  df = pd.read_csv(\n"
     ]
    },
    {
     "name": "stdout",
     "output_type": "stream",
     "text": [
      "13\n"
     ]
    },
    {
     "name": "stderr",
     "output_type": "stream",
     "text": [
      "/Users/emanuele/code/Phenotype_Prediction/env/lib/python3.11/site-packages/snps/io/reader.py:447: DtypeWarning: Columns (1) have mixed types. Specify dtype option on import or set low_memory=False.\n",
      "  df = pd.read_csv(\n"
     ]
    },
    {
     "name": "stdout",
     "output_type": "stream",
     "text": [
      "13\n",
      "2\n"
     ]
    },
    {
     "name": "stderr",
     "output_type": "stream",
     "text": [
      "/Users/emanuele/code/Phenotype_Prediction/env/lib/python3.11/site-packages/snps/io/reader.py:447: DtypeWarning: Columns (1) have mixed types. Specify dtype option on import or set low_memory=False.\n",
      "  df = pd.read_csv(\n"
     ]
    },
    {
     "name": "stdout",
     "output_type": "stream",
     "text": [
      "13\n"
     ]
    },
    {
     "name": "stderr",
     "output_type": "stream",
     "text": [
      "/Users/emanuele/code/Phenotype_Prediction/env/lib/python3.11/site-packages/snps/io/reader.py:447: DtypeWarning: Columns (1) have mixed types. Specify dtype option on import or set low_memory=False.\n",
      "  df = pd.read_csv(\n"
     ]
    },
    {
     "name": "stdout",
     "output_type": "stream",
     "text": [
      "13\n"
     ]
    },
    {
     "name": "stderr",
     "output_type": "stream",
     "text": [
      "/Users/emanuele/code/Phenotype_Prediction/env/lib/python3.11/site-packages/snps/io/reader.py:447: DtypeWarning: Columns (1) have mixed types. Specify dtype option on import or set low_memory=False.\n",
      "  df = pd.read_csv(\n"
     ]
    },
    {
     "name": "stdout",
     "output_type": "stream",
     "text": [
      "13\n"
     ]
    },
    {
     "name": "stderr",
     "output_type": "stream",
     "text": [
      "/Users/emanuele/code/Phenotype_Prediction/env/lib/python3.11/site-packages/snps/io/reader.py:447: DtypeWarning: Columns (1) have mixed types. Specify dtype option on import or set low_memory=False.\n",
      "  df = pd.read_csv(\n"
     ]
    },
    {
     "name": "stdout",
     "output_type": "stream",
     "text": [
      "13\n"
     ]
    },
    {
     "name": "stderr",
     "output_type": "stream",
     "text": [
      "/Users/emanuele/code/Phenotype_Prediction/env/lib/python3.11/site-packages/snps/io/reader.py:447: DtypeWarning: Columns (1) have mixed types. Specify dtype option on import or set low_memory=False.\n",
      "  df = pd.read_csv(\n"
     ]
    },
    {
     "name": "stdout",
     "output_type": "stream",
     "text": [
      "13\n"
     ]
    },
    {
     "name": "stderr",
     "output_type": "stream",
     "text": [
      "/Users/emanuele/code/Phenotype_Prediction/env/lib/python3.11/site-packages/snps/io/reader.py:447: DtypeWarning: Columns (1) have mixed types. Specify dtype option on import or set low_memory=False.\n",
      "  df = pd.read_csv(\n"
     ]
    },
    {
     "name": "stdout",
     "output_type": "stream",
     "text": [
      "13\n"
     ]
    },
    {
     "name": "stderr",
     "output_type": "stream",
     "text": [
      "/Users/emanuele/code/Phenotype_Prediction/env/lib/python3.11/site-packages/snps/io/reader.py:447: DtypeWarning: Columns (1) have mixed types. Specify dtype option on import or set low_memory=False.\n",
      "  df = pd.read_csv(\n"
     ]
    },
    {
     "name": "stdout",
     "output_type": "stream",
     "text": [
      "13\n"
     ]
    },
    {
     "name": "stderr",
     "output_type": "stream",
     "text": [
      "/Users/emanuele/code/Phenotype_Prediction/env/lib/python3.11/site-packages/snps/io/reader.py:447: DtypeWarning: Columns (1) have mixed types. Specify dtype option on import or set low_memory=False.\n",
      "  df = pd.read_csv(\n"
     ]
    },
    {
     "name": "stdout",
     "output_type": "stream",
     "text": [
      "13\n"
     ]
    },
    {
     "name": "stderr",
     "output_type": "stream",
     "text": [
      "/Users/emanuele/code/Phenotype_Prediction/env/lib/python3.11/site-packages/snps/io/reader.py:447: DtypeWarning: Columns (1) have mixed types. Specify dtype option on import or set low_memory=False.\n",
      "  df = pd.read_csv(\n"
     ]
    },
    {
     "name": "stdout",
     "output_type": "stream",
     "text": [
      "13\n"
     ]
    },
    {
     "name": "stderr",
     "output_type": "stream",
     "text": [
      "/Users/emanuele/code/Phenotype_Prediction/env/lib/python3.11/site-packages/snps/io/reader.py:447: DtypeWarning: Columns (1) have mixed types. Specify dtype option on import or set low_memory=False.\n",
      "  df = pd.read_csv(\n"
     ]
    },
    {
     "name": "stdout",
     "output_type": "stream",
     "text": [
      "13\n",
      "11\n"
     ]
    },
    {
     "name": "stderr",
     "output_type": "stream",
     "text": [
      "/Users/emanuele/code/Phenotype_Prediction/env/lib/python3.11/site-packages/snps/io/reader.py:447: DtypeWarning: Columns (1) have mixed types. Specify dtype option on import or set low_memory=False.\n",
      "  df = pd.read_csv(\n"
     ]
    },
    {
     "name": "stdout",
     "output_type": "stream",
     "text": [
      "13\n",
      "12\n"
     ]
    },
    {
     "name": "stderr",
     "output_type": "stream",
     "text": [
      "/Users/emanuele/code/Phenotype_Prediction/env/lib/python3.11/site-packages/snps/io/reader.py:447: DtypeWarning: Columns (1) have mixed types. Specify dtype option on import or set low_memory=False.\n",
      "  df = pd.read_csv(\n",
      "no SNPs loaded...\n"
     ]
    },
    {
     "name": "stdout",
     "output_type": "stream",
     "text": [
      "13\n",
      "0\n"
     ]
    },
    {
     "name": "stderr",
     "output_type": "stream",
     "text": [
      "/Users/emanuele/code/Phenotype_Prediction/env/lib/python3.11/site-packages/snps/io/reader.py:447: DtypeWarning: Columns (1) have mixed types. Specify dtype option on import or set low_memory=False.\n",
      "  df = pd.read_csv(\n"
     ]
    },
    {
     "name": "stdout",
     "output_type": "stream",
     "text": [
      "13\n"
     ]
    },
    {
     "name": "stderr",
     "output_type": "stream",
     "text": [
      "/Users/emanuele/code/Phenotype_Prediction/env/lib/python3.11/site-packages/snps/io/reader.py:447: DtypeWarning: Columns (1) have mixed types. Specify dtype option on import or set low_memory=False.\n",
      "  df = pd.read_csv(\n"
     ]
    },
    {
     "name": "stdout",
     "output_type": "stream",
     "text": [
      "13\n"
     ]
    },
    {
     "name": "stderr",
     "output_type": "stream",
     "text": [
      "/Users/emanuele/code/Phenotype_Prediction/env/lib/python3.11/site-packages/snps/io/reader.py:447: DtypeWarning: Columns (1) have mixed types. Specify dtype option on import or set low_memory=False.\n",
      "  df = pd.read_csv(\n"
     ]
    },
    {
     "name": "stdout",
     "output_type": "stream",
     "text": [
      "13\n"
     ]
    },
    {
     "name": "stderr",
     "output_type": "stream",
     "text": [
      "/Users/emanuele/code/Phenotype_Prediction/env/lib/python3.11/site-packages/snps/io/reader.py:447: DtypeWarning: Columns (1) have mixed types. Specify dtype option on import or set low_memory=False.\n",
      "  df = pd.read_csv(\n"
     ]
    },
    {
     "name": "stdout",
     "output_type": "stream",
     "text": [
      "13\n"
     ]
    },
    {
     "name": "stderr",
     "output_type": "stream",
     "text": [
      "/Users/emanuele/code/Phenotype_Prediction/env/lib/python3.11/site-packages/snps/io/reader.py:447: DtypeWarning: Columns (1) have mixed types. Specify dtype option on import or set low_memory=False.\n",
      "  df = pd.read_csv(\n"
     ]
    },
    {
     "name": "stdout",
     "output_type": "stream",
     "text": [
      "13\n",
      "7\n"
     ]
    },
    {
     "name": "stderr",
     "output_type": "stream",
     "text": [
      "/Users/emanuele/code/Phenotype_Prediction/env/lib/python3.11/site-packages/snps/io/reader.py:447: DtypeWarning: Columns (1) have mixed types. Specify dtype option on import or set low_memory=False.\n",
      "  df = pd.read_csv(\n"
     ]
    },
    {
     "name": "stdout",
     "output_type": "stream",
     "text": [
      "13\n",
      "7\n"
     ]
    },
    {
     "name": "stderr",
     "output_type": "stream",
     "text": [
      "/Users/emanuele/code/Phenotype_Prediction/env/lib/python3.11/site-packages/snps/io/reader.py:447: DtypeWarning: Columns (1) have mixed types. Specify dtype option on import or set low_memory=False.\n",
      "  df = pd.read_csv(\n"
     ]
    },
    {
     "name": "stdout",
     "output_type": "stream",
     "text": [
      "13\n"
     ]
    },
    {
     "name": "stderr",
     "output_type": "stream",
     "text": [
      "/Users/emanuele/code/Phenotype_Prediction/env/lib/python3.11/site-packages/snps/io/reader.py:447: DtypeWarning: Columns (1) have mixed types. Specify dtype option on import or set low_memory=False.\n",
      "  df = pd.read_csv(\n"
     ]
    },
    {
     "name": "stdout",
     "output_type": "stream",
     "text": [
      "13\n"
     ]
    },
    {
     "name": "stderr",
     "output_type": "stream",
     "text": [
      "/Users/emanuele/code/Phenotype_Prediction/env/lib/python3.11/site-packages/snps/io/reader.py:447: DtypeWarning: Columns (1) have mixed types. Specify dtype option on import or set low_memory=False.\n",
      "  df = pd.read_csv(\n"
     ]
    },
    {
     "name": "stdout",
     "output_type": "stream",
     "text": [
      "13\n"
     ]
    },
    {
     "name": "stderr",
     "output_type": "stream",
     "text": [
      "/Users/emanuele/code/Phenotype_Prediction/env/lib/python3.11/site-packages/snps/io/reader.py:447: DtypeWarning: Columns (1) have mixed types. Specify dtype option on import or set low_memory=False.\n",
      "  df = pd.read_csv(\n"
     ]
    },
    {
     "name": "stdout",
     "output_type": "stream",
     "text": [
      "13\n",
      "12\n"
     ]
    },
    {
     "name": "stderr",
     "output_type": "stream",
     "text": [
      "/Users/emanuele/code/Phenotype_Prediction/env/lib/python3.11/site-packages/snps/io/reader.py:447: DtypeWarning: Columns (1) have mixed types. Specify dtype option on import or set low_memory=False.\n",
      "  df = pd.read_csv(\n"
     ]
    },
    {
     "name": "stdout",
     "output_type": "stream",
     "text": [
      "12\n"
     ]
    },
    {
     "name": "stderr",
     "output_type": "stream",
     "text": [
      "/Users/emanuele/code/Phenotype_Prediction/env/lib/python3.11/site-packages/snps/io/reader.py:447: DtypeWarning: Columns (1) have mixed types. Specify dtype option on import or set low_memory=False.\n",
      "  df = pd.read_csv(\n"
     ]
    },
    {
     "name": "stdout",
     "output_type": "stream",
     "text": [
      "12\n"
     ]
    },
    {
     "name": "stderr",
     "output_type": "stream",
     "text": [
      "/Users/emanuele/code/Phenotype_Prediction/env/lib/python3.11/site-packages/snps/io/reader.py:447: DtypeWarning: Columns (1) have mixed types. Specify dtype option on import or set low_memory=False.\n",
      "  df = pd.read_csv(\n"
     ]
    },
    {
     "name": "stdout",
     "output_type": "stream",
     "text": [
      "13\n"
     ]
    },
    {
     "name": "stderr",
     "output_type": "stream",
     "text": [
      "/Users/emanuele/code/Phenotype_Prediction/env/lib/python3.11/site-packages/snps/io/reader.py:447: DtypeWarning: Columns (1) have mixed types. Specify dtype option on import or set low_memory=False.\n",
      "  df = pd.read_csv(\n"
     ]
    },
    {
     "name": "stdout",
     "output_type": "stream",
     "text": [
      "13\n"
     ]
    },
    {
     "name": "stderr",
     "output_type": "stream",
     "text": [
      "/Users/emanuele/code/Phenotype_Prediction/env/lib/python3.11/site-packages/snps/io/reader.py:447: DtypeWarning: Columns (1) have mixed types. Specify dtype option on import or set low_memory=False.\n",
      "  df = pd.read_csv(\n"
     ]
    },
    {
     "name": "stdout",
     "output_type": "stream",
     "text": [
      "13\n"
     ]
    },
    {
     "name": "stderr",
     "output_type": "stream",
     "text": [
      "/Users/emanuele/code/Phenotype_Prediction/env/lib/python3.11/site-packages/snps/io/reader.py:447: DtypeWarning: Columns (1) have mixed types. Specify dtype option on import or set low_memory=False.\n",
      "  df = pd.read_csv(\n"
     ]
    },
    {
     "name": "stdout",
     "output_type": "stream",
     "text": [
      "13\n"
     ]
    },
    {
     "name": "stderr",
     "output_type": "stream",
     "text": [
      "no SNPs loaded...\n"
     ]
    },
    {
     "name": "stdout",
     "output_type": "stream",
     "text": [
      "0\n"
     ]
    },
    {
     "name": "stderr",
     "output_type": "stream",
     "text": [
      "/Users/emanuele/code/Phenotype_Prediction/env/lib/python3.11/site-packages/snps/io/reader.py:447: DtypeWarning: Columns (1) have mixed types. Specify dtype option on import or set low_memory=False.\n",
      "  df = pd.read_csv(\n"
     ]
    },
    {
     "name": "stdout",
     "output_type": "stream",
     "text": [
      "13\n",
      "7\n"
     ]
    },
    {
     "name": "stderr",
     "output_type": "stream",
     "text": [
      "/Users/emanuele/code/Phenotype_Prediction/env/lib/python3.11/site-packages/snps/io/reader.py:447: DtypeWarning: Columns (1) have mixed types. Specify dtype option on import or set low_memory=False.\n",
      "  df = pd.read_csv(\n"
     ]
    },
    {
     "name": "stdout",
     "output_type": "stream",
     "text": [
      "13\n"
     ]
    },
    {
     "name": "stderr",
     "output_type": "stream",
     "text": [
      "/Users/emanuele/code/Phenotype_Prediction/env/lib/python3.11/site-packages/snps/io/reader.py:447: DtypeWarning: Columns (1) have mixed types. Specify dtype option on import or set low_memory=False.\n",
      "  df = pd.read_csv(\n"
     ]
    },
    {
     "name": "stdout",
     "output_type": "stream",
     "text": [
      "13\n"
     ]
    },
    {
     "name": "stderr",
     "output_type": "stream",
     "text": [
      "/Users/emanuele/code/Phenotype_Prediction/env/lib/python3.11/site-packages/snps/io/reader.py:447: DtypeWarning: Columns (1) have mixed types. Specify dtype option on import or set low_memory=False.\n",
      "  df = pd.read_csv(\n"
     ]
    },
    {
     "name": "stdout",
     "output_type": "stream",
     "text": [
      "13\n",
      "0\n"
     ]
    },
    {
     "name": "stderr",
     "output_type": "stream",
     "text": [
      "/Users/emanuele/code/Phenotype_Prediction/env/lib/python3.11/site-packages/snps/io/reader.py:447: DtypeWarning: Columns (1) have mixed types. Specify dtype option on import or set low_memory=False.\n",
      "  df = pd.read_csv(\n"
     ]
    },
    {
     "name": "stdout",
     "output_type": "stream",
     "text": [
      "13\n"
     ]
    },
    {
     "name": "stderr",
     "output_type": "stream",
     "text": [
      "/Users/emanuele/code/Phenotype_Prediction/env/lib/python3.11/site-packages/snps/io/reader.py:447: DtypeWarning: Columns (1) have mixed types. Specify dtype option on import or set low_memory=False.\n",
      "  df = pd.read_csv(\n"
     ]
    },
    {
     "name": "stdout",
     "output_type": "stream",
     "text": [
      "13\n"
     ]
    },
    {
     "name": "stderr",
     "output_type": "stream",
     "text": [
      "/Users/emanuele/code/Phenotype_Prediction/env/lib/python3.11/site-packages/snps/io/reader.py:447: DtypeWarning: Columns (1) have mixed types. Specify dtype option on import or set low_memory=False.\n",
      "  df = pd.read_csv(\n"
     ]
    },
    {
     "name": "stdout",
     "output_type": "stream",
     "text": [
      "13\n",
      "7\n"
     ]
    },
    {
     "name": "stderr",
     "output_type": "stream",
     "text": [
      "/Users/emanuele/code/Phenotype_Prediction/env/lib/python3.11/site-packages/snps/io/reader.py:447: DtypeWarning: Columns (1) have mixed types. Specify dtype option on import or set low_memory=False.\n",
      "  df = pd.read_csv(\n"
     ]
    },
    {
     "name": "stdout",
     "output_type": "stream",
     "text": [
      "13\n"
     ]
    },
    {
     "name": "stderr",
     "output_type": "stream",
     "text": [
      "/Users/emanuele/code/Phenotype_Prediction/env/lib/python3.11/site-packages/snps/io/reader.py:447: DtypeWarning: Columns (1) have mixed types. Specify dtype option on import or set low_memory=False.\n",
      "  df = pd.read_csv(\n"
     ]
    },
    {
     "name": "stdout",
     "output_type": "stream",
     "text": [
      "13\n",
      "7\n",
      "0\n"
     ]
    },
    {
     "name": "stderr",
     "output_type": "stream",
     "text": [
      "/Users/emanuele/code/Phenotype_Prediction/env/lib/python3.11/site-packages/snps/io/reader.py:447: DtypeWarning: Columns (1) have mixed types. Specify dtype option on import or set low_memory=False.\n",
      "  df = pd.read_csv(\n"
     ]
    },
    {
     "name": "stdout",
     "output_type": "stream",
     "text": [
      "13\n"
     ]
    },
    {
     "name": "stderr",
     "output_type": "stream",
     "text": [
      "/Users/emanuele/code/Phenotype_Prediction/env/lib/python3.11/site-packages/snps/io/reader.py:447: DtypeWarning: Columns (1) have mixed types. Specify dtype option on import or set low_memory=False.\n",
      "  df = pd.read_csv(\n"
     ]
    },
    {
     "name": "stdout",
     "output_type": "stream",
     "text": [
      "13\n"
     ]
    },
    {
     "name": "stderr",
     "output_type": "stream",
     "text": [
      "/Users/emanuele/code/Phenotype_Prediction/env/lib/python3.11/site-packages/snps/io/reader.py:447: DtypeWarning: Columns (1) have mixed types. Specify dtype option on import or set low_memory=False.\n",
      "  df = pd.read_csv(\n"
     ]
    },
    {
     "name": "stdout",
     "output_type": "stream",
     "text": [
      "13\n",
      "7\n"
     ]
    },
    {
     "name": "stderr",
     "output_type": "stream",
     "text": [
      "/Users/emanuele/code/Phenotype_Prediction/env/lib/python3.11/site-packages/snps/io/reader.py:447: DtypeWarning: Columns (1) have mixed types. Specify dtype option on import or set low_memory=False.\n",
      "  df = pd.read_csv(\n"
     ]
    },
    {
     "name": "stdout",
     "output_type": "stream",
     "text": [
      "13\n"
     ]
    },
    {
     "name": "stderr",
     "output_type": "stream",
     "text": [
      "/Users/emanuele/code/Phenotype_Prediction/env/lib/python3.11/site-packages/snps/io/reader.py:447: DtypeWarning: Columns (1) have mixed types. Specify dtype option on import or set low_memory=False.\n",
      "  df = pd.read_csv(\n"
     ]
    },
    {
     "name": "stdout",
     "output_type": "stream",
     "text": [
      "13\n"
     ]
    },
    {
     "name": "stderr",
     "output_type": "stream",
     "text": [
      "/Users/emanuele/code/Phenotype_Prediction/env/lib/python3.11/site-packages/snps/io/reader.py:447: DtypeWarning: Columns (1) have mixed types. Specify dtype option on import or set low_memory=False.\n",
      "  df = pd.read_csv(\n"
     ]
    },
    {
     "name": "stdout",
     "output_type": "stream",
     "text": [
      "13\n",
      "12\n"
     ]
    },
    {
     "name": "stderr",
     "output_type": "stream",
     "text": [
      "/Users/emanuele/code/Phenotype_Prediction/env/lib/python3.11/site-packages/snps/io/reader.py:447: DtypeWarning: Columns (1) have mixed types. Specify dtype option on import or set low_memory=False.\n",
      "  df = pd.read_csv(\n"
     ]
    },
    {
     "name": "stdout",
     "output_type": "stream",
     "text": [
      "13\n"
     ]
    },
    {
     "name": "stderr",
     "output_type": "stream",
     "text": [
      "/Users/emanuele/code/Phenotype_Prediction/env/lib/python3.11/site-packages/snps/io/reader.py:447: DtypeWarning: Columns (1) have mixed types. Specify dtype option on import or set low_memory=False.\n",
      "  df = pd.read_csv(\n"
     ]
    },
    {
     "name": "stdout",
     "output_type": "stream",
     "text": [
      "13\n"
     ]
    },
    {
     "name": "stderr",
     "output_type": "stream",
     "text": [
      "/Users/emanuele/code/Phenotype_Prediction/env/lib/python3.11/site-packages/snps/io/reader.py:447: DtypeWarning: Columns (1) have mixed types. Specify dtype option on import or set low_memory=False.\n",
      "  df = pd.read_csv(\n"
     ]
    },
    {
     "name": "stdout",
     "output_type": "stream",
     "text": [
      "13\n"
     ]
    },
    {
     "name": "stderr",
     "output_type": "stream",
     "text": [
      "/Users/emanuele/code/Phenotype_Prediction/env/lib/python3.11/site-packages/snps/io/reader.py:447: DtypeWarning: Columns (1) have mixed types. Specify dtype option on import or set low_memory=False.\n",
      "  df = pd.read_csv(\n"
     ]
    },
    {
     "name": "stdout",
     "output_type": "stream",
     "text": [
      "13\n"
     ]
    },
    {
     "name": "stderr",
     "output_type": "stream",
     "text": [
      "/Users/emanuele/code/Phenotype_Prediction/env/lib/python3.11/site-packages/snps/io/reader.py:447: DtypeWarning: Columns (1) have mixed types. Specify dtype option on import or set low_memory=False.\n",
      "  df = pd.read_csv(\n"
     ]
    },
    {
     "name": "stdout",
     "output_type": "stream",
     "text": [
      "13\n"
     ]
    },
    {
     "name": "stderr",
     "output_type": "stream",
     "text": [
      "/Users/emanuele/code/Phenotype_Prediction/env/lib/python3.11/site-packages/snps/io/reader.py:447: DtypeWarning: Columns (1) have mixed types. Specify dtype option on import or set low_memory=False.\n",
      "  df = pd.read_csv(\n"
     ]
    },
    {
     "name": "stdout",
     "output_type": "stream",
     "text": [
      "13\n"
     ]
    },
    {
     "name": "stderr",
     "output_type": "stream",
     "text": [
      "/Users/emanuele/code/Phenotype_Prediction/env/lib/python3.11/site-packages/snps/io/reader.py:447: DtypeWarning: Columns (1) have mixed types. Specify dtype option on import or set low_memory=False.\n",
      "  df = pd.read_csv(\n"
     ]
    },
    {
     "name": "stdout",
     "output_type": "stream",
     "text": [
      "13\n"
     ]
    },
    {
     "name": "stderr",
     "output_type": "stream",
     "text": [
      "/Users/emanuele/code/Phenotype_Prediction/env/lib/python3.11/site-packages/snps/io/reader.py:447: DtypeWarning: Columns (1) have mixed types. Specify dtype option on import or set low_memory=False.\n",
      "  df = pd.read_csv(\n"
     ]
    },
    {
     "name": "stdout",
     "output_type": "stream",
     "text": [
      "13\n",
      "7\n",
      "7\n"
     ]
    },
    {
     "name": "stderr",
     "output_type": "stream",
     "text": [
      "/Users/emanuele/code/Phenotype_Prediction/env/lib/python3.11/site-packages/snps/io/reader.py:447: DtypeWarning: Columns (1) have mixed types. Specify dtype option on import or set low_memory=False.\n",
      "  df = pd.read_csv(\n"
     ]
    },
    {
     "name": "stdout",
     "output_type": "stream",
     "text": [
      "13\n"
     ]
    },
    {
     "name": "stderr",
     "output_type": "stream",
     "text": [
      "/Users/emanuele/code/Phenotype_Prediction/env/lib/python3.11/site-packages/snps/io/reader.py:447: DtypeWarning: Columns (1) have mixed types. Specify dtype option on import or set low_memory=False.\n",
      "  df = pd.read_csv(\n"
     ]
    },
    {
     "name": "stdout",
     "output_type": "stream",
     "text": [
      "13\n",
      "0\n"
     ]
    },
    {
     "name": "stderr",
     "output_type": "stream",
     "text": [
      "/Users/emanuele/code/Phenotype_Prediction/env/lib/python3.11/site-packages/snps/io/reader.py:447: DtypeWarning: Columns (1) have mixed types. Specify dtype option on import or set low_memory=False.\n",
      "  df = pd.read_csv(\n"
     ]
    },
    {
     "name": "stdout",
     "output_type": "stream",
     "text": [
      "13\n",
      "7\n",
      "12\n"
     ]
    },
    {
     "name": "stderr",
     "output_type": "stream",
     "text": [
      "/Users/emanuele/code/Phenotype_Prediction/env/lib/python3.11/site-packages/snps/io/reader.py:447: DtypeWarning: Columns (1) have mixed types. Specify dtype option on import or set low_memory=False.\n",
      "  df = pd.read_csv(\n"
     ]
    },
    {
     "name": "stdout",
     "output_type": "stream",
     "text": [
      "13\n"
     ]
    },
    {
     "name": "stderr",
     "output_type": "stream",
     "text": [
      "/Users/emanuele/code/Phenotype_Prediction/env/lib/python3.11/site-packages/snps/io/reader.py:447: DtypeWarning: Columns (1) have mixed types. Specify dtype option on import or set low_memory=False.\n",
      "  df = pd.read_csv(\n"
     ]
    },
    {
     "name": "stdout",
     "output_type": "stream",
     "text": [
      "13\n",
      "7\n"
     ]
    },
    {
     "name": "stderr",
     "output_type": "stream",
     "text": [
      "/Users/emanuele/code/Phenotype_Prediction/env/lib/python3.11/site-packages/snps/io/reader.py:447: DtypeWarning: Columns (1) have mixed types. Specify dtype option on import or set low_memory=False.\n",
      "  df = pd.read_csv(\n"
     ]
    },
    {
     "name": "stdout",
     "output_type": "stream",
     "text": [
      "13\n"
     ]
    },
    {
     "name": "stderr",
     "output_type": "stream",
     "text": [
      "/Users/emanuele/code/Phenotype_Prediction/env/lib/python3.11/site-packages/snps/io/reader.py:447: DtypeWarning: Columns (1) have mixed types. Specify dtype option on import or set low_memory=False.\n",
      "  df = pd.read_csv(\n"
     ]
    },
    {
     "name": "stdout",
     "output_type": "stream",
     "text": [
      "13\n"
     ]
    },
    {
     "name": "stderr",
     "output_type": "stream",
     "text": [
      "/Users/emanuele/code/Phenotype_Prediction/env/lib/python3.11/site-packages/snps/io/reader.py:447: DtypeWarning: Columns (1) have mixed types. Specify dtype option on import or set low_memory=False.\n",
      "  df = pd.read_csv(\n"
     ]
    },
    {
     "name": "stdout",
     "output_type": "stream",
     "text": [
      "13\n",
      "0\n"
     ]
    },
    {
     "name": "stderr",
     "output_type": "stream",
     "text": [
      "/Users/emanuele/code/Phenotype_Prediction/env/lib/python3.11/site-packages/snps/io/reader.py:447: DtypeWarning: Columns (1) have mixed types. Specify dtype option on import or set low_memory=False.\n",
      "  df = pd.read_csv(\n"
     ]
    },
    {
     "name": "stdout",
     "output_type": "stream",
     "text": [
      "13\n"
     ]
    },
    {
     "name": "stderr",
     "output_type": "stream",
     "text": [
      "/Users/emanuele/code/Phenotype_Prediction/env/lib/python3.11/site-packages/snps/io/reader.py:447: DtypeWarning: Columns (1) have mixed types. Specify dtype option on import or set low_memory=False.\n",
      "  df = pd.read_csv(\n"
     ]
    },
    {
     "name": "stdout",
     "output_type": "stream",
     "text": [
      "13\n"
     ]
    },
    {
     "name": "stderr",
     "output_type": "stream",
     "text": [
      "/Users/emanuele/code/Phenotype_Prediction/env/lib/python3.11/site-packages/snps/io/reader.py:447: DtypeWarning: Columns (1) have mixed types. Specify dtype option on import or set low_memory=False.\n",
      "  df = pd.read_csv(\n"
     ]
    },
    {
     "name": "stdout",
     "output_type": "stream",
     "text": [
      "13\n"
     ]
    },
    {
     "name": "stderr",
     "output_type": "stream",
     "text": [
      "/Users/emanuele/code/Phenotype_Prediction/env/lib/python3.11/site-packages/snps/io/reader.py:447: DtypeWarning: Columns (1) have mixed types. Specify dtype option on import or set low_memory=False.\n",
      "  df = pd.read_csv(\n"
     ]
    },
    {
     "name": "stdout",
     "output_type": "stream",
     "text": [
      "13\n"
     ]
    },
    {
     "name": "stderr",
     "output_type": "stream",
     "text": [
      "/Users/emanuele/code/Phenotype_Prediction/env/lib/python3.11/site-packages/snps/io/reader.py:447: DtypeWarning: Columns (1) have mixed types. Specify dtype option on import or set low_memory=False.\n",
      "  df = pd.read_csv(\n"
     ]
    },
    {
     "name": "stdout",
     "output_type": "stream",
     "text": [
      "13\n",
      "13\n"
     ]
    },
    {
     "name": "stderr",
     "output_type": "stream",
     "text": [
      "/Users/emanuele/code/Phenotype_Prediction/env/lib/python3.11/site-packages/snps/io/reader.py:447: DtypeWarning: Columns (1) have mixed types. Specify dtype option on import or set low_memory=False.\n",
      "  df = pd.read_csv(\n"
     ]
    },
    {
     "name": "stdout",
     "output_type": "stream",
     "text": [
      "13\n"
     ]
    },
    {
     "name": "stderr",
     "output_type": "stream",
     "text": [
      "/Users/emanuele/code/Phenotype_Prediction/env/lib/python3.11/site-packages/snps/io/reader.py:447: DtypeWarning: Columns (1) have mixed types. Specify dtype option on import or set low_memory=False.\n",
      "  df = pd.read_csv(\n"
     ]
    },
    {
     "name": "stdout",
     "output_type": "stream",
     "text": [
      "13\n"
     ]
    },
    {
     "name": "stderr",
     "output_type": "stream",
     "text": [
      "/Users/emanuele/code/Phenotype_Prediction/env/lib/python3.11/site-packages/snps/io/reader.py:447: DtypeWarning: Columns (1) have mixed types. Specify dtype option on import or set low_memory=False.\n",
      "  df = pd.read_csv(\n",
      "no SNPs loaded...\n"
     ]
    },
    {
     "name": "stdout",
     "output_type": "stream",
     "text": [
      "13\n",
      "0\n"
     ]
    },
    {
     "name": "stderr",
     "output_type": "stream",
     "text": [
      "/Users/emanuele/code/Phenotype_Prediction/env/lib/python3.11/site-packages/snps/io/reader.py:447: DtypeWarning: Columns (1) have mixed types. Specify dtype option on import or set low_memory=False.\n",
      "  df = pd.read_csv(\n"
     ]
    },
    {
     "name": "stdout",
     "output_type": "stream",
     "text": [
      "13\n"
     ]
    },
    {
     "name": "stderr",
     "output_type": "stream",
     "text": [
      "/Users/emanuele/code/Phenotype_Prediction/env/lib/python3.11/site-packages/snps/io/reader.py:447: DtypeWarning: Columns (1) have mixed types. Specify dtype option on import or set low_memory=False.\n",
      "  df = pd.read_csv(\n"
     ]
    },
    {
     "name": "stdout",
     "output_type": "stream",
     "text": [
      "13\n"
     ]
    },
    {
     "name": "stderr",
     "output_type": "stream",
     "text": [
      "/Users/emanuele/code/Phenotype_Prediction/env/lib/python3.11/site-packages/snps/io/reader.py:447: DtypeWarning: Columns (1) have mixed types. Specify dtype option on import or set low_memory=False.\n",
      "  df = pd.read_csv(\n"
     ]
    },
    {
     "name": "stdout",
     "output_type": "stream",
     "text": [
      "13\n",
      "7\n"
     ]
    },
    {
     "name": "stderr",
     "output_type": "stream",
     "text": [
      "/Users/emanuele/code/Phenotype_Prediction/env/lib/python3.11/site-packages/snps/io/reader.py:447: DtypeWarning: Columns (1) have mixed types. Specify dtype option on import or set low_memory=False.\n",
      "  df = pd.read_csv(\n"
     ]
    },
    {
     "name": "stdout",
     "output_type": "stream",
     "text": [
      "13\n"
     ]
    },
    {
     "name": "stderr",
     "output_type": "stream",
     "text": [
      "/Users/emanuele/code/Phenotype_Prediction/env/lib/python3.11/site-packages/snps/io/reader.py:447: DtypeWarning: Columns (1) have mixed types. Specify dtype option on import or set low_memory=False.\n",
      "  df = pd.read_csv(\n"
     ]
    },
    {
     "name": "stdout",
     "output_type": "stream",
     "text": [
      "13\n",
      "7\n"
     ]
    },
    {
     "name": "stderr",
     "output_type": "stream",
     "text": [
      "/Users/emanuele/code/Phenotype_Prediction/env/lib/python3.11/site-packages/snps/io/reader.py:447: DtypeWarning: Columns (1) have mixed types. Specify dtype option on import or set low_memory=False.\n",
      "  df = pd.read_csv(\n"
     ]
    },
    {
     "name": "stdout",
     "output_type": "stream",
     "text": [
      "13\n"
     ]
    },
    {
     "name": "stderr",
     "output_type": "stream",
     "text": [
      "/Users/emanuele/code/Phenotype_Prediction/env/lib/python3.11/site-packages/snps/io/reader.py:447: DtypeWarning: Columns (1) have mixed types. Specify dtype option on import or set low_memory=False.\n",
      "  df = pd.read_csv(\n"
     ]
    },
    {
     "name": "stdout",
     "output_type": "stream",
     "text": [
      "13\n",
      "12\n"
     ]
    },
    {
     "name": "stderr",
     "output_type": "stream",
     "text": [
      "/Users/emanuele/code/Phenotype_Prediction/env/lib/python3.11/site-packages/snps/io/reader.py:447: DtypeWarning: Columns (1) have mixed types. Specify dtype option on import or set low_memory=False.\n",
      "  df = pd.read_csv(\n"
     ]
    },
    {
     "name": "stdout",
     "output_type": "stream",
     "text": [
      "13\n"
     ]
    },
    {
     "name": "stderr",
     "output_type": "stream",
     "text": [
      "/Users/emanuele/code/Phenotype_Prediction/env/lib/python3.11/site-packages/snps/io/reader.py:447: DtypeWarning: Columns (1) have mixed types. Specify dtype option on import or set low_memory=False.\n",
      "  df = pd.read_csv(\n"
     ]
    },
    {
     "name": "stdout",
     "output_type": "stream",
     "text": [
      "13\n"
     ]
    },
    {
     "name": "stderr",
     "output_type": "stream",
     "text": [
      "/Users/emanuele/code/Phenotype_Prediction/env/lib/python3.11/site-packages/snps/io/reader.py:447: DtypeWarning: Columns (1) have mixed types. Specify dtype option on import or set low_memory=False.\n",
      "  df = pd.read_csv(\n"
     ]
    },
    {
     "name": "stdout",
     "output_type": "stream",
     "text": [
      "13\n",
      "12\n"
     ]
    },
    {
     "name": "stderr",
     "output_type": "stream",
     "text": [
      "/Users/emanuele/code/Phenotype_Prediction/env/lib/python3.11/site-packages/snps/io/reader.py:447: DtypeWarning: Columns (1) have mixed types. Specify dtype option on import or set low_memory=False.\n",
      "  df = pd.read_csv(\n"
     ]
    },
    {
     "name": "stdout",
     "output_type": "stream",
     "text": [
      "13\n"
     ]
    },
    {
     "name": "stderr",
     "output_type": "stream",
     "text": [
      "/Users/emanuele/code/Phenotype_Prediction/env/lib/python3.11/site-packages/snps/io/reader.py:447: DtypeWarning: Columns (1) have mixed types. Specify dtype option on import or set low_memory=False.\n",
      "  df = pd.read_csv(\n"
     ]
    },
    {
     "name": "stdout",
     "output_type": "stream",
     "text": [
      "13\n"
     ]
    },
    {
     "name": "stderr",
     "output_type": "stream",
     "text": [
      "/Users/emanuele/code/Phenotype_Prediction/env/lib/python3.11/site-packages/snps/io/reader.py:447: DtypeWarning: Columns (1) have mixed types. Specify dtype option on import or set low_memory=False.\n",
      "  df = pd.read_csv(\n"
     ]
    },
    {
     "name": "stdout",
     "output_type": "stream",
     "text": [
      "13\n"
     ]
    },
    {
     "name": "stderr",
     "output_type": "stream",
     "text": [
      "/Users/emanuele/code/Phenotype_Prediction/env/lib/python3.11/site-packages/snps/io/reader.py:447: DtypeWarning: Columns (1) have mixed types. Specify dtype option on import or set low_memory=False.\n",
      "  df = pd.read_csv(\n"
     ]
    },
    {
     "name": "stdout",
     "output_type": "stream",
     "text": [
      "13\n"
     ]
    },
    {
     "name": "stderr",
     "output_type": "stream",
     "text": [
      "/Users/emanuele/code/Phenotype_Prediction/env/lib/python3.11/site-packages/snps/io/reader.py:447: DtypeWarning: Columns (1) have mixed types. Specify dtype option on import or set low_memory=False.\n",
      "  df = pd.read_csv(\n"
     ]
    },
    {
     "name": "stdout",
     "output_type": "stream",
     "text": [
      "13\n",
      "12\n",
      "12\n"
     ]
    },
    {
     "name": "stderr",
     "output_type": "stream",
     "text": [
      "/Users/emanuele/code/Phenotype_Prediction/env/lib/python3.11/site-packages/snps/io/reader.py:447: DtypeWarning: Columns (1) have mixed types. Specify dtype option on import or set low_memory=False.\n",
      "  df = pd.read_csv(\n"
     ]
    },
    {
     "name": "stdout",
     "output_type": "stream",
     "text": [
      "13\n"
     ]
    },
    {
     "name": "stderr",
     "output_type": "stream",
     "text": [
      "/Users/emanuele/code/Phenotype_Prediction/env/lib/python3.11/site-packages/snps/io/reader.py:447: DtypeWarning: Columns (1) have mixed types. Specify dtype option on import or set low_memory=False.\n",
      "  df = pd.read_csv(\n",
      "no SNPs loaded...\n"
     ]
    },
    {
     "name": "stdout",
     "output_type": "stream",
     "text": [
      "13\n",
      "0\n"
     ]
    },
    {
     "name": "stderr",
     "output_type": "stream",
     "text": [
      "/Users/emanuele/code/Phenotype_Prediction/env/lib/python3.11/site-packages/snps/io/reader.py:447: DtypeWarning: Columns (1) have mixed types. Specify dtype option on import or set low_memory=False.\n",
      "  df = pd.read_csv(\n"
     ]
    },
    {
     "name": "stdout",
     "output_type": "stream",
     "text": [
      "13\n"
     ]
    },
    {
     "name": "stderr",
     "output_type": "stream",
     "text": [
      "/Users/emanuele/code/Phenotype_Prediction/env/lib/python3.11/site-packages/snps/io/reader.py:447: DtypeWarning: Columns (1) have mixed types. Specify dtype option on import or set low_memory=False.\n",
      "  df = pd.read_csv(\n"
     ]
    },
    {
     "name": "stdout",
     "output_type": "stream",
     "text": [
      "13\n",
      "12\n",
      "12\n",
      "7\n"
     ]
    },
    {
     "name": "stderr",
     "output_type": "stream",
     "text": [
      "/Users/emanuele/code/Phenotype_Prediction/env/lib/python3.11/site-packages/snps/io/reader.py:447: DtypeWarning: Columns (1) have mixed types. Specify dtype option on import or set low_memory=False.\n",
      "  df = pd.read_csv(\n"
     ]
    },
    {
     "name": "stdout",
     "output_type": "stream",
     "text": [
      "13\n"
     ]
    },
    {
     "name": "stderr",
     "output_type": "stream",
     "text": [
      "/Users/emanuele/code/Phenotype_Prediction/env/lib/python3.11/site-packages/snps/io/reader.py:447: DtypeWarning: Columns (1) have mixed types. Specify dtype option on import or set low_memory=False.\n",
      "  df = pd.read_csv(\n"
     ]
    },
    {
     "name": "stdout",
     "output_type": "stream",
     "text": [
      "13\n"
     ]
    },
    {
     "name": "stderr",
     "output_type": "stream",
     "text": [
      "/Users/emanuele/code/Phenotype_Prediction/env/lib/python3.11/site-packages/snps/io/reader.py:447: DtypeWarning: Columns (1) have mixed types. Specify dtype option on import or set low_memory=False.\n",
      "  df = pd.read_csv(\n",
      "no SNPs loaded...\n"
     ]
    },
    {
     "name": "stdout",
     "output_type": "stream",
     "text": [
      "13\n",
      "0\n",
      "13\n"
     ]
    },
    {
     "name": "stderr",
     "output_type": "stream",
     "text": [
      "/Users/emanuele/code/Phenotype_Prediction/env/lib/python3.11/site-packages/snps/io/reader.py:447: DtypeWarning: Columns (1) have mixed types. Specify dtype option on import or set low_memory=False.\n",
      "  df = pd.read_csv(\n"
     ]
    },
    {
     "name": "stdout",
     "output_type": "stream",
     "text": [
      "13\n",
      "12\n",
      "12\n"
     ]
    },
    {
     "name": "stderr",
     "output_type": "stream",
     "text": [
      "/Users/emanuele/code/Phenotype_Prediction/env/lib/python3.11/site-packages/snps/io/reader.py:447: DtypeWarning: Columns (1) have mixed types. Specify dtype option on import or set low_memory=False.\n",
      "  df = pd.read_csv(\n"
     ]
    },
    {
     "name": "stdout",
     "output_type": "stream",
     "text": [
      "13\n"
     ]
    },
    {
     "name": "stderr",
     "output_type": "stream",
     "text": [
      "/Users/emanuele/code/Phenotype_Prediction/env/lib/python3.11/site-packages/snps/io/reader.py:447: DtypeWarning: Columns (1) have mixed types. Specify dtype option on import or set low_memory=False.\n",
      "  df = pd.read_csv(\n"
     ]
    },
    {
     "name": "stdout",
     "output_type": "stream",
     "text": [
      "13\n"
     ]
    },
    {
     "name": "stderr",
     "output_type": "stream",
     "text": [
      "/Users/emanuele/code/Phenotype_Prediction/env/lib/python3.11/site-packages/snps/io/reader.py:447: DtypeWarning: Columns (1) have mixed types. Specify dtype option on import or set low_memory=False.\n",
      "  df = pd.read_csv(\n"
     ]
    },
    {
     "name": "stdout",
     "output_type": "stream",
     "text": [
      "13\n"
     ]
    },
    {
     "name": "stderr",
     "output_type": "stream",
     "text": [
      "/Users/emanuele/code/Phenotype_Prediction/env/lib/python3.11/site-packages/snps/io/reader.py:447: DtypeWarning: Columns (1) have mixed types. Specify dtype option on import or set low_memory=False.\n",
      "  df = pd.read_csv(\n"
     ]
    },
    {
     "name": "stdout",
     "output_type": "stream",
     "text": [
      "13\n"
     ]
    },
    {
     "name": "stderr",
     "output_type": "stream",
     "text": [
      "/Users/emanuele/code/Phenotype_Prediction/env/lib/python3.11/site-packages/snps/io/reader.py:447: DtypeWarning: Columns (1) have mixed types. Specify dtype option on import or set low_memory=False.\n",
      "  df = pd.read_csv(\n"
     ]
    },
    {
     "name": "stdout",
     "output_type": "stream",
     "text": [
      "13\n",
      "12\n"
     ]
    },
    {
     "name": "stderr",
     "output_type": "stream",
     "text": [
      "/Users/emanuele/code/Phenotype_Prediction/env/lib/python3.11/site-packages/snps/io/reader.py:447: DtypeWarning: Columns (1) have mixed types. Specify dtype option on import or set low_memory=False.\n",
      "  df = pd.read_csv(\n"
     ]
    },
    {
     "name": "stdout",
     "output_type": "stream",
     "text": [
      "12\n"
     ]
    },
    {
     "name": "stderr",
     "output_type": "stream",
     "text": [
      "/Users/emanuele/code/Phenotype_Prediction/env/lib/python3.11/site-packages/snps/io/reader.py:447: DtypeWarning: Columns (1) have mixed types. Specify dtype option on import or set low_memory=False.\n",
      "  df = pd.read_csv(\n"
     ]
    },
    {
     "name": "stdout",
     "output_type": "stream",
     "text": [
      "13\n"
     ]
    },
    {
     "name": "stderr",
     "output_type": "stream",
     "text": [
      "/Users/emanuele/code/Phenotype_Prediction/env/lib/python3.11/site-packages/snps/io/reader.py:447: DtypeWarning: Columns (1) have mixed types. Specify dtype option on import or set low_memory=False.\n",
      "  df = pd.read_csv(\n"
     ]
    },
    {
     "name": "stdout",
     "output_type": "stream",
     "text": [
      "13\n"
     ]
    },
    {
     "name": "stderr",
     "output_type": "stream",
     "text": [
      "/Users/emanuele/code/Phenotype_Prediction/env/lib/python3.11/site-packages/snps/io/reader.py:447: DtypeWarning: Columns (1) have mixed types. Specify dtype option on import or set low_memory=False.\n",
      "  df = pd.read_csv(\n"
     ]
    },
    {
     "name": "stdout",
     "output_type": "stream",
     "text": [
      "13\n",
      "ERRO!!! NO ARQUIVO opensnp_alldata/opensnp_datadump.current/user3930_file2629_yearofbirth_unknown_sex_unknown.23andme.txt\n"
     ]
    },
    {
     "name": "stderr",
     "output_type": "stream",
     "text": [
      "/Users/emanuele/code/Phenotype_Prediction/env/lib/python3.11/site-packages/snps/io/reader.py:447: DtypeWarning: Columns (1) have mixed types. Specify dtype option on import or set low_memory=False.\n",
      "  df = pd.read_csv(\n"
     ]
    },
    {
     "name": "stdout",
     "output_type": "stream",
     "text": [
      "13\n"
     ]
    },
    {
     "name": "stderr",
     "output_type": "stream",
     "text": [
      "/Users/emanuele/code/Phenotype_Prediction/env/lib/python3.11/site-packages/snps/io/reader.py:447: DtypeWarning: Columns (1) have mixed types. Specify dtype option on import or set low_memory=False.\n",
      "  df = pd.read_csv(\n"
     ]
    },
    {
     "name": "stdout",
     "output_type": "stream",
     "text": [
      "13\n",
      "12\n"
     ]
    },
    {
     "name": "stderr",
     "output_type": "stream",
     "text": [
      "/Users/emanuele/code/Phenotype_Prediction/env/lib/python3.11/site-packages/snps/io/reader.py:447: DtypeWarning: Columns (1) have mixed types. Specify dtype option on import or set low_memory=False.\n",
      "  df = pd.read_csv(\n"
     ]
    },
    {
     "name": "stdout",
     "output_type": "stream",
     "text": [
      "13\n"
     ]
    },
    {
     "name": "stderr",
     "output_type": "stream",
     "text": [
      "/Users/emanuele/code/Phenotype_Prediction/env/lib/python3.11/site-packages/snps/io/reader.py:447: DtypeWarning: Columns (1) have mixed types. Specify dtype option on import or set low_memory=False.\n",
      "  df = pd.read_csv(\n"
     ]
    },
    {
     "name": "stdout",
     "output_type": "stream",
     "text": [
      "13\n",
      "7\n"
     ]
    },
    {
     "name": "stderr",
     "output_type": "stream",
     "text": [
      "/Users/emanuele/code/Phenotype_Prediction/env/lib/python3.11/site-packages/snps/io/reader.py:447: DtypeWarning: Columns (1) have mixed types. Specify dtype option on import or set low_memory=False.\n",
      "  df = pd.read_csv(\n"
     ]
    },
    {
     "name": "stdout",
     "output_type": "stream",
     "text": [
      "13\n"
     ]
    },
    {
     "name": "stderr",
     "output_type": "stream",
     "text": [
      "/Users/emanuele/code/Phenotype_Prediction/env/lib/python3.11/site-packages/snps/io/reader.py:447: DtypeWarning: Columns (1) have mixed types. Specify dtype option on import or set low_memory=False.\n",
      "  df = pd.read_csv(\n"
     ]
    },
    {
     "name": "stdout",
     "output_type": "stream",
     "text": [
      "13\n",
      "0\n",
      "0\n"
     ]
    },
    {
     "name": "stderr",
     "output_type": "stream",
     "text": [
      "/Users/emanuele/code/Phenotype_Prediction/env/lib/python3.11/site-packages/snps/io/reader.py:447: DtypeWarning: Columns (1) have mixed types. Specify dtype option on import or set low_memory=False.\n",
      "  df = pd.read_csv(\n"
     ]
    },
    {
     "name": "stdout",
     "output_type": "stream",
     "text": [
      "13\n"
     ]
    },
    {
     "name": "stderr",
     "output_type": "stream",
     "text": [
      "/Users/emanuele/code/Phenotype_Prediction/env/lib/python3.11/site-packages/snps/io/reader.py:447: DtypeWarning: Columns (1) have mixed types. Specify dtype option on import or set low_memory=False.\n",
      "  df = pd.read_csv(\n"
     ]
    },
    {
     "name": "stdout",
     "output_type": "stream",
     "text": [
      "13\n"
     ]
    },
    {
     "name": "stderr",
     "output_type": "stream",
     "text": [
      "/Users/emanuele/code/Phenotype_Prediction/env/lib/python3.11/site-packages/snps/io/reader.py:447: DtypeWarning: Columns (1) have mixed types. Specify dtype option on import or set low_memory=False.\n",
      "  df = pd.read_csv(\n"
     ]
    },
    {
     "name": "stdout",
     "output_type": "stream",
     "text": [
      "13\n"
     ]
    },
    {
     "name": "stderr",
     "output_type": "stream",
     "text": [
      "/Users/emanuele/code/Phenotype_Prediction/env/lib/python3.11/site-packages/snps/io/reader.py:447: DtypeWarning: Columns (1) have mixed types. Specify dtype option on import or set low_memory=False.\n",
      "  df = pd.read_csv(\n"
     ]
    },
    {
     "name": "stdout",
     "output_type": "stream",
     "text": [
      "13\n",
      "12\n"
     ]
    },
    {
     "name": "stderr",
     "output_type": "stream",
     "text": [
      "/Users/emanuele/code/Phenotype_Prediction/env/lib/python3.11/site-packages/snps/io/reader.py:447: DtypeWarning: Columns (1) have mixed types. Specify dtype option on import or set low_memory=False.\n",
      "  df = pd.read_csv(\n"
     ]
    },
    {
     "name": "stdout",
     "output_type": "stream",
     "text": [
      "13\n"
     ]
    },
    {
     "name": "stderr",
     "output_type": "stream",
     "text": [
      "/Users/emanuele/code/Phenotype_Prediction/env/lib/python3.11/site-packages/snps/io/reader.py:447: DtypeWarning: Columns (1) have mixed types. Specify dtype option on import or set low_memory=False.\n",
      "  df = pd.read_csv(\n"
     ]
    },
    {
     "name": "stdout",
     "output_type": "stream",
     "text": [
      "13\n"
     ]
    },
    {
     "name": "stderr",
     "output_type": "stream",
     "text": [
      "/Users/emanuele/code/Phenotype_Prediction/env/lib/python3.11/site-packages/snps/io/reader.py:447: DtypeWarning: Columns (1) have mixed types. Specify dtype option on import or set low_memory=False.\n",
      "  df = pd.read_csv(\n"
     ]
    },
    {
     "name": "stdout",
     "output_type": "stream",
     "text": [
      "13\n"
     ]
    },
    {
     "name": "stderr",
     "output_type": "stream",
     "text": [
      "/Users/emanuele/code/Phenotype_Prediction/env/lib/python3.11/site-packages/snps/io/reader.py:447: DtypeWarning: Columns (1) have mixed types. Specify dtype option on import or set low_memory=False.\n",
      "  df = pd.read_csv(\n"
     ]
    },
    {
     "name": "stdout",
     "output_type": "stream",
     "text": [
      "13\n"
     ]
    },
    {
     "name": "stderr",
     "output_type": "stream",
     "text": [
      "/Users/emanuele/code/Phenotype_Prediction/env/lib/python3.11/site-packages/snps/io/reader.py:447: DtypeWarning: Columns (1) have mixed types. Specify dtype option on import or set low_memory=False.\n",
      "  df = pd.read_csv(\n"
     ]
    },
    {
     "name": "stdout",
     "output_type": "stream",
     "text": [
      "13\n"
     ]
    },
    {
     "name": "stderr",
     "output_type": "stream",
     "text": [
      "/Users/emanuele/code/Phenotype_Prediction/env/lib/python3.11/site-packages/snps/io/reader.py:447: DtypeWarning: Columns (1) have mixed types. Specify dtype option on import or set low_memory=False.\n",
      "  df = pd.read_csv(\n"
     ]
    },
    {
     "name": "stdout",
     "output_type": "stream",
     "text": [
      "13\n"
     ]
    },
    {
     "name": "stderr",
     "output_type": "stream",
     "text": [
      "/Users/emanuele/code/Phenotype_Prediction/env/lib/python3.11/site-packages/snps/io/reader.py:447: DtypeWarning: Columns (1) have mixed types. Specify dtype option on import or set low_memory=False.\n",
      "  df = pd.read_csv(\n"
     ]
    },
    {
     "name": "stdout",
     "output_type": "stream",
     "text": [
      "13\n"
     ]
    },
    {
     "name": "stderr",
     "output_type": "stream",
     "text": [
      "/Users/emanuele/code/Phenotype_Prediction/env/lib/python3.11/site-packages/snps/io/reader.py:447: DtypeWarning: Columns (1) have mixed types. Specify dtype option on import or set low_memory=False.\n",
      "  df = pd.read_csv(\n"
     ]
    },
    {
     "name": "stdout",
     "output_type": "stream",
     "text": [
      "13\n"
     ]
    },
    {
     "name": "stderr",
     "output_type": "stream",
     "text": [
      "/Users/emanuele/code/Phenotype_Prediction/env/lib/python3.11/site-packages/snps/io/reader.py:447: DtypeWarning: Columns (1) have mixed types. Specify dtype option on import or set low_memory=False.\n",
      "  df = pd.read_csv(\n"
     ]
    },
    {
     "name": "stdout",
     "output_type": "stream",
     "text": [
      "13\n"
     ]
    },
    {
     "name": "stderr",
     "output_type": "stream",
     "text": [
      "/Users/emanuele/code/Phenotype_Prediction/env/lib/python3.11/site-packages/snps/io/reader.py:447: DtypeWarning: Columns (1) have mixed types. Specify dtype option on import or set low_memory=False.\n",
      "  df = pd.read_csv(\n"
     ]
    },
    {
     "name": "stdout",
     "output_type": "stream",
     "text": [
      "13\n"
     ]
    },
    {
     "name": "stderr",
     "output_type": "stream",
     "text": [
      "/Users/emanuele/code/Phenotype_Prediction/env/lib/python3.11/site-packages/snps/io/reader.py:447: DtypeWarning: Columns (1) have mixed types. Specify dtype option on import or set low_memory=False.\n",
      "  df = pd.read_csv(\n"
     ]
    },
    {
     "name": "stdout",
     "output_type": "stream",
     "text": [
      "13\n"
     ]
    },
    {
     "name": "stderr",
     "output_type": "stream",
     "text": [
      "/Users/emanuele/code/Phenotype_Prediction/env/lib/python3.11/site-packages/snps/io/reader.py:447: DtypeWarning: Columns (1) have mixed types. Specify dtype option on import or set low_memory=False.\n",
      "  df = pd.read_csv(\n"
     ]
    },
    {
     "name": "stdout",
     "output_type": "stream",
     "text": [
      "13\n"
     ]
    },
    {
     "name": "stderr",
     "output_type": "stream",
     "text": [
      "/Users/emanuele/code/Phenotype_Prediction/env/lib/python3.11/site-packages/snps/io/reader.py:447: DtypeWarning: Columns (1) have mixed types. Specify dtype option on import or set low_memory=False.\n",
      "  df = pd.read_csv(\n"
     ]
    },
    {
     "name": "stdout",
     "output_type": "stream",
     "text": [
      "13\n"
     ]
    },
    {
     "name": "stderr",
     "output_type": "stream",
     "text": [
      "/Users/emanuele/code/Phenotype_Prediction/env/lib/python3.11/site-packages/snps/io/reader.py:447: DtypeWarning: Columns (1) have mixed types. Specify dtype option on import or set low_memory=False.\n",
      "  df = pd.read_csv(\n"
     ]
    },
    {
     "name": "stdout",
     "output_type": "stream",
     "text": [
      "13\n"
     ]
    },
    {
     "name": "stderr",
     "output_type": "stream",
     "text": [
      "/Users/emanuele/code/Phenotype_Prediction/env/lib/python3.11/site-packages/snps/io/reader.py:447: DtypeWarning: Columns (1) have mixed types. Specify dtype option on import or set low_memory=False.\n",
      "  df = pd.read_csv(\n"
     ]
    },
    {
     "name": "stdout",
     "output_type": "stream",
     "text": [
      "13\n"
     ]
    },
    {
     "name": "stderr",
     "output_type": "stream",
     "text": [
      "/Users/emanuele/code/Phenotype_Prediction/env/lib/python3.11/site-packages/snps/io/reader.py:447: DtypeWarning: Columns (1) have mixed types. Specify dtype option on import or set low_memory=False.\n",
      "  df = pd.read_csv(\n"
     ]
    },
    {
     "name": "stdout",
     "output_type": "stream",
     "text": [
      "13\n"
     ]
    },
    {
     "name": "stderr",
     "output_type": "stream",
     "text": [
      "/Users/emanuele/code/Phenotype_Prediction/env/lib/python3.11/site-packages/snps/io/reader.py:447: DtypeWarning: Columns (1) have mixed types. Specify dtype option on import or set low_memory=False.\n",
      "  df = pd.read_csv(\n"
     ]
    },
    {
     "name": "stdout",
     "output_type": "stream",
     "text": [
      "13\n"
     ]
    },
    {
     "name": "stderr",
     "output_type": "stream",
     "text": [
      "/Users/emanuele/code/Phenotype_Prediction/env/lib/python3.11/site-packages/snps/io/reader.py:447: DtypeWarning: Columns (1) have mixed types. Specify dtype option on import or set low_memory=False.\n",
      "  df = pd.read_csv(\n"
     ]
    },
    {
     "name": "stdout",
     "output_type": "stream",
     "text": [
      "13\n"
     ]
    },
    {
     "name": "stderr",
     "output_type": "stream",
     "text": [
      "/Users/emanuele/code/Phenotype_Prediction/env/lib/python3.11/site-packages/snps/io/reader.py:447: DtypeWarning: Columns (1) have mixed types. Specify dtype option on import or set low_memory=False.\n",
      "  df = pd.read_csv(\n"
     ]
    },
    {
     "name": "stdout",
     "output_type": "stream",
     "text": [
      "13\n"
     ]
    },
    {
     "name": "stderr",
     "output_type": "stream",
     "text": [
      "/Users/emanuele/code/Phenotype_Prediction/env/lib/python3.11/site-packages/snps/io/reader.py:447: DtypeWarning: Columns (1) have mixed types. Specify dtype option on import or set low_memory=False.\n",
      "  df = pd.read_csv(\n"
     ]
    },
    {
     "name": "stdout",
     "output_type": "stream",
     "text": [
      "13\n",
      "12\n"
     ]
    },
    {
     "name": "stderr",
     "output_type": "stream",
     "text": [
      "/Users/emanuele/code/Phenotype_Prediction/env/lib/python3.11/site-packages/snps/io/reader.py:447: DtypeWarning: Columns (1) have mixed types. Specify dtype option on import or set low_memory=False.\n",
      "  df = pd.read_csv(\n"
     ]
    },
    {
     "name": "stdout",
     "output_type": "stream",
     "text": [
      "13\n",
      "7\n"
     ]
    },
    {
     "name": "stderr",
     "output_type": "stream",
     "text": [
      "/Users/emanuele/code/Phenotype_Prediction/env/lib/python3.11/site-packages/snps/io/reader.py:447: DtypeWarning: Columns (1) have mixed types. Specify dtype option on import or set low_memory=False.\n",
      "  df = pd.read_csv(\n"
     ]
    },
    {
     "name": "stdout",
     "output_type": "stream",
     "text": [
      "13\n",
      "12\n",
      "12\n"
     ]
    },
    {
     "name": "stderr",
     "output_type": "stream",
     "text": [
      "/Users/emanuele/code/Phenotype_Prediction/env/lib/python3.11/site-packages/snps/io/reader.py:447: DtypeWarning: Columns (1) have mixed types. Specify dtype option on import or set low_memory=False.\n",
      "  df = pd.read_csv(\n"
     ]
    },
    {
     "name": "stdout",
     "output_type": "stream",
     "text": [
      "13\n",
      "12\n"
     ]
    },
    {
     "name": "stderr",
     "output_type": "stream",
     "text": [
      "/Users/emanuele/code/Phenotype_Prediction/env/lib/python3.11/site-packages/snps/io/reader.py:447: DtypeWarning: Columns (1) have mixed types. Specify dtype option on import or set low_memory=False.\n",
      "  df = pd.read_csv(\n"
     ]
    },
    {
     "name": "stdout",
     "output_type": "stream",
     "text": [
      "13\n"
     ]
    },
    {
     "name": "stderr",
     "output_type": "stream",
     "text": [
      "/Users/emanuele/code/Phenotype_Prediction/env/lib/python3.11/site-packages/snps/io/reader.py:447: DtypeWarning: Columns (1) have mixed types. Specify dtype option on import or set low_memory=False.\n",
      "  df = pd.read_csv(\n"
     ]
    },
    {
     "name": "stdout",
     "output_type": "stream",
     "text": [
      "13\n"
     ]
    },
    {
     "name": "stderr",
     "output_type": "stream",
     "text": [
      "/Users/emanuele/code/Phenotype_Prediction/env/lib/python3.11/site-packages/snps/io/reader.py:447: DtypeWarning: Columns (1) have mixed types. Specify dtype option on import or set low_memory=False.\n",
      "  df = pd.read_csv(\n"
     ]
    },
    {
     "name": "stdout",
     "output_type": "stream",
     "text": [
      "13\n"
     ]
    },
    {
     "name": "stderr",
     "output_type": "stream",
     "text": [
      "/Users/emanuele/code/Phenotype_Prediction/env/lib/python3.11/site-packages/snps/io/reader.py:447: DtypeWarning: Columns (1) have mixed types. Specify dtype option on import or set low_memory=False.\n",
      "  df = pd.read_csv(\n",
      "no SNPs loaded...\n"
     ]
    },
    {
     "name": "stdout",
     "output_type": "stream",
     "text": [
      "13\n",
      "0\n"
     ]
    },
    {
     "name": "stderr",
     "output_type": "stream",
     "text": [
      "/Users/emanuele/code/Phenotype_Prediction/env/lib/python3.11/site-packages/snps/io/reader.py:447: DtypeWarning: Columns (1) have mixed types. Specify dtype option on import or set low_memory=False.\n",
      "  df = pd.read_csv(\n"
     ]
    },
    {
     "name": "stdout",
     "output_type": "stream",
     "text": [
      "13\n"
     ]
    },
    {
     "name": "stderr",
     "output_type": "stream",
     "text": [
      "/Users/emanuele/code/Phenotype_Prediction/env/lib/python3.11/site-packages/snps/io/reader.py:447: DtypeWarning: Columns (1) have mixed types. Specify dtype option on import or set low_memory=False.\n",
      "  df = pd.read_csv(\n"
     ]
    },
    {
     "name": "stdout",
     "output_type": "stream",
     "text": [
      "13\n",
      "ERRO!!! NO ARQUIVO opensnp_alldata/opensnp_datadump.current/user4676_file3279_yearofbirth_unknown_sex_unknown.23andme.txt\n"
     ]
    },
    {
     "name": "stderr",
     "output_type": "stream",
     "text": [
      "/Users/emanuele/code/Phenotype_Prediction/env/lib/python3.11/site-packages/snps/io/reader.py:447: DtypeWarning: Columns (1) have mixed types. Specify dtype option on import or set low_memory=False.\n",
      "  df = pd.read_csv(\n"
     ]
    },
    {
     "name": "stdout",
     "output_type": "stream",
     "text": [
      "13\n",
      "7\n"
     ]
    },
    {
     "name": "stderr",
     "output_type": "stream",
     "text": [
      "/Users/emanuele/code/Phenotype_Prediction/env/lib/python3.11/site-packages/snps/io/reader.py:447: DtypeWarning: Columns (1) have mixed types. Specify dtype option on import or set low_memory=False.\n",
      "  df = pd.read_csv(\n"
     ]
    },
    {
     "name": "stdout",
     "output_type": "stream",
     "text": [
      "13\n",
      "0\n",
      "ERRO!!! NO ARQUIVO opensnp_alldata/opensnp_datadump.current/user4192_file2845_yearofbirth_unknown_sex_unknown.23andme.txt\n",
      "12\n"
     ]
    },
    {
     "name": "stderr",
     "output_type": "stream",
     "text": [
      "/Users/emanuele/code/Phenotype_Prediction/env/lib/python3.11/site-packages/snps/io/reader.py:447: DtypeWarning: Columns (1) have mixed types. Specify dtype option on import or set low_memory=False.\n",
      "  df = pd.read_csv(\n"
     ]
    },
    {
     "name": "stdout",
     "output_type": "stream",
     "text": [
      "13\n"
     ]
    },
    {
     "name": "stderr",
     "output_type": "stream",
     "text": [
      "/Users/emanuele/code/Phenotype_Prediction/env/lib/python3.11/site-packages/snps/io/reader.py:447: DtypeWarning: Columns (1) have mixed types. Specify dtype option on import or set low_memory=False.\n",
      "  df = pd.read_csv(\n"
     ]
    },
    {
     "name": "stdout",
     "output_type": "stream",
     "text": [
      "13\n",
      "13\n"
     ]
    },
    {
     "name": "stderr",
     "output_type": "stream",
     "text": [
      "/Users/emanuele/code/Phenotype_Prediction/env/lib/python3.11/site-packages/snps/io/reader.py:447: DtypeWarning: Columns (1) have mixed types. Specify dtype option on import or set low_memory=False.\n",
      "  df = pd.read_csv(\n"
     ]
    },
    {
     "name": "stdout",
     "output_type": "stream",
     "text": [
      "13\n",
      "0\n"
     ]
    },
    {
     "name": "stderr",
     "output_type": "stream",
     "text": [
      "/Users/emanuele/code/Phenotype_Prediction/env/lib/python3.11/site-packages/snps/io/reader.py:447: DtypeWarning: Columns (1) have mixed types. Specify dtype option on import or set low_memory=False.\n",
      "  df = pd.read_csv(\n"
     ]
    },
    {
     "name": "stdout",
     "output_type": "stream",
     "text": [
      "13\n"
     ]
    },
    {
     "name": "stderr",
     "output_type": "stream",
     "text": [
      "/Users/emanuele/code/Phenotype_Prediction/env/lib/python3.11/site-packages/snps/io/reader.py:447: DtypeWarning: Columns (1) have mixed types. Specify dtype option on import or set low_memory=False.\n",
      "  df = pd.read_csv(\n"
     ]
    },
    {
     "name": "stdout",
     "output_type": "stream",
     "text": [
      "13\n"
     ]
    },
    {
     "name": "stderr",
     "output_type": "stream",
     "text": [
      "/Users/emanuele/code/Phenotype_Prediction/env/lib/python3.11/site-packages/snps/io/reader.py:447: DtypeWarning: Columns (1) have mixed types. Specify dtype option on import or set low_memory=False.\n",
      "  df = pd.read_csv(\n"
     ]
    },
    {
     "name": "stdout",
     "output_type": "stream",
     "text": [
      "13\n"
     ]
    },
    {
     "name": "stderr",
     "output_type": "stream",
     "text": [
      "/Users/emanuele/code/Phenotype_Prediction/env/lib/python3.11/site-packages/snps/io/reader.py:447: DtypeWarning: Columns (1) have mixed types. Specify dtype option on import or set low_memory=False.\n",
      "  df = pd.read_csv(\n"
     ]
    },
    {
     "name": "stdout",
     "output_type": "stream",
     "text": [
      "13\n"
     ]
    },
    {
     "name": "stderr",
     "output_type": "stream",
     "text": [
      "/Users/emanuele/code/Phenotype_Prediction/env/lib/python3.11/site-packages/snps/io/reader.py:447: DtypeWarning: Columns (1) have mixed types. Specify dtype option on import or set low_memory=False.\n",
      "  df = pd.read_csv(\n"
     ]
    },
    {
     "name": "stdout",
     "output_type": "stream",
     "text": [
      "13\n"
     ]
    },
    {
     "name": "stderr",
     "output_type": "stream",
     "text": [
      "/Users/emanuele/code/Phenotype_Prediction/env/lib/python3.11/site-packages/snps/io/reader.py:447: DtypeWarning: Columns (1) have mixed types. Specify dtype option on import or set low_memory=False.\n",
      "  df = pd.read_csv(\n"
     ]
    },
    {
     "name": "stdout",
     "output_type": "stream",
     "text": [
      "13\n"
     ]
    },
    {
     "name": "stderr",
     "output_type": "stream",
     "text": [
      "/Users/emanuele/code/Phenotype_Prediction/env/lib/python3.11/site-packages/snps/io/reader.py:447: DtypeWarning: Columns (1) have mixed types. Specify dtype option on import or set low_memory=False.\n",
      "  df = pd.read_csv(\n"
     ]
    },
    {
     "name": "stdout",
     "output_type": "stream",
     "text": [
      "13\n"
     ]
    },
    {
     "name": "stderr",
     "output_type": "stream",
     "text": [
      "/Users/emanuele/code/Phenotype_Prediction/env/lib/python3.11/site-packages/snps/io/reader.py:447: DtypeWarning: Columns (1) have mixed types. Specify dtype option on import or set low_memory=False.\n",
      "  df = pd.read_csv(\n"
     ]
    },
    {
     "name": "stdout",
     "output_type": "stream",
     "text": [
      "13\n"
     ]
    },
    {
     "name": "stderr",
     "output_type": "stream",
     "text": [
      "/Users/emanuele/code/Phenotype_Prediction/env/lib/python3.11/site-packages/snps/io/reader.py:447: DtypeWarning: Columns (1) have mixed types. Specify dtype option on import or set low_memory=False.\n",
      "  df = pd.read_csv(\n",
      "no SNPs loaded...\n"
     ]
    },
    {
     "name": "stdout",
     "output_type": "stream",
     "text": [
      "13\n",
      "0\n"
     ]
    },
    {
     "name": "stderr",
     "output_type": "stream",
     "text": [
      "/Users/emanuele/code/Phenotype_Prediction/env/lib/python3.11/site-packages/snps/io/reader.py:447: DtypeWarning: Columns (1) have mixed types. Specify dtype option on import or set low_memory=False.\n",
      "  df = pd.read_csv(\n"
     ]
    },
    {
     "name": "stdout",
     "output_type": "stream",
     "text": [
      "13\n",
      "0\n",
      "ERRO!!! NO ARQUIVO opensnp_alldata/opensnp_datadump.current/user1111_file3026_yearofbirth_unknown_sex_unknown.ftdna-illumina.txt\n"
     ]
    },
    {
     "name": "stderr",
     "output_type": "stream",
     "text": [
      "/Users/emanuele/code/Phenotype_Prediction/env/lib/python3.11/site-packages/snps/io/reader.py:447: DtypeWarning: Columns (1) have mixed types. Specify dtype option on import or set low_memory=False.\n",
      "  df = pd.read_csv(\n"
     ]
    },
    {
     "name": "stdout",
     "output_type": "stream",
     "text": [
      "13\n",
      "12\n"
     ]
    },
    {
     "name": "stderr",
     "output_type": "stream",
     "text": [
      "/Users/emanuele/code/Phenotype_Prediction/env/lib/python3.11/site-packages/snps/io/reader.py:447: DtypeWarning: Columns (1) have mixed types. Specify dtype option on import or set low_memory=False.\n",
      "  df = pd.read_csv(\n"
     ]
    },
    {
     "name": "stdout",
     "output_type": "stream",
     "text": [
      "13\n",
      "12\n"
     ]
    },
    {
     "name": "stderr",
     "output_type": "stream",
     "text": [
      "/Users/emanuele/code/Phenotype_Prediction/env/lib/python3.11/site-packages/snps/io/reader.py:447: DtypeWarning: Columns (1) have mixed types. Specify dtype option on import or set low_memory=False.\n",
      "  df = pd.read_csv(\n"
     ]
    },
    {
     "name": "stdout",
     "output_type": "stream",
     "text": [
      "13\n",
      "12\n"
     ]
    },
    {
     "name": "stderr",
     "output_type": "stream",
     "text": [
      "/Users/emanuele/code/Phenotype_Prediction/env/lib/python3.11/site-packages/snps/io/reader.py:447: DtypeWarning: Columns (1) have mixed types. Specify dtype option on import or set low_memory=False.\n",
      "  df = pd.read_csv(\n"
     ]
    },
    {
     "name": "stdout",
     "output_type": "stream",
     "text": [
      "13\n",
      "12\n"
     ]
    },
    {
     "name": "stderr",
     "output_type": "stream",
     "text": [
      "/Users/emanuele/code/Phenotype_Prediction/env/lib/python3.11/site-packages/snps/io/reader.py:447: DtypeWarning: Columns (1) have mixed types. Specify dtype option on import or set low_memory=False.\n",
      "  df = pd.read_csv(\n"
     ]
    },
    {
     "name": "stdout",
     "output_type": "stream",
     "text": [
      "13\n"
     ]
    },
    {
     "name": "stderr",
     "output_type": "stream",
     "text": [
      "/Users/emanuele/code/Phenotype_Prediction/env/lib/python3.11/site-packages/snps/io/reader.py:447: DtypeWarning: Columns (1) have mixed types. Specify dtype option on import or set low_memory=False.\n",
      "  df = pd.read_csv(\n"
     ]
    },
    {
     "name": "stdout",
     "output_type": "stream",
     "text": [
      "13\n"
     ]
    },
    {
     "name": "stderr",
     "output_type": "stream",
     "text": [
      "/Users/emanuele/code/Phenotype_Prediction/env/lib/python3.11/site-packages/snps/io/reader.py:447: DtypeWarning: Columns (1) have mixed types. Specify dtype option on import or set low_memory=False.\n",
      "  df = pd.read_csv(\n"
     ]
    },
    {
     "name": "stdout",
     "output_type": "stream",
     "text": [
      "13\n",
      "11\n"
     ]
    },
    {
     "name": "stderr",
     "output_type": "stream",
     "text": [
      "/Users/emanuele/code/Phenotype_Prediction/env/lib/python3.11/site-packages/snps/io/reader.py:447: DtypeWarning: Columns (1) have mixed types. Specify dtype option on import or set low_memory=False.\n",
      "  df = pd.read_csv(\n"
     ]
    },
    {
     "name": "stdout",
     "output_type": "stream",
     "text": [
      "13\n"
     ]
    },
    {
     "name": "stderr",
     "output_type": "stream",
     "text": [
      "/Users/emanuele/code/Phenotype_Prediction/env/lib/python3.11/site-packages/snps/io/reader.py:447: DtypeWarning: Columns (1) have mixed types. Specify dtype option on import or set low_memory=False.\n",
      "  df = pd.read_csv(\n"
     ]
    },
    {
     "name": "stdout",
     "output_type": "stream",
     "text": [
      "13\n"
     ]
    },
    {
     "name": "stderr",
     "output_type": "stream",
     "text": [
      "/Users/emanuele/code/Phenotype_Prediction/env/lib/python3.11/site-packages/snps/io/reader.py:447: DtypeWarning: Columns (1) have mixed types. Specify dtype option on import or set low_memory=False.\n",
      "  df = pd.read_csv(\n"
     ]
    },
    {
     "name": "stdout",
     "output_type": "stream",
     "text": [
      "13\n"
     ]
    },
    {
     "name": "stderr",
     "output_type": "stream",
     "text": [
      "/Users/emanuele/code/Phenotype_Prediction/env/lib/python3.11/site-packages/snps/io/reader.py:447: DtypeWarning: Columns (1) have mixed types. Specify dtype option on import or set low_memory=False.\n",
      "  df = pd.read_csv(\n"
     ]
    },
    {
     "name": "stdout",
     "output_type": "stream",
     "text": [
      "13\n",
      "12\n",
      "12\n",
      "12\n",
      "12\n"
     ]
    },
    {
     "name": "stderr",
     "output_type": "stream",
     "text": [
      "/Users/emanuele/code/Phenotype_Prediction/env/lib/python3.11/site-packages/snps/io/reader.py:447: DtypeWarning: Columns (1) have mixed types. Specify dtype option on import or set low_memory=False.\n",
      "  df = pd.read_csv(\n"
     ]
    },
    {
     "name": "stdout",
     "output_type": "stream",
     "text": [
      "13\n",
      "7\n"
     ]
    },
    {
     "name": "stderr",
     "output_type": "stream",
     "text": [
      "/Users/emanuele/code/Phenotype_Prediction/env/lib/python3.11/site-packages/snps/io/reader.py:447: DtypeWarning: Columns (1) have mixed types. Specify dtype option on import or set low_memory=False.\n",
      "  df = pd.read_csv(\n"
     ]
    },
    {
     "name": "stdout",
     "output_type": "stream",
     "text": [
      "13\n"
     ]
    },
    {
     "name": "stderr",
     "output_type": "stream",
     "text": [
      "/Users/emanuele/code/Phenotype_Prediction/env/lib/python3.11/site-packages/snps/io/reader.py:447: DtypeWarning: Columns (1) have mixed types. Specify dtype option on import or set low_memory=False.\n",
      "  df = pd.read_csv(\n"
     ]
    },
    {
     "name": "stdout",
     "output_type": "stream",
     "text": [
      "13\n"
     ]
    },
    {
     "name": "stderr",
     "output_type": "stream",
     "text": [
      "/Users/emanuele/code/Phenotype_Prediction/env/lib/python3.11/site-packages/snps/io/reader.py:447: DtypeWarning: Columns (1) have mixed types. Specify dtype option on import or set low_memory=False.\n",
      "  df = pd.read_csv(\n"
     ]
    },
    {
     "name": "stdout",
     "output_type": "stream",
     "text": [
      "13\n"
     ]
    },
    {
     "name": "stderr",
     "output_type": "stream",
     "text": [
      "/Users/emanuele/code/Phenotype_Prediction/env/lib/python3.11/site-packages/snps/io/reader.py:447: DtypeWarning: Columns (1) have mixed types. Specify dtype option on import or set low_memory=False.\n",
      "  df = pd.read_csv(\n"
     ]
    },
    {
     "name": "stdout",
     "output_type": "stream",
     "text": [
      "13\n"
     ]
    },
    {
     "name": "stderr",
     "output_type": "stream",
     "text": [
      "/Users/emanuele/code/Phenotype_Prediction/env/lib/python3.11/site-packages/snps/io/reader.py:447: DtypeWarning: Columns (1) have mixed types. Specify dtype option on import or set low_memory=False.\n",
      "  df = pd.read_csv(\n"
     ]
    },
    {
     "name": "stdout",
     "output_type": "stream",
     "text": [
      "13\n",
      "7\n"
     ]
    },
    {
     "name": "stderr",
     "output_type": "stream",
     "text": [
      "/Users/emanuele/code/Phenotype_Prediction/env/lib/python3.11/site-packages/snps/io/reader.py:447: DtypeWarning: Columns (1) have mixed types. Specify dtype option on import or set low_memory=False.\n",
      "  df = pd.read_csv(\n"
     ]
    },
    {
     "name": "stdout",
     "output_type": "stream",
     "text": [
      "13\n"
     ]
    },
    {
     "name": "stderr",
     "output_type": "stream",
     "text": [
      "/Users/emanuele/code/Phenotype_Prediction/env/lib/python3.11/site-packages/snps/io/reader.py:447: DtypeWarning: Columns (1) have mixed types. Specify dtype option on import or set low_memory=False.\n",
      "  df = pd.read_csv(\n"
     ]
    },
    {
     "name": "stdout",
     "output_type": "stream",
     "text": [
      "13\n",
      "7\n",
      "12\n"
     ]
    },
    {
     "name": "stderr",
     "output_type": "stream",
     "text": [
      "/Users/emanuele/code/Phenotype_Prediction/env/lib/python3.11/site-packages/snps/io/reader.py:447: DtypeWarning: Columns (1) have mixed types. Specify dtype option on import or set low_memory=False.\n",
      "  df = pd.read_csv(\n"
     ]
    },
    {
     "name": "stdout",
     "output_type": "stream",
     "text": [
      "13\n",
      "8\n"
     ]
    },
    {
     "name": "stderr",
     "output_type": "stream",
     "text": [
      "/Users/emanuele/code/Phenotype_Prediction/env/lib/python3.11/site-packages/snps/io/reader.py:447: DtypeWarning: Columns (1) have mixed types. Specify dtype option on import or set low_memory=False.\n",
      "  df = pd.read_csv(\n"
     ]
    },
    {
     "name": "stdout",
     "output_type": "stream",
     "text": [
      "10\n"
     ]
    },
    {
     "name": "stderr",
     "output_type": "stream",
     "text": [
      "/Users/emanuele/code/Phenotype_Prediction/env/lib/python3.11/site-packages/snps/io/reader.py:447: DtypeWarning: Columns (1) have mixed types. Specify dtype option on import or set low_memory=False.\n",
      "  df = pd.read_csv(\n"
     ]
    },
    {
     "name": "stdout",
     "output_type": "stream",
     "text": [
      "13\n",
      "7\n"
     ]
    },
    {
     "name": "stderr",
     "output_type": "stream",
     "text": [
      "/Users/emanuele/code/Phenotype_Prediction/env/lib/python3.11/site-packages/snps/io/reader.py:447: DtypeWarning: Columns (1) have mixed types. Specify dtype option on import or set low_memory=False.\n",
      "  df = pd.read_csv(\n"
     ]
    },
    {
     "name": "stdout",
     "output_type": "stream",
     "text": [
      "13\n"
     ]
    },
    {
     "name": "stderr",
     "output_type": "stream",
     "text": [
      "/Users/emanuele/code/Phenotype_Prediction/env/lib/python3.11/site-packages/snps/io/reader.py:447: DtypeWarning: Columns (1) have mixed types. Specify dtype option on import or set low_memory=False.\n",
      "  df = pd.read_csv(\n"
     ]
    },
    {
     "name": "stdout",
     "output_type": "stream",
     "text": [
      "13\n"
     ]
    },
    {
     "name": "stderr",
     "output_type": "stream",
     "text": [
      "/Users/emanuele/code/Phenotype_Prediction/env/lib/python3.11/site-packages/snps/io/reader.py:447: DtypeWarning: Columns (1) have mixed types. Specify dtype option on import or set low_memory=False.\n",
      "  df = pd.read_csv(\n"
     ]
    },
    {
     "name": "stdout",
     "output_type": "stream",
     "text": [
      "13\n"
     ]
    },
    {
     "name": "stderr",
     "output_type": "stream",
     "text": [
      "/Users/emanuele/code/Phenotype_Prediction/env/lib/python3.11/site-packages/snps/io/reader.py:447: DtypeWarning: Columns (1) have mixed types. Specify dtype option on import or set low_memory=False.\n",
      "  df = pd.read_csv(\n"
     ]
    },
    {
     "name": "stdout",
     "output_type": "stream",
     "text": [
      "13\n",
      "7\n"
     ]
    },
    {
     "name": "stderr",
     "output_type": "stream",
     "text": [
      "/Users/emanuele/code/Phenotype_Prediction/env/lib/python3.11/site-packages/snps/io/reader.py:447: DtypeWarning: Columns (1) have mixed types. Specify dtype option on import or set low_memory=False.\n",
      "  df = pd.read_csv(\n"
     ]
    },
    {
     "name": "stdout",
     "output_type": "stream",
     "text": [
      "13\n"
     ]
    },
    {
     "name": "stderr",
     "output_type": "stream",
     "text": [
      "/Users/emanuele/code/Phenotype_Prediction/env/lib/python3.11/site-packages/snps/io/reader.py:447: DtypeWarning: Columns (1) have mixed types. Specify dtype option on import or set low_memory=False.\n",
      "  df = pd.read_csv(\n"
     ]
    },
    {
     "name": "stdout",
     "output_type": "stream",
     "text": [
      "13\n",
      "12\n"
     ]
    },
    {
     "name": "stderr",
     "output_type": "stream",
     "text": [
      "/Users/emanuele/code/Phenotype_Prediction/env/lib/python3.11/site-packages/snps/io/reader.py:447: DtypeWarning: Columns (1) have mixed types. Specify dtype option on import or set low_memory=False.\n",
      "  df = pd.read_csv(\n"
     ]
    },
    {
     "name": "stdout",
     "output_type": "stream",
     "text": [
      "13\n"
     ]
    },
    {
     "name": "stderr",
     "output_type": "stream",
     "text": [
      "/Users/emanuele/code/Phenotype_Prediction/env/lib/python3.11/site-packages/snps/io/reader.py:447: DtypeWarning: Columns (1) have mixed types. Specify dtype option on import or set low_memory=False.\n",
      "  df = pd.read_csv(\n"
     ]
    },
    {
     "name": "stdout",
     "output_type": "stream",
     "text": [
      "13\n"
     ]
    },
    {
     "name": "stderr",
     "output_type": "stream",
     "text": [
      "/Users/emanuele/code/Phenotype_Prediction/env/lib/python3.11/site-packages/snps/io/reader.py:447: DtypeWarning: Columns (1) have mixed types. Specify dtype option on import or set low_memory=False.\n",
      "  df = pd.read_csv(\n"
     ]
    },
    {
     "name": "stdout",
     "output_type": "stream",
     "text": [
      "13\n"
     ]
    },
    {
     "name": "stderr",
     "output_type": "stream",
     "text": [
      "/Users/emanuele/code/Phenotype_Prediction/env/lib/python3.11/site-packages/snps/io/reader.py:447: DtypeWarning: Columns (1) have mixed types. Specify dtype option on import or set low_memory=False.\n",
      "  df = pd.read_csv(\n"
     ]
    },
    {
     "name": "stdout",
     "output_type": "stream",
     "text": [
      "13\n",
      "12\n"
     ]
    },
    {
     "name": "stderr",
     "output_type": "stream",
     "text": [
      "/Users/emanuele/code/Phenotype_Prediction/env/lib/python3.11/site-packages/snps/io/reader.py:447: DtypeWarning: Columns (1) have mixed types. Specify dtype option on import or set low_memory=False.\n",
      "  df = pd.read_csv(\n"
     ]
    },
    {
     "name": "stdout",
     "output_type": "stream",
     "text": [
      "13\n"
     ]
    },
    {
     "name": "stderr",
     "output_type": "stream",
     "text": [
      "/Users/emanuele/code/Phenotype_Prediction/env/lib/python3.11/site-packages/snps/io/reader.py:447: DtypeWarning: Columns (1) have mixed types. Specify dtype option on import or set low_memory=False.\n",
      "  df = pd.read_csv(\n"
     ]
    },
    {
     "name": "stdout",
     "output_type": "stream",
     "text": [
      "13\n"
     ]
    },
    {
     "name": "stderr",
     "output_type": "stream",
     "text": [
      "/Users/emanuele/code/Phenotype_Prediction/env/lib/python3.11/site-packages/snps/io/reader.py:447: DtypeWarning: Columns (1) have mixed types. Specify dtype option on import or set low_memory=False.\n",
      "  df = pd.read_csv(\n"
     ]
    },
    {
     "name": "stdout",
     "output_type": "stream",
     "text": [
      "13\n"
     ]
    },
    {
     "name": "stderr",
     "output_type": "stream",
     "text": [
      "/Users/emanuele/code/Phenotype_Prediction/env/lib/python3.11/site-packages/snps/io/reader.py:447: DtypeWarning: Columns (1) have mixed types. Specify dtype option on import or set low_memory=False.\n",
      "  df = pd.read_csv(\n"
     ]
    },
    {
     "name": "stdout",
     "output_type": "stream",
     "text": [
      "13\n",
      "11\n"
     ]
    },
    {
     "name": "stderr",
     "output_type": "stream",
     "text": [
      "/Users/emanuele/code/Phenotype_Prediction/env/lib/python3.11/site-packages/snps/io/reader.py:447: DtypeWarning: Columns (1) have mixed types. Specify dtype option on import or set low_memory=False.\n",
      "  df = pd.read_csv(\n"
     ]
    },
    {
     "name": "stdout",
     "output_type": "stream",
     "text": [
      "13\n"
     ]
    },
    {
     "name": "stderr",
     "output_type": "stream",
     "text": [
      "/Users/emanuele/code/Phenotype_Prediction/env/lib/python3.11/site-packages/snps/io/reader.py:447: DtypeWarning: Columns (1) have mixed types. Specify dtype option on import or set low_memory=False.\n",
      "  df = pd.read_csv(\n"
     ]
    },
    {
     "name": "stdout",
     "output_type": "stream",
     "text": [
      "13\n",
      "12\n"
     ]
    },
    {
     "name": "stderr",
     "output_type": "stream",
     "text": [
      "/Users/emanuele/code/Phenotype_Prediction/env/lib/python3.11/site-packages/snps/io/reader.py:447: DtypeWarning: Columns (1) have mixed types. Specify dtype option on import or set low_memory=False.\n",
      "  df = pd.read_csv(\n"
     ]
    },
    {
     "name": "stdout",
     "output_type": "stream",
     "text": [
      "13\n",
      "7\n"
     ]
    },
    {
     "name": "stderr",
     "output_type": "stream",
     "text": [
      "/Users/emanuele/code/Phenotype_Prediction/env/lib/python3.11/site-packages/snps/io/reader.py:447: DtypeWarning: Columns (1) have mixed types. Specify dtype option on import or set low_memory=False.\n",
      "  df = pd.read_csv(\n"
     ]
    },
    {
     "name": "stdout",
     "output_type": "stream",
     "text": [
      "13\n"
     ]
    },
    {
     "name": "stderr",
     "output_type": "stream",
     "text": [
      "/Users/emanuele/code/Phenotype_Prediction/env/lib/python3.11/site-packages/snps/io/reader.py:447: DtypeWarning: Columns (1) have mixed types. Specify dtype option on import or set low_memory=False.\n",
      "  df = pd.read_csv(\n"
     ]
    },
    {
     "name": "stdout",
     "output_type": "stream",
     "text": [
      "13\n"
     ]
    },
    {
     "name": "stderr",
     "output_type": "stream",
     "text": [
      "/Users/emanuele/code/Phenotype_Prediction/env/lib/python3.11/site-packages/snps/io/reader.py:447: DtypeWarning: Columns (1) have mixed types. Specify dtype option on import or set low_memory=False.\n",
      "  df = pd.read_csv(\n"
     ]
    },
    {
     "name": "stdout",
     "output_type": "stream",
     "text": [
      "13\n",
      "7\n"
     ]
    },
    {
     "name": "stderr",
     "output_type": "stream",
     "text": [
      "/Users/emanuele/code/Phenotype_Prediction/env/lib/python3.11/site-packages/snps/io/reader.py:447: DtypeWarning: Columns (1) have mixed types. Specify dtype option on import or set low_memory=False.\n",
      "  df = pd.read_csv(\n"
     ]
    },
    {
     "name": "stdout",
     "output_type": "stream",
     "text": [
      "13\n",
      "12\n",
      "12\n"
     ]
    },
    {
     "name": "stderr",
     "output_type": "stream",
     "text": [
      "/Users/emanuele/code/Phenotype_Prediction/env/lib/python3.11/site-packages/snps/io/reader.py:447: DtypeWarning: Columns (1) have mixed types. Specify dtype option on import or set low_memory=False.\n",
      "  df = pd.read_csv(\n"
     ]
    },
    {
     "name": "stdout",
     "output_type": "stream",
     "text": [
      "13\n"
     ]
    },
    {
     "name": "stderr",
     "output_type": "stream",
     "text": [
      "/Users/emanuele/code/Phenotype_Prediction/env/lib/python3.11/site-packages/snps/io/reader.py:447: DtypeWarning: Columns (1) have mixed types. Specify dtype option on import or set low_memory=False.\n",
      "  df = pd.read_csv(\n"
     ]
    },
    {
     "name": "stdout",
     "output_type": "stream",
     "text": [
      "13\n",
      "7\n",
      "11\n",
      "12\n"
     ]
    },
    {
     "name": "stderr",
     "output_type": "stream",
     "text": [
      "/Users/emanuele/code/Phenotype_Prediction/env/lib/python3.11/site-packages/snps/io/reader.py:447: DtypeWarning: Columns (1) have mixed types. Specify dtype option on import or set low_memory=False.\n",
      "  df = pd.read_csv(\n"
     ]
    },
    {
     "name": "stdout",
     "output_type": "stream",
     "text": [
      "13\n"
     ]
    },
    {
     "name": "stderr",
     "output_type": "stream",
     "text": [
      "/Users/emanuele/code/Phenotype_Prediction/env/lib/python3.11/site-packages/snps/io/reader.py:447: DtypeWarning: Columns (1) have mixed types. Specify dtype option on import or set low_memory=False.\n",
      "  df = pd.read_csv(\n"
     ]
    },
    {
     "name": "stdout",
     "output_type": "stream",
     "text": [
      "13\n"
     ]
    },
    {
     "name": "stderr",
     "output_type": "stream",
     "text": [
      "/Users/emanuele/code/Phenotype_Prediction/env/lib/python3.11/site-packages/snps/io/reader.py:447: DtypeWarning: Columns (1) have mixed types. Specify dtype option on import or set low_memory=False.\n",
      "  df = pd.read_csv(\n"
     ]
    },
    {
     "name": "stdout",
     "output_type": "stream",
     "text": [
      "10\n"
     ]
    },
    {
     "name": "stderr",
     "output_type": "stream",
     "text": [
      "/Users/emanuele/code/Phenotype_Prediction/env/lib/python3.11/site-packages/snps/io/reader.py:447: DtypeWarning: Columns (1) have mixed types. Specify dtype option on import or set low_memory=False.\n",
      "  df = pd.read_csv(\n"
     ]
    },
    {
     "name": "stdout",
     "output_type": "stream",
     "text": [
      "13\n",
      "12\n"
     ]
    },
    {
     "name": "stderr",
     "output_type": "stream",
     "text": [
      "/Users/emanuele/code/Phenotype_Prediction/env/lib/python3.11/site-packages/snps/io/reader.py:447: DtypeWarning: Columns (1) have mixed types. Specify dtype option on import or set low_memory=False.\n",
      "  df = pd.read_csv(\n"
     ]
    },
    {
     "name": "stdout",
     "output_type": "stream",
     "text": [
      "13\n"
     ]
    },
    {
     "name": "stderr",
     "output_type": "stream",
     "text": [
      "/Users/emanuele/code/Phenotype_Prediction/env/lib/python3.11/site-packages/snps/io/reader.py:447: DtypeWarning: Columns (1) have mixed types. Specify dtype option on import or set low_memory=False.\n",
      "  df = pd.read_csv(\n"
     ]
    },
    {
     "name": "stdout",
     "output_type": "stream",
     "text": [
      "13\n",
      "12\n",
      "11\n"
     ]
    },
    {
     "name": "stderr",
     "output_type": "stream",
     "text": [
      "/Users/emanuele/code/Phenotype_Prediction/env/lib/python3.11/site-packages/snps/io/reader.py:447: DtypeWarning: Columns (1) have mixed types. Specify dtype option on import or set low_memory=False.\n",
      "  df = pd.read_csv(\n"
     ]
    },
    {
     "name": "stdout",
     "output_type": "stream",
     "text": [
      "13\n",
      "8\n"
     ]
    },
    {
     "name": "stderr",
     "output_type": "stream",
     "text": [
      "/Users/emanuele/code/Phenotype_Prediction/env/lib/python3.11/site-packages/snps/io/reader.py:447: DtypeWarning: Columns (1) have mixed types. Specify dtype option on import or set low_memory=False.\n",
      "  df = pd.read_csv(\n"
     ]
    },
    {
     "name": "stdout",
     "output_type": "stream",
     "text": [
      "13\n"
     ]
    },
    {
     "name": "stderr",
     "output_type": "stream",
     "text": [
      "/Users/emanuele/code/Phenotype_Prediction/env/lib/python3.11/site-packages/snps/io/reader.py:447: DtypeWarning: Columns (1) have mixed types. Specify dtype option on import or set low_memory=False.\n",
      "  df = pd.read_csv(\n"
     ]
    },
    {
     "name": "stdout",
     "output_type": "stream",
     "text": [
      "13\n"
     ]
    },
    {
     "name": "stderr",
     "output_type": "stream",
     "text": [
      "/Users/emanuele/code/Phenotype_Prediction/env/lib/python3.11/site-packages/snps/io/reader.py:447: DtypeWarning: Columns (1) have mixed types. Specify dtype option on import or set low_memory=False.\n",
      "  df = pd.read_csv(\n"
     ]
    },
    {
     "name": "stdout",
     "output_type": "stream",
     "text": [
      "13\n",
      "11\n"
     ]
    },
    {
     "name": "stderr",
     "output_type": "stream",
     "text": [
      "/Users/emanuele/code/Phenotype_Prediction/env/lib/python3.11/site-packages/snps/io/reader.py:447: DtypeWarning: Columns (1) have mixed types. Specify dtype option on import or set low_memory=False.\n",
      "  df = pd.read_csv(\n"
     ]
    },
    {
     "name": "stdout",
     "output_type": "stream",
     "text": [
      "13\n"
     ]
    },
    {
     "name": "stderr",
     "output_type": "stream",
     "text": [
      "/Users/emanuele/code/Phenotype_Prediction/env/lib/python3.11/site-packages/snps/io/reader.py:447: DtypeWarning: Columns (1) have mixed types. Specify dtype option on import or set low_memory=False.\n",
      "  df = pd.read_csv(\n"
     ]
    },
    {
     "name": "stdout",
     "output_type": "stream",
     "text": [
      "13\n"
     ]
    },
    {
     "name": "stderr",
     "output_type": "stream",
     "text": [
      "/Users/emanuele/code/Phenotype_Prediction/env/lib/python3.11/site-packages/snps/io/reader.py:447: DtypeWarning: Columns (1) have mixed types. Specify dtype option on import or set low_memory=False.\n",
      "  df = pd.read_csv(\n"
     ]
    },
    {
     "name": "stdout",
     "output_type": "stream",
     "text": [
      "13\n",
      "11\n"
     ]
    },
    {
     "name": "stderr",
     "output_type": "stream",
     "text": [
      "/Users/emanuele/code/Phenotype_Prediction/env/lib/python3.11/site-packages/snps/io/reader.py:447: DtypeWarning: Columns (1) have mixed types. Specify dtype option on import or set low_memory=False.\n",
      "  df = pd.read_csv(\n"
     ]
    },
    {
     "name": "stdout",
     "output_type": "stream",
     "text": [
      "13\n",
      "7\n",
      "11\n",
      "12\n",
      "11\n"
     ]
    },
    {
     "name": "stderr",
     "output_type": "stream",
     "text": [
      "/Users/emanuele/code/Phenotype_Prediction/env/lib/python3.11/site-packages/snps/io/reader.py:447: DtypeWarning: Columns (1) have mixed types. Specify dtype option on import or set low_memory=False.\n",
      "  df = pd.read_csv(\n"
     ]
    },
    {
     "name": "stdout",
     "output_type": "stream",
     "text": [
      "13\n"
     ]
    },
    {
     "name": "stderr",
     "output_type": "stream",
     "text": [
      "/Users/emanuele/code/Phenotype_Prediction/env/lib/python3.11/site-packages/snps/io/reader.py:447: DtypeWarning: Columns (1) have mixed types. Specify dtype option on import or set low_memory=False.\n",
      "  df = pd.read_csv(\n"
     ]
    },
    {
     "name": "stdout",
     "output_type": "stream",
     "text": [
      "13\n"
     ]
    },
    {
     "name": "stderr",
     "output_type": "stream",
     "text": [
      "/Users/emanuele/code/Phenotype_Prediction/env/lib/python3.11/site-packages/snps/io/reader.py:447: DtypeWarning: Columns (1) have mixed types. Specify dtype option on import or set low_memory=False.\n",
      "  df = pd.read_csv(\n"
     ]
    },
    {
     "name": "stdout",
     "output_type": "stream",
     "text": [
      "13\n"
     ]
    },
    {
     "name": "stderr",
     "output_type": "stream",
     "text": [
      "/Users/emanuele/code/Phenotype_Prediction/env/lib/python3.11/site-packages/snps/io/reader.py:447: DtypeWarning: Columns (1) have mixed types. Specify dtype option on import or set low_memory=False.\n",
      "  df = pd.read_csv(\n"
     ]
    },
    {
     "name": "stdout",
     "output_type": "stream",
     "text": [
      "13\n",
      "7\n"
     ]
    },
    {
     "name": "stderr",
     "output_type": "stream",
     "text": [
      "/Users/emanuele/code/Phenotype_Prediction/env/lib/python3.11/site-packages/snps/io/reader.py:447: DtypeWarning: Columns (1) have mixed types. Specify dtype option on import or set low_memory=False.\n",
      "  df = pd.read_csv(\n"
     ]
    },
    {
     "name": "stdout",
     "output_type": "stream",
     "text": [
      "13\n"
     ]
    },
    {
     "name": "stderr",
     "output_type": "stream",
     "text": [
      "/Users/emanuele/code/Phenotype_Prediction/env/lib/python3.11/site-packages/snps/io/reader.py:447: DtypeWarning: Columns (1) have mixed types. Specify dtype option on import or set low_memory=False.\n",
      "  df = pd.read_csv(\n"
     ]
    },
    {
     "name": "stdout",
     "output_type": "stream",
     "text": [
      "13\n"
     ]
    },
    {
     "name": "stderr",
     "output_type": "stream",
     "text": [
      "/Users/emanuele/code/Phenotype_Prediction/env/lib/python3.11/site-packages/snps/io/reader.py:447: DtypeWarning: Columns (1) have mixed types. Specify dtype option on import or set low_memory=False.\n",
      "  df = pd.read_csv(\n"
     ]
    },
    {
     "name": "stdout",
     "output_type": "stream",
     "text": [
      "13\n"
     ]
    },
    {
     "name": "stderr",
     "output_type": "stream",
     "text": [
      "/Users/emanuele/code/Phenotype_Prediction/env/lib/python3.11/site-packages/snps/io/reader.py:447: DtypeWarning: Columns (1) have mixed types. Specify dtype option on import or set low_memory=False.\n",
      "  df = pd.read_csv(\n"
     ]
    },
    {
     "name": "stdout",
     "output_type": "stream",
     "text": [
      "13\n"
     ]
    },
    {
     "name": "stderr",
     "output_type": "stream",
     "text": [
      "/Users/emanuele/code/Phenotype_Prediction/env/lib/python3.11/site-packages/snps/io/reader.py:447: DtypeWarning: Columns (1) have mixed types. Specify dtype option on import or set low_memory=False.\n",
      "  df = pd.read_csv(\n"
     ]
    },
    {
     "name": "stdout",
     "output_type": "stream",
     "text": [
      "13\n"
     ]
    },
    {
     "name": "stderr",
     "output_type": "stream",
     "text": [
      "/Users/emanuele/code/Phenotype_Prediction/env/lib/python3.11/site-packages/snps/io/reader.py:447: DtypeWarning: Columns (1) have mixed types. Specify dtype option on import or set low_memory=False.\n",
      "  df = pd.read_csv(\n"
     ]
    },
    {
     "name": "stdout",
     "output_type": "stream",
     "text": [
      "13\n"
     ]
    },
    {
     "name": "stderr",
     "output_type": "stream",
     "text": [
      "/Users/emanuele/code/Phenotype_Prediction/env/lib/python3.11/site-packages/snps/io/reader.py:447: DtypeWarning: Columns (1) have mixed types. Specify dtype option on import or set low_memory=False.\n",
      "  df = pd.read_csv(\n"
     ]
    },
    {
     "name": "stdout",
     "output_type": "stream",
     "text": [
      "13\n"
     ]
    },
    {
     "name": "stderr",
     "output_type": "stream",
     "text": [
      "/Users/emanuele/code/Phenotype_Prediction/env/lib/python3.11/site-packages/snps/io/reader.py:447: DtypeWarning: Columns (1) have mixed types. Specify dtype option on import or set low_memory=False.\n",
      "  df = pd.read_csv(\n"
     ]
    },
    {
     "name": "stdout",
     "output_type": "stream",
     "text": [
      "13\n",
      "8\n"
     ]
    },
    {
     "name": "stderr",
     "output_type": "stream",
     "text": [
      "/Users/emanuele/code/Phenotype_Prediction/env/lib/python3.11/site-packages/snps/io/reader.py:447: DtypeWarning: Columns (1) have mixed types. Specify dtype option on import or set low_memory=False.\n",
      "  df = pd.read_csv(\n"
     ]
    },
    {
     "name": "stdout",
     "output_type": "stream",
     "text": [
      "13\n",
      "12\n",
      "11\n"
     ]
    },
    {
     "name": "stderr",
     "output_type": "stream",
     "text": [
      "/Users/emanuele/code/Phenotype_Prediction/env/lib/python3.11/site-packages/snps/io/reader.py:447: DtypeWarning: Columns (1) have mixed types. Specify dtype option on import or set low_memory=False.\n",
      "  df = pd.read_csv(\n"
     ]
    },
    {
     "name": "stdout",
     "output_type": "stream",
     "text": [
      "13\n"
     ]
    },
    {
     "name": "stderr",
     "output_type": "stream",
     "text": [
      "/Users/emanuele/code/Phenotype_Prediction/env/lib/python3.11/site-packages/snps/io/reader.py:447: DtypeWarning: Columns (1) have mixed types. Specify dtype option on import or set low_memory=False.\n",
      "  df = pd.read_csv(\n"
     ]
    },
    {
     "name": "stdout",
     "output_type": "stream",
     "text": [
      "13\n"
     ]
    },
    {
     "name": "stderr",
     "output_type": "stream",
     "text": [
      "/Users/emanuele/code/Phenotype_Prediction/env/lib/python3.11/site-packages/snps/io/reader.py:447: DtypeWarning: Columns (1) have mixed types. Specify dtype option on import or set low_memory=False.\n",
      "  df = pd.read_csv(\n"
     ]
    },
    {
     "name": "stdout",
     "output_type": "stream",
     "text": [
      "13\n"
     ]
    },
    {
     "name": "stderr",
     "output_type": "stream",
     "text": [
      "/Users/emanuele/code/Phenotype_Prediction/env/lib/python3.11/site-packages/snps/io/reader.py:447: DtypeWarning: Columns (1) have mixed types. Specify dtype option on import or set low_memory=False.\n",
      "  df = pd.read_csv(\n"
     ]
    },
    {
     "name": "stdout",
     "output_type": "stream",
     "text": [
      "13\n"
     ]
    },
    {
     "name": "stderr",
     "output_type": "stream",
     "text": [
      "/Users/emanuele/code/Phenotype_Prediction/env/lib/python3.11/site-packages/snps/io/reader.py:447: DtypeWarning: Columns (1) have mixed types. Specify dtype option on import or set low_memory=False.\n",
      "  df = pd.read_csv(\n"
     ]
    },
    {
     "name": "stdout",
     "output_type": "stream",
     "text": [
      "13\n"
     ]
    },
    {
     "name": "stderr",
     "output_type": "stream",
     "text": [
      "/Users/emanuele/code/Phenotype_Prediction/env/lib/python3.11/site-packages/snps/io/reader.py:447: DtypeWarning: Columns (1) have mixed types. Specify dtype option on import or set low_memory=False.\n",
      "  df = pd.read_csv(\n"
     ]
    },
    {
     "name": "stdout",
     "output_type": "stream",
     "text": [
      "13\n"
     ]
    },
    {
     "name": "stderr",
     "output_type": "stream",
     "text": [
      "/Users/emanuele/code/Phenotype_Prediction/env/lib/python3.11/site-packages/snps/io/reader.py:447: DtypeWarning: Columns (1) have mixed types. Specify dtype option on import or set low_memory=False.\n",
      "  df = pd.read_csv(\n"
     ]
    },
    {
     "name": "stdout",
     "output_type": "stream",
     "text": [
      "13\n",
      "11\n",
      "11\n",
      "11\n",
      "7\n",
      "12\n"
     ]
    },
    {
     "name": "stderr",
     "output_type": "stream",
     "text": [
      "/Users/emanuele/code/Phenotype_Prediction/env/lib/python3.11/site-packages/snps/io/reader.py:447: DtypeWarning: Columns (1) have mixed types. Specify dtype option on import or set low_memory=False.\n",
      "  df = pd.read_csv(\n"
     ]
    },
    {
     "name": "stdout",
     "output_type": "stream",
     "text": [
      "13\n"
     ]
    },
    {
     "name": "stderr",
     "output_type": "stream",
     "text": [
      "/Users/emanuele/code/Phenotype_Prediction/env/lib/python3.11/site-packages/snps/io/reader.py:447: DtypeWarning: Columns (1) have mixed types. Specify dtype option on import or set low_memory=False.\n",
      "  df = pd.read_csv(\n"
     ]
    },
    {
     "name": "stdout",
     "output_type": "stream",
     "text": [
      "13\n"
     ]
    },
    {
     "name": "stderr",
     "output_type": "stream",
     "text": [
      "/Users/emanuele/code/Phenotype_Prediction/env/lib/python3.11/site-packages/snps/io/reader.py:447: DtypeWarning: Columns (1) have mixed types. Specify dtype option on import or set low_memory=False.\n",
      "  df = pd.read_csv(\n"
     ]
    },
    {
     "name": "stdout",
     "output_type": "stream",
     "text": [
      "13\n"
     ]
    },
    {
     "name": "stderr",
     "output_type": "stream",
     "text": [
      "/Users/emanuele/code/Phenotype_Prediction/env/lib/python3.11/site-packages/snps/io/reader.py:447: DtypeWarning: Columns (1) have mixed types. Specify dtype option on import or set low_memory=False.\n",
      "  df = pd.read_csv(\n"
     ]
    },
    {
     "name": "stdout",
     "output_type": "stream",
     "text": [
      "10\n"
     ]
    },
    {
     "name": "stderr",
     "output_type": "stream",
     "text": [
      "/Users/emanuele/code/Phenotype_Prediction/env/lib/python3.11/site-packages/snps/io/reader.py:447: DtypeWarning: Columns (1) have mixed types. Specify dtype option on import or set low_memory=False.\n",
      "  df = pd.read_csv(\n"
     ]
    },
    {
     "name": "stdout",
     "output_type": "stream",
     "text": [
      "13\n"
     ]
    },
    {
     "name": "stderr",
     "output_type": "stream",
     "text": [
      "no SNPs loaded...\n"
     ]
    },
    {
     "name": "stdout",
     "output_type": "stream",
     "text": [
      "0\n"
     ]
    },
    {
     "name": "stderr",
     "output_type": "stream",
     "text": [
      "/Users/emanuele/code/Phenotype_Prediction/env/lib/python3.11/site-packages/snps/io/reader.py:447: DtypeWarning: Columns (1) have mixed types. Specify dtype option on import or set low_memory=False.\n",
      "  df = pd.read_csv(\n"
     ]
    },
    {
     "name": "stdout",
     "output_type": "stream",
     "text": [
      "13\n"
     ]
    },
    {
     "name": "stderr",
     "output_type": "stream",
     "text": [
      "/Users/emanuele/code/Phenotype_Prediction/env/lib/python3.11/site-packages/snps/io/reader.py:447: DtypeWarning: Columns (1) have mixed types. Specify dtype option on import or set low_memory=False.\n",
      "  df = pd.read_csv(\n"
     ]
    },
    {
     "name": "stdout",
     "output_type": "stream",
     "text": [
      "13\n",
      "11\n",
      "7\n"
     ]
    },
    {
     "name": "stderr",
     "output_type": "stream",
     "text": [
      "/Users/emanuele/code/Phenotype_Prediction/env/lib/python3.11/site-packages/snps/io/reader.py:447: DtypeWarning: Columns (1) have mixed types. Specify dtype option on import or set low_memory=False.\n",
      "  df = pd.read_csv(\n"
     ]
    },
    {
     "name": "stdout",
     "output_type": "stream",
     "text": [
      "13\n"
     ]
    },
    {
     "name": "stderr",
     "output_type": "stream",
     "text": [
      "/Users/emanuele/code/Phenotype_Prediction/env/lib/python3.11/site-packages/snps/io/reader.py:447: DtypeWarning: Columns (1) have mixed types. Specify dtype option on import or set low_memory=False.\n",
      "  df = pd.read_csv(\n"
     ]
    },
    {
     "name": "stdout",
     "output_type": "stream",
     "text": [
      "13\n",
      "7\n"
     ]
    },
    {
     "name": "stderr",
     "output_type": "stream",
     "text": [
      "/Users/emanuele/code/Phenotype_Prediction/env/lib/python3.11/site-packages/snps/io/reader.py:447: DtypeWarning: Columns (1) have mixed types. Specify dtype option on import or set low_memory=False.\n",
      "  df = pd.read_csv(\n"
     ]
    },
    {
     "name": "stdout",
     "output_type": "stream",
     "text": [
      "13\n",
      "11\n",
      "11\n"
     ]
    },
    {
     "name": "stderr",
     "output_type": "stream",
     "text": [
      "/Users/emanuele/code/Phenotype_Prediction/env/lib/python3.11/site-packages/snps/io/reader.py:447: DtypeWarning: Columns (1) have mixed types. Specify dtype option on import or set low_memory=False.\n",
      "  df = pd.read_csv(\n"
     ]
    },
    {
     "name": "stdout",
     "output_type": "stream",
     "text": [
      "13\n",
      "7\n",
      "11\n"
     ]
    },
    {
     "name": "stderr",
     "output_type": "stream",
     "text": [
      "/Users/emanuele/code/Phenotype_Prediction/env/lib/python3.11/site-packages/snps/io/reader.py:447: DtypeWarning: Columns (1) have mixed types. Specify dtype option on import or set low_memory=False.\n",
      "  df = pd.read_csv(\n"
     ]
    },
    {
     "name": "stdout",
     "output_type": "stream",
     "text": [
      "13\n",
      "0\n"
     ]
    },
    {
     "name": "stderr",
     "output_type": "stream",
     "text": [
      "/Users/emanuele/code/Phenotype_Prediction/env/lib/python3.11/site-packages/snps/io/reader.py:447: DtypeWarning: Columns (1) have mixed types. Specify dtype option on import or set low_memory=False.\n",
      "  df = pd.read_csv(\n"
     ]
    },
    {
     "name": "stdout",
     "output_type": "stream",
     "text": [
      "13\n"
     ]
    },
    {
     "name": "stderr",
     "output_type": "stream",
     "text": [
      "/Users/emanuele/code/Phenotype_Prediction/env/lib/python3.11/site-packages/snps/io/reader.py:447: DtypeWarning: Columns (1) have mixed types. Specify dtype option on import or set low_memory=False.\n",
      "  df = pd.read_csv(\n"
     ]
    },
    {
     "name": "stdout",
     "output_type": "stream",
     "text": [
      "13\n",
      "11\n"
     ]
    },
    {
     "name": "stderr",
     "output_type": "stream",
     "text": [
      "/Users/emanuele/code/Phenotype_Prediction/env/lib/python3.11/site-packages/snps/io/reader.py:447: DtypeWarning: Columns (1) have mixed types. Specify dtype option on import or set low_memory=False.\n",
      "  df = pd.read_csv(\n"
     ]
    },
    {
     "name": "stdout",
     "output_type": "stream",
     "text": [
      "13\n"
     ]
    },
    {
     "name": "stderr",
     "output_type": "stream",
     "text": [
      "/Users/emanuele/code/Phenotype_Prediction/env/lib/python3.11/site-packages/snps/io/reader.py:447: DtypeWarning: Columns (1) have mixed types. Specify dtype option on import or set low_memory=False.\n",
      "  df = pd.read_csv(\n"
     ]
    },
    {
     "name": "stdout",
     "output_type": "stream",
     "text": [
      "13\n"
     ]
    },
    {
     "name": "stderr",
     "output_type": "stream",
     "text": [
      "/Users/emanuele/code/Phenotype_Prediction/env/lib/python3.11/site-packages/snps/io/reader.py:447: DtypeWarning: Columns (1) have mixed types. Specify dtype option on import or set low_memory=False.\n",
      "  df = pd.read_csv(\n"
     ]
    },
    {
     "name": "stdout",
     "output_type": "stream",
     "text": [
      "13\n"
     ]
    },
    {
     "name": "stderr",
     "output_type": "stream",
     "text": [
      "/Users/emanuele/code/Phenotype_Prediction/env/lib/python3.11/site-packages/snps/io/reader.py:447: DtypeWarning: Columns (1) have mixed types. Specify dtype option on import or set low_memory=False.\n",
      "  df = pd.read_csv(\n"
     ]
    },
    {
     "name": "stdout",
     "output_type": "stream",
     "text": [
      "13\n"
     ]
    },
    {
     "name": "stderr",
     "output_type": "stream",
     "text": [
      "/Users/emanuele/code/Phenotype_Prediction/env/lib/python3.11/site-packages/snps/io/reader.py:447: DtypeWarning: Columns (1) have mixed types. Specify dtype option on import or set low_memory=False.\n",
      "  df = pd.read_csv(\n"
     ]
    },
    {
     "name": "stdout",
     "output_type": "stream",
     "text": [
      "13\n"
     ]
    },
    {
     "name": "stderr",
     "output_type": "stream",
     "text": [
      "/Users/emanuele/code/Phenotype_Prediction/env/lib/python3.11/site-packages/snps/io/reader.py:447: DtypeWarning: Columns (1) have mixed types. Specify dtype option on import or set low_memory=False.\n",
      "  df = pd.read_csv(\n"
     ]
    },
    {
     "name": "stdout",
     "output_type": "stream",
     "text": [
      "13\n",
      "7\n",
      "11\n",
      "13\n",
      "7\n",
      "12\n"
     ]
    },
    {
     "name": "stderr",
     "output_type": "stream",
     "text": [
      "/Users/emanuele/code/Phenotype_Prediction/env/lib/python3.11/site-packages/snps/io/reader.py:447: DtypeWarning: Columns (1) have mixed types. Specify dtype option on import or set low_memory=False.\n",
      "  df = pd.read_csv(\n"
     ]
    },
    {
     "name": "stdout",
     "output_type": "stream",
     "text": [
      "13\n"
     ]
    },
    {
     "name": "stderr",
     "output_type": "stream",
     "text": [
      "/Users/emanuele/code/Phenotype_Prediction/env/lib/python3.11/site-packages/snps/io/reader.py:447: DtypeWarning: Columns (1) have mixed types. Specify dtype option on import or set low_memory=False.\n",
      "  df = pd.read_csv(\n"
     ]
    },
    {
     "name": "stdout",
     "output_type": "stream",
     "text": [
      "13\n"
     ]
    },
    {
     "name": "stderr",
     "output_type": "stream",
     "text": [
      "/Users/emanuele/code/Phenotype_Prediction/env/lib/python3.11/site-packages/snps/io/reader.py:447: DtypeWarning: Columns (1) have mixed types. Specify dtype option on import or set low_memory=False.\n",
      "  df = pd.read_csv(\n"
     ]
    },
    {
     "name": "stdout",
     "output_type": "stream",
     "text": [
      "13\n",
      "11\n"
     ]
    },
    {
     "name": "stderr",
     "output_type": "stream",
     "text": [
      "/Users/emanuele/code/Phenotype_Prediction/env/lib/python3.11/site-packages/snps/io/reader.py:447: DtypeWarning: Columns (1) have mixed types. Specify dtype option on import or set low_memory=False.\n",
      "  df = pd.read_csv(\n"
     ]
    },
    {
     "name": "stdout",
     "output_type": "stream",
     "text": [
      "13\n",
      "12\n"
     ]
    },
    {
     "name": "stderr",
     "output_type": "stream",
     "text": [
      "/Users/emanuele/code/Phenotype_Prediction/env/lib/python3.11/site-packages/snps/io/reader.py:447: DtypeWarning: Columns (1) have mixed types. Specify dtype option on import or set low_memory=False.\n",
      "  df = pd.read_csv(\n"
     ]
    },
    {
     "name": "stdout",
     "output_type": "stream",
     "text": [
      "13\n",
      "12\n",
      "12\n",
      "12\n"
     ]
    },
    {
     "name": "stderr",
     "output_type": "stream",
     "text": [
      "/Users/emanuele/code/Phenotype_Prediction/env/lib/python3.11/site-packages/snps/io/reader.py:447: DtypeWarning: Columns (1) have mixed types. Specify dtype option on import or set low_memory=False.\n",
      "  df = pd.read_csv(\n"
     ]
    },
    {
     "name": "stdout",
     "output_type": "stream",
     "text": [
      "13\n",
      "11\n"
     ]
    },
    {
     "name": "stderr",
     "output_type": "stream",
     "text": [
      "/Users/emanuele/code/Phenotype_Prediction/env/lib/python3.11/site-packages/snps/io/reader.py:447: DtypeWarning: Columns (1) have mixed types. Specify dtype option on import or set low_memory=False.\n",
      "  df = pd.read_csv(\n"
     ]
    },
    {
     "name": "stdout",
     "output_type": "stream",
     "text": [
      "13\n"
     ]
    },
    {
     "name": "stderr",
     "output_type": "stream",
     "text": [
      "/Users/emanuele/code/Phenotype_Prediction/env/lib/python3.11/site-packages/snps/io/reader.py:447: DtypeWarning: Columns (1) have mixed types. Specify dtype option on import or set low_memory=False.\n",
      "  df = pd.read_csv(\n"
     ]
    },
    {
     "name": "stdout",
     "output_type": "stream",
     "text": [
      "13\n",
      "11\n",
      "11\n",
      "7\n"
     ]
    },
    {
     "name": "stderr",
     "output_type": "stream",
     "text": [
      "/Users/emanuele/code/Phenotype_Prediction/env/lib/python3.11/site-packages/snps/io/reader.py:447: DtypeWarning: Columns (1) have mixed types. Specify dtype option on import or set low_memory=False.\n",
      "  df = pd.read_csv(\n"
     ]
    },
    {
     "name": "stdout",
     "output_type": "stream",
     "text": [
      "13\n",
      "7\n",
      "12\n"
     ]
    },
    {
     "name": "stderr",
     "output_type": "stream",
     "text": [
      "/Users/emanuele/code/Phenotype_Prediction/env/lib/python3.11/site-packages/snps/io/reader.py:447: DtypeWarning: Columns (1) have mixed types. Specify dtype option on import or set low_memory=False.\n",
      "  df = pd.read_csv(\n"
     ]
    },
    {
     "name": "stdout",
     "output_type": "stream",
     "text": [
      "13\n",
      "11\n",
      "7\n",
      "7\n"
     ]
    },
    {
     "name": "stderr",
     "output_type": "stream",
     "text": [
      "/Users/emanuele/code/Phenotype_Prediction/env/lib/python3.11/site-packages/snps/io/reader.py:447: DtypeWarning: Columns (1) have mixed types. Specify dtype option on import or set low_memory=False.\n",
      "  df = pd.read_csv(\n"
     ]
    },
    {
     "name": "stdout",
     "output_type": "stream",
     "text": [
      "13\n"
     ]
    },
    {
     "name": "stderr",
     "output_type": "stream",
     "text": [
      "/Users/emanuele/code/Phenotype_Prediction/env/lib/python3.11/site-packages/snps/io/reader.py:447: DtypeWarning: Columns (1) have mixed types. Specify dtype option on import or set low_memory=False.\n",
      "  df = pd.read_csv(\n"
     ]
    },
    {
     "name": "stdout",
     "output_type": "stream",
     "text": [
      "12\n",
      "7\n",
      "11\n"
     ]
    },
    {
     "name": "stderr",
     "output_type": "stream",
     "text": [
      "/Users/emanuele/code/Phenotype_Prediction/env/lib/python3.11/site-packages/snps/io/reader.py:447: DtypeWarning: Columns (1) have mixed types. Specify dtype option on import or set low_memory=False.\n",
      "  df = pd.read_csv(\n"
     ]
    },
    {
     "name": "stdout",
     "output_type": "stream",
     "text": [
      "13\n",
      "11\n"
     ]
    },
    {
     "name": "stderr",
     "output_type": "stream",
     "text": [
      "/Users/emanuele/code/Phenotype_Prediction/env/lib/python3.11/site-packages/snps/io/reader.py:447: DtypeWarning: Columns (1) have mixed types. Specify dtype option on import or set low_memory=False.\n",
      "  df = pd.read_csv(\n"
     ]
    },
    {
     "name": "stdout",
     "output_type": "stream",
     "text": [
      "13\n",
      "7\n"
     ]
    },
    {
     "name": "stderr",
     "output_type": "stream",
     "text": [
      "/Users/emanuele/code/Phenotype_Prediction/env/lib/python3.11/site-packages/snps/io/reader.py:447: DtypeWarning: Columns (1) have mixed types. Specify dtype option on import or set low_memory=False.\n",
      "  df = pd.read_csv(\n"
     ]
    },
    {
     "name": "stdout",
     "output_type": "stream",
     "text": [
      "10\n",
      "11\n",
      "11\n",
      "11\n",
      "11\n",
      "12\n"
     ]
    },
    {
     "name": "stderr",
     "output_type": "stream",
     "text": [
      "/Users/emanuele/code/Phenotype_Prediction/env/lib/python3.11/site-packages/snps/io/reader.py:447: DtypeWarning: Columns (1) have mixed types. Specify dtype option on import or set low_memory=False.\n",
      "  df = pd.read_csv(\n"
     ]
    },
    {
     "name": "stdout",
     "output_type": "stream",
     "text": [
      "13\n"
     ]
    },
    {
     "name": "stderr",
     "output_type": "stream",
     "text": [
      "/Users/emanuele/code/Phenotype_Prediction/env/lib/python3.11/site-packages/snps/io/reader.py:447: DtypeWarning: Columns (1) have mixed types. Specify dtype option on import or set low_memory=False.\n",
      "  df = pd.read_csv(\n"
     ]
    },
    {
     "name": "stdout",
     "output_type": "stream",
     "text": [
      "13\n",
      "11\n"
     ]
    },
    {
     "name": "stderr",
     "output_type": "stream",
     "text": [
      "/Users/emanuele/code/Phenotype_Prediction/env/lib/python3.11/site-packages/snps/io/reader.py:447: DtypeWarning: Columns (1) have mixed types. Specify dtype option on import or set low_memory=False.\n",
      "  df = pd.read_csv(\n"
     ]
    },
    {
     "name": "stdout",
     "output_type": "stream",
     "text": [
      "10\n",
      "13\n",
      "13\n",
      "11\n"
     ]
    },
    {
     "name": "stderr",
     "output_type": "stream",
     "text": [
      "/Users/emanuele/code/Phenotype_Prediction/env/lib/python3.11/site-packages/snps/io/reader.py:447: DtypeWarning: Columns (1) have mixed types. Specify dtype option on import or set low_memory=False.\n",
      "  df = pd.read_csv(\n"
     ]
    },
    {
     "name": "stdout",
     "output_type": "stream",
     "text": [
      "13\n",
      "7\n"
     ]
    },
    {
     "name": "stderr",
     "output_type": "stream",
     "text": [
      "/Users/emanuele/code/Phenotype_Prediction/env/lib/python3.11/site-packages/snps/io/reader.py:447: DtypeWarning: Columns (1) have mixed types. Specify dtype option on import or set low_memory=False.\n",
      "  df = pd.read_csv(\n"
     ]
    },
    {
     "name": "stdout",
     "output_type": "stream",
     "text": [
      "13\n",
      "11\n"
     ]
    },
    {
     "name": "stderr",
     "output_type": "stream",
     "text": [
      "/Users/emanuele/code/Phenotype_Prediction/env/lib/python3.11/site-packages/snps/io/reader.py:447: DtypeWarning: Columns (1) have mixed types. Specify dtype option on import or set low_memory=False.\n",
      "  df = pd.read_csv(\n"
     ]
    },
    {
     "name": "stdout",
     "output_type": "stream",
     "text": [
      "13\n"
     ]
    },
    {
     "name": "stderr",
     "output_type": "stream",
     "text": [
      "/Users/emanuele/code/Phenotype_Prediction/env/lib/python3.11/site-packages/snps/io/reader.py:447: DtypeWarning: Columns (1) have mixed types. Specify dtype option on import or set low_memory=False.\n",
      "  df = pd.read_csv(\n"
     ]
    },
    {
     "name": "stdout",
     "output_type": "stream",
     "text": [
      "13\n",
      "11\n"
     ]
    },
    {
     "name": "stderr",
     "output_type": "stream",
     "text": [
      "/Users/emanuele/code/Phenotype_Prediction/env/lib/python3.11/site-packages/snps/io/reader.py:447: DtypeWarning: Columns (1) have mixed types. Specify dtype option on import or set low_memory=False.\n",
      "  df = pd.read_csv(\n"
     ]
    },
    {
     "name": "stdout",
     "output_type": "stream",
     "text": [
      "13\n"
     ]
    },
    {
     "name": "stderr",
     "output_type": "stream",
     "text": [
      "/Users/emanuele/code/Phenotype_Prediction/env/lib/python3.11/site-packages/snps/io/reader.py:447: DtypeWarning: Columns (1) have mixed types. Specify dtype option on import or set low_memory=False.\n",
      "  df = pd.read_csv(\n"
     ]
    },
    {
     "name": "stdout",
     "output_type": "stream",
     "text": [
      "13\n",
      "11\n"
     ]
    },
    {
     "name": "stderr",
     "output_type": "stream",
     "text": [
      "/Users/emanuele/code/Phenotype_Prediction/env/lib/python3.11/site-packages/snps/io/reader.py:447: DtypeWarning: Columns (1) have mixed types. Specify dtype option on import or set low_memory=False.\n",
      "  df = pd.read_csv(\n"
     ]
    },
    {
     "name": "stdout",
     "output_type": "stream",
     "text": [
      "13\n"
     ]
    },
    {
     "name": "stderr",
     "output_type": "stream",
     "text": [
      "/Users/emanuele/code/Phenotype_Prediction/env/lib/python3.11/site-packages/snps/io/reader.py:447: DtypeWarning: Columns (1) have mixed types. Specify dtype option on import or set low_memory=False.\n",
      "  df = pd.read_csv(\n"
     ]
    },
    {
     "name": "stdout",
     "output_type": "stream",
     "text": [
      "13\n"
     ]
    },
    {
     "name": "stderr",
     "output_type": "stream",
     "text": [
      "/Users/emanuele/code/Phenotype_Prediction/env/lib/python3.11/site-packages/snps/io/reader.py:447: DtypeWarning: Columns (1) have mixed types. Specify dtype option on import or set low_memory=False.\n",
      "  df = pd.read_csv(\n"
     ]
    },
    {
     "name": "stdout",
     "output_type": "stream",
     "text": [
      "13\n"
     ]
    },
    {
     "name": "stderr",
     "output_type": "stream",
     "text": [
      "/Users/emanuele/code/Phenotype_Prediction/env/lib/python3.11/site-packages/snps/io/reader.py:447: DtypeWarning: Columns (1) have mixed types. Specify dtype option on import or set low_memory=False.\n",
      "  df = pd.read_csv(\n"
     ]
    },
    {
     "name": "stdout",
     "output_type": "stream",
     "text": [
      "13\n"
     ]
    },
    {
     "name": "stderr",
     "output_type": "stream",
     "text": [
      "/Users/emanuele/code/Phenotype_Prediction/env/lib/python3.11/site-packages/snps/io/reader.py:447: DtypeWarning: Columns (1) have mixed types. Specify dtype option on import or set low_memory=False.\n",
      "  df = pd.read_csv(\n"
     ]
    },
    {
     "name": "stdout",
     "output_type": "stream",
     "text": [
      "12\n",
      "7\n"
     ]
    },
    {
     "name": "stderr",
     "output_type": "stream",
     "text": [
      "/Users/emanuele/code/Phenotype_Prediction/env/lib/python3.11/site-packages/snps/io/reader.py:447: DtypeWarning: Columns (1) have mixed types. Specify dtype option on import or set low_memory=False.\n",
      "  df = pd.read_csv(\n"
     ]
    },
    {
     "name": "stdout",
     "output_type": "stream",
     "text": [
      "13\n"
     ]
    },
    {
     "name": "stderr",
     "output_type": "stream",
     "text": [
      "/Users/emanuele/code/Phenotype_Prediction/env/lib/python3.11/site-packages/snps/io/reader.py:447: DtypeWarning: Columns (1) have mixed types. Specify dtype option on import or set low_memory=False.\n",
      "  df = pd.read_csv(\n"
     ]
    },
    {
     "name": "stdout",
     "output_type": "stream",
     "text": [
      "13\n"
     ]
    },
    {
     "name": "stderr",
     "output_type": "stream",
     "text": [
      "/Users/emanuele/code/Phenotype_Prediction/env/lib/python3.11/site-packages/snps/io/reader.py:447: DtypeWarning: Columns (1) have mixed types. Specify dtype option on import or set low_memory=False.\n",
      "  df = pd.read_csv(\n"
     ]
    },
    {
     "name": "stdout",
     "output_type": "stream",
     "text": [
      "13\n"
     ]
    },
    {
     "name": "stderr",
     "output_type": "stream",
     "text": [
      "/Users/emanuele/code/Phenotype_Prediction/env/lib/python3.11/site-packages/snps/io/reader.py:447: DtypeWarning: Columns (1) have mixed types. Specify dtype option on import or set low_memory=False.\n",
      "  df = pd.read_csv(\n"
     ]
    },
    {
     "name": "stdout",
     "output_type": "stream",
     "text": [
      "13\n",
      "12\n",
      "11\n",
      "12\n"
     ]
    },
    {
     "name": "stderr",
     "output_type": "stream",
     "text": [
      "/Users/emanuele/code/Phenotype_Prediction/env/lib/python3.11/site-packages/snps/io/reader.py:447: DtypeWarning: Columns (1) have mixed types. Specify dtype option on import or set low_memory=False.\n",
      "  df = pd.read_csv(\n"
     ]
    },
    {
     "name": "stdout",
     "output_type": "stream",
     "text": [
      "13\n"
     ]
    },
    {
     "name": "stderr",
     "output_type": "stream",
     "text": [
      "/Users/emanuele/code/Phenotype_Prediction/env/lib/python3.11/site-packages/snps/io/reader.py:447: DtypeWarning: Columns (1) have mixed types. Specify dtype option on import or set low_memory=False.\n",
      "  df = pd.read_csv(\n"
     ]
    },
    {
     "name": "stdout",
     "output_type": "stream",
     "text": [
      "13\n"
     ]
    },
    {
     "name": "stderr",
     "output_type": "stream",
     "text": [
      "/Users/emanuele/code/Phenotype_Prediction/env/lib/python3.11/site-packages/snps/io/reader.py:447: DtypeWarning: Columns (1) have mixed types. Specify dtype option on import or set low_memory=False.\n",
      "  df = pd.read_csv(\n"
     ]
    },
    {
     "name": "stdout",
     "output_type": "stream",
     "text": [
      "13\n"
     ]
    },
    {
     "name": "stderr",
     "output_type": "stream",
     "text": [
      "/Users/emanuele/code/Phenotype_Prediction/env/lib/python3.11/site-packages/snps/io/reader.py:447: DtypeWarning: Columns (1) have mixed types. Specify dtype option on import or set low_memory=False.\n",
      "  df = pd.read_csv(\n"
     ]
    },
    {
     "name": "stdout",
     "output_type": "stream",
     "text": [
      "13\n",
      "11\n"
     ]
    },
    {
     "name": "stderr",
     "output_type": "stream",
     "text": [
      "/Users/emanuele/code/Phenotype_Prediction/env/lib/python3.11/site-packages/snps/io/reader.py:447: DtypeWarning: Columns (1) have mixed types. Specify dtype option on import or set low_memory=False.\n",
      "  df = pd.read_csv(\n"
     ]
    },
    {
     "name": "stdout",
     "output_type": "stream",
     "text": [
      "13\n",
      "11\n",
      "12\n"
     ]
    },
    {
     "name": "stderr",
     "output_type": "stream",
     "text": [
      "/Users/emanuele/code/Phenotype_Prediction/env/lib/python3.11/site-packages/snps/io/reader.py:447: DtypeWarning: Columns (1) have mixed types. Specify dtype option on import or set low_memory=False.\n",
      "  df = pd.read_csv(\n"
     ]
    },
    {
     "name": "stdout",
     "output_type": "stream",
     "text": [
      "10\n"
     ]
    },
    {
     "name": "stderr",
     "output_type": "stream",
     "text": [
      "/Users/emanuele/code/Phenotype_Prediction/env/lib/python3.11/site-packages/snps/io/reader.py:447: DtypeWarning: Columns (1) have mixed types. Specify dtype option on import or set low_memory=False.\n",
      "  df = pd.read_csv(\n"
     ]
    },
    {
     "name": "stdout",
     "output_type": "stream",
     "text": [
      "13\n",
      "ERRO!!! NO ARQUIVO opensnp_alldata/opensnp_datadump.current/user6373_file4863_yearofbirth_unknown_sex_XY.23andme-exome-vcf.txt\n"
     ]
    },
    {
     "name": "stderr",
     "output_type": "stream",
     "text": [
      "/Users/emanuele/code/Phenotype_Prediction/env/lib/python3.11/site-packages/snps/io/reader.py:447: DtypeWarning: Columns (1) have mixed types. Specify dtype option on import or set low_memory=False.\n",
      "  df = pd.read_csv(\n"
     ]
    },
    {
     "name": "stdout",
     "output_type": "stream",
     "text": [
      "13\n",
      "7\n"
     ]
    },
    {
     "name": "stderr",
     "output_type": "stream",
     "text": [
      "/Users/emanuele/code/Phenotype_Prediction/env/lib/python3.11/site-packages/snps/io/reader.py:447: DtypeWarning: Columns (1) have mixed types. Specify dtype option on import or set low_memory=False.\n",
      "  df = pd.read_csv(\n"
     ]
    },
    {
     "name": "stdout",
     "output_type": "stream",
     "text": [
      "10\n"
     ]
    },
    {
     "name": "stderr",
     "output_type": "stream",
     "text": [
      "/Users/emanuele/code/Phenotype_Prediction/env/lib/python3.11/site-packages/snps/io/reader.py:447: DtypeWarning: Columns (1) have mixed types. Specify dtype option on import or set low_memory=False.\n",
      "  df = pd.read_csv(\n"
     ]
    },
    {
     "name": "stdout",
     "output_type": "stream",
     "text": [
      "10\n"
     ]
    },
    {
     "name": "stderr",
     "output_type": "stream",
     "text": [
      "/Users/emanuele/code/Phenotype_Prediction/env/lib/python3.11/site-packages/snps/io/reader.py:447: DtypeWarning: Columns (1) have mixed types. Specify dtype option on import or set low_memory=False.\n",
      "  df = pd.read_csv(\n"
     ]
    },
    {
     "name": "stdout",
     "output_type": "stream",
     "text": [
      "13\n"
     ]
    },
    {
     "name": "stderr",
     "output_type": "stream",
     "text": [
      "/Users/emanuele/code/Phenotype_Prediction/env/lib/python3.11/site-packages/snps/io/reader.py:447: DtypeWarning: Columns (1) have mixed types. Specify dtype option on import or set low_memory=False.\n",
      "  df = pd.read_csv(\n"
     ]
    },
    {
     "name": "stdout",
     "output_type": "stream",
     "text": [
      "13\n"
     ]
    },
    {
     "name": "stderr",
     "output_type": "stream",
     "text": [
      "/Users/emanuele/code/Phenotype_Prediction/env/lib/python3.11/site-packages/snps/io/reader.py:447: DtypeWarning: Columns (1) have mixed types. Specify dtype option on import or set low_memory=False.\n",
      "  df = pd.read_csv(\n"
     ]
    },
    {
     "name": "stdout",
     "output_type": "stream",
     "text": [
      "10\n",
      "ERRO!!! NO ARQUIVO opensnp_alldata/opensnp_datadump.current/user6667_file5067_yearofbirth_unknown_sex_unknown.IYG.txt\n"
     ]
    },
    {
     "name": "stderr",
     "output_type": "stream",
     "text": [
      "/Users/emanuele/code/Phenotype_Prediction/env/lib/python3.11/site-packages/snps/io/reader.py:447: DtypeWarning: Columns (1) have mixed types. Specify dtype option on import or set low_memory=False.\n",
      "  df = pd.read_csv(\n"
     ]
    },
    {
     "name": "stdout",
     "output_type": "stream",
     "text": [
      "10\n"
     ]
    },
    {
     "name": "stderr",
     "output_type": "stream",
     "text": [
      "/Users/emanuele/code/Phenotype_Prediction/env/lib/python3.11/site-packages/snps/io/reader.py:447: DtypeWarning: Columns (1) have mixed types. Specify dtype option on import or set low_memory=False.\n",
      "  df = pd.read_csv(\n"
     ]
    },
    {
     "name": "stdout",
     "output_type": "stream",
     "text": [
      "13\n",
      "7\n"
     ]
    },
    {
     "name": "stderr",
     "output_type": "stream",
     "text": [
      "/Users/emanuele/code/Phenotype_Prediction/env/lib/python3.11/site-packages/snps/io/reader.py:447: DtypeWarning: Columns (1) have mixed types. Specify dtype option on import or set low_memory=False.\n",
      "  df = pd.read_csv(\n"
     ]
    },
    {
     "name": "stdout",
     "output_type": "stream",
     "text": [
      "10\n",
      "7\n"
     ]
    },
    {
     "name": "stderr",
     "output_type": "stream",
     "text": [
      "/Users/emanuele/code/Phenotype_Prediction/env/lib/python3.11/site-packages/snps/io/reader.py:447: DtypeWarning: Columns (1) have mixed types. Specify dtype option on import or set low_memory=False.\n",
      "  df = pd.read_csv(\n"
     ]
    },
    {
     "name": "stdout",
     "output_type": "stream",
     "text": [
      "13\n"
     ]
    },
    {
     "name": "stderr",
     "output_type": "stream",
     "text": [
      "/Users/emanuele/code/Phenotype_Prediction/env/lib/python3.11/site-packages/snps/io/reader.py:447: DtypeWarning: Columns (1) have mixed types. Specify dtype option on import or set low_memory=False.\n",
      "  df = pd.read_csv(\n"
     ]
    },
    {
     "name": "stdout",
     "output_type": "stream",
     "text": [
      "13\n"
     ]
    },
    {
     "name": "stderr",
     "output_type": "stream",
     "text": [
      "/Users/emanuele/code/Phenotype_Prediction/env/lib/python3.11/site-packages/snps/io/reader.py:447: DtypeWarning: Columns (1) have mixed types. Specify dtype option on import or set low_memory=False.\n",
      "  df = pd.read_csv(\n"
     ]
    },
    {
     "name": "stdout",
     "output_type": "stream",
     "text": [
      "13\n"
     ]
    },
    {
     "name": "stderr",
     "output_type": "stream",
     "text": [
      "/Users/emanuele/code/Phenotype_Prediction/env/lib/python3.11/site-packages/snps/io/reader.py:447: DtypeWarning: Columns (1) have mixed types. Specify dtype option on import or set low_memory=False.\n",
      "  df = pd.read_csv(\n"
     ]
    },
    {
     "name": "stdout",
     "output_type": "stream",
     "text": [
      "10\n",
      "11\n"
     ]
    },
    {
     "name": "stderr",
     "output_type": "stream",
     "text": [
      "/Users/emanuele/code/Phenotype_Prediction/env/lib/python3.11/site-packages/snps/io/reader.py:447: DtypeWarning: Columns (1) have mixed types. Specify dtype option on import or set low_memory=False.\n",
      "  df = pd.read_csv(\n"
     ]
    },
    {
     "name": "stdout",
     "output_type": "stream",
     "text": [
      "13\n",
      "0\n"
     ]
    },
    {
     "name": "stderr",
     "output_type": "stream",
     "text": [
      "/Users/emanuele/code/Phenotype_Prediction/env/lib/python3.11/site-packages/snps/io/reader.py:447: DtypeWarning: Columns (1) have mixed types. Specify dtype option on import or set low_memory=False.\n",
      "  df = pd.read_csv(\n"
     ]
    },
    {
     "name": "stdout",
     "output_type": "stream",
     "text": [
      "10\n",
      "8\n"
     ]
    },
    {
     "name": "stderr",
     "output_type": "stream",
     "text": [
      "/Users/emanuele/code/Phenotype_Prediction/env/lib/python3.11/site-packages/snps/io/reader.py:447: DtypeWarning: Columns (1) have mixed types. Specify dtype option on import or set low_memory=False.\n",
      "  df = pd.read_csv(\n"
     ]
    },
    {
     "name": "stdout",
     "output_type": "stream",
     "text": [
      "13\n"
     ]
    },
    {
     "name": "stderr",
     "output_type": "stream",
     "text": [
      "/Users/emanuele/code/Phenotype_Prediction/env/lib/python3.11/site-packages/snps/io/reader.py:447: DtypeWarning: Columns (1) have mixed types. Specify dtype option on import or set low_memory=False.\n",
      "  df = pd.read_csv(\n"
     ]
    },
    {
     "name": "stdout",
     "output_type": "stream",
     "text": [
      "10\n"
     ]
    },
    {
     "name": "stderr",
     "output_type": "stream",
     "text": [
      "/Users/emanuele/code/Phenotype_Prediction/env/lib/python3.11/site-packages/snps/io/reader.py:447: DtypeWarning: Columns (1) have mixed types. Specify dtype option on import or set low_memory=False.\n",
      "  df = pd.read_csv(\n"
     ]
    },
    {
     "name": "stdout",
     "output_type": "stream",
     "text": [
      "13\n"
     ]
    },
    {
     "name": "stderr",
     "output_type": "stream",
     "text": [
      "/Users/emanuele/code/Phenotype_Prediction/env/lib/python3.11/site-packages/snps/io/reader.py:447: DtypeWarning: Columns (1) have mixed types. Specify dtype option on import or set low_memory=False.\n",
      "  df = pd.read_csv(\n"
     ]
    },
    {
     "name": "stdout",
     "output_type": "stream",
     "text": [
      "13\n"
     ]
    },
    {
     "name": "stderr",
     "output_type": "stream",
     "text": [
      "/Users/emanuele/code/Phenotype_Prediction/env/lib/python3.11/site-packages/snps/io/reader.py:447: DtypeWarning: Columns (1) have mixed types. Specify dtype option on import or set low_memory=False.\n",
      "  df = pd.read_csv(\n"
     ]
    },
    {
     "name": "stdout",
     "output_type": "stream",
     "text": [
      "10\n",
      "8\n"
     ]
    },
    {
     "name": "stderr",
     "output_type": "stream",
     "text": [
      "/Users/emanuele/code/Phenotype_Prediction/env/lib/python3.11/site-packages/snps/io/reader.py:447: DtypeWarning: Columns (1) have mixed types. Specify dtype option on import or set low_memory=False.\n",
      "  df = pd.read_csv(\n"
     ]
    },
    {
     "name": "stdout",
     "output_type": "stream",
     "text": [
      "10\n",
      "7\n",
      "0\n",
      "7\n"
     ]
    },
    {
     "name": "stderr",
     "output_type": "stream",
     "text": [
      "/Users/emanuele/code/Phenotype_Prediction/env/lib/python3.11/site-packages/snps/io/reader.py:447: DtypeWarning: Columns (1) have mixed types. Specify dtype option on import or set low_memory=False.\n",
      "  df = pd.read_csv(\n"
     ]
    },
    {
     "name": "stdout",
     "output_type": "stream",
     "text": [
      "10\n",
      "7\n"
     ]
    },
    {
     "name": "stderr",
     "output_type": "stream",
     "text": [
      "/Users/emanuele/code/Phenotype_Prediction/env/lib/python3.11/site-packages/snps/io/reader.py:447: DtypeWarning: Columns (1) have mixed types. Specify dtype option on import or set low_memory=False.\n",
      "  df = pd.read_csv(\n"
     ]
    },
    {
     "name": "stdout",
     "output_type": "stream",
     "text": [
      "10\n",
      "7\n",
      "11\n",
      "11\n",
      "11\n",
      "12\n"
     ]
    },
    {
     "name": "stderr",
     "output_type": "stream",
     "text": [
      "/Users/emanuele/code/Phenotype_Prediction/env/lib/python3.11/site-packages/snps/io/reader.py:447: DtypeWarning: Columns (1) have mixed types. Specify dtype option on import or set low_memory=False.\n",
      "  df = pd.read_csv(\n"
     ]
    },
    {
     "name": "stdout",
     "output_type": "stream",
     "text": [
      "10\n"
     ]
    },
    {
     "name": "stderr",
     "output_type": "stream",
     "text": [
      "/Users/emanuele/code/Phenotype_Prediction/env/lib/python3.11/site-packages/snps/io/reader.py:447: DtypeWarning: Columns (1) have mixed types. Specify dtype option on import or set low_memory=False.\n",
      "  df = pd.read_csv(\n"
     ]
    },
    {
     "name": "stdout",
     "output_type": "stream",
     "text": [
      "10\n"
     ]
    },
    {
     "name": "stderr",
     "output_type": "stream",
     "text": [
      "/Users/emanuele/code/Phenotype_Prediction/env/lib/python3.11/site-packages/snps/io/reader.py:447: DtypeWarning: Columns (1) have mixed types. Specify dtype option on import or set low_memory=False.\n",
      "  df = pd.read_csv(\n"
     ]
    },
    {
     "name": "stdout",
     "output_type": "stream",
     "text": [
      "13\n",
      "ERRO!!! NO ARQUIVO opensnp_alldata/opensnp_datadump.current/user9079_file7418_yearofbirth_1997_sex_XY.ftdna-illumina.txt\n"
     ]
    },
    {
     "name": "stderr",
     "output_type": "stream",
     "text": [
      "/Users/emanuele/code/Phenotype_Prediction/env/lib/python3.11/site-packages/snps/io/reader.py:447: DtypeWarning: Columns (1) have mixed types. Specify dtype option on import or set low_memory=False.\n",
      "  df = pd.read_csv(\n"
     ]
    },
    {
     "name": "stdout",
     "output_type": "stream",
     "text": [
      "13\n"
     ]
    },
    {
     "name": "stderr",
     "output_type": "stream",
     "text": [
      "/Users/emanuele/code/Phenotype_Prediction/env/lib/python3.11/site-packages/snps/io/reader.py:447: DtypeWarning: Columns (1) have mixed types. Specify dtype option on import or set low_memory=False.\n",
      "  df = pd.read_csv(\n"
     ]
    },
    {
     "name": "stdout",
     "output_type": "stream",
     "text": [
      "13\n"
     ]
    },
    {
     "name": "stderr",
     "output_type": "stream",
     "text": [
      "/Users/emanuele/code/Phenotype_Prediction/env/lib/python3.11/site-packages/snps/io/reader.py:447: DtypeWarning: Columns (1) have mixed types. Specify dtype option on import or set low_memory=False.\n",
      "  df = pd.read_csv(\n"
     ]
    },
    {
     "name": "stdout",
     "output_type": "stream",
     "text": [
      "13\n"
     ]
    },
    {
     "name": "stderr",
     "output_type": "stream",
     "text": [
      "/Users/emanuele/code/Phenotype_Prediction/env/lib/python3.11/site-packages/snps/io/reader.py:447: DtypeWarning: Columns (1) have mixed types. Specify dtype option on import or set low_memory=False.\n",
      "  df = pd.read_csv(\n"
     ]
    },
    {
     "name": "stdout",
     "output_type": "stream",
     "text": [
      "13\n",
      "7\n",
      "11\n"
     ]
    },
    {
     "name": "stderr",
     "output_type": "stream",
     "text": [
      "/Users/emanuele/code/Phenotype_Prediction/env/lib/python3.11/site-packages/snps/io/reader.py:447: DtypeWarning: Columns (1) have mixed types. Specify dtype option on import or set low_memory=False.\n",
      "  df = pd.read_csv(\n"
     ]
    },
    {
     "name": "stdout",
     "output_type": "stream",
     "text": [
      "13\n",
      "7\n"
     ]
    },
    {
     "name": "stderr",
     "output_type": "stream",
     "text": [
      "/Users/emanuele/code/Phenotype_Prediction/env/lib/python3.11/site-packages/snps/io/reader.py:447: DtypeWarning: Columns (1) have mixed types. Specify dtype option on import or set low_memory=False.\n",
      "  df = pd.read_csv(\n"
     ]
    },
    {
     "name": "stdout",
     "output_type": "stream",
     "text": [
      "13\n",
      "11\n"
     ]
    },
    {
     "name": "stderr",
     "output_type": "stream",
     "text": [
      "/Users/emanuele/code/Phenotype_Prediction/env/lib/python3.11/site-packages/snps/io/reader.py:447: DtypeWarning: Columns (1) have mixed types. Specify dtype option on import or set low_memory=False.\n",
      "  df = pd.read_csv(\n"
     ]
    },
    {
     "name": "stdout",
     "output_type": "stream",
     "text": [
      "10\n"
     ]
    },
    {
     "name": "stderr",
     "output_type": "stream",
     "text": [
      "/Users/emanuele/code/Phenotype_Prediction/env/lib/python3.11/site-packages/snps/io/reader.py:447: DtypeWarning: Columns (1) have mixed types. Specify dtype option on import or set low_memory=False.\n",
      "  df = pd.read_csv(\n"
     ]
    },
    {
     "name": "stdout",
     "output_type": "stream",
     "text": [
      "13\n"
     ]
    },
    {
     "name": "stderr",
     "output_type": "stream",
     "text": [
      "/Users/emanuele/code/Phenotype_Prediction/env/lib/python3.11/site-packages/snps/io/reader.py:447: DtypeWarning: Columns (1) have mixed types. Specify dtype option on import or set low_memory=False.\n",
      "  df = pd.read_csv(\n"
     ]
    },
    {
     "name": "stdout",
     "output_type": "stream",
     "text": [
      "10\n"
     ]
    },
    {
     "name": "stderr",
     "output_type": "stream",
     "text": [
      "/Users/emanuele/code/Phenotype_Prediction/env/lib/python3.11/site-packages/snps/io/reader.py:447: DtypeWarning: Columns (1) have mixed types. Specify dtype option on import or set low_memory=False.\n",
      "  df = pd.read_csv(\n"
     ]
    },
    {
     "name": "stdout",
     "output_type": "stream",
     "text": [
      "13\n"
     ]
    },
    {
     "name": "stderr",
     "output_type": "stream",
     "text": [
      "/Users/emanuele/code/Phenotype_Prediction/env/lib/python3.11/site-packages/snps/io/reader.py:447: DtypeWarning: Columns (1) have mixed types. Specify dtype option on import or set low_memory=False.\n",
      "  df = pd.read_csv(\n"
     ]
    },
    {
     "name": "stdout",
     "output_type": "stream",
     "text": [
      "10\n"
     ]
    },
    {
     "name": "stderr",
     "output_type": "stream",
     "text": [
      "/Users/emanuele/code/Phenotype_Prediction/env/lib/python3.11/site-packages/snps/io/reader.py:447: DtypeWarning: Columns (1) have mixed types. Specify dtype option on import or set low_memory=False.\n",
      "  df = pd.read_csv(\n"
     ]
    },
    {
     "name": "stdout",
     "output_type": "stream",
     "text": [
      "10\n"
     ]
    },
    {
     "name": "stderr",
     "output_type": "stream",
     "text": [
      "/Users/emanuele/code/Phenotype_Prediction/env/lib/python3.11/site-packages/snps/io/reader.py:447: DtypeWarning: Columns (1) have mixed types. Specify dtype option on import or set low_memory=False.\n",
      "  df = pd.read_csv(\n"
     ]
    },
    {
     "name": "stdout",
     "output_type": "stream",
     "text": [
      "10\n"
     ]
    },
    {
     "name": "stderr",
     "output_type": "stream",
     "text": [
      "/Users/emanuele/code/Phenotype_Prediction/env/lib/python3.11/site-packages/snps/io/reader.py:447: DtypeWarning: Columns (1) have mixed types. Specify dtype option on import or set low_memory=False.\n",
      "  df = pd.read_csv(\n"
     ]
    },
    {
     "name": "stdout",
     "output_type": "stream",
     "text": [
      "13\n"
     ]
    },
    {
     "name": "stderr",
     "output_type": "stream",
     "text": [
      "/Users/emanuele/code/Phenotype_Prediction/env/lib/python3.11/site-packages/snps/io/reader.py:447: DtypeWarning: Columns (1) have mixed types. Specify dtype option on import or set low_memory=False.\n",
      "  df = pd.read_csv(\n"
     ]
    },
    {
     "name": "stdout",
     "output_type": "stream",
     "text": [
      "10\n"
     ]
    },
    {
     "name": "stderr",
     "output_type": "stream",
     "text": [
      "/Users/emanuele/code/Phenotype_Prediction/env/lib/python3.11/site-packages/snps/io/reader.py:447: DtypeWarning: Columns (1) have mixed types. Specify dtype option on import or set low_memory=False.\n",
      "  df = pd.read_csv(\n"
     ]
    },
    {
     "name": "stdout",
     "output_type": "stream",
     "text": [
      "10\n",
      "7\n",
      "11\n",
      "11\n"
     ]
    },
    {
     "name": "stderr",
     "output_type": "stream",
     "text": [
      "/Users/emanuele/code/Phenotype_Prediction/env/lib/python3.11/site-packages/snps/io/reader.py:447: DtypeWarning: Columns (1) have mixed types. Specify dtype option on import or set low_memory=False.\n",
      "  df = pd.read_csv(\n"
     ]
    },
    {
     "name": "stdout",
     "output_type": "stream",
     "text": [
      "10\n"
     ]
    },
    {
     "name": "stderr",
     "output_type": "stream",
     "text": [
      "/Users/emanuele/code/Phenotype_Prediction/env/lib/python3.11/site-packages/snps/io/reader.py:447: DtypeWarning: Columns (1) have mixed types. Specify dtype option on import or set low_memory=False.\n",
      "  df = pd.read_csv(\n"
     ]
    },
    {
     "name": "stdout",
     "output_type": "stream",
     "text": [
      "10\n"
     ]
    },
    {
     "name": "stderr",
     "output_type": "stream",
     "text": [
      "/Users/emanuele/code/Phenotype_Prediction/env/lib/python3.11/site-packages/snps/io/reader.py:447: DtypeWarning: Columns (1) have mixed types. Specify dtype option on import or set low_memory=False.\n",
      "  df = pd.read_csv(\n"
     ]
    },
    {
     "name": "stdout",
     "output_type": "stream",
     "text": [
      "13\n"
     ]
    },
    {
     "name": "stderr",
     "output_type": "stream",
     "text": [
      "/Users/emanuele/code/Phenotype_Prediction/env/lib/python3.11/site-packages/snps/io/reader.py:447: DtypeWarning: Columns (1) have mixed types. Specify dtype option on import or set low_memory=False.\n",
      "  df = pd.read_csv(\n"
     ]
    },
    {
     "name": "stdout",
     "output_type": "stream",
     "text": [
      "13\n",
      "11\n",
      "12\n",
      "11\n"
     ]
    },
    {
     "name": "stderr",
     "output_type": "stream",
     "text": [
      "/Users/emanuele/code/Phenotype_Prediction/env/lib/python3.11/site-packages/snps/io/reader.py:447: DtypeWarning: Columns (1) have mixed types. Specify dtype option on import or set low_memory=False.\n",
      "  df = pd.read_csv(\n"
     ]
    },
    {
     "name": "stdout",
     "output_type": "stream",
     "text": [
      "10\n"
     ]
    },
    {
     "name": "stderr",
     "output_type": "stream",
     "text": [
      "/Users/emanuele/code/Phenotype_Prediction/env/lib/python3.11/site-packages/snps/io/reader.py:447: DtypeWarning: Columns (1) have mixed types. Specify dtype option on import or set low_memory=False.\n",
      "  df = pd.read_csv(\n"
     ]
    },
    {
     "name": "stdout",
     "output_type": "stream",
     "text": [
      "10\n"
     ]
    },
    {
     "name": "stderr",
     "output_type": "stream",
     "text": [
      "/Users/emanuele/code/Phenotype_Prediction/env/lib/python3.11/site-packages/snps/io/reader.py:447: DtypeWarning: Columns (1) have mixed types. Specify dtype option on import or set low_memory=False.\n",
      "  df = pd.read_csv(\n"
     ]
    },
    {
     "name": "stdout",
     "output_type": "stream",
     "text": [
      "10\n"
     ]
    },
    {
     "name": "stderr",
     "output_type": "stream",
     "text": [
      "/Users/emanuele/code/Phenotype_Prediction/env/lib/python3.11/site-packages/snps/io/reader.py:447: DtypeWarning: Columns (1) have mixed types. Specify dtype option on import or set low_memory=False.\n",
      "  df = pd.read_csv(\n"
     ]
    },
    {
     "name": "stdout",
     "output_type": "stream",
     "text": [
      "13\n"
     ]
    },
    {
     "name": "stderr",
     "output_type": "stream",
     "text": [
      "/Users/emanuele/code/Phenotype_Prediction/env/lib/python3.11/site-packages/snps/io/reader.py:447: DtypeWarning: Columns (1) have mixed types. Specify dtype option on import or set low_memory=False.\n",
      "  df = pd.read_csv(\n"
     ]
    },
    {
     "name": "stdout",
     "output_type": "stream",
     "text": [
      "10\n",
      "13\n",
      "11\n"
     ]
    },
    {
     "name": "stderr",
     "output_type": "stream",
     "text": [
      "/Users/emanuele/code/Phenotype_Prediction/env/lib/python3.11/site-packages/snps/io/reader.py:447: DtypeWarning: Columns (1) have mixed types. Specify dtype option on import or set low_memory=False.\n",
      "  df = pd.read_csv(\n"
     ]
    },
    {
     "name": "stdout",
     "output_type": "stream",
     "text": [
      "10\n",
      "11\n"
     ]
    },
    {
     "name": "stderr",
     "output_type": "stream",
     "text": [
      "/Users/emanuele/code/Phenotype_Prediction/env/lib/python3.11/site-packages/snps/io/reader.py:447: DtypeWarning: Columns (1) have mixed types. Specify dtype option on import or set low_memory=False.\n",
      "  df = pd.read_csv(\n"
     ]
    },
    {
     "name": "stdout",
     "output_type": "stream",
     "text": [
      "10\n"
     ]
    },
    {
     "name": "stderr",
     "output_type": "stream",
     "text": [
      "/Users/emanuele/code/Phenotype_Prediction/env/lib/python3.11/site-packages/snps/io/reader.py:447: DtypeWarning: Columns (1) have mixed types. Specify dtype option on import or set low_memory=False.\n",
      "  df = pd.read_csv(\n"
     ]
    },
    {
     "name": "stdout",
     "output_type": "stream",
     "text": [
      "10\n",
      "7\n"
     ]
    },
    {
     "name": "stderr",
     "output_type": "stream",
     "text": [
      "/Users/emanuele/code/Phenotype_Prediction/env/lib/python3.11/site-packages/snps/io/reader.py:447: DtypeWarning: Columns (1) have mixed types. Specify dtype option on import or set low_memory=False.\n",
      "  df = pd.read_csv(\n"
     ]
    },
    {
     "name": "stdout",
     "output_type": "stream",
     "text": [
      "13\n"
     ]
    },
    {
     "name": "stderr",
     "output_type": "stream",
     "text": [
      "/Users/emanuele/code/Phenotype_Prediction/env/lib/python3.11/site-packages/snps/io/reader.py:447: DtypeWarning: Columns (1) have mixed types. Specify dtype option on import or set low_memory=False.\n",
      "  df = pd.read_csv(\n"
     ]
    },
    {
     "name": "stdout",
     "output_type": "stream",
     "text": [
      "10\n"
     ]
    },
    {
     "name": "stderr",
     "output_type": "stream",
     "text": [
      "/Users/emanuele/code/Phenotype_Prediction/env/lib/python3.11/site-packages/snps/io/reader.py:447: DtypeWarning: Columns (1) have mixed types. Specify dtype option on import or set low_memory=False.\n",
      "  df = pd.read_csv(\n"
     ]
    },
    {
     "name": "stdout",
     "output_type": "stream",
     "text": [
      "13\n"
     ]
    },
    {
     "name": "stderr",
     "output_type": "stream",
     "text": [
      "/Users/emanuele/code/Phenotype_Prediction/env/lib/python3.11/site-packages/snps/io/reader.py:447: DtypeWarning: Columns (1) have mixed types. Specify dtype option on import or set low_memory=False.\n",
      "  df = pd.read_csv(\n"
     ]
    },
    {
     "name": "stdout",
     "output_type": "stream",
     "text": [
      "10\n",
      "11\n",
      "12\n"
     ]
    },
    {
     "name": "stderr",
     "output_type": "stream",
     "text": [
      "/Users/emanuele/code/Phenotype_Prediction/env/lib/python3.11/site-packages/snps/io/reader.py:447: DtypeWarning: Columns (1) have mixed types. Specify dtype option on import or set low_memory=False.\n",
      "  df = pd.read_csv(\n"
     ]
    },
    {
     "name": "stdout",
     "output_type": "stream",
     "text": [
      "10\n"
     ]
    },
    {
     "name": "stderr",
     "output_type": "stream",
     "text": [
      "/Users/emanuele/code/Phenotype_Prediction/env/lib/python3.11/site-packages/snps/io/reader.py:447: DtypeWarning: Columns (1) have mixed types. Specify dtype option on import or set low_memory=False.\n",
      "  df = pd.read_csv(\n"
     ]
    },
    {
     "name": "stdout",
     "output_type": "stream",
     "text": [
      "10\n"
     ]
    },
    {
     "name": "stderr",
     "output_type": "stream",
     "text": [
      "/Users/emanuele/code/Phenotype_Prediction/env/lib/python3.11/site-packages/snps/io/reader.py:447: DtypeWarning: Columns (1) have mixed types. Specify dtype option on import or set low_memory=False.\n",
      "  df = pd.read_csv(\n"
     ]
    },
    {
     "name": "stdout",
     "output_type": "stream",
     "text": [
      "13\n",
      "11\n"
     ]
    },
    {
     "name": "stderr",
     "output_type": "stream",
     "text": [
      "/Users/emanuele/code/Phenotype_Prediction/env/lib/python3.11/site-packages/snps/io/reader.py:447: DtypeWarning: Columns (1) have mixed types. Specify dtype option on import or set low_memory=False.\n",
      "  df = pd.read_csv(\n"
     ]
    },
    {
     "name": "stdout",
     "output_type": "stream",
     "text": [
      "13\n"
     ]
    },
    {
     "name": "stderr",
     "output_type": "stream",
     "text": [
      "/Users/emanuele/code/Phenotype_Prediction/env/lib/python3.11/site-packages/snps/io/reader.py:447: DtypeWarning: Columns (1) have mixed types. Specify dtype option on import or set low_memory=False.\n",
      "  df = pd.read_csv(\n"
     ]
    },
    {
     "name": "stdout",
     "output_type": "stream",
     "text": [
      "10\n"
     ]
    },
    {
     "name": "stderr",
     "output_type": "stream",
     "text": [
      "/Users/emanuele/code/Phenotype_Prediction/env/lib/python3.11/site-packages/snps/io/reader.py:447: DtypeWarning: Columns (1) have mixed types. Specify dtype option on import or set low_memory=False.\n",
      "  df = pd.read_csv(\n"
     ]
    },
    {
     "name": "stdout",
     "output_type": "stream",
     "text": [
      "13\n",
      "7\n",
      "8\n"
     ]
    },
    {
     "name": "stderr",
     "output_type": "stream",
     "text": [
      "/Users/emanuele/code/Phenotype_Prediction/env/lib/python3.11/site-packages/snps/io/reader.py:447: DtypeWarning: Columns (1) have mixed types. Specify dtype option on import or set low_memory=False.\n",
      "  df = pd.read_csv(\n"
     ]
    },
    {
     "name": "stdout",
     "output_type": "stream",
     "text": [
      "10\n"
     ]
    },
    {
     "name": "stderr",
     "output_type": "stream",
     "text": [
      "/Users/emanuele/code/Phenotype_Prediction/env/lib/python3.11/site-packages/snps/io/reader.py:447: DtypeWarning: Columns (1) have mixed types. Specify dtype option on import or set low_memory=False.\n",
      "  df = pd.read_csv(\n"
     ]
    },
    {
     "name": "stdout",
     "output_type": "stream",
     "text": [
      "13\n",
      "7\n",
      "13\n",
      "12\n",
      "7\n",
      "11\n"
     ]
    },
    {
     "name": "stderr",
     "output_type": "stream",
     "text": [
      "/Users/emanuele/code/Phenotype_Prediction/env/lib/python3.11/site-packages/snps/io/reader.py:447: DtypeWarning: Columns (1) have mixed types. Specify dtype option on import or set low_memory=False.\n",
      "  df = pd.read_csv(\n"
     ]
    },
    {
     "name": "stdout",
     "output_type": "stream",
     "text": [
      "10\n"
     ]
    },
    {
     "name": "stderr",
     "output_type": "stream",
     "text": [
      "/Users/emanuele/code/Phenotype_Prediction/env/lib/python3.11/site-packages/snps/io/reader.py:447: DtypeWarning: Columns (1) have mixed types. Specify dtype option on import or set low_memory=False.\n",
      "  df = pd.read_csv(\n"
     ]
    },
    {
     "name": "stdout",
     "output_type": "stream",
     "text": [
      "10\n",
      "7\n",
      "13\n",
      "11\n",
      "11\n",
      "7\n"
     ]
    },
    {
     "name": "stderr",
     "output_type": "stream",
     "text": [
      "/Users/emanuele/code/Phenotype_Prediction/env/lib/python3.11/site-packages/snps/io/reader.py:447: DtypeWarning: Columns (1) have mixed types. Specify dtype option on import or set low_memory=False.\n",
      "  df = pd.read_csv(\n"
     ]
    },
    {
     "name": "stdout",
     "output_type": "stream",
     "text": [
      "10\n",
      "11\n"
     ]
    },
    {
     "name": "stderr",
     "output_type": "stream",
     "text": [
      "/Users/emanuele/code/Phenotype_Prediction/env/lib/python3.11/site-packages/snps/io/reader.py:447: DtypeWarning: Columns (1) have mixed types. Specify dtype option on import or set low_memory=False.\n",
      "  df = pd.read_csv(\n"
     ]
    },
    {
     "name": "stdout",
     "output_type": "stream",
     "text": [
      "13\n"
     ]
    },
    {
     "name": "stderr",
     "output_type": "stream",
     "text": [
      "/Users/emanuele/code/Phenotype_Prediction/env/lib/python3.11/site-packages/snps/io/reader.py:447: DtypeWarning: Columns (1) have mixed types. Specify dtype option on import or set low_memory=False.\n",
      "  df = pd.read_csv(\n"
     ]
    },
    {
     "name": "stdout",
     "output_type": "stream",
     "text": [
      "13\n"
     ]
    },
    {
     "name": "stderr",
     "output_type": "stream",
     "text": [
      "/Users/emanuele/code/Phenotype_Prediction/env/lib/python3.11/site-packages/snps/io/reader.py:447: DtypeWarning: Columns (1) have mixed types. Specify dtype option on import or set low_memory=False.\n",
      "  df = pd.read_csv(\n"
     ]
    },
    {
     "name": "stdout",
     "output_type": "stream",
     "text": [
      "10\n",
      "11\n",
      "12\n"
     ]
    },
    {
     "name": "stderr",
     "output_type": "stream",
     "text": [
      "/Users/emanuele/code/Phenotype_Prediction/env/lib/python3.11/site-packages/snps/io/reader.py:447: DtypeWarning: Columns (1) have mixed types. Specify dtype option on import or set low_memory=False.\n",
      "  df = pd.read_csv(\n"
     ]
    },
    {
     "name": "stdout",
     "output_type": "stream",
     "text": [
      "13\n",
      "7\n"
     ]
    },
    {
     "name": "stderr",
     "output_type": "stream",
     "text": [
      "/Users/emanuele/code/Phenotype_Prediction/env/lib/python3.11/site-packages/snps/io/reader.py:447: DtypeWarning: Columns (1) have mixed types. Specify dtype option on import or set low_memory=False.\n",
      "  df = pd.read_csv(\n"
     ]
    },
    {
     "name": "stdout",
     "output_type": "stream",
     "text": [
      "13\n"
     ]
    },
    {
     "name": "stderr",
     "output_type": "stream",
     "text": [
      "no SNPs loaded...\n"
     ]
    },
    {
     "name": "stdout",
     "output_type": "stream",
     "text": [
      "0\n"
     ]
    },
    {
     "name": "stderr",
     "output_type": "stream",
     "text": [
      "/Users/emanuele/code/Phenotype_Prediction/env/lib/python3.11/site-packages/snps/io/reader.py:447: DtypeWarning: Columns (1) have mixed types. Specify dtype option on import or set low_memory=False.\n",
      "  df = pd.read_csv(\n"
     ]
    },
    {
     "name": "stdout",
     "output_type": "stream",
     "text": [
      "13\n",
      "11\n"
     ]
    },
    {
     "name": "stderr",
     "output_type": "stream",
     "text": [
      "/Users/emanuele/code/Phenotype_Prediction/env/lib/python3.11/site-packages/snps/io/reader.py:447: DtypeWarning: Columns (1) have mixed types. Specify dtype option on import or set low_memory=False.\n",
      "  df = pd.read_csv(\n"
     ]
    },
    {
     "name": "stdout",
     "output_type": "stream",
     "text": [
      "13\n",
      "11\n",
      "11\n"
     ]
    },
    {
     "name": "stderr",
     "output_type": "stream",
     "text": [
      "/Users/emanuele/code/Phenotype_Prediction/env/lib/python3.11/site-packages/snps/io/reader.py:447: DtypeWarning: Columns (1) have mixed types. Specify dtype option on import or set low_memory=False.\n",
      "  df = pd.read_csv(\n"
     ]
    },
    {
     "name": "stdout",
     "output_type": "stream",
     "text": [
      "13\n"
     ]
    },
    {
     "name": "stderr",
     "output_type": "stream",
     "text": [
      "/Users/emanuele/code/Phenotype_Prediction/env/lib/python3.11/site-packages/snps/io/reader.py:447: DtypeWarning: Columns (1) have mixed types. Specify dtype option on import or set low_memory=False.\n",
      "  df = pd.read_csv(\n"
     ]
    },
    {
     "name": "stdout",
     "output_type": "stream",
     "text": [
      "13\n",
      "7\n",
      "7\n",
      "12\n",
      "7\n",
      "11\n"
     ]
    },
    {
     "name": "stderr",
     "output_type": "stream",
     "text": [
      "/Users/emanuele/code/Phenotype_Prediction/env/lib/python3.11/site-packages/snps/io/reader.py:447: DtypeWarning: Columns (1) have mixed types. Specify dtype option on import or set low_memory=False.\n",
      "  df = pd.read_csv(\n"
     ]
    },
    {
     "name": "stdout",
     "output_type": "stream",
     "text": [
      "13\n"
     ]
    },
    {
     "name": "stderr",
     "output_type": "stream",
     "text": [
      "/Users/emanuele/code/Phenotype_Prediction/env/lib/python3.11/site-packages/snps/io/reader.py:447: DtypeWarning: Columns (1) have mixed types. Specify dtype option on import or set low_memory=False.\n",
      "  df = pd.read_csv(\n"
     ]
    },
    {
     "name": "stdout",
     "output_type": "stream",
     "text": [
      "13\n",
      "13\n",
      "13\n"
     ]
    },
    {
     "name": "stderr",
     "output_type": "stream",
     "text": [
      "/Users/emanuele/code/Phenotype_Prediction/env/lib/python3.11/site-packages/snps/io/reader.py:447: DtypeWarning: Columns (1) have mixed types. Specify dtype option on import or set low_memory=False.\n",
      "  df = pd.read_csv(\n"
     ]
    },
    {
     "name": "stdout",
     "output_type": "stream",
     "text": [
      "10\n"
     ]
    },
    {
     "name": "stderr",
     "output_type": "stream",
     "text": [
      "/Users/emanuele/code/Phenotype_Prediction/env/lib/python3.11/site-packages/snps/io/reader.py:447: DtypeWarning: Columns (1) have mixed types. Specify dtype option on import or set low_memory=False.\n",
      "  df = pd.read_csv(\n"
     ]
    },
    {
     "name": "stdout",
     "output_type": "stream",
     "text": [
      "13\n"
     ]
    },
    {
     "name": "stderr",
     "output_type": "stream",
     "text": [
      "/Users/emanuele/code/Phenotype_Prediction/env/lib/python3.11/site-packages/snps/io/reader.py:447: DtypeWarning: Columns (1) have mixed types. Specify dtype option on import or set low_memory=False.\n",
      "  df = pd.read_csv(\n"
     ]
    },
    {
     "name": "stdout",
     "output_type": "stream",
     "text": [
      "13\n"
     ]
    },
    {
     "name": "stderr",
     "output_type": "stream",
     "text": [
      "/Users/emanuele/code/Phenotype_Prediction/env/lib/python3.11/site-packages/snps/io/reader.py:447: DtypeWarning: Columns (1) have mixed types. Specify dtype option on import or set low_memory=False.\n",
      "  df = pd.read_csv(\n"
     ]
    },
    {
     "name": "stdout",
     "output_type": "stream",
     "text": [
      "10\n",
      "11\n",
      "13\n"
     ]
    },
    {
     "name": "stderr",
     "output_type": "stream",
     "text": [
      "/Users/emanuele/code/Phenotype_Prediction/env/lib/python3.11/site-packages/snps/io/reader.py:447: DtypeWarning: Columns (1) have mixed types. Specify dtype option on import or set low_memory=False.\n",
      "  df = pd.read_csv(\n"
     ]
    },
    {
     "name": "stdout",
     "output_type": "stream",
     "text": [
      "10\n"
     ]
    },
    {
     "name": "stderr",
     "output_type": "stream",
     "text": [
      "/Users/emanuele/code/Phenotype_Prediction/env/lib/python3.11/site-packages/snps/io/reader.py:447: DtypeWarning: Columns (1) have mixed types. Specify dtype option on import or set low_memory=False.\n",
      "  df = pd.read_csv(\n"
     ]
    },
    {
     "name": "stdout",
     "output_type": "stream",
     "text": [
      "13\n"
     ]
    },
    {
     "name": "stderr",
     "output_type": "stream",
     "text": [
      "/Users/emanuele/code/Phenotype_Prediction/env/lib/python3.11/site-packages/snps/io/reader.py:447: DtypeWarning: Columns (1) have mixed types. Specify dtype option on import or set low_memory=False.\n",
      "  df = pd.read_csv(\n"
     ]
    },
    {
     "name": "stdout",
     "output_type": "stream",
     "text": [
      "10\n"
     ]
    },
    {
     "name": "stderr",
     "output_type": "stream",
     "text": [
      "/Users/emanuele/code/Phenotype_Prediction/env/lib/python3.11/site-packages/snps/io/reader.py:447: DtypeWarning: Columns (1) have mixed types. Specify dtype option on import or set low_memory=False.\n",
      "  df = pd.read_csv(\n"
     ]
    },
    {
     "name": "stdout",
     "output_type": "stream",
     "text": [
      "10\n",
      "7\n",
      "7\n"
     ]
    },
    {
     "name": "stderr",
     "output_type": "stream",
     "text": [
      "/Users/emanuele/code/Phenotype_Prediction/env/lib/python3.11/site-packages/snps/io/reader.py:447: DtypeWarning: Columns (1) have mixed types. Specify dtype option on import or set low_memory=False.\n",
      "  df = pd.read_csv(\n"
     ]
    },
    {
     "name": "stdout",
     "output_type": "stream",
     "text": [
      "10\n",
      "11\n",
      "7\n"
     ]
    },
    {
     "name": "stderr",
     "output_type": "stream",
     "text": [
      "/Users/emanuele/code/Phenotype_Prediction/env/lib/python3.11/site-packages/snps/io/reader.py:447: DtypeWarning: Columns (1) have mixed types. Specify dtype option on import or set low_memory=False.\n",
      "  df = pd.read_csv(\n"
     ]
    },
    {
     "name": "stdout",
     "output_type": "stream",
     "text": [
      "10\n"
     ]
    },
    {
     "name": "stderr",
     "output_type": "stream",
     "text": [
      "/Users/emanuele/code/Phenotype_Prediction/env/lib/python3.11/site-packages/snps/io/reader.py:447: DtypeWarning: Columns (1) have mixed types. Specify dtype option on import or set low_memory=False.\n",
      "  df = pd.read_csv(\n"
     ]
    },
    {
     "name": "stdout",
     "output_type": "stream",
     "text": [
      "10\n",
      "13\n"
     ]
    },
    {
     "name": "stderr",
     "output_type": "stream",
     "text": [
      "/Users/emanuele/code/Phenotype_Prediction/env/lib/python3.11/site-packages/snps/io/reader.py:447: DtypeWarning: Columns (1) have mixed types. Specify dtype option on import or set low_memory=False.\n",
      "  df = pd.read_csv(\n"
     ]
    },
    {
     "name": "stdout",
     "output_type": "stream",
     "text": [
      "10\n"
     ]
    },
    {
     "name": "stderr",
     "output_type": "stream",
     "text": [
      "/Users/emanuele/code/Phenotype_Prediction/env/lib/python3.11/site-packages/snps/io/reader.py:447: DtypeWarning: Columns (1) have mixed types. Specify dtype option on import or set low_memory=False.\n",
      "  df = pd.read_csv(\n"
     ]
    },
    {
     "name": "stdout",
     "output_type": "stream",
     "text": [
      "10\n"
     ]
    },
    {
     "name": "stderr",
     "output_type": "stream",
     "text": [
      "/Users/emanuele/code/Phenotype_Prediction/env/lib/python3.11/site-packages/snps/io/reader.py:447: DtypeWarning: Columns (1) have mixed types. Specify dtype option on import or set low_memory=False.\n",
      "  df = pd.read_csv(\n"
     ]
    },
    {
     "name": "stdout",
     "output_type": "stream",
     "text": [
      "10\n"
     ]
    },
    {
     "name": "stderr",
     "output_type": "stream",
     "text": [
      "/Users/emanuele/code/Phenotype_Prediction/env/lib/python3.11/site-packages/snps/io/reader.py:447: DtypeWarning: Columns (1) have mixed types. Specify dtype option on import or set low_memory=False.\n",
      "  df = pd.read_csv(\n"
     ]
    },
    {
     "name": "stdout",
     "output_type": "stream",
     "text": [
      "10\n"
     ]
    },
    {
     "name": "stderr",
     "output_type": "stream",
     "text": [
      "/Users/emanuele/code/Phenotype_Prediction/env/lib/python3.11/site-packages/snps/io/reader.py:447: DtypeWarning: Columns (1) have mixed types. Specify dtype option on import or set low_memory=False.\n",
      "  df = pd.read_csv(\n"
     ]
    },
    {
     "name": "stdout",
     "output_type": "stream",
     "text": [
      "10\n",
      "7\n"
     ]
    },
    {
     "name": "stderr",
     "output_type": "stream",
     "text": [
      "/Users/emanuele/code/Phenotype_Prediction/env/lib/python3.11/site-packages/snps/io/reader.py:447: DtypeWarning: Columns (1) have mixed types. Specify dtype option on import or set low_memory=False.\n",
      "  df = pd.read_csv(\n"
     ]
    },
    {
     "name": "stdout",
     "output_type": "stream",
     "text": [
      "13\n"
     ]
    },
    {
     "name": "stderr",
     "output_type": "stream",
     "text": [
      "/Users/emanuele/code/Phenotype_Prediction/env/lib/python3.11/site-packages/snps/io/reader.py:447: DtypeWarning: Columns (1) have mixed types. Specify dtype option on import or set low_memory=False.\n",
      "  df = pd.read_csv(\n"
     ]
    },
    {
     "name": "stdout",
     "output_type": "stream",
     "text": [
      "10\n"
     ]
    },
    {
     "name": "stderr",
     "output_type": "stream",
     "text": [
      "/Users/emanuele/code/Phenotype_Prediction/env/lib/python3.11/site-packages/snps/io/reader.py:447: DtypeWarning: Columns (1) have mixed types. Specify dtype option on import or set low_memory=False.\n",
      "  df = pd.read_csv(\n"
     ]
    },
    {
     "name": "stdout",
     "output_type": "stream",
     "text": [
      "10\n"
     ]
    },
    {
     "name": "stderr",
     "output_type": "stream",
     "text": [
      "/Users/emanuele/code/Phenotype_Prediction/env/lib/python3.11/site-packages/snps/io/reader.py:447: DtypeWarning: Columns (1) have mixed types. Specify dtype option on import or set low_memory=False.\n",
      "  df = pd.read_csv(\n"
     ]
    },
    {
     "name": "stdout",
     "output_type": "stream",
     "text": [
      "10\n"
     ]
    },
    {
     "name": "stderr",
     "output_type": "stream",
     "text": [
      "/Users/emanuele/code/Phenotype_Prediction/env/lib/python3.11/site-packages/snps/io/reader.py:447: DtypeWarning: Columns (1) have mixed types. Specify dtype option on import or set low_memory=False.\n",
      "  df = pd.read_csv(\n"
     ]
    },
    {
     "name": "stdout",
     "output_type": "stream",
     "text": [
      "13\n",
      "11\n"
     ]
    },
    {
     "name": "stderr",
     "output_type": "stream",
     "text": [
      "/Users/emanuele/code/Phenotype_Prediction/env/lib/python3.11/site-packages/snps/io/reader.py:447: DtypeWarning: Columns (1) have mixed types. Specify dtype option on import or set low_memory=False.\n",
      "  df = pd.read_csv(\n"
     ]
    },
    {
     "name": "stdout",
     "output_type": "stream",
     "text": [
      "13\n"
     ]
    },
    {
     "name": "stderr",
     "output_type": "stream",
     "text": [
      "/Users/emanuele/code/Phenotype_Prediction/env/lib/python3.11/site-packages/snps/io/reader.py:447: DtypeWarning: Columns (1) have mixed types. Specify dtype option on import or set low_memory=False.\n",
      "  df = pd.read_csv(\n"
     ]
    },
    {
     "name": "stdout",
     "output_type": "stream",
     "text": [
      "13\n",
      "13\n"
     ]
    },
    {
     "name": "stderr",
     "output_type": "stream",
     "text": [
      "/Users/emanuele/code/Phenotype_Prediction/env/lib/python3.11/site-packages/snps/io/reader.py:447: DtypeWarning: Columns (1) have mixed types. Specify dtype option on import or set low_memory=False.\n",
      "  df = pd.read_csv(\n"
     ]
    },
    {
     "name": "stdout",
     "output_type": "stream",
     "text": [
      "10\n"
     ]
    },
    {
     "name": "stderr",
     "output_type": "stream",
     "text": [
      "/Users/emanuele/code/Phenotype_Prediction/env/lib/python3.11/site-packages/snps/io/reader.py:447: DtypeWarning: Columns (1) have mixed types. Specify dtype option on import or set low_memory=False.\n",
      "  df = pd.read_csv(\n"
     ]
    },
    {
     "name": "stdout",
     "output_type": "stream",
     "text": [
      "13\n"
     ]
    },
    {
     "name": "stderr",
     "output_type": "stream",
     "text": [
      "/Users/emanuele/code/Phenotype_Prediction/env/lib/python3.11/site-packages/snps/io/reader.py:447: DtypeWarning: Columns (1) have mixed types. Specify dtype option on import or set low_memory=False.\n",
      "  df = pd.read_csv(\n"
     ]
    },
    {
     "name": "stdout",
     "output_type": "stream",
     "text": [
      "13\n"
     ]
    },
    {
     "name": "stderr",
     "output_type": "stream",
     "text": [
      "/Users/emanuele/code/Phenotype_Prediction/env/lib/python3.11/site-packages/snps/io/reader.py:447: DtypeWarning: Columns (1) have mixed types. Specify dtype option on import or set low_memory=False.\n",
      "  df = pd.read_csv(\n"
     ]
    },
    {
     "name": "stdout",
     "output_type": "stream",
     "text": [
      "13\n"
     ]
    },
    {
     "name": "stderr",
     "output_type": "stream",
     "text": [
      "/Users/emanuele/code/Phenotype_Prediction/env/lib/python3.11/site-packages/snps/io/reader.py:447: DtypeWarning: Columns (1) have mixed types. Specify dtype option on import or set low_memory=False.\n",
      "  df = pd.read_csv(\n"
     ]
    },
    {
     "name": "stdout",
     "output_type": "stream",
     "text": [
      "13\n"
     ]
    },
    {
     "name": "stderr",
     "output_type": "stream",
     "text": [
      "/Users/emanuele/code/Phenotype_Prediction/env/lib/python3.11/site-packages/snps/io/reader.py:447: DtypeWarning: Columns (1) have mixed types. Specify dtype option on import or set low_memory=False.\n",
      "  df = pd.read_csv(\n"
     ]
    },
    {
     "name": "stdout",
     "output_type": "stream",
     "text": [
      "10\n"
     ]
    },
    {
     "name": "stderr",
     "output_type": "stream",
     "text": [
      "/Users/emanuele/code/Phenotype_Prediction/env/lib/python3.11/site-packages/snps/io/reader.py:447: DtypeWarning: Columns (1) have mixed types. Specify dtype option on import or set low_memory=False.\n",
      "  df = pd.read_csv(\n"
     ]
    },
    {
     "name": "stdout",
     "output_type": "stream",
     "text": [
      "8\n"
     ]
    },
    {
     "name": "stderr",
     "output_type": "stream",
     "text": [
      "/Users/emanuele/code/Phenotype_Prediction/env/lib/python3.11/site-packages/snps/io/reader.py:447: DtypeWarning: Columns (1) have mixed types. Specify dtype option on import or set low_memory=False.\n",
      "  df = pd.read_csv(\n"
     ]
    },
    {
     "name": "stdout",
     "output_type": "stream",
     "text": [
      "13\n",
      "7\n",
      "13\n"
     ]
    },
    {
     "name": "stderr",
     "output_type": "stream",
     "text": [
      "/Users/emanuele/code/Phenotype_Prediction/env/lib/python3.11/site-packages/snps/io/reader.py:447: DtypeWarning: Columns (1) have mixed types. Specify dtype option on import or set low_memory=False.\n",
      "  df = pd.read_csv(\n"
     ]
    },
    {
     "name": "stdout",
     "output_type": "stream",
     "text": [
      "10\n",
      "13\n",
      "7\n"
     ]
    },
    {
     "name": "stderr",
     "output_type": "stream",
     "text": [
      "/Users/emanuele/code/Phenotype_Prediction/env/lib/python3.11/site-packages/snps/io/reader.py:447: DtypeWarning: Columns (1) have mixed types. Specify dtype option on import or set low_memory=False.\n",
      "  df = pd.read_csv(\n"
     ]
    },
    {
     "name": "stdout",
     "output_type": "stream",
     "text": [
      "10\n"
     ]
    },
    {
     "name": "stderr",
     "output_type": "stream",
     "text": [
      "/Users/emanuele/code/Phenotype_Prediction/env/lib/python3.11/site-packages/snps/io/reader.py:447: DtypeWarning: Columns (1) have mixed types. Specify dtype option on import or set low_memory=False.\n",
      "  df = pd.read_csv(\n"
     ]
    },
    {
     "name": "stdout",
     "output_type": "stream",
     "text": [
      "10\n",
      "13\n"
     ]
    },
    {
     "name": "stderr",
     "output_type": "stream",
     "text": [
      "/Users/emanuele/code/Phenotype_Prediction/env/lib/python3.11/site-packages/snps/io/reader.py:447: DtypeWarning: Columns (1) have mixed types. Specify dtype option on import or set low_memory=False.\n",
      "  df = pd.read_csv(\n"
     ]
    },
    {
     "name": "stdout",
     "output_type": "stream",
     "text": [
      "10\n"
     ]
    },
    {
     "name": "stderr",
     "output_type": "stream",
     "text": [
      "/Users/emanuele/code/Phenotype_Prediction/env/lib/python3.11/site-packages/snps/io/reader.py:447: DtypeWarning: Columns (1) have mixed types. Specify dtype option on import or set low_memory=False.\n",
      "  df = pd.read_csv(\n"
     ]
    },
    {
     "name": "stdout",
     "output_type": "stream",
     "text": [
      "10\n"
     ]
    },
    {
     "name": "stderr",
     "output_type": "stream",
     "text": [
      "/Users/emanuele/code/Phenotype_Prediction/env/lib/python3.11/site-packages/snps/io/reader.py:447: DtypeWarning: Columns (1) have mixed types. Specify dtype option on import or set low_memory=False.\n",
      "  df = pd.read_csv(\n"
     ]
    },
    {
     "name": "stdout",
     "output_type": "stream",
     "text": [
      "13\n",
      "13\n"
     ]
    },
    {
     "name": "stderr",
     "output_type": "stream",
     "text": [
      "/Users/emanuele/code/Phenotype_Prediction/env/lib/python3.11/site-packages/snps/io/reader.py:447: DtypeWarning: Columns (1) have mixed types. Specify dtype option on import or set low_memory=False.\n",
      "  df = pd.read_csv(\n"
     ]
    },
    {
     "name": "stdout",
     "output_type": "stream",
     "text": [
      "10\n",
      "12\n"
     ]
    },
    {
     "name": "stderr",
     "output_type": "stream",
     "text": [
      "/Users/emanuele/code/Phenotype_Prediction/env/lib/python3.11/site-packages/snps/io/reader.py:447: DtypeWarning: Columns (1) have mixed types. Specify dtype option on import or set low_memory=False.\n",
      "  df = pd.read_csv(\n"
     ]
    },
    {
     "name": "stdout",
     "output_type": "stream",
     "text": [
      "10\n"
     ]
    },
    {
     "name": "stderr",
     "output_type": "stream",
     "text": [
      "/Users/emanuele/code/Phenotype_Prediction/env/lib/python3.11/site-packages/snps/io/reader.py:447: DtypeWarning: Columns (1) have mixed types. Specify dtype option on import or set low_memory=False.\n",
      "  df = pd.read_csv(\n"
     ]
    },
    {
     "name": "stdout",
     "output_type": "stream",
     "text": [
      "10\n",
      "11\n"
     ]
    },
    {
     "name": "stderr",
     "output_type": "stream",
     "text": [
      "/Users/emanuele/code/Phenotype_Prediction/env/lib/python3.11/site-packages/snps/io/reader.py:447: DtypeWarning: Columns (1) have mixed types. Specify dtype option on import or set low_memory=False.\n",
      "  df = pd.read_csv(\n"
     ]
    },
    {
     "name": "stdout",
     "output_type": "stream",
     "text": [
      "10\n",
      "11\n"
     ]
    },
    {
     "name": "stderr",
     "output_type": "stream",
     "text": [
      "/Users/emanuele/code/Phenotype_Prediction/env/lib/python3.11/site-packages/snps/io/reader.py:447: DtypeWarning: Columns (1) have mixed types. Specify dtype option on import or set low_memory=False.\n",
      "  df = pd.read_csv(\n"
     ]
    },
    {
     "name": "stdout",
     "output_type": "stream",
     "text": [
      "13\n"
     ]
    },
    {
     "name": "stderr",
     "output_type": "stream",
     "text": [
      "no SNPs loaded...\n"
     ]
    },
    {
     "name": "stdout",
     "output_type": "stream",
     "text": [
      "0\n",
      "13\n",
      "11\n"
     ]
    },
    {
     "name": "stderr",
     "output_type": "stream",
     "text": [
      "/Users/emanuele/code/Phenotype_Prediction/env/lib/python3.11/site-packages/snps/io/reader.py:447: DtypeWarning: Columns (1) have mixed types. Specify dtype option on import or set low_memory=False.\n",
      "  df = pd.read_csv(\n"
     ]
    },
    {
     "name": "stdout",
     "output_type": "stream",
     "text": [
      "10\n"
     ]
    },
    {
     "name": "stderr",
     "output_type": "stream",
     "text": [
      "/Users/emanuele/code/Phenotype_Prediction/env/lib/python3.11/site-packages/snps/io/reader.py:447: DtypeWarning: Columns (1) have mixed types. Specify dtype option on import or set low_memory=False.\n",
      "  df = pd.read_csv(\n"
     ]
    },
    {
     "name": "stdout",
     "output_type": "stream",
     "text": [
      "13\n"
     ]
    },
    {
     "name": "stderr",
     "output_type": "stream",
     "text": [
      "/Users/emanuele/code/Phenotype_Prediction/env/lib/python3.11/site-packages/snps/io/reader.py:447: DtypeWarning: Columns (1) have mixed types. Specify dtype option on import or set low_memory=False.\n",
      "  df = pd.read_csv(\n"
     ]
    },
    {
     "name": "stdout",
     "output_type": "stream",
     "text": [
      "13\n"
     ]
    },
    {
     "name": "stderr",
     "output_type": "stream",
     "text": [
      "/Users/emanuele/code/Phenotype_Prediction/env/lib/python3.11/site-packages/snps/io/reader.py:447: DtypeWarning: Columns (1) have mixed types. Specify dtype option on import or set low_memory=False.\n",
      "  df = pd.read_csv(\n"
     ]
    },
    {
     "name": "stdout",
     "output_type": "stream",
     "text": [
      "10\n",
      "7\n"
     ]
    },
    {
     "name": "stderr",
     "output_type": "stream",
     "text": [
      "/Users/emanuele/code/Phenotype_Prediction/env/lib/python3.11/site-packages/snps/io/reader.py:447: DtypeWarning: Columns (1) have mixed types. Specify dtype option on import or set low_memory=False.\n",
      "  df = pd.read_csv(\n"
     ]
    },
    {
     "name": "stdout",
     "output_type": "stream",
     "text": [
      "10\n",
      "11\n"
     ]
    },
    {
     "name": "stderr",
     "output_type": "stream",
     "text": [
      "/Users/emanuele/code/Phenotype_Prediction/env/lib/python3.11/site-packages/snps/io/reader.py:447: DtypeWarning: Columns (1) have mixed types. Specify dtype option on import or set low_memory=False.\n",
      "  df = pd.read_csv(\n"
     ]
    },
    {
     "name": "stdout",
     "output_type": "stream",
     "text": [
      "10\n",
      "8\n"
     ]
    },
    {
     "name": "stderr",
     "output_type": "stream",
     "text": [
      "/Users/emanuele/code/Phenotype_Prediction/env/lib/python3.11/site-packages/snps/io/reader.py:447: DtypeWarning: Columns (1) have mixed types. Specify dtype option on import or set low_memory=False.\n",
      "  df = pd.read_csv(\n"
     ]
    },
    {
     "name": "stdout",
     "output_type": "stream",
     "text": [
      "10\n"
     ]
    },
    {
     "name": "stderr",
     "output_type": "stream",
     "text": [
      "/Users/emanuele/code/Phenotype_Prediction/env/lib/python3.11/site-packages/snps/io/reader.py:447: DtypeWarning: Columns (1) have mixed types. Specify dtype option on import or set low_memory=False.\n",
      "  df = pd.read_csv(\n"
     ]
    },
    {
     "name": "stdout",
     "output_type": "stream",
     "text": [
      "8\n",
      "12\n"
     ]
    },
    {
     "name": "stderr",
     "output_type": "stream",
     "text": [
      "/Users/emanuele/code/Phenotype_Prediction/env/lib/python3.11/site-packages/snps/io/reader.py:447: DtypeWarning: Columns (1) have mixed types. Specify dtype option on import or set low_memory=False.\n",
      "  df = pd.read_csv(\n"
     ]
    },
    {
     "name": "stdout",
     "output_type": "stream",
     "text": [
      "10\n",
      "13\n"
     ]
    },
    {
     "name": "stderr",
     "output_type": "stream",
     "text": [
      "/Users/emanuele/code/Phenotype_Prediction/env/lib/python3.11/site-packages/snps/io/reader.py:447: DtypeWarning: Columns (1) have mixed types. Specify dtype option on import or set low_memory=False.\n",
      "  df = pd.read_csv(\n"
     ]
    },
    {
     "name": "stdout",
     "output_type": "stream",
     "text": [
      "10\n",
      "ERRO!!! NO ARQUIVO opensnp_alldata/opensnp_datadump.current/user8655_file7006_yearofbirth_1983_sex_XX.ancestry.txt\n",
      "8\n"
     ]
    },
    {
     "name": "stderr",
     "output_type": "stream",
     "text": [
      "/Users/emanuele/code/Phenotype_Prediction/env/lib/python3.11/site-packages/snps/io/reader.py:447: DtypeWarning: Columns (1) have mixed types. Specify dtype option on import or set low_memory=False.\n",
      "  df = pd.read_csv(\n"
     ]
    },
    {
     "name": "stdout",
     "output_type": "stream",
     "text": [
      "10\n",
      "7\n"
     ]
    },
    {
     "name": "stderr",
     "output_type": "stream",
     "text": [
      "/Users/emanuele/code/Phenotype_Prediction/env/lib/python3.11/site-packages/snps/io/reader.py:447: DtypeWarning: Columns (1) have mixed types. Specify dtype option on import or set low_memory=False.\n",
      "  df = pd.read_csv(\n"
     ]
    },
    {
     "name": "stdout",
     "output_type": "stream",
     "text": [
      "13\n",
      "7\n",
      "13\n"
     ]
    },
    {
     "name": "stderr",
     "output_type": "stream",
     "text": [
      "/Users/emanuele/code/Phenotype_Prediction/env/lib/python3.11/site-packages/snps/io/reader.py:447: DtypeWarning: Columns (1) have mixed types. Specify dtype option on import or set low_memory=False.\n",
      "  df = pd.read_csv(\n"
     ]
    },
    {
     "name": "stdout",
     "output_type": "stream",
     "text": [
      "10\n"
     ]
    },
    {
     "name": "stderr",
     "output_type": "stream",
     "text": [
      "/Users/emanuele/code/Phenotype_Prediction/env/lib/python3.11/site-packages/snps/io/reader.py:447: DtypeWarning: Columns (1) have mixed types. Specify dtype option on import or set low_memory=False.\n",
      "  df = pd.read_csv(\n"
     ]
    },
    {
     "name": "stdout",
     "output_type": "stream",
     "text": [
      "10\n",
      "10\n",
      "11\n"
     ]
    },
    {
     "name": "stderr",
     "output_type": "stream",
     "text": [
      "/Users/emanuele/code/Phenotype_Prediction/env/lib/python3.11/site-packages/snps/io/reader.py:447: DtypeWarning: Columns (1) have mixed types. Specify dtype option on import or set low_memory=False.\n",
      "  df = pd.read_csv(\n"
     ]
    },
    {
     "name": "stdout",
     "output_type": "stream",
     "text": [
      "10\n"
     ]
    },
    {
     "name": "stderr",
     "output_type": "stream",
     "text": [
      "/Users/emanuele/code/Phenotype_Prediction/env/lib/python3.11/site-packages/snps/io/reader.py:447: DtypeWarning: Columns (1) have mixed types. Specify dtype option on import or set low_memory=False.\n",
      "  df = pd.read_csv(\n"
     ]
    },
    {
     "name": "stdout",
     "output_type": "stream",
     "text": [
      "13\n",
      "8\n"
     ]
    },
    {
     "name": "stderr",
     "output_type": "stream",
     "text": [
      "/Users/emanuele/code/Phenotype_Prediction/env/lib/python3.11/site-packages/snps/io/reader.py:447: DtypeWarning: Columns (1) have mixed types. Specify dtype option on import or set low_memory=False.\n",
      "  df = pd.read_csv(\n"
     ]
    },
    {
     "name": "stdout",
     "output_type": "stream",
     "text": [
      "13\n",
      "7\n",
      "7\n",
      "13\n"
     ]
    },
    {
     "name": "stderr",
     "output_type": "stream",
     "text": [
      "/Users/emanuele/code/Phenotype_Prediction/env/lib/python3.11/site-packages/snps/io/reader.py:447: DtypeWarning: Columns (1) have mixed types. Specify dtype option on import or set low_memory=False.\n",
      "  df = pd.read_csv(\n"
     ]
    },
    {
     "name": "stdout",
     "output_type": "stream",
     "text": [
      "10\n",
      "13\n",
      "13\n",
      "13\n"
     ]
    },
    {
     "name": "stderr",
     "output_type": "stream",
     "text": [
      "/Users/emanuele/code/Phenotype_Prediction/env/lib/python3.11/site-packages/snps/io/reader.py:447: DtypeWarning: Columns (1) have mixed types. Specify dtype option on import or set low_memory=False.\n",
      "  df = pd.read_csv(\n"
     ]
    },
    {
     "name": "stdout",
     "output_type": "stream",
     "text": [
      "13\n"
     ]
    },
    {
     "name": "stderr",
     "output_type": "stream",
     "text": [
      "/Users/emanuele/code/Phenotype_Prediction/env/lib/python3.11/site-packages/snps/io/reader.py:447: DtypeWarning: Columns (1) have mixed types. Specify dtype option on import or set low_memory=False.\n",
      "  df = pd.read_csv(\n"
     ]
    },
    {
     "name": "stdout",
     "output_type": "stream",
     "text": [
      "10\n"
     ]
    },
    {
     "name": "stderr",
     "output_type": "stream",
     "text": [
      "/Users/emanuele/code/Phenotype_Prediction/env/lib/python3.11/site-packages/snps/io/reader.py:447: DtypeWarning: Columns (1) have mixed types. Specify dtype option on import or set low_memory=False.\n",
      "  df = pd.read_csv(\n"
     ]
    },
    {
     "name": "stdout",
     "output_type": "stream",
     "text": [
      "10\n"
     ]
    },
    {
     "name": "stderr",
     "output_type": "stream",
     "text": [
      "/Users/emanuele/code/Phenotype_Prediction/env/lib/python3.11/site-packages/snps/io/reader.py:447: DtypeWarning: Columns (1) have mixed types. Specify dtype option on import or set low_memory=False.\n",
      "  df = pd.read_csv(\n"
     ]
    },
    {
     "name": "stdout",
     "output_type": "stream",
     "text": [
      "13\n"
     ]
    },
    {
     "name": "stderr",
     "output_type": "stream",
     "text": [
      "/Users/emanuele/code/Phenotype_Prediction/env/lib/python3.11/site-packages/snps/io/reader.py:447: DtypeWarning: Columns (1) have mixed types. Specify dtype option on import or set low_memory=False.\n",
      "  df = pd.read_csv(\n"
     ]
    },
    {
     "name": "stdout",
     "output_type": "stream",
     "text": [
      "13\n",
      "12\n",
      "7\n",
      "11\n"
     ]
    },
    {
     "name": "stderr",
     "output_type": "stream",
     "text": [
      "/Users/emanuele/code/Phenotype_Prediction/env/lib/python3.11/site-packages/snps/io/reader.py:447: DtypeWarning: Columns (1) have mixed types. Specify dtype option on import or set low_memory=False.\n",
      "  df = pd.read_csv(\n"
     ]
    },
    {
     "name": "stdout",
     "output_type": "stream",
     "text": [
      "13\n",
      "11\n",
      "10\n",
      "7\n"
     ]
    },
    {
     "name": "stderr",
     "output_type": "stream",
     "text": [
      "/Users/emanuele/code/Phenotype_Prediction/env/lib/python3.11/site-packages/snps/io/reader.py:447: DtypeWarning: Columns (1) have mixed types. Specify dtype option on import or set low_memory=False.\n",
      "  df = pd.read_csv(\n"
     ]
    },
    {
     "name": "stdout",
     "output_type": "stream",
     "text": [
      "10\n"
     ]
    },
    {
     "name": "stderr",
     "output_type": "stream",
     "text": [
      "no SNPs loaded...\n"
     ]
    },
    {
     "name": "stdout",
     "output_type": "stream",
     "text": [
      "0\n",
      "13\n",
      "13\n"
     ]
    },
    {
     "name": "stderr",
     "output_type": "stream",
     "text": [
      "no SNPs loaded...\n"
     ]
    },
    {
     "name": "stdout",
     "output_type": "stream",
     "text": [
      "0\n",
      "13\n",
      "13\n",
      "7\n"
     ]
    },
    {
     "name": "stderr",
     "output_type": "stream",
     "text": [
      "/Users/emanuele/code/Phenotype_Prediction/env/lib/python3.11/site-packages/snps/io/reader.py:447: DtypeWarning: Columns (1) have mixed types. Specify dtype option on import or set low_memory=False.\n",
      "  df = pd.read_csv(\n"
     ]
    },
    {
     "name": "stdout",
     "output_type": "stream",
     "text": [
      "10\n",
      "13\n"
     ]
    },
    {
     "name": "stderr",
     "output_type": "stream",
     "text": [
      "/Users/emanuele/code/Phenotype_Prediction/env/lib/python3.11/site-packages/snps/io/reader.py:447: DtypeWarning: Columns (1) have mixed types. Specify dtype option on import or set low_memory=False.\n",
      "  df = pd.read_csv(\n"
     ]
    },
    {
     "name": "stdout",
     "output_type": "stream",
     "text": [
      "10\n"
     ]
    },
    {
     "name": "stderr",
     "output_type": "stream",
     "text": [
      "/Users/emanuele/code/Phenotype_Prediction/env/lib/python3.11/site-packages/snps/io/reader.py:447: DtypeWarning: Columns (1) have mixed types. Specify dtype option on import or set low_memory=False.\n",
      "  df = pd.read_csv(\n"
     ]
    },
    {
     "name": "stdout",
     "output_type": "stream",
     "text": [
      "13\n",
      "7\n"
     ]
    },
    {
     "name": "stderr",
     "output_type": "stream",
     "text": [
      "/Users/emanuele/code/Phenotype_Prediction/env/lib/python3.11/site-packages/snps/io/reader.py:447: DtypeWarning: Columns (1) have mixed types. Specify dtype option on import or set low_memory=False.\n",
      "  df = pd.read_csv(\n"
     ]
    },
    {
     "name": "stdout",
     "output_type": "stream",
     "text": [
      "10\n",
      "13\n"
     ]
    },
    {
     "name": "stderr",
     "output_type": "stream",
     "text": [
      "/Users/emanuele/code/Phenotype_Prediction/env/lib/python3.11/site-packages/snps/io/reader.py:447: DtypeWarning: Columns (1) have mixed types. Specify dtype option on import or set low_memory=False.\n",
      "  df = pd.read_csv(\n"
     ]
    },
    {
     "name": "stdout",
     "output_type": "stream",
     "text": [
      "13\n"
     ]
    },
    {
     "name": "stderr",
     "output_type": "stream",
     "text": [
      "/Users/emanuele/code/Phenotype_Prediction/env/lib/python3.11/site-packages/snps/io/reader.py:447: DtypeWarning: Columns (1) have mixed types. Specify dtype option on import or set low_memory=False.\n",
      "  df = pd.read_csv(\n"
     ]
    },
    {
     "name": "stdout",
     "output_type": "stream",
     "text": [
      "10\n"
     ]
    },
    {
     "name": "stderr",
     "output_type": "stream",
     "text": [
      "/Users/emanuele/code/Phenotype_Prediction/env/lib/python3.11/site-packages/snps/io/reader.py:447: DtypeWarning: Columns (1) have mixed types. Specify dtype option on import or set low_memory=False.\n",
      "  df = pd.read_csv(\n"
     ]
    },
    {
     "name": "stdout",
     "output_type": "stream",
     "text": [
      "10\n"
     ]
    },
    {
     "name": "stderr",
     "output_type": "stream",
     "text": [
      "/Users/emanuele/code/Phenotype_Prediction/env/lib/python3.11/site-packages/snps/io/reader.py:447: DtypeWarning: Columns (1) have mixed types. Specify dtype option on import or set low_memory=False.\n",
      "  df = pd.read_csv(\n"
     ]
    },
    {
     "name": "stdout",
     "output_type": "stream",
     "text": [
      "10\n"
     ]
    },
    {
     "name": "stderr",
     "output_type": "stream",
     "text": [
      "/Users/emanuele/code/Phenotype_Prediction/env/lib/python3.11/site-packages/snps/io/reader.py:447: DtypeWarning: Columns (1) have mixed types. Specify dtype option on import or set low_memory=False.\n",
      "  df = pd.read_csv(\n"
     ]
    },
    {
     "name": "stdout",
     "output_type": "stream",
     "text": [
      "13\n"
     ]
    },
    {
     "name": "stderr",
     "output_type": "stream",
     "text": [
      "/Users/emanuele/code/Phenotype_Prediction/env/lib/python3.11/site-packages/snps/io/reader.py:447: DtypeWarning: Columns (1) have mixed types. Specify dtype option on import or set low_memory=False.\n",
      "  df = pd.read_csv(\n"
     ]
    },
    {
     "name": "stdout",
     "output_type": "stream",
     "text": [
      "13\n",
      "7\n"
     ]
    },
    {
     "name": "stderr",
     "output_type": "stream",
     "text": [
      "/Users/emanuele/code/Phenotype_Prediction/env/lib/python3.11/site-packages/snps/io/reader.py:447: DtypeWarning: Columns (1) have mixed types. Specify dtype option on import or set low_memory=False.\n",
      "  df = pd.read_csv(\n"
     ]
    },
    {
     "name": "stdout",
     "output_type": "stream",
     "text": [
      "10\n",
      "13\n",
      "13\n",
      "13\n",
      "0\n"
     ]
    },
    {
     "name": "stderr",
     "output_type": "stream",
     "text": [
      "/Users/emanuele/code/Phenotype_Prediction/env/lib/python3.11/site-packages/snps/io/reader.py:447: DtypeWarning: Columns (1) have mixed types. Specify dtype option on import or set low_memory=False.\n",
      "  df = pd.read_csv(\n"
     ]
    },
    {
     "name": "stdout",
     "output_type": "stream",
     "text": [
      "10\n"
     ]
    },
    {
     "name": "stderr",
     "output_type": "stream",
     "text": [
      "/Users/emanuele/code/Phenotype_Prediction/env/lib/python3.11/site-packages/snps/io/reader.py:447: DtypeWarning: Columns (1) have mixed types. Specify dtype option on import or set low_memory=False.\n",
      "  df = pd.read_csv(\n"
     ]
    },
    {
     "name": "stdout",
     "output_type": "stream",
     "text": [
      "10\n"
     ]
    },
    {
     "name": "stderr",
     "output_type": "stream",
     "text": [
      "/Users/emanuele/code/Phenotype_Prediction/env/lib/python3.11/site-packages/snps/io/reader.py:447: DtypeWarning: Columns (1) have mixed types. Specify dtype option on import or set low_memory=False.\n",
      "  df = pd.read_csv(\n"
     ]
    },
    {
     "name": "stdout",
     "output_type": "stream",
     "text": [
      "10\n"
     ]
    },
    {
     "name": "stderr",
     "output_type": "stream",
     "text": [
      "/Users/emanuele/code/Phenotype_Prediction/env/lib/python3.11/site-packages/snps/io/reader.py:447: DtypeWarning: Columns (1) have mixed types. Specify dtype option on import or set low_memory=False.\n",
      "  df = pd.read_csv(\n"
     ]
    },
    {
     "name": "stdout",
     "output_type": "stream",
     "text": [
      "13\n",
      "11\n"
     ]
    },
    {
     "name": "stderr",
     "output_type": "stream",
     "text": [
      "/Users/emanuele/code/Phenotype_Prediction/env/lib/python3.11/site-packages/snps/io/reader.py:447: DtypeWarning: Columns (1) have mixed types. Specify dtype option on import or set low_memory=False.\n",
      "  df = pd.read_csv(\n"
     ]
    },
    {
     "name": "stdout",
     "output_type": "stream",
     "text": [
      "13\n"
     ]
    },
    {
     "name": "stderr",
     "output_type": "stream",
     "text": [
      "/Users/emanuele/code/Phenotype_Prediction/env/lib/python3.11/site-packages/snps/io/reader.py:447: DtypeWarning: Columns (1) have mixed types. Specify dtype option on import or set low_memory=False.\n",
      "  df = pd.read_csv(\n"
     ]
    },
    {
     "name": "stdout",
     "output_type": "stream",
     "text": [
      "10\n"
     ]
    },
    {
     "name": "stderr",
     "output_type": "stream",
     "text": [
      "/Users/emanuele/code/Phenotype_Prediction/env/lib/python3.11/site-packages/snps/io/reader.py:447: DtypeWarning: Columns (1) have mixed types. Specify dtype option on import or set low_memory=False.\n",
      "  df = pd.read_csv(\n"
     ]
    },
    {
     "name": "stdout",
     "output_type": "stream",
     "text": [
      "10\n"
     ]
    },
    {
     "name": "stderr",
     "output_type": "stream",
     "text": [
      "/Users/emanuele/code/Phenotype_Prediction/env/lib/python3.11/site-packages/snps/io/reader.py:447: DtypeWarning: Columns (1) have mixed types. Specify dtype option on import or set low_memory=False.\n",
      "  df = pd.read_csv(\n"
     ]
    },
    {
     "name": "stdout",
     "output_type": "stream",
     "text": [
      "13\n"
     ]
    },
    {
     "name": "stderr",
     "output_type": "stream",
     "text": [
      "/Users/emanuele/code/Phenotype_Prediction/env/lib/python3.11/site-packages/snps/io/reader.py:447: DtypeWarning: Columns (1) have mixed types. Specify dtype option on import or set low_memory=False.\n",
      "  df = pd.read_csv(\n"
     ]
    },
    {
     "name": "stdout",
     "output_type": "stream",
     "text": [
      "10\n",
      "11\n"
     ]
    },
    {
     "name": "stderr",
     "output_type": "stream",
     "text": [
      "/Users/emanuele/code/Phenotype_Prediction/env/lib/python3.11/site-packages/snps/io/reader.py:447: DtypeWarning: Columns (1) have mixed types. Specify dtype option on import or set low_memory=False.\n",
      "  df = pd.read_csv(\n"
     ]
    },
    {
     "name": "stdout",
     "output_type": "stream",
     "text": [
      "10\n"
     ]
    },
    {
     "name": "stderr",
     "output_type": "stream",
     "text": [
      "/Users/emanuele/code/Phenotype_Prediction/env/lib/python3.11/site-packages/snps/io/reader.py:447: DtypeWarning: Columns (1) have mixed types. Specify dtype option on import or set low_memory=False.\n",
      "  df = pd.read_csv(\n"
     ]
    },
    {
     "name": "stdout",
     "output_type": "stream",
     "text": [
      "10\n",
      "13\n",
      "13\n",
      "7\n"
     ]
    },
    {
     "name": "stderr",
     "output_type": "stream",
     "text": [
      "/Users/emanuele/code/Phenotype_Prediction/env/lib/python3.11/site-packages/snps/io/reader.py:447: DtypeWarning: Columns (1) have mixed types. Specify dtype option on import or set low_memory=False.\n",
      "  df = pd.read_csv(\n"
     ]
    },
    {
     "name": "stdout",
     "output_type": "stream",
     "text": [
      "10\n",
      "10\n"
     ]
    },
    {
     "name": "stderr",
     "output_type": "stream",
     "text": [
      "/Users/emanuele/code/Phenotype_Prediction/env/lib/python3.11/site-packages/snps/io/reader.py:447: DtypeWarning: Columns (1) have mixed types. Specify dtype option on import or set low_memory=False.\n",
      "  df = pd.read_csv(\n"
     ]
    },
    {
     "name": "stdout",
     "output_type": "stream",
     "text": [
      "10\n"
     ]
    },
    {
     "name": "stderr",
     "output_type": "stream",
     "text": [
      "/Users/emanuele/code/Phenotype_Prediction/env/lib/python3.11/site-packages/snps/io/reader.py:447: DtypeWarning: Columns (1) have mixed types. Specify dtype option on import or set low_memory=False.\n",
      "  df = pd.read_csv(\n"
     ]
    },
    {
     "name": "stdout",
     "output_type": "stream",
     "text": [
      "10\n"
     ]
    },
    {
     "name": "stderr",
     "output_type": "stream",
     "text": [
      "/Users/emanuele/code/Phenotype_Prediction/env/lib/python3.11/site-packages/snps/io/reader.py:447: DtypeWarning: Columns (1) have mixed types. Specify dtype option on import or set low_memory=False.\n",
      "  df = pd.read_csv(\n"
     ]
    },
    {
     "name": "stdout",
     "output_type": "stream",
     "text": [
      "13\n"
     ]
    },
    {
     "name": "stderr",
     "output_type": "stream",
     "text": [
      "/Users/emanuele/code/Phenotype_Prediction/env/lib/python3.11/site-packages/snps/io/reader.py:447: DtypeWarning: Columns (1) have mixed types. Specify dtype option on import or set low_memory=False.\n",
      "  df = pd.read_csv(\n"
     ]
    },
    {
     "name": "stdout",
     "output_type": "stream",
     "text": [
      "10\n",
      "12\n"
     ]
    },
    {
     "name": "stderr",
     "output_type": "stream",
     "text": [
      "/Users/emanuele/code/Phenotype_Prediction/env/lib/python3.11/site-packages/snps/io/reader.py:447: DtypeWarning: Columns (1) have mixed types. Specify dtype option on import or set low_memory=False.\n",
      "  df = pd.read_csv(\n"
     ]
    },
    {
     "name": "stdout",
     "output_type": "stream",
     "text": [
      "13\n",
      "ERRO!!! NO ARQUIVO opensnp_alldata/opensnp_datadump.current/user9548_file7831_yearofbirth_unknown_sex_unknown.ancestry.txt\n"
     ]
    },
    {
     "name": "stderr",
     "output_type": "stream",
     "text": [
      "/Users/emanuele/code/Phenotype_Prediction/env/lib/python3.11/site-packages/snps/io/reader.py:447: DtypeWarning: Columns (1) have mixed types. Specify dtype option on import or set low_memory=False.\n",
      "  df = pd.read_csv(\n"
     ]
    },
    {
     "name": "stdout",
     "output_type": "stream",
     "text": [
      "10\n"
     ]
    },
    {
     "name": "stderr",
     "output_type": "stream",
     "text": [
      "/Users/emanuele/code/Phenotype_Prediction/env/lib/python3.11/site-packages/snps/io/reader.py:447: DtypeWarning: Columns (1) have mixed types. Specify dtype option on import or set low_memory=False.\n",
      "  df = pd.read_csv(\n"
     ]
    },
    {
     "name": "stdout",
     "output_type": "stream",
     "text": [
      "10\n",
      "13\n"
     ]
    },
    {
     "name": "stderr",
     "output_type": "stream",
     "text": [
      "/Users/emanuele/code/Phenotype_Prediction/env/lib/python3.11/site-packages/snps/io/reader.py:447: DtypeWarning: Columns (1) have mixed types. Specify dtype option on import or set low_memory=False.\n",
      "  df = pd.read_csv(\n"
     ]
    },
    {
     "name": "stdout",
     "output_type": "stream",
     "text": [
      "12\n"
     ]
    },
    {
     "name": "stderr",
     "output_type": "stream",
     "text": [
      "/Users/emanuele/code/Phenotype_Prediction/env/lib/python3.11/site-packages/snps/io/reader.py:447: DtypeWarning: Columns (1) have mixed types. Specify dtype option on import or set low_memory=False.\n",
      "  df = pd.read_csv(\n"
     ]
    },
    {
     "name": "stdout",
     "output_type": "stream",
     "text": [
      "13\n"
     ]
    },
    {
     "name": "stderr",
     "output_type": "stream",
     "text": [
      "/Users/emanuele/code/Phenotype_Prediction/env/lib/python3.11/site-packages/snps/io/reader.py:447: DtypeWarning: Columns (1) have mixed types. Specify dtype option on import or set low_memory=False.\n",
      "  df = pd.read_csv(\n"
     ]
    },
    {
     "name": "stdout",
     "output_type": "stream",
     "text": [
      "13\n"
     ]
    },
    {
     "name": "stderr",
     "output_type": "stream",
     "text": [
      "/Users/emanuele/code/Phenotype_Prediction/env/lib/python3.11/site-packages/snps/io/reader.py:447: DtypeWarning: Columns (1) have mixed types. Specify dtype option on import or set low_memory=False.\n",
      "  df = pd.read_csv(\n"
     ]
    },
    {
     "name": "stdout",
     "output_type": "stream",
     "text": [
      "10\n"
     ]
    },
    {
     "name": "stderr",
     "output_type": "stream",
     "text": [
      "/Users/emanuele/code/Phenotype_Prediction/env/lib/python3.11/site-packages/snps/io/reader.py:447: DtypeWarning: Columns (1) have mixed types. Specify dtype option on import or set low_memory=False.\n",
      "  df = pd.read_csv(\n"
     ]
    },
    {
     "name": "stdout",
     "output_type": "stream",
     "text": [
      "10\n"
     ]
    },
    {
     "name": "stderr",
     "output_type": "stream",
     "text": [
      "/Users/emanuele/code/Phenotype_Prediction/env/lib/python3.11/site-packages/snps/io/reader.py:447: DtypeWarning: Columns (1) have mixed types. Specify dtype option on import or set low_memory=False.\n",
      "  df = pd.read_csv(\n"
     ]
    },
    {
     "name": "stdout",
     "output_type": "stream",
     "text": [
      "10\n"
     ]
    },
    {
     "name": "stderr",
     "output_type": "stream",
     "text": [
      "/Users/emanuele/code/Phenotype_Prediction/env/lib/python3.11/site-packages/snps/io/reader.py:447: DtypeWarning: Columns (1) have mixed types. Specify dtype option on import or set low_memory=False.\n",
      "  df = pd.read_csv(\n"
     ]
    },
    {
     "name": "stdout",
     "output_type": "stream",
     "text": [
      "10\n",
      "13\n"
     ]
    },
    {
     "name": "stderr",
     "output_type": "stream",
     "text": [
      "/Users/emanuele/code/Phenotype_Prediction/env/lib/python3.11/site-packages/snps/io/reader.py:447: DtypeWarning: Columns (1) have mixed types. Specify dtype option on import or set low_memory=False.\n",
      "  df = pd.read_csv(\n"
     ]
    },
    {
     "name": "stdout",
     "output_type": "stream",
     "text": [
      "13\n"
     ]
    },
    {
     "name": "stderr",
     "output_type": "stream",
     "text": [
      "/Users/emanuele/code/Phenotype_Prediction/env/lib/python3.11/site-packages/snps/io/reader.py:447: DtypeWarning: Columns (1) have mixed types. Specify dtype option on import or set low_memory=False.\n",
      "  df = pd.read_csv(\n"
     ]
    },
    {
     "name": "stdout",
     "output_type": "stream",
     "text": [
      "10\n",
      "13\n"
     ]
    },
    {
     "name": "stderr",
     "output_type": "stream",
     "text": [
      "/Users/emanuele/code/Phenotype_Prediction/env/lib/python3.11/site-packages/snps/io/reader.py:447: DtypeWarning: Columns (1) have mixed types. Specify dtype option on import or set low_memory=False.\n",
      "  df = pd.read_csv(\n"
     ]
    },
    {
     "name": "stdout",
     "output_type": "stream",
     "text": [
      "10\n",
      "12\n"
     ]
    },
    {
     "name": "stderr",
     "output_type": "stream",
     "text": [
      "/Users/emanuele/code/Phenotype_Prediction/env/lib/python3.11/site-packages/snps/io/reader.py:447: DtypeWarning: Columns (1) have mixed types. Specify dtype option on import or set low_memory=False.\n",
      "  df = pd.read_csv(\n"
     ]
    },
    {
     "name": "stdout",
     "output_type": "stream",
     "text": [
      "10\n"
     ]
    },
    {
     "name": "stderr",
     "output_type": "stream",
     "text": [
      "/Users/emanuele/code/Phenotype_Prediction/env/lib/python3.11/site-packages/snps/io/reader.py:447: DtypeWarning: Columns (1) have mixed types. Specify dtype option on import or set low_memory=False.\n",
      "  df = pd.read_csv(\n"
     ]
    },
    {
     "name": "stdout",
     "output_type": "stream",
     "text": [
      "13\n"
     ]
    },
    {
     "name": "stderr",
     "output_type": "stream",
     "text": [
      "/Users/emanuele/code/Phenotype_Prediction/env/lib/python3.11/site-packages/snps/io/reader.py:447: DtypeWarning: Columns (1) have mixed types. Specify dtype option on import or set low_memory=False.\n",
      "  df = pd.read_csv(\n"
     ]
    },
    {
     "name": "stdout",
     "output_type": "stream",
     "text": [
      "10\n",
      "13\n",
      "13\n",
      "11\n"
     ]
    },
    {
     "name": "stderr",
     "output_type": "stream",
     "text": [
      "/Users/emanuele/code/Phenotype_Prediction/env/lib/python3.11/site-packages/snps/io/reader.py:447: DtypeWarning: Columns (1) have mixed types. Specify dtype option on import or set low_memory=False.\n",
      "  df = pd.read_csv(\n"
     ]
    },
    {
     "name": "stdout",
     "output_type": "stream",
     "text": [
      "10\n"
     ]
    },
    {
     "name": "stderr",
     "output_type": "stream",
     "text": [
      "/Users/emanuele/code/Phenotype_Prediction/env/lib/python3.11/site-packages/snps/io/reader.py:447: DtypeWarning: Columns (1) have mixed types. Specify dtype option on import or set low_memory=False.\n",
      "  df = pd.read_csv(\n"
     ]
    },
    {
     "name": "stdout",
     "output_type": "stream",
     "text": [
      "10\n",
      "11\n"
     ]
    },
    {
     "name": "stderr",
     "output_type": "stream",
     "text": [
      "/Users/emanuele/code/Phenotype_Prediction/env/lib/python3.11/site-packages/snps/io/reader.py:447: DtypeWarning: Columns (1) have mixed types. Specify dtype option on import or set low_memory=False.\n",
      "  df = pd.read_csv(\n"
     ]
    },
    {
     "name": "stdout",
     "output_type": "stream",
     "text": [
      "10\n",
      "13\n",
      "13\n"
     ]
    },
    {
     "name": "stderr",
     "output_type": "stream",
     "text": [
      "/Users/emanuele/code/Phenotype_Prediction/env/lib/python3.11/site-packages/snps/io/reader.py:447: DtypeWarning: Columns (1) have mixed types. Specify dtype option on import or set low_memory=False.\n",
      "  df = pd.read_csv(\n"
     ]
    },
    {
     "name": "stdout",
     "output_type": "stream",
     "text": [
      "10\n",
      "13\n"
     ]
    },
    {
     "name": "stderr",
     "output_type": "stream",
     "text": [
      "/Users/emanuele/code/Phenotype_Prediction/env/lib/python3.11/site-packages/snps/io/reader.py:447: DtypeWarning: Columns (1) have mixed types. Specify dtype option on import or set low_memory=False.\n",
      "  df = pd.read_csv(\n"
     ]
    },
    {
     "name": "stdout",
     "output_type": "stream",
     "text": [
      "13\n",
      "13\n"
     ]
    },
    {
     "name": "stderr",
     "output_type": "stream",
     "text": [
      "/Users/emanuele/code/Phenotype_Prediction/env/lib/python3.11/site-packages/snps/io/reader.py:447: DtypeWarning: Columns (1) have mixed types. Specify dtype option on import or set low_memory=False.\n",
      "  df = pd.read_csv(\n"
     ]
    },
    {
     "name": "stdout",
     "output_type": "stream",
     "text": [
      "10\n"
     ]
    },
    {
     "name": "stderr",
     "output_type": "stream",
     "text": [
      "/Users/emanuele/code/Phenotype_Prediction/env/lib/python3.11/site-packages/snps/io/reader.py:447: DtypeWarning: Columns (1) have mixed types. Specify dtype option on import or set low_memory=False.\n",
      "  df = pd.read_csv(\n"
     ]
    },
    {
     "name": "stdout",
     "output_type": "stream",
     "text": [
      "10\n",
      "13\n"
     ]
    },
    {
     "name": "stderr",
     "output_type": "stream",
     "text": [
      "/Users/emanuele/code/Phenotype_Prediction/env/lib/python3.11/site-packages/snps/io/reader.py:447: DtypeWarning: Columns (1) have mixed types. Specify dtype option on import or set low_memory=False.\n",
      "  df = pd.read_csv(\n"
     ]
    },
    {
     "name": "stdout",
     "output_type": "stream",
     "text": [
      "10\n",
      "13\n"
     ]
    },
    {
     "name": "stderr",
     "output_type": "stream",
     "text": [
      "/Users/emanuele/code/Phenotype_Prediction/env/lib/python3.11/site-packages/snps/io/reader.py:447: DtypeWarning: Columns (1) have mixed types. Specify dtype option on import or set low_memory=False.\n",
      "  df = pd.read_csv(\n"
     ]
    },
    {
     "name": "stdout",
     "output_type": "stream",
     "text": [
      "10\n"
     ]
    },
    {
     "name": "stderr",
     "output_type": "stream",
     "text": [
      "/Users/emanuele/code/Phenotype_Prediction/env/lib/python3.11/site-packages/snps/io/reader.py:447: DtypeWarning: Columns (1) have mixed types. Specify dtype option on import or set low_memory=False.\n",
      "  df = pd.read_csv(\n"
     ]
    },
    {
     "name": "stdout",
     "output_type": "stream",
     "text": [
      "10\n",
      "ERRO!!! NO ARQUIVO opensnp_alldata/opensnp_datadump.current/user9697_file7982_yearofbirth_1967_sex_XY.23andme.txt\n",
      "8\n"
     ]
    },
    {
     "name": "stderr",
     "output_type": "stream",
     "text": [
      "/Users/emanuele/code/Phenotype_Prediction/env/lib/python3.11/site-packages/snps/io/reader.py:447: DtypeWarning: Columns (1) have mixed types. Specify dtype option on import or set low_memory=False.\n",
      "  df = pd.read_csv(\n"
     ]
    },
    {
     "name": "stdout",
     "output_type": "stream",
     "text": [
      "10\n"
     ]
    },
    {
     "name": "stderr",
     "output_type": "stream",
     "text": [
      "/Users/emanuele/code/Phenotype_Prediction/env/lib/python3.11/site-packages/snps/io/reader.py:447: DtypeWarning: Columns (1) have mixed types. Specify dtype option on import or set low_memory=False.\n",
      "  df = pd.read_csv(\n"
     ]
    },
    {
     "name": "stdout",
     "output_type": "stream",
     "text": [
      "10\n"
     ]
    },
    {
     "name": "stderr",
     "output_type": "stream",
     "text": [
      "/Users/emanuele/code/Phenotype_Prediction/env/lib/python3.11/site-packages/snps/io/reader.py:447: DtypeWarning: Columns (1) have mixed types. Specify dtype option on import or set low_memory=False.\n",
      "  df = pd.read_csv(\n"
     ]
    },
    {
     "name": "stdout",
     "output_type": "stream",
     "text": [
      "13\n",
      "13\n"
     ]
    },
    {
     "name": "stderr",
     "output_type": "stream",
     "text": [
      "/Users/emanuele/code/Phenotype_Prediction/env/lib/python3.11/site-packages/snps/io/reader.py:447: DtypeWarning: Columns (1) have mixed types. Specify dtype option on import or set low_memory=False.\n",
      "  df = pd.read_csv(\n"
     ]
    },
    {
     "name": "stdout",
     "output_type": "stream",
     "text": [
      "10\n"
     ]
    },
    {
     "name": "stderr",
     "output_type": "stream",
     "text": [
      "/Users/emanuele/code/Phenotype_Prediction/env/lib/python3.11/site-packages/snps/io/reader.py:447: DtypeWarning: Columns (1) have mixed types. Specify dtype option on import or set low_memory=False.\n",
      "  df = pd.read_csv(\n"
     ]
    },
    {
     "name": "stdout",
     "output_type": "stream",
     "text": [
      "10\n"
     ]
    },
    {
     "name": "stderr",
     "output_type": "stream",
     "text": [
      "/Users/emanuele/code/Phenotype_Prediction/env/lib/python3.11/site-packages/snps/io/reader.py:447: DtypeWarning: Columns (1) have mixed types. Specify dtype option on import or set low_memory=False.\n",
      "  df = pd.read_csv(\n"
     ]
    },
    {
     "name": "stdout",
     "output_type": "stream",
     "text": [
      "10\n"
     ]
    },
    {
     "name": "stderr",
     "output_type": "stream",
     "text": [
      "/Users/emanuele/code/Phenotype_Prediction/env/lib/python3.11/site-packages/snps/io/reader.py:447: DtypeWarning: Columns (1) have mixed types. Specify dtype option on import or set low_memory=False.\n",
      "  df = pd.read_csv(\n"
     ]
    },
    {
     "name": "stdout",
     "output_type": "stream",
     "text": [
      "13\n",
      "13\n"
     ]
    },
    {
     "name": "stderr",
     "output_type": "stream",
     "text": [
      "/Users/emanuele/code/Phenotype_Prediction/env/lib/python3.11/site-packages/snps/io/reader.py:447: DtypeWarning: Columns (1) have mixed types. Specify dtype option on import or set low_memory=False.\n",
      "  df = pd.read_csv(\n"
     ]
    },
    {
     "name": "stdout",
     "output_type": "stream",
     "text": [
      "10\n"
     ]
    },
    {
     "name": "stderr",
     "output_type": "stream",
     "text": [
      "/Users/emanuele/code/Phenotype_Prediction/env/lib/python3.11/site-packages/snps/io/reader.py:447: DtypeWarning: Columns (1) have mixed types. Specify dtype option on import or set low_memory=False.\n",
      "  df = pd.read_csv(\n"
     ]
    },
    {
     "name": "stdout",
     "output_type": "stream",
     "text": [
      "10\n"
     ]
    },
    {
     "name": "stderr",
     "output_type": "stream",
     "text": [
      "/Users/emanuele/code/Phenotype_Prediction/env/lib/python3.11/site-packages/snps/io/reader.py:447: DtypeWarning: Columns (1) have mixed types. Specify dtype option on import or set low_memory=False.\n",
      "  df = pd.read_csv(\n"
     ]
    },
    {
     "name": "stdout",
     "output_type": "stream",
     "text": [
      "10\n",
      "13\n",
      "13\n",
      "13\n"
     ]
    },
    {
     "name": "stderr",
     "output_type": "stream",
     "text": [
      "/Users/emanuele/code/Phenotype_Prediction/env/lib/python3.11/site-packages/snps/io/reader.py:447: DtypeWarning: Columns (1) have mixed types. Specify dtype option on import or set low_memory=False.\n",
      "  df = pd.read_csv(\n"
     ]
    },
    {
     "name": "stdout",
     "output_type": "stream",
     "text": [
      "13\n"
     ]
    },
    {
     "name": "stderr",
     "output_type": "stream",
     "text": [
      "/Users/emanuele/code/Phenotype_Prediction/env/lib/python3.11/site-packages/snps/io/reader.py:447: DtypeWarning: Columns (1) have mixed types. Specify dtype option on import or set low_memory=False.\n",
      "  df = pd.read_csv(\n"
     ]
    },
    {
     "name": "stdout",
     "output_type": "stream",
     "text": [
      "10\n",
      "8\n",
      "8\n"
     ]
    },
    {
     "name": "stderr",
     "output_type": "stream",
     "text": [
      "/Users/emanuele/code/Phenotype_Prediction/env/lib/python3.11/site-packages/snps/io/reader.py:447: DtypeWarning: Columns (1) have mixed types. Specify dtype option on import or set low_memory=False.\n",
      "  df = pd.read_csv(\n"
     ]
    },
    {
     "name": "stdout",
     "output_type": "stream",
     "text": [
      "13\n",
      "11\n"
     ]
    },
    {
     "name": "stderr",
     "output_type": "stream",
     "text": [
      "/Users/emanuele/code/Phenotype_Prediction/env/lib/python3.11/site-packages/snps/io/reader.py:447: DtypeWarning: Columns (1) have mixed types. Specify dtype option on import or set low_memory=False.\n",
      "  df = pd.read_csv(\n"
     ]
    },
    {
     "name": "stdout",
     "output_type": "stream",
     "text": [
      "10\n"
     ]
    },
    {
     "name": "stderr",
     "output_type": "stream",
     "text": [
      "/Users/emanuele/code/Phenotype_Prediction/env/lib/python3.11/site-packages/snps/io/reader.py:447: DtypeWarning: Columns (1) have mixed types. Specify dtype option on import or set low_memory=False.\n",
      "  df = pd.read_csv(\n"
     ]
    },
    {
     "name": "stdout",
     "output_type": "stream",
     "text": [
      "13\n"
     ]
    },
    {
     "name": "stderr",
     "output_type": "stream",
     "text": [
      "/Users/emanuele/code/Phenotype_Prediction/env/lib/python3.11/site-packages/snps/io/reader.py:447: DtypeWarning: Columns (1) have mixed types. Specify dtype option on import or set low_memory=False.\n",
      "  df = pd.read_csv(\n"
     ]
    },
    {
     "name": "stdout",
     "output_type": "stream",
     "text": [
      "10\n"
     ]
    },
    {
     "name": "stderr",
     "output_type": "stream",
     "text": [
      "/Users/emanuele/code/Phenotype_Prediction/env/lib/python3.11/site-packages/snps/io/reader.py:447: DtypeWarning: Columns (1) have mixed types. Specify dtype option on import or set low_memory=False.\n",
      "  df = pd.read_csv(\n"
     ]
    },
    {
     "name": "stdout",
     "output_type": "stream",
     "text": [
      "10\n",
      "13\n"
     ]
    },
    {
     "name": "stderr",
     "output_type": "stream",
     "text": [
      "no SNPs loaded...\n"
     ]
    },
    {
     "name": "stdout",
     "output_type": "stream",
     "text": [
      "0\n",
      "8\n"
     ]
    },
    {
     "name": "stderr",
     "output_type": "stream",
     "text": [
      "/Users/emanuele/code/Phenotype_Prediction/env/lib/python3.11/site-packages/snps/io/reader.py:447: DtypeWarning: Columns (1) have mixed types. Specify dtype option on import or set low_memory=False.\n",
      "  df = pd.read_csv(\n"
     ]
    },
    {
     "name": "stdout",
     "output_type": "stream",
     "text": [
      "10\n"
     ]
    }
   ],
   "source": [
    "snp_dict, user_id_list2 = extract_snps_from_files(snps_eye_color_13)"
   ]
  },
  {
   "cell_type": "code",
   "execution_count": 29,
   "id": "ce63e4d4",
   "metadata": {},
   "outputs": [],
   "source": [
    "# Criando o conjunto de dados utilizando o dicionário e as listas\n",
    "snp_dict_user = snp_dict.copy()\n",
    "snp_dict_user['user_id'] = user_id_list2\n",
    "df_final = pd.DataFrame(snp_dict_user)"
   ]
  },
  {
   "cell_type": "code",
   "execution_count": 30,
   "id": "edb4b9fb",
   "metadata": {
    "scrolled": true
   },
   "outputs": [
    {
     "data": {
      "text/html": [
       "<div>\n",
       "<style scoped>\n",
       "    .dataframe tbody tr th:only-of-type {\n",
       "        vertical-align: middle;\n",
       "    }\n",
       "\n",
       "    .dataframe tbody tr th {\n",
       "        vertical-align: top;\n",
       "    }\n",
       "\n",
       "    .dataframe thead th {\n",
       "        text-align: right;\n",
       "    }\n",
       "</style>\n",
       "<table border=\"1\" class=\"dataframe\">\n",
       "  <thead>\n",
       "    <tr style=\"text-align: right;\">\n",
       "      <th></th>\n",
       "      <th>rs1129038</th>\n",
       "      <th>rs11636232</th>\n",
       "      <th>rs12203592</th>\n",
       "      <th>rs12896399</th>\n",
       "      <th>rs12913832</th>\n",
       "      <th>rs1393350</th>\n",
       "      <th>rs1667394</th>\n",
       "      <th>rs16891982</th>\n",
       "      <th>rs1800407</th>\n",
       "      <th>rs4778232</th>\n",
       "      <th>rs4778241</th>\n",
       "      <th>rs7183877</th>\n",
       "      <th>rs8024968</th>\n",
       "      <th>user_id</th>\n",
       "    </tr>\n",
       "  </thead>\n",
       "  <tbody>\n",
       "    <tr>\n",
       "      <th>0</th>\n",
       "      <td>TC</td>\n",
       "      <td>CC</td>\n",
       "      <td>missing</td>\n",
       "      <td>missing</td>\n",
       "      <td>missing</td>\n",
       "      <td>missing</td>\n",
       "      <td>missing</td>\n",
       "      <td>missing</td>\n",
       "      <td>CC</td>\n",
       "      <td>TC</td>\n",
       "      <td>AC</td>\n",
       "      <td>CC</td>\n",
       "      <td>CC</td>\n",
       "      <td>2953</td>\n",
       "    </tr>\n",
       "    <tr>\n",
       "      <th>1</th>\n",
       "      <td>TT</td>\n",
       "      <td>TC</td>\n",
       "      <td>missing</td>\n",
       "      <td>missing</td>\n",
       "      <td>missing</td>\n",
       "      <td>missing</td>\n",
       "      <td>missing</td>\n",
       "      <td>missing</td>\n",
       "      <td>TC</td>\n",
       "      <td>CC</td>\n",
       "      <td>AC</td>\n",
       "      <td>CC</td>\n",
       "      <td>CC</td>\n",
       "      <td>4135</td>\n",
       "    </tr>\n",
       "  </tbody>\n",
       "</table>\n",
       "</div>"
      ],
      "text/plain": [
       "  rs1129038 rs11636232 rs12203592 rs12896399 rs12913832 rs1393350 rs1667394  \\\n",
       "0        TC         CC    missing    missing    missing   missing   missing   \n",
       "1        TT         TC    missing    missing    missing   missing   missing   \n",
       "\n",
       "  rs16891982 rs1800407 rs4778232 rs4778241 rs7183877 rs8024968  user_id  \n",
       "0    missing        CC        TC        AC        CC        CC     2953  \n",
       "1    missing        TC        CC        AC        CC        CC     4135  "
      ]
     },
     "execution_count": 30,
     "metadata": {},
     "output_type": "execute_result"
    }
   ],
   "source": [
    "df_final.head(2)"
   ]
  },
  {
   "cell_type": "code",
   "execution_count": 31,
   "id": "2e33001a",
   "metadata": {},
   "outputs": [],
   "source": [
    "df_final_drop_duplicates = df_final.drop_duplicates()"
   ]
  },
  {
   "cell_type": "code",
   "execution_count": 32,
   "id": "c0be54df",
   "metadata": {},
   "outputs": [
    {
     "data": {
      "text/plain": [
       "1234"
      ]
     },
     "execution_count": 32,
     "metadata": {},
     "output_type": "execute_result"
    }
   ],
   "source": [
    "len(df_final_drop_duplicates)"
   ]
  },
  {
   "cell_type": "code",
   "execution_count": 33,
   "id": "ae0d031c",
   "metadata": {},
   "outputs": [],
   "source": [
    "# Salvando o dataframe\n",
    "df_final_drop_duplicates.to_csv('datasets/users_snps_2021.csv', index=False)"
   ]
  }
 ],
 "metadata": {
  "kernelspec": {
   "display_name": "Python 3 (ipykernel)",
   "language": "python",
   "name": "python3"
  },
  "language_info": {
   "codemirror_mode": {
    "name": "ipython",
    "version": 3
   },
   "file_extension": ".py",
   "mimetype": "text/x-python",
   "name": "python",
   "nbconvert_exporter": "python",
   "pygments_lexer": "ipython3",
   "version": "3.11.1"
  }
 },
 "nbformat": 4,
 "nbformat_minor": 5
}
